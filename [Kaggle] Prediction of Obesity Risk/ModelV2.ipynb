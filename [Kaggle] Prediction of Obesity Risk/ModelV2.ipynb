{
 "cells": [
  {
   "cell_type": "code",
   "execution_count": 1,
   "id": "605c3d68-a8a5-4ee8-a140-a7e1e68891c0",
   "metadata": {
    "tags": []
   },
   "outputs": [],
   "source": [
    "import numpy as np\n",
    "import pandas as pd\n",
    "\n",
    "from sklearn.model_selection import train_test_split, cross_val_score, StratifiedKFold, RepeatedStratifiedKFold\n",
    "from sklearn.ensemble import RandomForestClassifier\n",
    "from lightgbm import LGBMClassifier\n",
    "from xgboost import XGBClassifier\n",
    "from catboost import CatBoostClassifier\n",
    "\n",
    "from sklearn.metrics import accuracy_score\n",
    "\n",
    "import warnings\n",
    "warnings.filterwarnings('ignore')"
   ]
  },
  {
   "cell_type": "code",
   "execution_count": 2,
   "id": "eb757ac0-d3a4-4edd-8362-79a98512f535",
   "metadata": {
    "tags": []
   },
   "outputs": [],
   "source": [
    "%run Pre_Processing.ipynb"
   ]
  },
  {
   "cell_type": "code",
   "execution_count": 3,
   "id": "88e6aec9-435d-48d6-9eab-89c5ee731f56",
   "metadata": {
    "tags": []
   },
   "outputs": [],
   "source": [
    "train = pd.read_csv(\"train.csv\", index_col='id')\n",
    "test = pd.read_csv(\"test.csv\", index_col='id')\n",
    "submission = pd.read_csv(\"sample_submission.csv\")\n",
    "\n",
    "df = train.copy()\n",
    "\n",
    "target = \"NObeyesdad\""
   ]
  },
  {
   "cell_type": "code",
   "execution_count": 4,
   "id": "925f7cba-6a5d-4def-b38d-d5e3fd2867d4",
   "metadata": {
    "tags": []
   },
   "outputs": [],
   "source": [
    "X = df.drop([target], axis=1)\n",
    "y = df[target]"
   ]
  },
  {
   "cell_type": "code",
   "execution_count": 5,
   "id": "e9987d47-6b13-4a16-b819-4fac33ee7e17",
   "metadata": {
    "tags": []
   },
   "outputs": [],
   "source": [
    "target_mapping = {\n",
    "    \"Insufficient_Weight\" : 0,\n",
    "    \"Normal_Weight\" : 1,\n",
    "    \"Overweight_Level_I\" : 2,\n",
    "    \"Overweight_Level_II\" : 3,\n",
    "    \"Obesity_Type_I\" : 4,\n",
    "    \"Obesity_Type_II\" : 5,\n",
    "    \"Obesity_Type_III\" : 6\n",
    "}\n",
    "\n",
    "y_mapped = y.map(target_mapping)\n",
    "y_reverse_map = {v : k for k, v in target_mapping.items()}"
   ]
  },
  {
   "cell_type": "code",
   "execution_count": 6,
   "id": "9aaf61ef-ad17-4038-9bf4-7275df722068",
   "metadata": {
    "tags": []
   },
   "outputs": [],
   "source": [
    "preprocessed_train = preprocessor.fit_transform(X)\n",
    "preprocessed_train_df = pd.DataFrame(preprocessed_train, columns=preprocessor.get_feature_names_out())"
   ]
  },
  {
   "cell_type": "code",
   "execution_count": 7,
   "id": "8bc00ecd-457b-4b7c-8a49-0f18cadad2bb",
   "metadata": {
    "tags": []
   },
   "outputs": [],
   "source": [
    "preprocessed_test = preprocessor.transform(test)\n",
    "preprocessed_test_df = pd.DataFrame(preprocessed_test, columns=preprocessor.get_feature_names_out())"
   ]
  },
  {
   "cell_type": "code",
   "execution_count": 8,
   "id": "a7f320ad-a077-4bae-9ea6-dde65f82fcbc",
   "metadata": {
    "tags": []
   },
   "outputs": [],
   "source": [
    "def accuracy_eval(y_true, y_pred):\n",
    "    \"\"\"\n",
    "    Custom evaluation function to compute accuracy.\n",
    "    \"\"\"\n",
    "    y_pred_labels = np.argmax(y_pred, axis=1)\n",
    "    accuracy = accuracy_score(y_true, y_pred_labels)\n",
    "    return 'accuracy', accuracy, True"
   ]
  },
  {
   "cell_type": "markdown",
   "id": "3d7d8d62-2c9b-4a3a-b4df-f0a13fd52488",
   "metadata": {
    "jp-MarkdownHeadingCollapsed": true,
    "tags": []
   },
   "source": [
    "## Optuna"
   ]
  },
  {
   "cell_type": "markdown",
   "id": "fb76da3f-967e-4df1-bec1-ff934ed5ea1a",
   "metadata": {},
   "source": [
    "### LGBM"
   ]
  },
  {
   "cell_type": "code",
   "execution_count": 27,
   "id": "7084e7e5-b759-485b-9a35-b8bb3c410327",
   "metadata": {
    "tags": []
   },
   "outputs": [],
   "source": [
    "import optuna\n",
    "from lightgbm import early_stopping\n",
    "from optuna.integration import LightGBMPruningCallback\n",
    "\n",
    "def objective(trial, X_train, y_train):\n",
    "    \n",
    "    params = {\n",
    "        'learning_rate' : trial.suggest_float('learning_rate', .001, .1, log = True),\n",
    "        'max_depth' : trial.suggest_int('max_depth', 2, 20),\n",
    "        'subsample' : trial.suggest_float('subsample', .5, 1),\n",
    "        'min_child_weight' : trial.suggest_float('min_child_weight', .1, 15, log = True),\n",
    "        'reg_lambda' : trial.suggest_float('reg_lambda', .1, 20, log = True),\n",
    "        'reg_alpha' : trial.suggest_float('reg_alpha', .1, 10, log = True),\n",
    "        'n_estimators' : trial.suggest_int('n_estimators', 5, 1000),\n",
    "        'random_state' : seed,\n",
    "        'num_leaves': trial.suggest_int('num_leaves', 10, 1000),\n",
    "    }\n",
    "    \n",
    "    X_train.reset_index(drop=True, inplace=True)    \n",
    "    y_train.reset_index(drop=True, inplace=True)\n",
    "    \n",
    "    cv = StratifiedKFold(n_splits=5, shuffle=True, random_state=42)\n",
    "\n",
    "    cv_scores = np.empty(5)\n",
    "    \n",
    "    for idx, (train_idx, test_idx) in enumerate(cv.split(X_train, y_train)):\n",
    "        X_train_fold, X_val_fold = X_train.iloc[train_idx], X_train.iloc[test_idx]\n",
    "        y_train_fold, y_val_fold = y_train[train_idx], y_train[test_idx]\n",
    "\n",
    "        model = LGBMClassifier(**param_grid, verbose=-1)\n",
    "        model.fit(\n",
    "            X_train_fold,\n",
    "            y_train_fold,\n",
    "            eval_set=[(X_val_fold, y_val_fold)],\n",
    "            eval_metric=accuracy_eval,   \n",
    "            callbacks=[early_stopping(100)]\n",
    "        )\n",
    "        preds = model.predict_proba(X_test)\n",
    "        y_pred_labels = np.argmax(preds, axis=1)\n",
    "        cv_scores[idx] = accuracy_score(y_test, y_pred_labels)\n",
    "    \n",
    "    return np.mean(cv_scores)"
   ]
  },
  {
   "cell_type": "code",
   "execution_count": 28,
   "id": "24381ce1-3171-40c1-859c-e80c9b89d239",
   "metadata": {
    "tags": []
   },
   "outputs": [],
   "source": [
    "X_train, X_test, y_train, y_test = train_test_split(preprocessed_train_df, y_mapped, train_size=0.8, test_size=0.2, random_state=0)"
   ]
  },
  {
   "cell_type": "code",
   "execution_count": 29,
   "id": "e5eb99e2-f508-4ef9-93eb-950925ee35f3",
   "metadata": {
    "collapsed": true,
    "jupyter": {
     "outputs_hidden": true
    },
    "tags": []
   },
   "outputs": [
    {
     "name": "stderr",
     "output_type": "stream",
     "text": [
      "[I 2024-02-13 15:22:10,479] A new study created in memory with name: LGBM Classifier\n"
     ]
    },
    {
     "name": "stdout",
     "output_type": "stream",
     "text": [
      "Training until validation scores don't improve for 100 rounds\n",
      "Did not meet early stopping. Best iteration is:\n",
      "[14]\tvalid_0's multi_logloss: 0.479201\tvalid_0's accuracy: 0.836845\n",
      "Training until validation scores don't improve for 100 rounds\n",
      "Did not meet early stopping. Best iteration is:\n",
      "[14]\tvalid_0's multi_logloss: 0.458112\tvalid_0's accuracy: 0.823848\n",
      "Training until validation scores don't improve for 100 rounds\n",
      "Did not meet early stopping. Best iteration is:\n",
      "[14]\tvalid_0's multi_logloss: 0.459329\tvalid_0's accuracy: 0.835893\n",
      "Training until validation scores don't improve for 100 rounds\n",
      "Did not meet early stopping. Best iteration is:\n",
      "[14]\tvalid_0's multi_logloss: 0.458015\tvalid_0's accuracy: 0.840711\n",
      "Training until validation scores don't improve for 100 rounds\n"
     ]
    },
    {
     "name": "stderr",
     "output_type": "stream",
     "text": [
      "[I 2024-02-13 15:22:11,449] Trial 0 finished with value: 0.8393063583815028 and parameters: {'n_estimators': 15, 'learning_rate': 0.8543008736866858, 'num_leaves': 1006, 'max_depth': 16, 'min_data_in_leaf': 49, 'colsample_bytree': 0.8040396077088546, 'subsample': 1.1041155258547837, 'min_gain_to_split': 14.679311205118804, 'bagging_fraction': 0.6000000000000001, 'bagging_freq': 1, 'feature_fraction': 0.2}. Best is trial 0 with value: 0.8393063583815028.\n"
     ]
    },
    {
     "name": "stdout",
     "output_type": "stream",
     "text": [
      "Did not meet early stopping. Best iteration is:\n",
      "[14]\tvalid_0's multi_logloss: 0.459457\tvalid_0's accuracy: 0.838302\n",
      "Training until validation scores don't improve for 100 rounds\n",
      "Did not meet early stopping. Best iteration is:\n",
      "[268]\tvalid_0's multi_logloss: 0.681966\tvalid_0's accuracy: 0.860927\n",
      "Training until validation scores don't improve for 100 rounds\n",
      "Did not meet early stopping. Best iteration is:\n",
      "[268]\tvalid_0's multi_logloss: 0.685305\tvalid_0's accuracy: 0.859982\n",
      "Training until validation scores don't improve for 100 rounds\n",
      "Did not meet early stopping. Best iteration is:\n",
      "[268]\tvalid_0's multi_logloss: 0.684673\tvalid_0's accuracy: 0.859079\n",
      "Training until validation scores don't improve for 100 rounds\n",
      "Did not meet early stopping. Best iteration is:\n",
      "[268]\tvalid_0's multi_logloss: 0.688928\tvalid_0's accuracy: 0.854863\n",
      "Training until validation scores don't improve for 100 rounds\n",
      "Did not meet early stopping. Best iteration is:\n",
      "[268]\tvalid_0's multi_logloss: 0.684633\tvalid_0's accuracy: 0.858476\n"
     ]
    },
    {
     "name": "stderr",
     "output_type": "stream",
     "text": [
      "[I 2024-02-13 15:22:26,988] Trial 1 finished with value: 0.8641618497109826 and parameters: {'n_estimators': 268, 'learning_rate': 0.007061538521341047, 'num_leaves': 729, 'max_depth': 9, 'min_data_in_leaf': 87, 'colsample_bytree': 0.8344146937976558, 'subsample': 1.010575206324131, 'min_gain_to_split': 12.473135941539713, 'bagging_fraction': 0.5, 'bagging_freq': 1, 'feature_fraction': 0.30000000000000004}. Best is trial 1 with value: 0.8641618497109826.\n"
     ]
    },
    {
     "name": "stdout",
     "output_type": "stream",
     "text": [
      "Training until validation scores don't improve for 100 rounds\n",
      "Early stopping, best iteration is:\n",
      "[380]\tvalid_0's multi_logloss: 0.3037\tvalid_0's accuracy: 0.903371\n",
      "Training until validation scores don't improve for 100 rounds\n",
      "Did not meet early stopping. Best iteration is:\n",
      "[526]\tvalid_0's multi_logloss: 0.263747\tvalid_0's accuracy: 0.91087\n",
      "Training until validation scores don't improve for 100 rounds\n",
      "Did not meet early stopping. Best iteration is:\n",
      "[526]\tvalid_0's multi_logloss: 0.271219\tvalid_0's accuracy: 0.907859\n",
      "Training until validation scores don't improve for 100 rounds\n",
      "Did not meet early stopping. Best iteration is:\n",
      "[526]\tvalid_0's multi_logloss: 0.279619\tvalid_0's accuracy: 0.907859\n",
      "Training until validation scores don't improve for 100 rounds\n",
      "Did not meet early stopping. Best iteration is:\n",
      "[526]\tvalid_0's multi_logloss: 0.279857\tvalid_0's accuracy: 0.906956\n"
     ]
    },
    {
     "name": "stderr",
     "output_type": "stream",
     "text": [
      "[I 2024-02-13 15:23:01,984] Trial 2 finished with value: 0.9026493256262043 and parameters: {'n_estimators': 526, 'learning_rate': 0.009373439462698824, 'num_leaves': 750, 'max_depth': 7, 'min_data_in_leaf': 50, 'colsample_bytree': 0.29651851626033926, 'subsample': 0.867149783505556, 'min_gain_to_split': 1.369341254185707, 'bagging_fraction': 0.6000000000000001, 'bagging_freq': 1, 'feature_fraction': 0.9}. Best is trial 2 with value: 0.9026493256262043.\n"
     ]
    },
    {
     "name": "stdout",
     "output_type": "stream",
     "text": [
      "Training until validation scores don't improve for 100 rounds\n",
      "Early stopping, best iteration is:\n",
      "[3]\tvalid_0's multi_logloss: 0.73925\tvalid_0's accuracy: 0.766707\n",
      "Training until validation scores don't improve for 100 rounds\n",
      "Early stopping, best iteration is:\n",
      "[6]\tvalid_0's multi_logloss: 0.576707\tvalid_0's accuracy: 0.807889\n",
      "Training until validation scores don't improve for 100 rounds\n",
      "Early stopping, best iteration is:\n",
      "[6]\tvalid_0's multi_logloss: 0.701919\tvalid_0's accuracy: 0.788016\n",
      "Training until validation scores don't improve for 100 rounds\n",
      "Early stopping, best iteration is:\n",
      "[8]\tvalid_0's multi_logloss: 0.62564\tvalid_0's accuracy: 0.823848\n",
      "Training until validation scores don't improve for 100 rounds\n"
     ]
    },
    {
     "name": "stderr",
     "output_type": "stream",
     "text": [
      "[I 2024-02-13 15:23:08,194] Trial 3 finished with value: 0.8053468208092486 and parameters: {'n_estimators': 375, 'learning_rate': 0.8677262104997883, 'num_leaves': 490, 'max_depth': 9, 'min_data_in_leaf': 31, 'colsample_bytree': 0.026749264940992466, 'subsample': 0.785784165743523, 'min_gain_to_split': 0.041047521001665865, 'bagging_fraction': 0.30000000000000004, 'bagging_freq': 1, 'feature_fraction': 0.30000000000000004}. Best is trial 2 with value: 0.9026493256262043.\n"
     ]
    },
    {
     "name": "stdout",
     "output_type": "stream",
     "text": [
      "Early stopping, best iteration is:\n",
      "[9]\tvalid_0's multi_logloss: 0.533395\tvalid_0's accuracy: 0.833484\n",
      "Training until validation scores don't improve for 100 rounds\n",
      "Early stopping, best iteration is:\n",
      "[47]\tvalid_0's multi_logloss: 0.319935\tvalid_0's accuracy: 0.896749\n",
      "Training until validation scores don't improve for 100 rounds\n",
      "Early stopping, best iteration is:\n",
      "[130]\tvalid_0's multi_logloss: 0.301838\tvalid_0's accuracy: 0.901235\n",
      "Training until validation scores don't improve for 100 rounds\n",
      "Early stopping, best iteration is:\n",
      "[141]\tvalid_0's multi_logloss: 0.311832\tvalid_0's accuracy: 0.897621\n",
      "Training until validation scores don't improve for 100 rounds\n",
      "Early stopping, best iteration is:\n",
      "[141]\tvalid_0's multi_logloss: 0.313336\tvalid_0's accuracy: 0.895815\n",
      "Training until validation scores don't improve for 100 rounds\n"
     ]
    },
    {
     "name": "stderr",
     "output_type": "stream",
     "text": [
      "[I 2024-02-13 15:23:15,599] Trial 4 finished with value: 0.8925818882466281 and parameters: {'n_estimators': 1476, 'learning_rate': 0.17131447802449806, 'num_leaves': 236, 'max_depth': 14, 'min_data_in_leaf': 47, 'colsample_bytree': 0.4713432643804727, 'subsample': 0.8137632325250462, 'min_gain_to_split': 7.675982371997826, 'bagging_fraction': 0.7, 'bagging_freq': 1, 'feature_fraction': 0.7}. Best is trial 2 with value: 0.9026493256262043.\n"
     ]
    },
    {
     "name": "stdout",
     "output_type": "stream",
     "text": [
      "Early stopping, best iteration is:\n",
      "[165]\tvalid_0's multi_logloss: 0.312873\tvalid_0's accuracy: 0.897922\n",
      "Training until validation scores don't improve for 100 rounds\n",
      "Early stopping, best iteration is:\n",
      "[70]\tvalid_0's multi_logloss: 0.315598\tvalid_0's accuracy: 0.896448\n",
      "Training until validation scores don't improve for 100 rounds\n",
      "Early stopping, best iteration is:\n",
      "[83]\tvalid_0's multi_logloss: 0.298659\tvalid_0's accuracy: 0.900933\n",
      "Training until validation scores don't improve for 100 rounds\n",
      "Early stopping, best iteration is:\n",
      "[200]\tvalid_0's multi_logloss: 0.302017\tvalid_0's accuracy: 0.901235\n",
      "Training until validation scores don't improve for 100 rounds\n",
      "Early stopping, best iteration is:\n",
      "[68]\tvalid_0's multi_logloss: 0.314029\tvalid_0's accuracy: 0.89732\n",
      "Training until validation scores don't improve for 100 rounds\n"
     ]
    },
    {
     "name": "stderr",
     "output_type": "stream",
     "text": [
      "[I 2024-02-13 15:23:25,861] Trial 5 finished with value: 0.8959537572254336 and parameters: {'n_estimators': 714, 'learning_rate': 0.13180580934800332, 'num_leaves': 850, 'max_depth': 19, 'min_data_in_leaf': 47, 'colsample_bytree': 0.12142823478495515, 'subsample': 0.5279364592149411, 'min_gain_to_split': 7.132140275603859, 'bagging_fraction': 0.9, 'bagging_freq': 1, 'feature_fraction': 0.6000000000000001}. Best is trial 2 with value: 0.9026493256262043.\n"
     ]
    },
    {
     "name": "stdout",
     "output_type": "stream",
     "text": [
      "Early stopping, best iteration is:\n",
      "[426]\tvalid_0's multi_logloss: 0.304523\tvalid_0's accuracy: 0.903945\n",
      "Training until validation scores don't improve for 100 rounds\n",
      "Early stopping, best iteration is:\n",
      "[442]\tvalid_0's multi_logloss: 0.319171\tvalid_0's accuracy: 0.900662\n",
      "Training until validation scores don't improve for 100 rounds\n",
      "Early stopping, best iteration is:\n",
      "[620]\tvalid_0's multi_logloss: 0.299909\tvalid_0's accuracy: 0.903945\n",
      "Training until validation scores don't improve for 100 rounds\n",
      "Early stopping, best iteration is:\n",
      "[426]\tvalid_0's multi_logloss: 0.310804\tvalid_0's accuracy: 0.899127\n",
      "Training until validation scores don't improve for 100 rounds\n",
      "Early stopping, best iteration is:\n",
      "[320]\tvalid_0's multi_logloss: 0.323025\tvalid_0's accuracy: 0.89461\n",
      "Training until validation scores don't improve for 100 rounds\n",
      "Early stopping, best iteration is:\n",
      "[342]\tvalid_0's multi_logloss: 0.317311\tvalid_0's accuracy: 0.902138\n"
     ]
    },
    {
     "name": "stderr",
     "output_type": "stream",
     "text": [
      "[I 2024-02-13 15:23:49,283] Trial 6 finished with value: 0.8955684007707129 and parameters: {'n_estimators': 721, 'learning_rate': 0.01799337551989064, 'num_leaves': 708, 'max_depth': 6, 'min_data_in_leaf': 61, 'colsample_bytree': 0.9141751310276279, 'subsample': 1.3946620797213978, 'min_gain_to_split': 6.536958429999764, 'bagging_fraction': 0.7, 'bagging_freq': 1, 'feature_fraction': 0.6000000000000001}. Best is trial 2 with value: 0.9026493256262043.\n"
     ]
    },
    {
     "name": "stdout",
     "output_type": "stream",
     "text": [
      "Training until validation scores don't improve for 100 rounds\n",
      "Early stopping, best iteration is:\n",
      "[380]\tvalid_0's multi_logloss: 0.667751\tvalid_0's accuracy: 0.890126\n",
      "Training until validation scores don't improve for 100 rounds\n",
      "Early stopping, best iteration is:\n",
      "[521]\tvalid_0's multi_logloss: 0.527308\tvalid_0's accuracy: 0.897922\n",
      "Training until validation scores don't improve for 100 rounds\n",
      "Early stopping, best iteration is:\n",
      "[794]\tvalid_0's multi_logloss: 0.40827\tvalid_0's accuracy: 0.897621\n",
      "Training until validation scores don't improve for 100 rounds\n",
      "Early stopping, best iteration is:\n",
      "[308]\tvalid_0's multi_logloss: 0.772675\tvalid_0's accuracy: 0.890394\n",
      "Training until validation scores don't improve for 100 rounds\n",
      "Early stopping, best iteration is:\n",
      "[388]\tvalid_0's multi_logloss: 0.65748\tvalid_0's accuracy: 0.898223\n"
     ]
    },
    {
     "name": "stderr",
     "output_type": "stream",
     "text": [
      "[I 2024-02-13 15:24:32,087] Trial 7 finished with value: 0.890558766859345 and parameters: {'n_estimators': 1219, 'learning_rate': 0.002888545386605872, 'num_leaves': 397, 'max_depth': 7, 'min_data_in_leaf': 46, 'colsample_bytree': 0.5725722471663787, 'subsample': 0.24154207487339324, 'min_gain_to_split': 2.7038506957661275, 'bagging_fraction': 0.5, 'bagging_freq': 1, 'feature_fraction': 0.5}. Best is trial 2 with value: 0.9026493256262043.\n"
     ]
    },
    {
     "name": "stdout",
     "output_type": "stream",
     "text": [
      "Training until validation scores don't improve for 100 rounds\n",
      "Early stopping, best iteration is:\n",
      "[1042]\tvalid_0's multi_logloss: 0.624508\tvalid_0's accuracy: 0.864238\n",
      "Training until validation scores don't improve for 100 rounds\n",
      "Early stopping, best iteration is:\n",
      "[796]\tvalid_0's multi_logloss: 0.714278\tvalid_0's accuracy: 0.857272\n",
      "Training until validation scores don't improve for 100 rounds\n",
      "Early stopping, best iteration is:\n",
      "[1659]\tvalid_0's multi_logloss: 0.512314\tvalid_0's accuracy: 0.865703\n",
      "Training until validation scores don't improve for 100 rounds\n",
      "Early stopping, best iteration is:\n",
      "[1203]\tvalid_0's multi_logloss: 0.591508\tvalid_0's accuracy: 0.857573\n",
      "Training until validation scores don't improve for 100 rounds\n",
      "Early stopping, best iteration is:\n",
      "[1270]\tvalid_0's multi_logloss: 0.570077\tvalid_0's accuracy: 0.860283\n"
     ]
    },
    {
     "name": "stderr",
     "output_type": "stream",
     "text": [
      "[I 2024-02-13 15:25:47,861] Trial 8 finished with value: 0.8635356454720616 and parameters: {'n_estimators': 1982, 'learning_rate': 0.0023655808125862495, 'num_leaves': 873, 'max_depth': 13, 'min_data_in_leaf': 67, 'colsample_bytree': 0.08939638155948142, 'subsample': 0.5982167823698499, 'min_gain_to_split': 13.608653345738317, 'bagging_fraction': 0.8, 'bagging_freq': 1, 'feature_fraction': 0.2}. Best is trial 2 with value: 0.9026493256262043.\n"
     ]
    },
    {
     "name": "stdout",
     "output_type": "stream",
     "text": [
      "Training until validation scores don't improve for 100 rounds\n",
      "Early stopping, best iteration is:\n",
      "[204]\tvalid_0's multi_logloss: 0.41389\tvalid_0's accuracy: 0.899157\n",
      "Training until validation scores don't improve for 100 rounds\n",
      "Early stopping, best iteration is:\n",
      "[532]\tvalid_0's multi_logloss: 0.281643\tvalid_0's accuracy: 0.909666\n",
      "Training until validation scores don't improve for 100 rounds\n",
      "Early stopping, best iteration is:\n",
      "[853]\tvalid_0's multi_logloss: 0.274709\tvalid_0's accuracy: 0.909967\n",
      "Training until validation scores don't improve for 100 rounds\n",
      "Early stopping, best iteration is:\n",
      "[527]\tvalid_0's multi_logloss: 0.297237\tvalid_0's accuracy: 0.905751\n",
      "Training until validation scores don't improve for 100 rounds\n",
      "Early stopping, best iteration is:\n",
      "[676]\tvalid_0's multi_logloss: 0.282375\tvalid_0's accuracy: 0.909365\n"
     ]
    },
    {
     "name": "stderr",
     "output_type": "stream",
     "text": [
      "[I 2024-02-13 15:26:26,985] Trial 9 finished with value: 0.9010115606936415 and parameters: {'n_estimators': 1278, 'learning_rate': 0.01314285658037635, 'num_leaves': 158, 'max_depth': 8, 'min_data_in_leaf': 66, 'colsample_bytree': 0.9441205956084081, 'subsample': 0.11690453108930188, 'min_gain_to_split': 1.7133456333499169, 'bagging_fraction': 0.5, 'bagging_freq': 1, 'feature_fraction': 0.4}. Best is trial 2 with value: 0.9026493256262043.\n"
     ]
    },
    {
     "name": "stdout",
     "output_type": "stream",
     "text": [
      "Training until validation scores don't improve for 100 rounds\n",
      "Did not meet early stopping. Best iteration is:\n",
      "[763]\tvalid_0's multi_logloss: 0.587287\tvalid_0's accuracy: 0.865141\n",
      "Training until validation scores don't improve for 100 rounds\n",
      "Did not meet early stopping. Best iteration is:\n",
      "[763]\tvalid_0's multi_logloss: 0.575421\tvalid_0's accuracy: 0.871123\n",
      "Training until validation scores don't improve for 100 rounds\n",
      "Did not meet early stopping. Best iteration is:\n",
      "[763]\tvalid_0's multi_logloss: 0.580236\tvalid_0's accuracy: 0.868112\n",
      "Training until validation scores don't improve for 100 rounds\n",
      "Did not meet early stopping. Best iteration is:\n",
      "[763]\tvalid_0's multi_logloss: 0.579882\tvalid_0's accuracy: 0.866004\n",
      "Training until validation scores don't improve for 100 rounds\n",
      "Did not meet early stopping. Best iteration is:\n",
      "[763]\tvalid_0's multi_logloss: 0.587424\tvalid_0's accuracy: 0.866004\n"
     ]
    },
    {
     "name": "stderr",
     "output_type": "stream",
     "text": [
      "[I 2024-02-13 15:27:02,464] Trial 10 finished with value: 0.8669556840077071 and parameters: {'n_estimators': 763, 'learning_rate': 0.0016816890672053026, 'num_leaves': 598, 'max_depth': 4, 'min_data_in_leaf': 13, 'colsample_bytree': 0.3021443107758498, 'subsample': 1.4729538075871753, 'min_gain_to_split': 4.344718254009194, 'bagging_fraction': 0.2, 'bagging_freq': 1, 'feature_fraction': 0.9}. Best is trial 2 with value: 0.9026493256262043.\n"
     ]
    },
    {
     "name": "stdout",
     "output_type": "stream",
     "text": [
      "Training until validation scores don't improve for 100 rounds\n",
      "Early stopping, best iteration is:\n",
      "[441]\tvalid_0's multi_logloss: 0.2865\tvalid_0's accuracy: 0.904576\n",
      "Training until validation scores don't improve for 100 rounds\n",
      "Early stopping, best iteration is:\n",
      "[376]\tvalid_0's multi_logloss: 0.256222\tvalid_0's accuracy: 0.910569\n",
      "Training until validation scores don't improve for 100 rounds\n",
      "Early stopping, best iteration is:\n",
      "[206]\tvalid_0's multi_logloss: 0.305843\tvalid_0's accuracy: 0.907257\n",
      "Training until validation scores don't improve for 100 rounds\n",
      "Early stopping, best iteration is:\n",
      "[477]\tvalid_0's multi_logloss: 0.269804\tvalid_0's accuracy: 0.909064\n",
      "Training until validation scores don't improve for 100 rounds\n",
      "Early stopping, best iteration is:\n",
      "[410]\tvalid_0's multi_logloss: 0.272242\tvalid_0's accuracy: 0.909967\n"
     ]
    },
    {
     "name": "stderr",
     "output_type": "stream",
     "text": [
      "[I 2024-02-13 15:27:46,108] Trial 11 finished with value: 0.9034682080924854 and parameters: {'n_estimators': 1411, 'learning_rate': 0.014145826010013057, 'num_leaves': 48, 'max_depth': 10, 'min_data_in_leaf': 84, 'colsample_bytree': 0.9815923889889681, 'subsample': 0.07824092827412714, 'min_gain_to_split': 0.07943248347136134, 'bagging_fraction': 0.4, 'bagging_freq': 1, 'feature_fraction': 0.9}. Best is trial 11 with value: 0.9034682080924854.\n"
     ]
    },
    {
     "name": "stdout",
     "output_type": "stream",
     "text": [
      "Training until validation scores don't improve for 100 rounds\n",
      "Early stopping, best iteration is:\n",
      "[476]\tvalid_0's multi_logloss: 0.287712\tvalid_0's accuracy: 0.904877\n",
      "Training until validation scores don't improve for 100 rounds\n",
      "Early stopping, best iteration is:\n",
      "[354]\tvalid_0's multi_logloss: 0.265651\tvalid_0's accuracy: 0.91358\n",
      "Training until validation scores don't improve for 100 rounds\n",
      "Early stopping, best iteration is:\n",
      "[428]\tvalid_0's multi_logloss: 0.270546\tvalid_0's accuracy: 0.909967\n",
      "Training until validation scores don't improve for 100 rounds\n",
      "Early stopping, best iteration is:\n",
      "[380]\tvalid_0's multi_logloss: 0.279336\tvalid_0's accuracy: 0.909666\n",
      "Training until validation scores don't improve for 100 rounds\n",
      "Early stopping, best iteration is:\n",
      "[363]\tvalid_0's multi_logloss: 0.275239\tvalid_0's accuracy: 0.912677\n"
     ]
    },
    {
     "name": "stderr",
     "output_type": "stream",
     "text": [
      "[I 2024-02-13 15:28:11,132] Trial 12 finished with value: 0.9028901734104047 and parameters: {'n_estimators': 1692, 'learning_rate': 0.035199008395682976, 'num_leaves': 40, 'max_depth': 3, 'min_data_in_leaf': 99, 'colsample_bytree': 0.6580052251042818, 'subsample': 0.3648806987615261, 'min_gain_to_split': 0.1060624812510449, 'bagging_fraction': 0.30000000000000004, 'bagging_freq': 1, 'feature_fraction': 0.9}. Best is trial 11 with value: 0.9034682080924854.\n"
     ]
    },
    {
     "name": "stdout",
     "output_type": "stream",
     "text": [
      "Training until validation scores don't improve for 100 rounds\n",
      "Early stopping, best iteration is:\n",
      "[367]\tvalid_0's multi_logloss: 0.289383\tvalid_0's accuracy: 0.906081\n",
      "Training until validation scores don't improve for 100 rounds\n",
      "Early stopping, best iteration is:\n",
      "[367]\tvalid_0's multi_logloss: 0.259259\tvalid_0's accuracy: 0.915086\n",
      "Training until validation scores don't improve for 100 rounds\n",
      "Early stopping, best iteration is:\n",
      "[357]\tvalid_0's multi_logloss: 0.269169\tvalid_0's accuracy: 0.912075\n",
      "Training until validation scores don't improve for 100 rounds\n",
      "Early stopping, best iteration is:\n",
      "[394]\tvalid_0's multi_logloss: 0.277185\tvalid_0's accuracy: 0.911774\n",
      "Training until validation scores don't improve for 100 rounds\n",
      "Early stopping, best iteration is:\n",
      "[343]\tvalid_0's multi_logloss: 0.272317\tvalid_0's accuracy: 0.909967\n"
     ]
    },
    {
     "name": "stderr",
     "output_type": "stream",
     "text": [
      "[I 2024-02-13 15:28:36,046] Trial 13 finished with value: 0.9046242774566474 and parameters: {'n_estimators': 1760, 'learning_rate': 0.047966483535715455, 'num_leaves': 24, 'max_depth': 3, 'min_data_in_leaf': 99, 'colsample_bytree': 0.9957806281322024, 'subsample': 0.08609311679646102, 'min_gain_to_split': 0.10210776090600292, 'bagging_fraction': 0.30000000000000004, 'bagging_freq': 1, 'feature_fraction': 0.8}. Best is trial 13 with value: 0.9046242774566474.\n"
     ]
    },
    {
     "name": "stdout",
     "output_type": "stream",
     "text": [
      "Training until validation scores don't improve for 100 rounds\n",
      "Early stopping, best iteration is:\n",
      "[233]\tvalid_0's multi_logloss: 0.31002\tvalid_0's accuracy: 0.900662\n",
      "Training until validation scores don't improve for 100 rounds\n",
      "Early stopping, best iteration is:\n",
      "[156]\tvalid_0's multi_logloss: 0.300251\tvalid_0's accuracy: 0.90274\n",
      "Training until validation scores don't improve for 100 rounds\n",
      "Early stopping, best iteration is:\n",
      "[633]\tvalid_0's multi_logloss: 0.287778\tvalid_0's accuracy: 0.903041\n",
      "Training until validation scores don't improve for 100 rounds\n",
      "Early stopping, best iteration is:\n",
      "[361]\tvalid_0's multi_logloss: 0.299476\tvalid_0's accuracy: 0.899428\n",
      "Training until validation scores don't improve for 100 rounds\n",
      "Early stopping, best iteration is:\n",
      "[227]\tvalid_0's multi_logloss: 0.303065\tvalid_0's accuracy: 0.903342\n"
     ]
    },
    {
     "name": "stderr",
     "output_type": "stream",
     "text": [
      "[I 2024-02-13 15:28:52,083] Trial 14 finished with value: 0.8968689788053951 and parameters: {'n_estimators': 1911, 'learning_rate': 0.0416373004956867, 'num_leaves': 21, 'max_depth': 11, 'min_data_in_leaf': 86, 'colsample_bytree': 0.934465921601405, 'subsample': 0.1620979397800343, 'min_gain_to_split': 3.908084998601308, 'bagging_fraction': 0.30000000000000004, 'bagging_freq': 1, 'feature_fraction': 0.8}. Best is trial 13 with value: 0.9046242774566474.\n"
     ]
    },
    {
     "name": "stdout",
     "output_type": "stream",
     "text": [
      "Training until validation scores don't improve for 100 rounds\n",
      "Early stopping, best iteration is:\n",
      "[168]\tvalid_0's multi_logloss: 0.288041\tvalid_0's accuracy: 0.90578\n",
      "Training until validation scores don't improve for 100 rounds\n",
      "Early stopping, best iteration is:\n",
      "[217]\tvalid_0's multi_logloss: 0.259813\tvalid_0's accuracy: 0.910268\n",
      "Training until validation scores don't improve for 100 rounds\n",
      "Early stopping, best iteration is:\n",
      "[190]\tvalid_0's multi_logloss: 0.270727\tvalid_0's accuracy: 0.91358\n",
      "Training until validation scores don't improve for 100 rounds\n",
      "Early stopping, best iteration is:\n",
      "[147]\tvalid_0's multi_logloss: 0.28262\tvalid_0's accuracy: 0.907558\n",
      "Training until validation scores don't improve for 100 rounds\n",
      "Early stopping, best iteration is:\n",
      "[197]\tvalid_0's multi_logloss: 0.274448\tvalid_0's accuracy: 0.906052\n"
     ]
    },
    {
     "name": "stderr",
     "output_type": "stream",
     "text": [
      "[I 2024-02-13 15:29:13,335] Trial 15 finished with value: 0.9032755298651253 and parameters: {'n_estimators': 1602, 'learning_rate': 0.049439151808351525, 'num_leaves': 277, 'max_depth': 20, 'min_data_in_leaf': 100, 'colsample_bytree': 0.9725141415688565, 'subsample': 0.08891162741295544, 'min_gain_to_split': 0.10452142507134177, 'bagging_fraction': 0.2, 'bagging_freq': 1, 'feature_fraction': 0.7}. Best is trial 13 with value: 0.9046242774566474.\n"
     ]
    },
    {
     "name": "stdout",
     "output_type": "stream",
     "text": [
      "Training until validation scores don't improve for 100 rounds\n",
      "Did not meet early stopping. Best iteration is:\n",
      "[1087]\tvalid_0's multi_logloss: 0.316888\tvalid_0's accuracy: 0.898856\n",
      "Training until validation scores don't improve for 100 rounds\n",
      "Did not meet early stopping. Best iteration is:\n",
      "[1087]\tvalid_0's multi_logloss: 0.296782\tvalid_0's accuracy: 0.903643\n",
      "Training until validation scores don't improve for 100 rounds\n",
      "Early stopping, best iteration is:\n",
      "[878]\tvalid_0's multi_logloss: 0.314779\tvalid_0's accuracy: 0.900331\n",
      "Training until validation scores don't improve for 100 rounds\n",
      "Early stopping, best iteration is:\n",
      "[569]\tvalid_0's multi_logloss: 0.358436\tvalid_0's accuracy: 0.8919\n",
      "Training until validation scores don't improve for 100 rounds\n",
      "Did not meet early stopping. Best iteration is:\n",
      "[1087]\tvalid_0's multi_logloss: 0.307271\tvalid_0's accuracy: 0.902439\n"
     ]
    },
    {
     "name": "stderr",
     "output_type": "stream",
     "text": [
      "[I 2024-02-13 15:30:06,567] Trial 16 finished with value: 0.8952793834296726 and parameters: {'n_estimators': 1087, 'learning_rate': 0.005096905182564311, 'num_leaves': 114, 'max_depth': 5, 'min_data_in_leaf': 81, 'colsample_bytree': 0.8006615992290909, 'subsample': 0.34594478679837765, 'min_gain_to_split': 3.572430601125716, 'bagging_fraction': 0.4, 'bagging_freq': 1, 'feature_fraction': 0.8}. Best is trial 13 with value: 0.9046242774566474.\n"
     ]
    },
    {
     "name": "stdout",
     "output_type": "stream",
     "text": [
      "Training until validation scores don't improve for 100 rounds\n",
      "Early stopping, best iteration is:\n",
      "[592]\tvalid_0's multi_logloss: 0.867487\tvalid_0's accuracy: 0.880795\n",
      "Training until validation scores don't improve for 100 rounds\n",
      "Early stopping, best iteration is:\n",
      "[1103]\tvalid_0's multi_logloss: 0.568299\tvalid_0's accuracy: 0.890093\n",
      "Training until validation scores don't improve for 100 rounds\n",
      "Early stopping, best iteration is:\n",
      "[1224]\tvalid_0's multi_logloss: 0.534832\tvalid_0's accuracy: 0.891298\n",
      "Training until validation scores don't improve for 100 rounds\n",
      "Early stopping, best iteration is:\n",
      "[871]\tvalid_0's multi_logloss: 0.680908\tvalid_0's accuracy: 0.882565\n",
      "Training until validation scores don't improve for 100 rounds\n",
      "Early stopping, best iteration is:\n",
      "[1144]\tvalid_0's multi_logloss: 0.563268\tvalid_0's accuracy: 0.891599\n"
     ]
    },
    {
     "name": "stderr",
     "output_type": "stream",
     "text": [
      "[I 2024-02-13 15:31:19,278] Trial 17 finished with value: 0.884344894026975 and parameters: {'n_estimators': 1434, 'learning_rate': 0.0010460731271084744, 'num_leaves': 303, 'max_depth': 11, 'min_data_in_leaf': 78, 'colsample_bytree': 0.7078816175875988, 'subsample': 0.30085747710737487, 'min_gain_to_split': 2.517240182503226, 'bagging_fraction': 0.4, 'bagging_freq': 1, 'feature_fraction': 0.8}. Best is trial 13 with value: 0.9046242774566474.\n"
     ]
    },
    {
     "name": "stdout",
     "output_type": "stream",
     "text": [
      "Training until validation scores don't improve for 100 rounds\n",
      "Early stopping, best iteration is:\n",
      "[567]\tvalid_0's multi_logloss: 0.318332\tvalid_0's accuracy: 0.900963\n",
      "Training until validation scores don't improve for 100 rounds\n",
      "Early stopping, best iteration is:\n",
      "[726]\tvalid_0's multi_logloss: 0.295068\tvalid_0's accuracy: 0.903643\n",
      "Training until validation scores don't improve for 100 rounds\n",
      "Early stopping, best iteration is:\n",
      "[448]\tvalid_0's multi_logloss: 0.312493\tvalid_0's accuracy: 0.898826\n",
      "Training until validation scores don't improve for 100 rounds\n",
      "Early stopping, best iteration is:\n",
      "[606]\tvalid_0's multi_logloss: 0.310525\tvalid_0's accuracy: 0.89461\n",
      "Training until validation scores don't improve for 100 rounds\n",
      "Early stopping, best iteration is:\n",
      "[652]\tvalid_0's multi_logloss: 0.307214\tvalid_0's accuracy: 0.903342\n"
     ]
    },
    {
     "name": "stderr",
     "output_type": "stream",
     "text": [
      "[I 2024-02-13 15:31:49,078] Trial 18 finished with value: 0.8965799614643546 and parameters: {'n_estimators': 1762, 'learning_rate': 0.01806504913827329, 'num_leaves': 395, 'max_depth': 16, 'min_data_in_leaf': 92, 'colsample_bytree': 0.9916660083884657, 'subsample': 0.06707418891070308, 'min_gain_to_split': 5.144931737748781, 'bagging_fraction': 0.4, 'bagging_freq': 1, 'feature_fraction': 0.7}. Best is trial 13 with value: 0.9046242774566474.\n"
     ]
    },
    {
     "name": "stdout",
     "output_type": "stream",
     "text": [
      "Training until validation scores don't improve for 100 rounds\n",
      "Did not meet early stopping. Best iteration is:\n",
      "[955]\tvalid_0's multi_logloss: 0.3463\tvalid_0's accuracy: 0.886815\n",
      "Training until validation scores don't improve for 100 rounds\n",
      "Did not meet early stopping. Best iteration is:\n",
      "[955]\tvalid_0's multi_logloss: 0.330181\tvalid_0's accuracy: 0.892502\n",
      "Training until validation scores don't improve for 100 rounds\n",
      "Did not meet early stopping. Best iteration is:\n",
      "[955]\tvalid_0's multi_logloss: 0.337135\tvalid_0's accuracy: 0.890696\n",
      "Training until validation scores don't improve for 100 rounds\n",
      "Did not meet early stopping. Best iteration is:\n",
      "[955]\tvalid_0's multi_logloss: 0.340056\tvalid_0's accuracy: 0.890696\n",
      "Training until validation scores don't improve for 100 rounds\n",
      "Did not meet early stopping. Best iteration is:\n",
      "[955]\tvalid_0's multi_logloss: 0.340716\tvalid_0's accuracy: 0.892803\n"
     ]
    },
    {
     "name": "stderr",
     "output_type": "stream",
     "text": [
      "[I 2024-02-13 15:32:30,239] Trial 19 finished with value: 0.8870905587668594 and parameters: {'n_estimators': 955, 'learning_rate': 0.005149504703677282, 'num_leaves': 148, 'max_depth': 3, 'min_data_in_leaf': 75, 'colsample_bytree': 0.8444058117696998, 'subsample': 0.48605295734587106, 'min_gain_to_split': 2.4778064211464272, 'bagging_fraction': 0.2, 'bagging_freq': 1, 'feature_fraction': 0.8}. Best is trial 13 with value: 0.9046242774566474.\n"
     ]
    },
    {
     "name": "stdout",
     "output_type": "stream",
     "text": [
      "Training until validation scores don't improve for 100 rounds\n",
      "Early stopping, best iteration is:\n",
      "[117]\tvalid_0's multi_logloss: 0.291445\tvalid_0's accuracy: 0.907285\n",
      "Training until validation scores don't improve for 100 rounds\n",
      "Early stopping, best iteration is:\n",
      "[376]\tvalid_0's multi_logloss: 0.250353\tvalid_0's accuracy: 0.913279\n",
      "Training until validation scores don't improve for 100 rounds\n",
      "Early stopping, best iteration is:\n",
      "[235]\tvalid_0's multi_logloss: 0.264694\tvalid_0's accuracy: 0.913279\n",
      "Training until validation scores don't improve for 100 rounds\n",
      "Early stopping, best iteration is:\n",
      "[75]\tvalid_0's multi_logloss: 0.288008\tvalid_0's accuracy: 0.906354\n",
      "Training until validation scores don't improve for 100 rounds\n"
     ]
    },
    {
     "name": "stderr",
     "output_type": "stream",
     "text": [
      "[I 2024-02-13 15:32:45,509] Trial 20 finished with value: 0.9031791907514451 and parameters: {'n_estimators': 1413, 'learning_rate': 0.07068408877194592, 'num_leaves': 59, 'max_depth': 17, 'min_data_in_leaf': 2, 'colsample_bytree': 0.7306337182010457, 'subsample': 0.06026993651183489, 'min_gain_to_split': 1.2772734895004179, 'bagging_fraction': 0.4, 'bagging_freq': 1, 'feature_fraction': 0.5}. Best is trial 13 with value: 0.9046242774566474.\n"
     ]
    },
    {
     "name": "stdout",
     "output_type": "stream",
     "text": [
      "Early stopping, best iteration is:\n",
      "[87]\tvalid_0's multi_logloss: 0.283334\tvalid_0's accuracy: 0.90816\n",
      "Training until validation scores don't improve for 100 rounds\n",
      "Early stopping, best iteration is:\n",
      "[324]\tvalid_0's multi_logloss: 0.290345\tvalid_0's accuracy: 0.906382\n",
      "Training until validation scores don't improve for 100 rounds\n",
      "Early stopping, best iteration is:\n",
      "[441]\tvalid_0's multi_logloss: 0.255244\tvalid_0's accuracy: 0.914484\n",
      "Training until validation scores don't improve for 100 rounds\n",
      "Early stopping, best iteration is:\n",
      "[458]\tvalid_0's multi_logloss: 0.266468\tvalid_0's accuracy: 0.910268\n",
      "Training until validation scores don't improve for 100 rounds\n",
      "Early stopping, best iteration is:\n",
      "[407]\tvalid_0's multi_logloss: 0.273785\tvalid_0's accuracy: 0.909064\n",
      "Training until validation scores don't improve for 100 rounds\n",
      "Early stopping, best iteration is:\n",
      "[277]\tvalid_0's multi_logloss: 0.275511\tvalid_0's accuracy: 0.90816\n"
     ]
    },
    {
     "name": "stderr",
     "output_type": "stream",
     "text": [
      "[I 2024-02-13 15:33:14,127] Trial 21 finished with value: 0.9049132947976878 and parameters: {'n_estimators': 1609, 'learning_rate': 0.028990175902665012, 'num_leaves': 268, 'max_depth': 13, 'min_data_in_leaf': 100, 'colsample_bytree': 0.998877193945123, 'subsample': 0.21085770670443008, 'min_gain_to_split': 0.5479884888036098, 'bagging_fraction': 0.2, 'bagging_freq': 1, 'feature_fraction': 0.7}. Best is trial 21 with value: 0.9049132947976878.\n"
     ]
    },
    {
     "name": "stdout",
     "output_type": "stream",
     "text": [
      "Training until validation scores don't improve for 100 rounds\n",
      "Early stopping, best iteration is:\n",
      "[382]\tvalid_0's multi_logloss: 0.285656\tvalid_0's accuracy: 0.909994\n",
      "Training until validation scores don't improve for 100 rounds\n",
      "Early stopping, best iteration is:\n",
      "[635]\tvalid_0's multi_logloss: 0.253124\tvalid_0's accuracy: 0.915387\n",
      "Training until validation scores don't improve for 100 rounds\n",
      "Early stopping, best iteration is:\n",
      "[383]\tvalid_0's multi_logloss: 0.268226\tvalid_0's accuracy: 0.91087\n",
      "Training until validation scores don't improve for 100 rounds\n",
      "Early stopping, best iteration is:\n",
      "[334]\tvalid_0's multi_logloss: 0.278475\tvalid_0's accuracy: 0.909365\n",
      "Training until validation scores don't improve for 100 rounds\n",
      "Early stopping, best iteration is:\n",
      "[495]\tvalid_0's multi_logloss: 0.269778\tvalid_0's accuracy: 0.910569\n"
     ]
    },
    {
     "name": "stderr",
     "output_type": "stream",
     "text": [
      "[I 2024-02-13 15:33:43,622] Trial 22 finished with value: 0.9044797687861272 and parameters: {'n_estimators': 1827, 'learning_rate': 0.02272894093542666, 'num_leaves': 202, 'max_depth': 13, 'min_data_in_leaf': 93, 'colsample_bytree': 0.8855498237766875, 'subsample': 0.2581942199663355, 'min_gain_to_split': 1.2048361582980596, 'bagging_fraction': 0.30000000000000004, 'bagging_freq': 1, 'feature_fraction': 0.7}. Best is trial 21 with value: 0.9049132947976878.\n"
     ]
    },
    {
     "name": "stdout",
     "output_type": "stream",
     "text": [
      "Training until validation scores don't improve for 100 rounds\n",
      "Early stopping, best iteration is:\n",
      "[311]\tvalid_0's multi_logloss: 0.288774\tvalid_0's accuracy: 0.90879\n",
      "Training until validation scores don't improve for 100 rounds\n",
      "Early stopping, best iteration is:\n",
      "[785]\tvalid_0's multi_logloss: 0.252631\tvalid_0's accuracy: 0.915086\n",
      "Training until validation scores don't improve for 100 rounds\n",
      "Early stopping, best iteration is:\n",
      "[419]\tvalid_0's multi_logloss: 0.269326\tvalid_0's accuracy: 0.908461\n",
      "Training until validation scores don't improve for 100 rounds\n",
      "Early stopping, best iteration is:\n",
      "[357]\tvalid_0's multi_logloss: 0.276182\tvalid_0's accuracy: 0.910569\n",
      "Training until validation scores don't improve for 100 rounds\n",
      "Early stopping, best iteration is:\n",
      "[477]\tvalid_0's multi_logloss: 0.271502\tvalid_0's accuracy: 0.909967\n"
     ]
    },
    {
     "name": "stderr",
     "output_type": "stream",
     "text": [
      "[I 2024-02-13 15:34:14,461] Trial 23 finished with value: 0.9041425818882466 and parameters: {'n_estimators': 1841, 'learning_rate': 0.026022340962745662, 'num_leaves': 231, 'max_depth': 13, 'min_data_in_leaf': 95, 'colsample_bytree': 0.8764475034425487, 'subsample': 0.23029174387651127, 'min_gain_to_split': 1.4291944218486292, 'bagging_fraction': 0.30000000000000004, 'bagging_freq': 1, 'feature_fraction': 0.7}. Best is trial 21 with value: 0.9049132947976878.\n"
     ]
    },
    {
     "name": "stdout",
     "output_type": "stream",
     "text": [
      "Training until validation scores don't improve for 100 rounds\n",
      "Early stopping, best iteration is:\n",
      "[606]\tvalid_0's multi_logloss: 0.305838\tvalid_0's accuracy: 0.902167\n",
      "Training until validation scores don't improve for 100 rounds\n",
      "Early stopping, best iteration is:\n",
      "[325]\tvalid_0's multi_logloss: 0.297373\tvalid_0's accuracy: 0.905149\n",
      "Training until validation scores don't improve for 100 rounds\n",
      "Early stopping, best iteration is:\n",
      "[454]\tvalid_0's multi_logloss: 0.298394\tvalid_0's accuracy: 0.902138\n",
      "Training until validation scores don't improve for 100 rounds\n",
      "Early stopping, best iteration is:\n",
      "[426]\tvalid_0's multi_logloss: 0.303716\tvalid_0's accuracy: 0.899729\n",
      "Training until validation scores don't improve for 100 rounds\n",
      "Early stopping, best iteration is:\n",
      "[586]\tvalid_0's multi_logloss: 0.294497\tvalid_0's accuracy: 0.904547\n"
     ]
    },
    {
     "name": "stderr",
     "output_type": "stream",
     "text": [
      "[I 2024-02-13 15:34:40,747] Trial 24 finished with value: 0.8965317919075144 and parameters: {'n_estimators': 1629, 'learning_rate': 0.026172768690460434, 'num_leaves': 368, 'max_depth': 14, 'min_data_in_leaf': 91, 'colsample_bytree': 0.9985688400029775, 'subsample': 0.25524089993395727, 'min_gain_to_split': 2.8671634953043506, 'bagging_fraction': 0.2, 'bagging_freq': 1, 'feature_fraction': 0.6000000000000001}. Best is trial 21 with value: 0.9049132947976878.\n"
     ]
    },
    {
     "name": "stdout",
     "output_type": "stream",
     "text": [
      "Training until validation scores don't improve for 100 rounds\n",
      "Early stopping, best iteration is:\n",
      "[121]\tvalid_0's multi_logloss: 0.286346\tvalid_0's accuracy: 0.903974\n",
      "Training until validation scores don't improve for 100 rounds\n",
      "Early stopping, best iteration is:\n",
      "[187]\tvalid_0's multi_logloss: 0.256475\tvalid_0's accuracy: 0.914785\n",
      "Training until validation scores don't improve for 100 rounds\n",
      "Early stopping, best iteration is:\n",
      "[139]\tvalid_0's multi_logloss: 0.268183\tvalid_0's accuracy: 0.907558\n",
      "Training until validation scores don't improve for 100 rounds\n",
      "Early stopping, best iteration is:\n",
      "[125]\tvalid_0's multi_logloss: 0.278801\tvalid_0's accuracy: 0.907257\n",
      "Training until validation scores don't improve for 100 rounds\n"
     ]
    },
    {
     "name": "stderr",
     "output_type": "stream",
     "text": [
      "[I 2024-02-13 15:34:53,370] Trial 25 finished with value: 0.9040944123314066 and parameters: {'n_estimators': 2000, 'learning_rate': 0.07742877048746453, 'num_leaves': 177, 'max_depth': 12, 'min_data_in_leaf': 72, 'colsample_bytree': 0.8977005748433984, 'subsample': 0.3868378322352283, 'min_gain_to_split': 1.3714788785798744, 'bagging_fraction': 0.30000000000000004, 'bagging_freq': 1, 'feature_fraction': 0.7}. Best is trial 21 with value: 0.9049132947976878.\n"
     ]
    },
    {
     "name": "stdout",
     "output_type": "stream",
     "text": [
      "Early stopping, best iteration is:\n",
      "[104]\tvalid_0's multi_logloss: 0.276703\tvalid_0's accuracy: 0.907558\n",
      "Training until validation scores don't improve for 100 rounds\n",
      "Early stopping, best iteration is:\n",
      "[585]\tvalid_0's multi_logloss: 0.322793\tvalid_0's accuracy: 0.898254\n",
      "Training until validation scores don't improve for 100 rounds\n",
      "Early stopping, best iteration is:\n",
      "[365]\tvalid_0's multi_logloss: 0.312977\tvalid_0's accuracy: 0.90003\n",
      "Training until validation scores don't improve for 100 rounds\n",
      "Early stopping, best iteration is:\n",
      "[406]\tvalid_0's multi_logloss: 0.324234\tvalid_0's accuracy: 0.896417\n",
      "Training until validation scores don't improve for 100 rounds\n",
      "Early stopping, best iteration is:\n",
      "[398]\tvalid_0's multi_logloss: 0.324688\tvalid_0's accuracy: 0.895815\n",
      "Training until validation scores don't improve for 100 rounds\n",
      "Early stopping, best iteration is:\n",
      "[320]\tvalid_0's multi_logloss: 0.329386\tvalid_0's accuracy: 0.895815\n"
     ]
    },
    {
     "name": "stderr",
     "output_type": "stream",
     "text": [
      "[I 2024-02-13 15:35:13,397] Trial 26 finished with value: 0.8909922928709056 and parameters: {'n_estimators': 1791, 'learning_rate': 0.024038936984084762, 'num_leaves': 496, 'max_depth': 15, 'min_data_in_leaf': 35, 'colsample_bytree': 0.7830256933270968, 'subsample': 0.1986497536410391, 'min_gain_to_split': 4.994241349050283, 'bagging_fraction': 0.2, 'bagging_freq': 1, 'feature_fraction': 0.8}. Best is trial 21 with value: 0.9049132947976878.\n"
     ]
    },
    {
     "name": "stdout",
     "output_type": "stream",
     "text": [
      "Training until validation scores don't improve for 100 rounds\n",
      "Early stopping, best iteration is:\n",
      "[912]\tvalid_0's multi_logloss: 0.309519\tvalid_0's accuracy: 0.901565\n",
      "Training until validation scores don't improve for 100 rounds\n",
      "Early stopping, best iteration is:\n",
      "[746]\tvalid_0's multi_logloss: 0.294973\tvalid_0's accuracy: 0.903643\n",
      "Training until validation scores don't improve for 100 rounds\n",
      "Early stopping, best iteration is:\n",
      "[577]\tvalid_0's multi_logloss: 0.316378\tvalid_0's accuracy: 0.899428\n",
      "Training until validation scores don't improve for 100 rounds\n",
      "Early stopping, best iteration is:\n",
      "[660]\tvalid_0's multi_logloss: 0.312205\tvalid_0's accuracy: 0.897922\n",
      "Training until validation scores don't improve for 100 rounds\n",
      "Early stopping, best iteration is:\n",
      "[1065]\tvalid_0's multi_logloss: 0.295763\tvalid_0's accuracy: 0.903945\n"
     ]
    },
    {
     "name": "stderr",
     "output_type": "stream",
     "text": [
      "[I 2024-02-13 15:35:54,265] Trial 27 finished with value: 0.897543352601156 and parameters: {'n_estimators': 1565, 'learning_rate': 0.009847236966497922, 'num_leaves': 311, 'max_depth': 18, 'min_data_in_leaf': 94, 'colsample_bytree': 0.8889927918389519, 'subsample': 0.44470007519417976, 'min_gain_to_split': 3.1888044367026707, 'bagging_fraction': 0.30000000000000004, 'bagging_freq': 1, 'feature_fraction': 0.6000000000000001}. Best is trial 21 with value: 0.9049132947976878.\n"
     ]
    },
    {
     "name": "stdout",
     "output_type": "stream",
     "text": [
      "Training until validation scores don't improve for 100 rounds\n",
      "Early stopping, best iteration is:\n",
      "[279]\tvalid_0's multi_logloss: 0.301314\tvalid_0's accuracy: 0.901866\n",
      "Training until validation scores don't improve for 100 rounds\n",
      "Early stopping, best iteration is:\n",
      "[396]\tvalid_0's multi_logloss: 0.266921\tvalid_0's accuracy: 0.914484\n",
      "Training until validation scores don't improve for 100 rounds\n",
      "Early stopping, best iteration is:\n",
      "[322]\tvalid_0's multi_logloss: 0.286455\tvalid_0's accuracy: 0.903945\n",
      "Training until validation scores don't improve for 100 rounds\n",
      "Early stopping, best iteration is:\n",
      "[305]\tvalid_0's multi_logloss: 0.29204\tvalid_0's accuracy: 0.903041\n",
      "Training until validation scores don't improve for 100 rounds\n",
      "Early stopping, best iteration is:\n",
      "[392]\tvalid_0's multi_logloss: 0.282911\tvalid_0's accuracy: 0.906956\n"
     ]
    },
    {
     "name": "stderr",
     "output_type": "stream",
     "text": [
      "[I 2024-02-13 15:36:15,057] Trial 28 finished with value: 0.900674373795761 and parameters: {'n_estimators': 1245, 'learning_rate': 0.055057632688567525, 'num_leaves': 103, 'max_depth': 12, 'min_data_in_leaf': 100, 'colsample_bytree': 0.8768708660852843, 'subsample': 0.6139683902282796, 'min_gain_to_split': 2.007139914555694, 'bagging_fraction': 0.2, 'bagging_freq': 1, 'feature_fraction': 0.5}. Best is trial 21 with value: 0.9049132947976878.\n"
     ]
    },
    {
     "name": "stdout",
     "output_type": "stream",
     "text": [
      "Training until validation scores don't improve for 100 rounds\n",
      "Early stopping, best iteration is:\n",
      "[29]\tvalid_0's multi_logloss: 0.293551\tvalid_0's accuracy: 0.898254\n",
      "Training until validation scores don't improve for 100 rounds\n",
      "Early stopping, best iteration is:\n",
      "[32]\tvalid_0's multi_logloss: 0.271289\tvalid_0's accuracy: 0.909365\n",
      "Training until validation scores don't improve for 100 rounds\n",
      "Early stopping, best iteration is:\n",
      "[32]\tvalid_0's multi_logloss: 0.280142\tvalid_0's accuracy: 0.906052\n",
      "Training until validation scores don't improve for 100 rounds\n",
      "Early stopping, best iteration is:\n",
      "[43]\tvalid_0's multi_logloss: 0.28685\tvalid_0's accuracy: 0.900933\n",
      "Training until validation scores don't improve for 100 rounds\n"
     ]
    },
    {
     "name": "stderr",
     "output_type": "stream",
     "text": [
      "[I 2024-02-13 15:36:23,566] Trial 29 finished with value: 0.8990366088631985 and parameters: {'n_estimators': 1731, 'learning_rate': 0.2266924455796183, 'num_leaves': 193, 'max_depth': 15, 'min_data_in_leaf': 89, 'colsample_bytree': 0.7995745363665019, 'subsample': 0.19734281050639102, 'min_gain_to_split': 0.9104395606106274, 'bagging_fraction': 0.30000000000000004, 'bagging_freq': 1, 'feature_fraction': 0.7}. Best is trial 21 with value: 0.9049132947976878.\n"
     ]
    },
    {
     "name": "stdout",
     "output_type": "stream",
     "text": [
      "Early stopping, best iteration is:\n",
      "[20]\tvalid_0's multi_logloss: 0.303562\tvalid_0's accuracy: 0.906052\n",
      "Training until validation scores don't improve for 100 rounds\n",
      "Did not meet early stopping. Best iteration is:\n",
      "[105]\tvalid_0's multi_logloss: 0.350071\tvalid_0's accuracy: 0.888621\n",
      "Training until validation scores don't improve for 100 rounds\n",
      "Did not meet early stopping. Best iteration is:\n",
      "[105]\tvalid_0's multi_logloss: 0.335521\tvalid_0's accuracy: 0.893707\n",
      "Training until validation scores don't improve for 100 rounds\n",
      "Did not meet early stopping. Best iteration is:\n",
      "[105]\tvalid_0's multi_logloss: 0.343581\tvalid_0's accuracy: 0.886781\n",
      "Training until validation scores don't improve for 100 rounds\n",
      "Did not meet early stopping. Best iteration is:\n",
      "[105]\tvalid_0's multi_logloss: 0.34228\tvalid_0's accuracy: 0.886179\n",
      "Training until validation scores don't improve for 100 rounds\n"
     ]
    },
    {
     "name": "stderr",
     "output_type": "stream",
     "text": [
      "[I 2024-02-13 15:36:29,762] Trial 30 finished with value: 0.8881984585741811 and parameters: {'n_estimators': 105, 'learning_rate': 0.08777251226850916, 'num_leaves': 3, 'max_depth': 10, 'min_data_in_leaf': 82, 'colsample_bytree': 0.935692501594421, 'subsample': 0.3868832088401324, 'min_gain_to_split': 1.0034602218802626, 'bagging_fraction': 0.5, 'bagging_freq': 1, 'feature_fraction': 0.8}. Best is trial 21 with value: 0.9049132947976878.\n"
     ]
    },
    {
     "name": "stdout",
     "output_type": "stream",
     "text": [
      "Did not meet early stopping. Best iteration is:\n",
      "[105]\tvalid_0's multi_logloss: 0.345527\tvalid_0's accuracy: 0.889491\n",
      "Training until validation scores don't improve for 100 rounds\n",
      "Early stopping, best iteration is:\n",
      "[278]\tvalid_0's multi_logloss: 0.295591\tvalid_0's accuracy: 0.90578\n",
      "Training until validation scores don't improve for 100 rounds\n",
      "Early stopping, best iteration is:\n",
      "[348]\tvalid_0's multi_logloss: 0.269229\tvalid_0's accuracy: 0.911472\n",
      "Training until validation scores don't improve for 100 rounds\n",
      "Early stopping, best iteration is:\n",
      "[377]\tvalid_0's multi_logloss: 0.276152\tvalid_0's accuracy: 0.908762\n",
      "Training until validation scores don't improve for 100 rounds\n",
      "Early stopping, best iteration is:\n",
      "[344]\tvalid_0's multi_logloss: 0.282625\tvalid_0's accuracy: 0.90816\n",
      "Training until validation scores don't improve for 100 rounds\n",
      "Early stopping, best iteration is:\n",
      "[326]\tvalid_0's multi_logloss: 0.280387\tvalid_0's accuracy: 0.906956\n"
     ]
    },
    {
     "name": "stderr",
     "output_type": "stream",
     "text": [
      "[I 2024-02-13 15:36:55,329] Trial 31 finished with value: 0.9026493256262043 and parameters: {'n_estimators': 1861, 'learning_rate': 0.03025956968739082, 'num_leaves': 218, 'max_depth': 13, 'min_data_in_leaf': 95, 'colsample_bytree': 0.8666722954044268, 'subsample': 0.25766078954622035, 'min_gain_to_split': 2.0774356641467957, 'bagging_fraction': 0.30000000000000004, 'bagging_freq': 1, 'feature_fraction': 0.7}. Best is trial 21 with value: 0.9049132947976878.\n"
     ]
    },
    {
     "name": "stdout",
     "output_type": "stream",
     "text": [
      "Training until validation scores don't improve for 100 rounds\n",
      "Early stopping, best iteration is:\n",
      "[237]\tvalid_0's multi_logloss: 0.288284\tvalid_0's accuracy: 0.909091\n",
      "Training until validation scores don't improve for 100 rounds\n",
      "Early stopping, best iteration is:\n",
      "[282]\tvalid_0's multi_logloss: 0.255793\tvalid_0's accuracy: 0.915688\n",
      "Training until validation scores don't improve for 100 rounds\n",
      "Early stopping, best iteration is:\n",
      "[323]\tvalid_0's multi_logloss: 0.261954\tvalid_0's accuracy: 0.912677\n",
      "Training until validation scores don't improve for 100 rounds\n",
      "Early stopping, best iteration is:\n",
      "[337]\tvalid_0's multi_logloss: 0.269409\tvalid_0's accuracy: 0.909365\n",
      "Training until validation scores don't improve for 100 rounds\n",
      "Early stopping, best iteration is:\n",
      "[270]\tvalid_0's multi_logloss: 0.272002\tvalid_0's accuracy: 0.910569\n"
     ]
    },
    {
     "name": "stderr",
     "output_type": "stream",
     "text": [
      "[I 2024-02-13 15:37:23,477] Trial 32 finished with value: 0.9039017341040463 and parameters: {'n_estimators': 1863, 'learning_rate': 0.026884506506266805, 'num_leaves': 256, 'max_depth': 13, 'min_data_in_leaf': 94, 'colsample_bytree': 0.8542547375123726, 'subsample': 0.1807839057149695, 'min_gain_to_split': 0.8862290892891377, 'bagging_fraction': 0.4, 'bagging_freq': 1, 'feature_fraction': 0.6000000000000001}. Best is trial 21 with value: 0.9049132947976878.\n"
     ]
    },
    {
     "name": "stdout",
     "output_type": "stream",
     "text": [
      "Training until validation scores don't improve for 100 rounds\n",
      "Early stopping, best iteration is:\n",
      "[242]\tvalid_0's multi_logloss: 0.300255\tvalid_0's accuracy: 0.904877\n",
      "Training until validation scores don't improve for 100 rounds\n",
      "Early stopping, best iteration is:\n",
      "[631]\tvalid_0's multi_logloss: 0.258502\tvalid_0's accuracy: 0.916591\n",
      "Training until validation scores don't improve for 100 rounds\n",
      "Early stopping, best iteration is:\n",
      "[419]\tvalid_0's multi_logloss: 0.278779\tvalid_0's accuracy: 0.90816\n",
      "Training until validation scores don't improve for 100 rounds\n",
      "Early stopping, best iteration is:\n",
      "[318]\tvalid_0's multi_logloss: 0.286731\tvalid_0's accuracy: 0.907859\n",
      "Training until validation scores don't improve for 100 rounds\n",
      "Early stopping, best iteration is:\n",
      "[336]\tvalid_0's multi_logloss: 0.281472\tvalid_0's accuracy: 0.906655\n"
     ]
    },
    {
     "name": "stderr",
     "output_type": "stream",
     "text": [
      "[I 2024-02-13 15:37:46,333] Trial 33 finished with value: 0.9019749518304432 and parameters: {'n_estimators': 1589, 'learning_rate': 0.03696042641554406, 'num_leaves': 355, 'max_depth': 16, 'min_data_in_leaf': 87, 'colsample_bytree': 0.9225530966462081, 'subsample': 0.2885214024676851, 'min_gain_to_split': 1.9595831089650262, 'bagging_fraction': 0.2, 'bagging_freq': 1, 'feature_fraction': 0.7}. Best is trial 21 with value: 0.9049132947976878.\n"
     ]
    },
    {
     "name": "stdout",
     "output_type": "stream",
     "text": [
      "Training until validation scores don't improve for 100 rounds\n",
      "Early stopping, best iteration is:\n",
      "[269]\tvalid_0's multi_logloss: 0.290771\tvalid_0's accuracy: 0.908188\n",
      "Training until validation scores don't improve for 100 rounds\n",
      "Early stopping, best iteration is:\n",
      "[271]\tvalid_0's multi_logloss: 0.263004\tvalid_0's accuracy: 0.911472\n",
      "Training until validation scores don't improve for 100 rounds\n",
      "Early stopping, best iteration is:\n",
      "[368]\tvalid_0's multi_logloss: 0.262355\tvalid_0's accuracy: 0.912376\n",
      "Training until validation scores don't improve for 100 rounds\n",
      "Early stopping, best iteration is:\n",
      "[243]\tvalid_0's multi_logloss: 0.282534\tvalid_0's accuracy: 0.909064\n",
      "Training until validation scores don't improve for 100 rounds\n",
      "Early stopping, best iteration is:\n",
      "[330]\tvalid_0's multi_logloss: 0.273536\tvalid_0's accuracy: 0.91087\n"
     ]
    },
    {
     "name": "stderr",
     "output_type": "stream",
     "text": [
      "[I 2024-02-13 15:38:17,323] Trial 34 finished with value: 0.9037572254335261 and parameters: {'n_estimators': 1822, 'learning_rate': 0.018738903926547118, 'num_leaves': 443, 'max_depth': 14, 'min_data_in_leaf': 59, 'colsample_bytree': 0.9986100512691883, 'subsample': 0.14162843792777946, 'min_gain_to_split': 0.8664664324974529, 'bagging_fraction': 0.30000000000000004, 'bagging_freq': 1, 'feature_fraction': 0.8}. Best is trial 21 with value: 0.9049132947976878.\n"
     ]
    },
    {
     "name": "stdout",
     "output_type": "stream",
     "text": [
      "Training until validation scores don't improve for 100 rounds\n",
      "Early stopping, best iteration is:\n",
      "[570]\tvalid_0's multi_logloss: 0.302944\tvalid_0's accuracy: 0.903974\n",
      "Training until validation scores don't improve for 100 rounds\n",
      "Early stopping, best iteration is:\n",
      "[513]\tvalid_0's multi_logloss: 0.285085\tvalid_0's accuracy: 0.908461\n",
      "Training until validation scores don't improve for 100 rounds\n",
      "Early stopping, best iteration is:\n",
      "[480]\tvalid_0's multi_logloss: 0.295535\tvalid_0's accuracy: 0.903945\n",
      "Training until validation scores don't improve for 100 rounds\n",
      "Early stopping, best iteration is:\n",
      "[949]\tvalid_0's multi_logloss: 0.288285\tvalid_0's accuracy: 0.903342\n",
      "Training until validation scores don't improve for 100 rounds\n",
      "Early stopping, best iteration is:\n",
      "[489]\tvalid_0's multi_logloss: 0.297082\tvalid_0's accuracy: 0.906655\n"
     ]
    },
    {
     "name": "stderr",
     "output_type": "stream",
     "text": [
      "[I 2024-02-13 15:38:56,936] Trial 35 finished with value: 0.9010597302504817 and parameters: {'n_estimators': 1696, 'learning_rate': 0.010712618018655352, 'num_leaves': 557, 'max_depth': 9, 'min_data_in_leaf': 96, 'colsample_bytree': 0.7681603005874859, 'subsample': 0.31968283289957156, 'min_gain_to_split': 3.274127617805439, 'bagging_fraction': 0.6000000000000001, 'bagging_freq': 1, 'feature_fraction': 0.7}. Best is trial 21 with value: 0.9049132947976878.\n"
     ]
    },
    {
     "name": "stdout",
     "output_type": "stream",
     "text": [
      "Training until validation scores don't improve for 100 rounds\n",
      "Early stopping, best iteration is:\n",
      "[146]\tvalid_0's multi_logloss: 0.630522\tvalid_0's accuracy: 0.874473\n",
      "Training until validation scores don't improve for 100 rounds\n",
      "Early stopping, best iteration is:\n",
      "[688]\tvalid_0's multi_logloss: 0.355766\tvalid_0's accuracy: 0.885577\n",
      "Training until validation scores don't improve for 100 rounds\n",
      "Early stopping, best iteration is:\n",
      "[1261]\tvalid_0's multi_logloss: 0.353142\tvalid_0's accuracy: 0.88648\n",
      "Training until validation scores don't improve for 100 rounds\n",
      "Early stopping, best iteration is:\n",
      "[660]\tvalid_0's multi_logloss: 0.368018\tvalid_0's accuracy: 0.877447\n",
      "Training until validation scores don't improve for 100 rounds\n",
      "Early stopping, best iteration is:\n",
      "[1261]\tvalid_0's multi_logloss: 0.3542\tvalid_0's accuracy: 0.887383\n"
     ]
    },
    {
     "name": "stderr",
     "output_type": "stream",
     "text": [
      "[I 2024-02-13 15:39:32,345] Trial 36 finished with value: 0.8773603082851638 and parameters: {'n_estimators': 1513, 'learning_rate': 0.007437305470387389, 'num_leaves': 100, 'max_depth': 10, 'min_data_in_leaf': 72, 'colsample_bytree': 0.8354295499759781, 'subsample': 0.18961390569203052, 'min_gain_to_split': 9.000681725023172, 'bagging_fraction': 0.30000000000000004, 'bagging_freq': 1, 'feature_fraction': 0.9}. Best is trial 21 with value: 0.9049132947976878.\n"
     ]
    },
    {
     "name": "stdout",
     "output_type": "stream",
     "text": [
      "Training until validation scores don't improve for 100 rounds\n",
      "Early stopping, best iteration is:\n",
      "[396]\tvalid_0's multi_logloss: 0.293884\tvalid_0's accuracy: 0.905479\n",
      "Training until validation scores don't improve for 100 rounds\n",
      "Early stopping, best iteration is:\n",
      "[372]\tvalid_0's multi_logloss: 0.265362\tvalid_0's accuracy: 0.915086\n",
      "Training until validation scores don't improve for 100 rounds\n",
      "Early stopping, best iteration is:\n",
      "[358]\tvalid_0's multi_logloss: 0.281803\tvalid_0's accuracy: 0.907257\n",
      "Training until validation scores don't improve for 100 rounds\n",
      "Early stopping, best iteration is:\n",
      "[299]\tvalid_0's multi_logloss: 0.287728\tvalid_0's accuracy: 0.905751\n",
      "Training until validation scores don't improve for 100 rounds\n",
      "Early stopping, best iteration is:\n",
      "[383]\tvalid_0's multi_logloss: 0.280522\tvalid_0's accuracy: 0.906052\n"
     ]
    },
    {
     "name": "stderr",
     "output_type": "stream",
     "text": [
      "[I 2024-02-13 15:39:52,859] Trial 37 finished with value: 0.9023603082851638 and parameters: {'n_estimators': 1340, 'learning_rate': 0.04225920353192757, 'num_leaves': 221, 'max_depth': 15, 'min_data_in_leaf': 89, 'colsample_bytree': 0.9114366220403897, 'subsample': 0.43641202390341016, 'min_gain_to_split': 1.9440634767467513, 'bagging_fraction': 0.2, 'bagging_freq': 1, 'feature_fraction': 0.6000000000000001}. Best is trial 21 with value: 0.9049132947976878.\n"
     ]
    },
    {
     "name": "stdout",
     "output_type": "stream",
     "text": [
      "Training until validation scores don't improve for 100 rounds\n",
      "Early stopping, best iteration is:\n",
      "[457]\tvalid_0's multi_logloss: 0.284602\tvalid_0's accuracy: 0.906683\n",
      "Training until validation scores don't improve for 100 rounds\n",
      "Early stopping, best iteration is:\n",
      "[482]\tvalid_0's multi_logloss: 0.252112\tvalid_0's accuracy: 0.915086\n",
      "Training until validation scores don't improve for 100 rounds\n",
      "Early stopping, best iteration is:\n",
      "[348]\tvalid_0's multi_logloss: 0.270549\tvalid_0's accuracy: 0.911171\n",
      "Training until validation scores don't improve for 100 rounds\n",
      "Early stopping, best iteration is:\n",
      "[428]\tvalid_0's multi_logloss: 0.270053\tvalid_0's accuracy: 0.908461\n",
      "Training until validation scores don't improve for 100 rounds\n",
      "Early stopping, best iteration is:\n",
      "[409]\tvalid_0's multi_logloss: 0.268324\tvalid_0's accuracy: 0.911774\n"
     ]
    },
    {
     "name": "stderr",
     "output_type": "stream",
     "text": [
      "[I 2024-02-13 15:40:35,879] Trial 38 finished with value: 0.9051541425818883 and parameters: {'n_estimators': 1979, 'learning_rate': 0.02217342965040436, 'num_leaves': 132, 'max_depth': 12, 'min_data_in_leaf': 80, 'colsample_bytree': 0.8541197060345047, 'subsample': 0.5286568443424993, 'min_gain_to_split': 0.5962379278914414, 'bagging_fraction': 0.5, 'bagging_freq': 1, 'feature_fraction': 0.4}. Best is trial 38 with value: 0.9051541425818883.\n"
     ]
    },
    {
     "name": "stdout",
     "output_type": "stream",
     "text": [
      "Training until validation scores don't improve for 100 rounds\n",
      "Early stopping, best iteration is:\n",
      "[84]\tvalid_0's multi_logloss: 0.286872\tvalid_0's accuracy: 0.908489\n",
      "Training until validation scores don't improve for 100 rounds\n",
      "Early stopping, best iteration is:\n",
      "[60]\tvalid_0's multi_logloss: 0.269625\tvalid_0's accuracy: 0.911171\n",
      "Training until validation scores don't improve for 100 rounds\n",
      "Early stopping, best iteration is:\n",
      "[101]\tvalid_0's multi_logloss: 0.263235\tvalid_0's accuracy: 0.906956\n",
      "Training until validation scores don't improve for 100 rounds\n",
      "Early stopping, best iteration is:\n",
      "[66]\tvalid_0's multi_logloss: 0.278482\tvalid_0's accuracy: 0.908461\n",
      "Training until validation scores don't improve for 100 rounds\n",
      "Early stopping, best iteration is:\n",
      "[81]\tvalid_0's multi_logloss: 0.270332\tvalid_0's accuracy: 0.91087\n"
     ]
    },
    {
     "name": "stderr",
     "output_type": "stream",
     "text": [
      "[I 2024-02-13 15:40:51,785] Trial 39 finished with value: 0.9025529865125241 and parameters: {'n_estimators': 1938, 'learning_rate': 0.10949872073252163, 'num_leaves': 96, 'max_depth': 8, 'min_data_in_leaf': 78, 'colsample_bytree': 0.8316653974002465, 'subsample': 0.7028706698711903, 'min_gain_to_split': 0.1677022268884547, 'bagging_fraction': 0.7, 'bagging_freq': 1, 'feature_fraction': 0.4}. Best is trial 38 with value: 0.9051541425818883.\n"
     ]
    },
    {
     "name": "stdout",
     "output_type": "stream",
     "text": [
      "Training until validation scores don't improve for 100 rounds\n",
      "Did not meet early stopping. Best iteration is:\n",
      "[377]\tvalid_0's multi_logloss: 0.287529\tvalid_0's accuracy: 0.907887\n",
      "Training until validation scores don't improve for 100 rounds\n",
      "Early stopping, best iteration is:\n",
      "[233]\tvalid_0's multi_logloss: 0.265131\tvalid_0's accuracy: 0.911171\n",
      "Training until validation scores don't improve for 100 rounds\n",
      "Did not meet early stopping. Best iteration is:\n",
      "[409]\tvalid_0's multi_logloss: 0.265152\tvalid_0's accuracy: 0.906956\n",
      "Training until validation scores don't improve for 100 rounds\n",
      "Early stopping, best iteration is:\n",
      "[292]\tvalid_0's multi_logloss: 0.277194\tvalid_0's accuracy: 0.905751\n",
      "Training until validation scores don't improve for 100 rounds\n",
      "Did not meet early stopping. Best iteration is:\n",
      "[410]\tvalid_0's multi_logloss: 0.266629\tvalid_0's accuracy: 0.909064\n"
     ]
    },
    {
     "name": "stderr",
     "output_type": "stream",
     "text": [
      "[I 2024-02-13 15:41:22,794] Trial 40 finished with value: 0.9042389210019268 and parameters: {'n_estimators': 412, 'learning_rate': 0.055518994367128344, 'num_leaves': 994, 'max_depth': 12, 'min_data_in_leaf': 56, 'colsample_bytree': 0.9368266653272572, 'subsample': 0.5129645671193667, 'min_gain_to_split': 0.7150227214405793, 'bagging_fraction': 0.5, 'bagging_freq': 1, 'feature_fraction': 0.30000000000000004}. Best is trial 38 with value: 0.9051541425818883.\n"
     ]
    },
    {
     "name": "stdout",
     "output_type": "stream",
     "text": [
      "Training until validation scores don't improve for 100 rounds\n",
      "Early stopping, best iteration is:\n",
      "[301]\tvalid_0's multi_logloss: 0.289646\tvalid_0's accuracy: 0.907285\n",
      "Training until validation scores don't improve for 100 rounds\n",
      "Early stopping, best iteration is:\n",
      "[366]\tvalid_0's multi_logloss: 0.254767\tvalid_0's accuracy: 0.915086\n",
      "Training until validation scores don't improve for 100 rounds\n",
      "Early stopping, best iteration is:\n",
      "[241]\tvalid_0's multi_logloss: 0.267288\tvalid_0's accuracy: 0.909365\n",
      "Training until validation scores don't improve for 100 rounds\n",
      "Early stopping, best iteration is:\n",
      "[165]\tvalid_0's multi_logloss: 0.289057\tvalid_0's accuracy: 0.905751\n",
      "Training until validation scores don't improve for 100 rounds\n",
      "Early stopping, best iteration is:\n",
      "[265]\tvalid_0's multi_logloss: 0.271807\tvalid_0's accuracy: 0.908762\n"
     ]
    },
    {
     "name": "stderr",
     "output_type": "stream",
     "text": [
      "[I 2024-02-13 15:41:49,695] Trial 41 finished with value: 0.9030828516377649 and parameters: {'n_estimators': 893, 'learning_rate': 0.06462636165209876, 'num_leaves': 1000, 'max_depth': 12, 'min_data_in_leaf': 38, 'colsample_bytree': 0.946490404018765, 'subsample': 0.5572712210480247, 'min_gain_to_split': 0.737168732930604, 'bagging_fraction': 0.5, 'bagging_freq': 1, 'feature_fraction': 0.30000000000000004}. Best is trial 38 with value: 0.9051541425818883.\n"
     ]
    },
    {
     "name": "stdout",
     "output_type": "stream",
     "text": [
      "Training until validation scores don't improve for 100 rounds\n",
      "Did not meet early stopping. Best iteration is:\n",
      "[451]\tvalid_0's multi_logloss: 0.3556\tvalid_0's accuracy: 0.891331\n",
      "Training until validation scores don't improve for 100 rounds\n",
      "Did not meet early stopping. Best iteration is:\n",
      "[451]\tvalid_0's multi_logloss: 0.343501\tvalid_0's accuracy: 0.890394\n",
      "Training until validation scores don't improve for 100 rounds\n",
      "Did not meet early stopping. Best iteration is:\n",
      "[451]\tvalid_0's multi_logloss: 0.351729\tvalid_0's accuracy: 0.884673\n",
      "Training until validation scores don't improve for 100 rounds\n",
      "Did not meet early stopping. Best iteration is:\n",
      "[451]\tvalid_0's multi_logloss: 0.353906\tvalid_0's accuracy: 0.890696\n",
      "Training until validation scores don't improve for 100 rounds\n",
      "Did not meet early stopping. Best iteration is:\n",
      "[451]\tvalid_0's multi_logloss: 0.349411\tvalid_0's accuracy: 0.888287\n"
     ]
    },
    {
     "name": "stderr",
     "output_type": "stream",
     "text": [
      "[I 2024-02-13 15:42:18,866] Trial 42 finished with value: 0.8907514450867053 and parameters: {'n_estimators': 451, 'learning_rate': 0.01718750369707272, 'num_leaves': 676, 'max_depth': 11, 'min_data_in_leaf': 58, 'colsample_bytree': 0.9537178479744443, 'subsample': 0.5208346374392564, 'min_gain_to_split': 2.472732277454414, 'bagging_fraction': 0.6000000000000001, 'bagging_freq': 1, 'feature_fraction': 0.2}. Best is trial 38 with value: 0.9051541425818883.\n"
     ]
    },
    {
     "name": "stdout",
     "output_type": "stream",
     "text": [
      "Training until validation scores don't improve for 100 rounds\n",
      "Early stopping, best iteration is:\n",
      "[143]\tvalid_0's multi_logloss: 0.289168\tvalid_0's accuracy: 0.909392\n",
      "Training until validation scores don't improve for 100 rounds\n",
      "Did not meet early stopping. Best iteration is:\n",
      "[245]\tvalid_0's multi_logloss: 0.248344\tvalid_0's accuracy: 0.912677\n",
      "Training until validation scores don't improve for 100 rounds\n",
      "Did not meet early stopping. Best iteration is:\n",
      "[237]\tvalid_0's multi_logloss: 0.258795\tvalid_0's accuracy: 0.909365\n",
      "Training until validation scores don't improve for 100 rounds\n",
      "Did not meet early stopping. Best iteration is:\n",
      "[243]\tvalid_0's multi_logloss: 0.270578\tvalid_0's accuracy: 0.906354\n",
      "Training until validation scores don't improve for 100 rounds\n",
      "Did not meet early stopping. Best iteration is:\n",
      "[245]\tvalid_0's multi_logloss: 0.266358\tvalid_0's accuracy: 0.910268\n"
     ]
    },
    {
     "name": "stderr",
     "output_type": "stream",
     "text": [
      "[I 2024-02-13 15:42:43,670] Trial 43 finished with value: 0.9053468208092486 and parameters: {'n_estimators': 246, 'learning_rate': 0.051707906258778066, 'num_leaves': 149, 'max_depth': 14, 'min_data_in_leaf': 54, 'colsample_bytree': 0.8996667744537932, 'subsample': 0.6878850070738355, 'min_gain_to_split': 0.4786256450717902, 'bagging_fraction': 0.7, 'bagging_freq': 1, 'feature_fraction': 0.4}. Best is trial 43 with value: 0.9053468208092486.\n"
     ]
    },
    {
     "name": "stdout",
     "output_type": "stream",
     "text": [
      "Training until validation scores don't improve for 100 rounds\n",
      "Did not meet early stopping. Best iteration is:\n",
      "[197]\tvalid_0's multi_logloss: 0.292918\tvalid_0's accuracy: 0.906382\n",
      "Training until validation scores don't improve for 100 rounds\n",
      "Did not meet early stopping. Best iteration is:\n",
      "[205]\tvalid_0's multi_logloss: 0.252621\tvalid_0's accuracy: 0.912978\n",
      "Training until validation scores don't improve for 100 rounds\n",
      "Did not meet early stopping. Best iteration is:\n",
      "[205]\tvalid_0's multi_logloss: 0.261808\tvalid_0's accuracy: 0.908762\n",
      "Training until validation scores don't improve for 100 rounds\n",
      "Did not meet early stopping. Best iteration is:\n",
      "[205]\tvalid_0's multi_logloss: 0.274129\tvalid_0's accuracy: 0.904547\n",
      "Training until validation scores don't improve for 100 rounds\n",
      "Did not meet early stopping. Best iteration is:\n",
      "[205]\tvalid_0's multi_logloss: 0.26731\tvalid_0's accuracy: 0.91087\n"
     ]
    },
    {
     "name": "stderr",
     "output_type": "stream",
     "text": [
      "[I 2024-02-13 15:43:18,389] Trial 44 finished with value: 0.9052504816955684 and parameters: {'n_estimators': 206, 'learning_rate': 0.03739202129928934, 'num_leaves': 142, 'max_depth': 14, 'min_data_in_leaf': 65, 'colsample_bytree': 0.7513627854015004, 'subsample': 0.9029695987831191, 'min_gain_to_split': 0.004020900416114026, 'bagging_fraction': 0.8, 'bagging_freq': 1, 'feature_fraction': 0.4}. Best is trial 43 with value: 0.9053468208092486.\n"
     ]
    },
    {
     "name": "stdout",
     "output_type": "stream",
     "text": [
      "Training until validation scores don't improve for 100 rounds\n",
      "Did not meet early stopping. Best iteration is:\n",
      "[183]\tvalid_0's multi_logloss: 0.294805\tvalid_0's accuracy: 0.906984\n",
      "Training until validation scores don't improve for 100 rounds\n",
      "Did not meet early stopping. Best iteration is:\n",
      "[183]\tvalid_0's multi_logloss: 0.263285\tvalid_0's accuracy: 0.913279\n",
      "Training until validation scores don't improve for 100 rounds\n",
      "Did not meet early stopping. Best iteration is:\n",
      "[183]\tvalid_0's multi_logloss: 0.273334\tvalid_0's accuracy: 0.908461\n",
      "Training until validation scores don't improve for 100 rounds\n",
      "Did not meet early stopping. Best iteration is:\n",
      "[183]\tvalid_0's multi_logloss: 0.283393\tvalid_0's accuracy: 0.905149\n",
      "Training until validation scores don't improve for 100 rounds\n",
      "Did not meet early stopping. Best iteration is:\n",
      "[183]\tvalid_0's multi_logloss: 0.276903\tvalid_0's accuracy: 0.910569\n"
     ]
    },
    {
     "name": "stderr",
     "output_type": "stream",
     "text": [
      "[I 2024-02-13 15:43:41,930] Trial 45 finished with value: 0.9060693641618496 and parameters: {'n_estimators': 183, 'learning_rate': 0.033359344207965484, 'num_leaves': 72, 'max_depth': 17, 'min_data_in_leaf': 66, 'colsample_bytree': 0.7550116114350517, 'subsample': 0.8993547633047867, 'min_gain_to_split': 0.3493961941379962, 'bagging_fraction': 0.8, 'bagging_freq': 1, 'feature_fraction': 0.4}. Best is trial 45 with value: 0.9060693641618496.\n"
     ]
    },
    {
     "name": "stdout",
     "output_type": "stream",
     "text": [
      "Training until validation scores don't improve for 100 rounds\n",
      "Did not meet early stopping. Best iteration is:\n",
      "[256]\tvalid_0's multi_logloss: 0.293497\tvalid_0's accuracy: 0.906081\n",
      "Training until validation scores don't improve for 100 rounds\n",
      "Did not meet early stopping. Best iteration is:\n",
      "[256]\tvalid_0's multi_logloss: 0.270061\tvalid_0's accuracy: 0.911171\n",
      "Training until validation scores don't improve for 100 rounds\n",
      "Did not meet early stopping. Best iteration is:\n",
      "[256]\tvalid_0's multi_logloss: 0.277397\tvalid_0's accuracy: 0.906956\n",
      "Training until validation scores don't improve for 100 rounds\n",
      "Did not meet early stopping. Best iteration is:\n",
      "[256]\tvalid_0's multi_logloss: 0.284552\tvalid_0's accuracy: 0.904848\n",
      "Training until validation scores don't improve for 100 rounds\n",
      "Did not meet early stopping. Best iteration is:\n",
      "[255]\tvalid_0's multi_logloss: 0.27853\tvalid_0's accuracy: 0.907558\n"
     ]
    },
    {
     "name": "stderr",
     "output_type": "stream",
     "text": [
      "[I 2024-02-13 15:44:00,964] Trial 46 finished with value: 0.9048169556840078 and parameters: {'n_estimators': 256, 'learning_rate': 0.03481005703559243, 'num_leaves': 152, 'max_depth': 17, 'min_data_in_leaf': 64, 'colsample_bytree': 0.643404022292416, 'subsample': 0.9138226717786455, 'min_gain_to_split': 1.741239281507252, 'bagging_fraction': 0.8, 'bagging_freq': 1, 'feature_fraction': 0.4}. Best is trial 45 with value: 0.9060693641618496.\n"
     ]
    },
    {
     "name": "stdout",
     "output_type": "stream",
     "text": [
      "Training until validation scores don't improve for 100 rounds\n",
      "Did not meet early stopping. Best iteration is:\n",
      "[30]\tvalid_0's multi_logloss: 1.18503\tvalid_0's accuracy: 0.874774\n",
      "Training until validation scores don't improve for 100 rounds\n",
      "Did not meet early stopping. Best iteration is:\n",
      "[30]\tvalid_0's multi_logloss: 1.18653\tvalid_0's accuracy: 0.877145\n",
      "Training until validation scores don't improve for 100 rounds\n",
      "Did not meet early stopping. Best iteration is:\n",
      "[30]\tvalid_0's multi_logloss: 1.18628\tvalid_0's accuracy: 0.873833\n",
      "Training until validation scores don't improve for 100 rounds\n",
      "Did not meet early stopping. Best iteration is:\n",
      "[30]\tvalid_0's multi_logloss: 1.1924\tvalid_0's accuracy: 0.867209\n",
      "Training until validation scores don't improve for 100 rounds\n"
     ]
    },
    {
     "name": "stderr",
     "output_type": "stream",
     "text": [
      "[I 2024-02-13 15:44:05,279] Trial 47 finished with value: 0.8778420038535645 and parameters: {'n_estimators': 30, 'learning_rate': 0.013478021032736447, 'num_leaves': 70, 'max_depth': 19, 'min_data_in_leaf': 54, 'colsample_bytree': 0.7499218658488779, 'subsample': 0.8594196558076475, 'min_gain_to_split': 0.4674352443621526, 'bagging_fraction': 0.8, 'bagging_freq': 1, 'feature_fraction': 0.4}. Best is trial 45 with value: 0.9060693641618496.\n"
     ]
    },
    {
     "name": "stdout",
     "output_type": "stream",
     "text": [
      "Did not meet early stopping. Best iteration is:\n",
      "[30]\tvalid_0's multi_logloss: 1.18732\tvalid_0's accuracy: 0.873833\n",
      "Training until validation scores don't improve for 100 rounds\n",
      "Early stopping, best iteration is:\n",
      "[66]\tvalid_0's multi_logloss: 0.293468\tvalid_0's accuracy: 0.903974\n",
      "Training until validation scores don't improve for 100 rounds\n",
      "Early stopping, best iteration is:\n",
      "[111]\tvalid_0's multi_logloss: 0.251714\tvalid_0's accuracy: 0.914785\n",
      "Training until validation scores don't improve for 100 rounds\n",
      "Early stopping, best iteration is:\n",
      "[91]\tvalid_0's multi_logloss: 0.260416\tvalid_0's accuracy: 0.908461\n",
      "Training until validation scores don't improve for 100 rounds\n",
      "Early stopping, best iteration is:\n",
      "[86]\tvalid_0's multi_logloss: 0.275801\tvalid_0's accuracy: 0.90545\n",
      "Training until validation scores don't improve for 100 rounds\n",
      "Early stopping, best iteration is:\n",
      "[93]\tvalid_0's multi_logloss: 0.268483\tvalid_0's accuracy: 0.906956\n"
     ]
    },
    {
     "name": "stderr",
     "output_type": "stream",
     "text": [
      "[I 2024-02-13 15:44:18,468] Trial 48 finished with value: 0.9034682080924856 and parameters: {'n_estimators': 270, 'learning_rate': 0.15690013020139423, 'num_leaves': 134, 'max_depth': 14, 'min_data_in_leaf': 51, 'colsample_bytree': 0.8127171561178207, 'subsample': 0.7312124944420946, 'min_gain_to_split': 0.5313437185130903, 'bagging_fraction': 0.9, 'bagging_freq': 1, 'feature_fraction': 0.4}. Best is trial 45 with value: 0.9060693641618496.\n"
     ]
    },
    {
     "name": "stdout",
     "output_type": "stream",
     "text": [
      "Training until validation scores don't improve for 100 rounds\n",
      "Did not meet early stopping. Best iteration is:\n",
      "[217]\tvalid_0's multi_logloss: 0.30691\tvalid_0's accuracy: 0.899458\n",
      "Training until validation scores don't improve for 100 rounds\n",
      "Did not meet early stopping. Best iteration is:\n",
      "[217]\tvalid_0's multi_logloss: 0.274025\tvalid_0's accuracy: 0.906956\n",
      "Training until validation scores don't improve for 100 rounds\n",
      "Did not meet early stopping. Best iteration is:\n",
      "[217]\tvalid_0's multi_logloss: 0.281484\tvalid_0's accuracy: 0.901536\n",
      "Training until validation scores don't improve for 100 rounds\n",
      "Did not meet early stopping. Best iteration is:\n",
      "[217]\tvalid_0's multi_logloss: 0.291377\tvalid_0's accuracy: 0.901837\n",
      "Training until validation scores don't improve for 100 rounds\n",
      "Did not meet early stopping. Best iteration is:\n",
      "[217]\tvalid_0's multi_logloss: 0.281889\tvalid_0's accuracy: 0.903945\n"
     ]
    },
    {
     "name": "stderr",
     "output_type": "stream",
     "text": [
      "[I 2024-02-13 15:44:50,045] Trial 49 finished with value: 0.8989884393063583 and parameters: {'n_estimators': 217, 'learning_rate': 0.0392307804800246, 'num_leaves': 302, 'max_depth': 17, 'min_data_in_leaf': 69, 'colsample_bytree': 0.7232504300407526, 'subsample': 1.0279621288684082, 'min_gain_to_split': 0.004538620784845391, 'bagging_fraction': 0.8, 'bagging_freq': 1, 'feature_fraction': 0.30000000000000004}. Best is trial 45 with value: 0.9060693641618496.\n"
     ]
    },
    {
     "name": "stdout",
     "output_type": "stream",
     "text": [
      "Training until validation scores don't improve for 100 rounds\n",
      "Early stopping, best iteration is:\n",
      "[203]\tvalid_0's multi_logloss: 0.284938\tvalid_0's accuracy: 0.907887\n",
      "Training until validation scores don't improve for 100 rounds\n",
      "Early stopping, best iteration is:\n",
      "[137]\tvalid_0's multi_logloss: 0.257756\tvalid_0's accuracy: 0.914785\n",
      "Training until validation scores don't improve for 100 rounds\n",
      "Early stopping, best iteration is:\n",
      "[132]\tvalid_0's multi_logloss: 0.268165\tvalid_0's accuracy: 0.909064\n",
      "Training until validation scores don't improve for 100 rounds\n",
      "Early stopping, best iteration is:\n",
      "[267]\tvalid_0's multi_logloss: 0.273252\tvalid_0's accuracy: 0.909365\n",
      "Training until validation scores don't improve for 100 rounds\n"
     ]
    },
    {
     "name": "stderr",
     "output_type": "stream",
     "text": [
      "[I 2024-02-13 15:45:08,820] Trial 50 finished with value: 0.9044797687861272 and parameters: {'n_estimators': 608, 'learning_rate': 0.09847877917402782, 'num_leaves': 152, 'max_depth': 15, 'min_data_in_leaf': 64, 'colsample_bytree': 0.6872496306952949, 'subsample': 0.6623670449210125, 'min_gain_to_split': 1.4872259723237748, 'bagging_fraction': 0.7, 'bagging_freq': 1, 'feature_fraction': 0.5}. Best is trial 45 with value: 0.9060693641618496.\n"
     ]
    },
    {
     "name": "stdout",
     "output_type": "stream",
     "text": [
      "Early stopping, best iteration is:\n",
      "[64]\tvalid_0's multi_logloss: 0.279819\tvalid_0's accuracy: 0.911774\n",
      "Training until validation scores don't improve for 100 rounds\n",
      "Did not meet early stopping. Best iteration is:\n",
      "[283]\tvalid_0's multi_logloss: 0.290722\tvalid_0's accuracy: 0.90578\n",
      "Training until validation scores don't improve for 100 rounds\n",
      "Did not meet early stopping. Best iteration is:\n",
      "[283]\tvalid_0's multi_logloss: 0.266954\tvalid_0's accuracy: 0.911472\n",
      "Training until validation scores don't improve for 100 rounds\n",
      "Did not meet early stopping. Best iteration is:\n",
      "[283]\tvalid_0's multi_logloss: 0.274799\tvalid_0's accuracy: 0.907558\n",
      "Training until validation scores don't improve for 100 rounds\n",
      "Did not meet early stopping. Best iteration is:\n",
      "[283]\tvalid_0's multi_logloss: 0.281027\tvalid_0's accuracy: 0.90545\n",
      "Training until validation scores don't improve for 100 rounds\n",
      "Did not meet early stopping. Best iteration is:\n",
      "[283]\tvalid_0's multi_logloss: 0.275243\tvalid_0's accuracy: 0.908762\n"
     ]
    },
    {
     "name": "stderr",
     "output_type": "stream",
     "text": [
      "[I 2024-02-13 15:45:31,174] Trial 51 finished with value: 0.9053949903660886 and parameters: {'n_estimators': 283, 'learning_rate': 0.035218047648913724, 'num_leaves': 74, 'max_depth': 17, 'min_data_in_leaf': 64, 'colsample_bytree': 0.6375142174202189, 'subsample': 0.9419442879189216, 'min_gain_to_split': 1.7187610158540298, 'bagging_fraction': 0.8, 'bagging_freq': 1, 'feature_fraction': 0.4}. Best is trial 45 with value: 0.9060693641618496.\n"
     ]
    },
    {
     "name": "stdout",
     "output_type": "stream",
     "text": [
      "Training until validation scores don't improve for 100 rounds\n",
      "Did not meet early stopping. Best iteration is:\n",
      "[158]\tvalid_0's multi_logloss: 0.303299\tvalid_0's accuracy: 0.905479\n",
      "Training until validation scores don't improve for 100 rounds\n",
      "Did not meet early stopping. Best iteration is:\n",
      "[158]\tvalid_0's multi_logloss: 0.274214\tvalid_0's accuracy: 0.911171\n",
      "Training until validation scores don't improve for 100 rounds\n",
      "Did not meet early stopping. Best iteration is:\n",
      "[158]\tvalid_0's multi_logloss: 0.282877\tvalid_0's accuracy: 0.911472\n",
      "Training until validation scores don't improve for 100 rounds\n",
      "Did not meet early stopping. Best iteration is:\n",
      "[158]\tvalid_0's multi_logloss: 0.293491\tvalid_0's accuracy: 0.904246\n",
      "Training until validation scores don't improve for 100 rounds\n",
      "Did not meet early stopping. Best iteration is:\n",
      "[158]\tvalid_0's multi_logloss: 0.285754\tvalid_0's accuracy: 0.90816\n"
     ]
    },
    {
     "name": "stderr",
     "output_type": "stream",
     "text": [
      "[I 2024-02-13 15:45:51,777] Trial 52 finished with value: 0.9062620423892099 and parameters: {'n_estimators': 158, 'learning_rate': 0.03245781707247856, 'num_leaves': 76, 'max_depth': 18, 'min_data_in_leaf': 41, 'colsample_bytree': 0.7738035975264046, 'subsample': 0.8168779797698115, 'min_gain_to_split': 0.5534835605297566, 'bagging_fraction': 0.9, 'bagging_freq': 1, 'feature_fraction': 0.4}. Best is trial 52 with value: 0.9062620423892099.\n"
     ]
    },
    {
     "name": "stdout",
     "output_type": "stream",
     "text": [
      "Training until validation scores don't improve for 100 rounds\n",
      "Did not meet early stopping. Best iteration is:\n",
      "[134]\tvalid_0's multi_logloss: 0.294716\tvalid_0's accuracy: 0.905178\n",
      "Training until validation scores don't improve for 100 rounds\n",
      "Did not meet early stopping. Best iteration is:\n",
      "[150]\tvalid_0's multi_logloss: 0.253713\tvalid_0's accuracy: 0.912677\n",
      "Training until validation scores don't improve for 100 rounds\n",
      "Did not meet early stopping. Best iteration is:\n",
      "[148]\tvalid_0's multi_logloss: 0.26267\tvalid_0's accuracy: 0.911472\n",
      "Training until validation scores don't improve for 100 rounds\n",
      "Did not meet early stopping. Best iteration is:\n",
      "[150]\tvalid_0's multi_logloss: 0.275587\tvalid_0's accuracy: 0.904848\n",
      "Training until validation scores don't improve for 100 rounds\n",
      "Did not meet early stopping. Best iteration is:\n",
      "[150]\tvalid_0's multi_logloss: 0.265956\tvalid_0's accuracy: 0.911472\n"
     ]
    },
    {
     "name": "stderr",
     "output_type": "stream",
     "text": [
      "[I 2024-02-13 15:46:19,651] Trial 53 finished with value: 0.9056840077071291 and parameters: {'n_estimators': 150, 'learning_rate': 0.04969196391053141, 'num_leaves': 74, 'max_depth': 18, 'min_data_in_leaf': 46, 'colsample_bytree': 0.763351126898486, 'subsample': 0.8104334943759457, 'min_gain_to_split': 0.04094922234318679, 'bagging_fraction': 0.9, 'bagging_freq': 1, 'feature_fraction': 0.4}. Best is trial 52 with value: 0.9062620423892099.\n"
     ]
    },
    {
     "name": "stdout",
     "output_type": "stream",
     "text": [
      "Training until validation scores don't improve for 100 rounds\n",
      "Did not meet early stopping. Best iteration is:\n",
      "[128]\tvalid_0's multi_logloss: 0.312532\tvalid_0's accuracy: 0.900662\n",
      "Training until validation scores don't improve for 100 rounds\n",
      "Did not meet early stopping. Best iteration is:\n",
      "[128]\tvalid_0's multi_logloss: 0.282244\tvalid_0's accuracy: 0.911171\n",
      "Training until validation scores don't improve for 100 rounds\n",
      "Did not meet early stopping. Best iteration is:\n",
      "[128]\tvalid_0's multi_logloss: 0.28978\tvalid_0's accuracy: 0.900632\n",
      "Training until validation scores don't improve for 100 rounds\n",
      "Did not meet early stopping. Best iteration is:\n",
      "[128]\tvalid_0's multi_logloss: 0.301459\tvalid_0's accuracy: 0.901235\n",
      "Training until validation scores don't improve for 100 rounds\n",
      "Did not meet early stopping. Best iteration is:\n",
      "[128]\tvalid_0's multi_logloss: 0.291699\tvalid_0's accuracy: 0.905149\n"
     ]
    },
    {
     "name": "stderr",
     "output_type": "stream",
     "text": [
      "[I 2024-02-13 15:46:37,404] Trial 54 finished with value: 0.8985067437379577 and parameters: {'n_estimators': 128, 'learning_rate': 0.05587436729495457, 'num_leaves': 67, 'max_depth': 20, 'min_data_in_leaf': 42, 'colsample_bytree': 0.6343848259363726, 'subsample': 0.8034673004290726, 'min_gain_to_split': 0.05323953530479664, 'bagging_fraction': 0.9, 'bagging_freq': 1, 'feature_fraction': 0.30000000000000004}. Best is trial 52 with value: 0.9062620423892099.\n"
     ]
    },
    {
     "name": "stdout",
     "output_type": "stream",
     "text": [
      "Training until validation scores don't improve for 100 rounds\n",
      "Did not meet early stopping. Best iteration is:\n",
      "[312]\tvalid_0's multi_logloss: 0.291685\tvalid_0's accuracy: 0.903672\n",
      "Training until validation scores don't improve for 100 rounds\n",
      "Did not meet early stopping. Best iteration is:\n",
      "[310]\tvalid_0's multi_logloss: 0.265186\tvalid_0's accuracy: 0.915688\n",
      "Training until validation scores don't improve for 100 rounds\n",
      "Did not meet early stopping. Best iteration is:\n",
      "[312]\tvalid_0's multi_logloss: 0.276512\tvalid_0's accuracy: 0.906956\n",
      "Training until validation scores don't improve for 100 rounds\n",
      "Did not meet early stopping. Best iteration is:\n",
      "[312]\tvalid_0's multi_logloss: 0.283153\tvalid_0's accuracy: 0.906052\n",
      "Training until validation scores don't improve for 100 rounds\n",
      "Did not meet early stopping. Best iteration is:\n",
      "[312]\tvalid_0's multi_logloss: 0.277245\tvalid_0's accuracy: 0.909064\n"
     ]
    },
    {
     "name": "stderr",
     "output_type": "stream",
     "text": [
      "[I 2024-02-13 15:46:55,651] Trial 55 finished with value: 0.904961464354528 and parameters: {'n_estimators': 312, 'learning_rate': 0.046203734020105934, 'num_leaves': 7, 'max_depth': 18, 'min_data_in_leaf': 30, 'colsample_bytree': 0.7541137883421737, 'subsample': 0.9196785878889098, 'min_gain_to_split': 1.482265709404297, 'bagging_fraction': 0.9, 'bagging_freq': 1, 'feature_fraction': 0.4}. Best is trial 52 with value: 0.9062620423892099.\n"
     ]
    },
    {
     "name": "stdout",
     "output_type": "stream",
     "text": [
      "Training until validation scores don't improve for 100 rounds\n",
      "Early stopping, best iteration is:\n",
      "[203]\tvalid_0's multi_logloss: 0.287479\tvalid_0's accuracy: 0.906382\n",
      "Training until validation scores don't improve for 100 rounds\n",
      "Early stopping, best iteration is:\n",
      "[377]\tvalid_0's multi_logloss: 0.260604\tvalid_0's accuracy: 0.912978\n",
      "Training until validation scores don't improve for 100 rounds\n",
      "Early stopping, best iteration is:\n",
      "[229]\tvalid_0's multi_logloss: 0.272904\tvalid_0's accuracy: 0.908461\n",
      "Training until validation scores don't improve for 100 rounds\n",
      "Early stopping, best iteration is:\n",
      "[189]\tvalid_0's multi_logloss: 0.281091\tvalid_0's accuracy: 0.906655\n",
      "Training until validation scores don't improve for 100 rounds\n",
      "Early stopping, best iteration is:\n",
      "[189]\tvalid_0's multi_logloss: 0.274201\tvalid_0's accuracy: 0.909666\n"
     ]
    },
    {
     "name": "stderr",
     "output_type": "stream",
     "text": [
      "[I 2024-02-13 15:47:14,895] Trial 56 finished with value: 0.9058285163776493 and parameters: {'n_estimators': 524, 'learning_rate': 0.06782700672114027, 'num_leaves': 52, 'max_depth': 18, 'min_data_in_leaf': 26, 'colsample_bytree': 0.6890215315567736, 'subsample': 0.7684488221489363, 'min_gain_to_split': 2.467620492087114, 'bagging_fraction': 0.8, 'bagging_freq': 1, 'feature_fraction': 0.5}. Best is trial 52 with value: 0.9062620423892099.\n"
     ]
    },
    {
     "name": "stdout",
     "output_type": "stream",
     "text": [
      "Training until validation scores don't improve for 100 rounds\n",
      "Early stopping, best iteration is:\n",
      "[90]\tvalid_0's multi_logloss: 0.294344\tvalid_0's accuracy: 0.906683\n",
      "Training until validation scores don't improve for 100 rounds\n",
      "Did not meet early stopping. Best iteration is:\n",
      "[501]\tvalid_0's multi_logloss: 0.256923\tvalid_0's accuracy: 0.91358\n",
      "Training until validation scores don't improve for 100 rounds\n",
      "Early stopping, best iteration is:\n",
      "[234]\tvalid_0's multi_logloss: 0.264296\tvalid_0's accuracy: 0.911171\n",
      "Training until validation scores don't improve for 100 rounds\n",
      "Early stopping, best iteration is:\n",
      "[283]\tvalid_0's multi_logloss: 0.275528\tvalid_0's accuracy: 0.909064\n",
      "Training until validation scores don't improve for 100 rounds\n",
      "Early stopping, best iteration is:\n",
      "[157]\tvalid_0's multi_logloss: 0.275365\tvalid_0's accuracy: 0.909967\n"
     ]
    },
    {
     "name": "stderr",
     "output_type": "stream",
     "text": [
      "[I 2024-02-13 15:47:33,216] Trial 57 finished with value: 0.9046242774566473 and parameters: {'n_estimators': 521, 'learning_rate': 0.07046081711521662, 'num_leaves': 47, 'max_depth': 19, 'min_data_in_leaf': 20, 'colsample_bytree': 0.5988050975249853, 'subsample': 0.7626303267494995, 'min_gain_to_split': 2.0387227020119223, 'bagging_fraction': 0.7, 'bagging_freq': 1, 'feature_fraction': 0.5}. Best is trial 52 with value: 0.9062620423892099.\n"
     ]
    },
    {
     "name": "stdout",
     "output_type": "stream",
     "text": [
      "Training until validation scores don't improve for 100 rounds\n",
      "Early stopping, best iteration is:\n",
      "[111]\tvalid_0's multi_logloss: 0.292808\tvalid_0's accuracy: 0.905178\n",
      "Training until validation scores don't improve for 100 rounds\n",
      "Did not meet early stopping. Best iteration is:\n",
      "[355]\tvalid_0's multi_logloss: 0.270179\tvalid_0's accuracy: 0.91087\n",
      "Training until validation scores don't improve for 100 rounds\n",
      "Early stopping, best iteration is:\n",
      "[133]\tvalid_0's multi_logloss: 0.278155\tvalid_0's accuracy: 0.909365\n",
      "Training until validation scores don't improve for 100 rounds\n",
      "Early stopping, best iteration is:\n",
      "[99]\tvalid_0's multi_logloss: 0.287515\tvalid_0's accuracy: 0.903342\n",
      "Training until validation scores don't improve for 100 rounds\n"
     ]
    },
    {
     "name": "stderr",
     "output_type": "stream",
     "text": [
      "[I 2024-02-13 15:47:47,325] Trial 58 finished with value: 0.9044797687861272 and parameters: {'n_estimators': 357, 'learning_rate': 0.12757346322096852, 'num_leaves': 77, 'max_depth': 18, 'min_data_in_leaf': 45, 'colsample_bytree': 0.6822602263520583, 'subsample': 0.8311987613927956, 'min_gain_to_split': 2.9801955969619707, 'bagging_fraction': 0.9, 'bagging_freq': 1, 'feature_fraction': 0.5}. Best is trial 52 with value: 0.9062620423892099.\n"
     ]
    },
    {
     "name": "stdout",
     "output_type": "stream",
     "text": [
      "Early stopping, best iteration is:\n",
      "[236]\tvalid_0's multi_logloss: 0.276864\tvalid_0's accuracy: 0.910569\n",
      "Training until validation scores don't improve for 100 rounds\n",
      "Did not meet early stopping. Best iteration is:\n",
      "[134]\tvalid_0's multi_logloss: 0.299013\tvalid_0's accuracy: 0.906081\n",
      "Training until validation scores don't improve for 100 rounds\n",
      "Did not meet early stopping. Best iteration is:\n",
      "[134]\tvalid_0's multi_logloss: 0.278775\tvalid_0's accuracy: 0.90816\n",
      "Training until validation scores don't improve for 100 rounds\n",
      "Did not meet early stopping. Best iteration is:\n",
      "[134]\tvalid_0's multi_logloss: 0.286037\tvalid_0's accuracy: 0.902138\n",
      "Training until validation scores don't improve for 100 rounds\n",
      "Did not meet early stopping. Best iteration is:\n",
      "[134]\tvalid_0's multi_logloss: 0.296805\tvalid_0's accuracy: 0.90003\n",
      "Training until validation scores don't improve for 100 rounds\n"
     ]
    },
    {
     "name": "stderr",
     "output_type": "stream",
     "text": [
      "[I 2024-02-13 15:47:55,947] Trial 59 finished with value: 0.902504816955684 and parameters: {'n_estimators': 134, 'learning_rate': 0.06209213118274447, 'num_leaves': 27, 'max_depth': 19, 'min_data_in_leaf': 22, 'colsample_bytree': 0.6974353055799433, 'subsample': 0.7627829493095994, 'min_gain_to_split': 3.711735652695077, 'bagging_fraction': 0.8, 'bagging_freq': 1, 'feature_fraction': 0.5}. Best is trial 52 with value: 0.9062620423892099.\n"
     ]
    },
    {
     "name": "stdout",
     "output_type": "stream",
     "text": [
      "Did not meet early stopping. Best iteration is:\n",
      "[134]\tvalid_0's multi_logloss: 0.290782\tvalid_0's accuracy: 0.905751\n",
      "Training until validation scores don't improve for 100 rounds\n",
      "Did not meet early stopping. Best iteration is:\n",
      "[42]\tvalid_0's multi_logloss: 0.34294\tvalid_0's accuracy: 0.901264\n",
      "Training until validation scores don't improve for 100 rounds\n",
      "Did not meet early stopping. Best iteration is:\n",
      "[42]\tvalid_0's multi_logloss: 0.328729\tvalid_0's accuracy: 0.900933\n",
      "Training until validation scores don't improve for 100 rounds\n",
      "Did not meet early stopping. Best iteration is:\n",
      "[42]\tvalid_0's multi_logloss: 0.334775\tvalid_0's accuracy: 0.898223\n",
      "Training until validation scores don't improve for 100 rounds\n",
      "Did not meet early stopping. Best iteration is:\n",
      "[42]\tvalid_0's multi_logloss: 0.341598\tvalid_0's accuracy: 0.896417\n",
      "Training until validation scores don't improve for 100 rounds\n"
     ]
    },
    {
     "name": "stderr",
     "output_type": "stream",
     "text": [
      "[I 2024-02-13 15:48:00,509] Trial 60 finished with value: 0.8979768786127169 and parameters: {'n_estimators': 42, 'learning_rate': 0.09086660531914503, 'num_leaves': 185, 'max_depth': 16, 'min_data_in_leaf': 50, 'colsample_bytree': 0.5629661898529109, 'subsample': 0.9920400028909712, 'min_gain_to_split': 2.4899854027050505, 'bagging_fraction': 0.9, 'bagging_freq': 1, 'feature_fraction': 0.4}. Best is trial 52 with value: 0.9062620423892099.\n"
     ]
    },
    {
     "name": "stdout",
     "output_type": "stream",
     "text": [
      "Did not meet early stopping. Best iteration is:\n",
      "[42]\tvalid_0's multi_logloss: 0.334655\tvalid_0's accuracy: 0.897922\n",
      "Training until validation scores don't improve for 100 rounds\n",
      "Did not meet early stopping. Best iteration is:\n",
      "[211]\tvalid_0's multi_logloss: 0.293531\tvalid_0's accuracy: 0.906984\n",
      "Training until validation scores don't improve for 100 rounds\n",
      "Did not meet early stopping. Best iteration is:\n",
      "[211]\tvalid_0's multi_logloss: 0.267101\tvalid_0's accuracy: 0.911171\n",
      "Training until validation scores don't improve for 100 rounds\n",
      "Did not meet early stopping. Best iteration is:\n",
      "[211]\tvalid_0's multi_logloss: 0.274914\tvalid_0's accuracy: 0.907558\n",
      "Training until validation scores don't improve for 100 rounds\n",
      "Did not meet early stopping. Best iteration is:\n",
      "[211]\tvalid_0's multi_logloss: 0.283418\tvalid_0's accuracy: 0.906354\n",
      "Training until validation scores don't improve for 100 rounds\n",
      "Did not meet early stopping. Best iteration is:\n",
      "[211]\tvalid_0's multi_logloss: 0.277399\tvalid_0's accuracy: 0.910268\n"
     ]
    },
    {
     "name": "stderr",
     "output_type": "stream",
     "text": [
      "[I 2024-02-13 15:48:21,004] Trial 61 finished with value: 0.9057803468208092 and parameters: {'n_estimators': 211, 'learning_rate': 0.036612193284943736, 'num_leaves': 109, 'max_depth': 17, 'min_data_in_leaf': 62, 'colsample_bytree': 0.7333796111055746, 'subsample': 0.8109446858967491, 'min_gain_to_split': 1.2518954910196147, 'bagging_fraction': 0.8, 'bagging_freq': 1, 'feature_fraction': 0.4}. Best is trial 52 with value: 0.9062620423892099.\n"
     ]
    },
    {
     "name": "stdout",
     "output_type": "stream",
     "text": [
      "Training until validation scores don't improve for 100 rounds\n",
      "Early stopping, best iteration is:\n",
      "[238]\tvalid_0's multi_logloss: 0.300663\tvalid_0's accuracy: 0.903371\n",
      "Training until validation scores don't improve for 100 rounds\n",
      "Did not meet early stopping. Best iteration is:\n",
      "[339]\tvalid_0's multi_logloss: 0.264664\tvalid_0's accuracy: 0.913279\n",
      "Training until validation scores don't improve for 100 rounds\n",
      "Did not meet early stopping. Best iteration is:\n",
      "[339]\tvalid_0's multi_logloss: 0.275037\tvalid_0's accuracy: 0.904547\n",
      "Training until validation scores don't improve for 100 rounds\n",
      "Did not meet early stopping. Best iteration is:\n",
      "[338]\tvalid_0's multi_logloss: 0.281129\tvalid_0's accuracy: 0.907859\n",
      "Training until validation scores don't improve for 100 rounds\n",
      "Did not meet early stopping. Best iteration is:\n",
      "[339]\tvalid_0's multi_logloss: 0.275864\tvalid_0's accuracy: 0.906655\n"
     ]
    },
    {
     "name": "stderr",
     "output_type": "stream",
     "text": [
      "[I 2024-02-13 15:48:43,706] Trial 62 finished with value: 0.9039980732177264 and parameters: {'n_estimators': 339, 'learning_rate': 0.0467876831615953, 'num_leaves': 98, 'max_depth': 17, 'min_data_in_leaf': 43, 'colsample_bytree': 0.7826548538046133, 'subsample': 0.8355799570626418, 'min_gain_to_split': 1.3483690632477376, 'bagging_fraction': 0.8, 'bagging_freq': 1, 'feature_fraction': 0.30000000000000004}. Best is trial 52 with value: 0.9062620423892099.\n"
     ]
    },
    {
     "name": "stdout",
     "output_type": "stream",
     "text": [
      "Training until validation scores don't improve for 100 rounds\n",
      "Did not meet early stopping. Best iteration is:\n",
      "[181]\tvalid_0's multi_logloss: 0.304589\tvalid_0's accuracy: 0.90307\n",
      "Training until validation scores don't improve for 100 rounds\n",
      "Did not meet early stopping. Best iteration is:\n",
      "[181]\tvalid_0's multi_logloss: 0.277136\tvalid_0's accuracy: 0.909666\n",
      "Training until validation scores don't improve for 100 rounds\n",
      "Did not meet early stopping. Best iteration is:\n",
      "[181]\tvalid_0's multi_logloss: 0.289079\tvalid_0's accuracy: 0.904547\n",
      "Training until validation scores don't improve for 100 rounds\n",
      "Did not meet early stopping. Best iteration is:\n",
      "[181]\tvalid_0's multi_logloss: 0.295129\tvalid_0's accuracy: 0.904848\n",
      "Training until validation scores don't improve for 100 rounds\n",
      "Did not meet early stopping. Best iteration is:\n",
      "[181]\tvalid_0's multi_logloss: 0.288325\tvalid_0's accuracy: 0.909064\n"
     ]
    },
    {
     "name": "stderr",
     "output_type": "stream",
     "text": [
      "[I 2024-02-13 15:49:03,010] Trial 63 finished with value: 0.9045761078998072 and parameters: {'n_estimators': 181, 'learning_rate': 0.03216978721123515, 'num_leaves': 46, 'max_depth': 18, 'min_data_in_leaf': 61, 'colsample_bytree': 0.7151824887899032, 'subsample': 0.7870855141900619, 'min_gain_to_split': 1.1128602026635868, 'bagging_fraction': 0.7, 'bagging_freq': 1, 'feature_fraction': 0.4}. Best is trial 52 with value: 0.9062620423892099.\n"
     ]
    },
    {
     "name": "stdout",
     "output_type": "stream",
     "text": [
      "Training until validation scores don't improve for 100 rounds\n",
      "Early stopping, best iteration is:\n",
      "[195]\tvalid_0's multi_logloss: 0.290523\tvalid_0's accuracy: 0.903672\n",
      "Training until validation scores don't improve for 100 rounds\n",
      "Early stopping, best iteration is:\n",
      "[178]\tvalid_0's multi_logloss: 0.26901\tvalid_0's accuracy: 0.912978\n",
      "Training until validation scores don't improve for 100 rounds\n",
      "Early stopping, best iteration is:\n",
      "[313]\tvalid_0's multi_logloss: 0.271685\tvalid_0's accuracy: 0.909967\n",
      "Training until validation scores don't improve for 100 rounds\n",
      "Early stopping, best iteration is:\n",
      "[246]\tvalid_0's multi_logloss: 0.282285\tvalid_0's accuracy: 0.907558\n",
      "Training until validation scores don't improve for 100 rounds\n",
      "Early stopping, best iteration is:\n",
      "[245]\tvalid_0's multi_logloss: 0.276141\tvalid_0's accuracy: 0.909666\n"
     ]
    },
    {
     "name": "stderr",
     "output_type": "stream",
     "text": [
      "[I 2024-02-13 15:49:20,658] Trial 64 finished with value: 0.9047206165703277 and parameters: {'n_estimators': 483, 'learning_rate': 0.07154955338162429, 'num_leaves': 117, 'max_depth': 20, 'min_data_in_leaf': 28, 'colsample_bytree': 0.6644595665557119, 'subsample': 0.707142012901696, 'min_gain_to_split': 2.4132040476894883, 'bagging_fraction': 0.8, 'bagging_freq': 1, 'feature_fraction': 0.4}. Best is trial 52 with value: 0.9062620423892099.\n"
     ]
    },
    {
     "name": "stdout",
     "output_type": "stream",
     "text": [
      "Training until validation scores don't improve for 100 rounds\n",
      "Early stopping, best iteration is:\n",
      "[181]\tvalid_0's multi_logloss: 0.313228\tvalid_0's accuracy: 0.901565\n",
      "Training until validation scores don't improve for 100 rounds\n",
      "Early stopping, best iteration is:\n",
      "[448]\tvalid_0's multi_logloss: 0.263889\tvalid_0's accuracy: 0.91358\n",
      "Training until validation scores don't improve for 100 rounds\n",
      "Did not meet early stopping. Best iteration is:\n",
      "[612]\tvalid_0's multi_logloss: 0.271849\tvalid_0's accuracy: 0.906655\n",
      "Training until validation scores don't improve for 100 rounds\n",
      "Early stopping, best iteration is:\n",
      "[278]\tvalid_0's multi_logloss: 0.290403\tvalid_0's accuracy: 0.907859\n",
      "Training until validation scores don't improve for 100 rounds\n",
      "Early stopping, best iteration is:\n",
      "[369]\tvalid_0's multi_logloss: 0.274928\tvalid_0's accuracy: 0.908762\n"
     ]
    },
    {
     "name": "stderr",
     "output_type": "stream",
     "text": [
      "[I 2024-02-13 15:49:47,836] Trial 65 finished with value: 0.9026974951830443 and parameters: {'n_estimators': 613, 'learning_rate': 0.04878395804584315, 'num_leaves': 172, 'max_depth': 17, 'min_data_in_leaf': 54, 'colsample_bytree': 0.8083256693841648, 'subsample': 0.8763822309917054, 'min_gain_to_split': 1.7311377782604525, 'bagging_fraction': 0.9, 'bagging_freq': 1, 'feature_fraction': 0.30000000000000004}. Best is trial 52 with value: 0.9062620423892099.\n"
     ]
    },
    {
     "name": "stdout",
     "output_type": "stream",
     "text": [
      "Training until validation scores don't improve for 100 rounds\n",
      "Did not meet early stopping. Best iteration is:\n",
      "[89]\tvalid_0's multi_logloss: 0.440963\tvalid_0's accuracy: 0.874774\n",
      "Training until validation scores don't improve for 100 rounds\n",
      "Did not meet early stopping. Best iteration is:\n",
      "[89]\tvalid_0's multi_logloss: 0.428929\tvalid_0's accuracy: 0.880759\n",
      "Training until validation scores don't improve for 100 rounds\n",
      "Did not meet early stopping. Best iteration is:\n",
      "[89]\tvalid_0's multi_logloss: 0.439443\tvalid_0's accuracy: 0.873532\n",
      "Training until validation scores don't improve for 100 rounds\n",
      "Did not meet early stopping. Best iteration is:\n",
      "[89]\tvalid_0's multi_logloss: 0.4379\tvalid_0's accuracy: 0.879253\n",
      "Training until validation scores don't improve for 100 rounds\n"
     ]
    },
    {
     "name": "stderr",
     "output_type": "stream",
     "text": [
      "[I 2024-02-13 15:49:53,794] Trial 66 finished with value: 0.8782755298651252 and parameters: {'n_estimators': 89, 'learning_rate': 0.03165221698869925, 'num_leaves': 6, 'max_depth': 16, 'min_data_in_leaf': 40, 'colsample_bytree': 0.7103065960877324, 'subsample': 0.9612715749747378, 'min_gain_to_split': 1.1928510552286264, 'bagging_fraction': 0.7, 'bagging_freq': 1, 'feature_fraction': 0.5}. Best is trial 52 with value: 0.9062620423892099.\n"
     ]
    },
    {
     "name": "stdout",
     "output_type": "stream",
     "text": [
      "Did not meet early stopping. Best iteration is:\n",
      "[89]\tvalid_0's multi_logloss: 0.435291\tvalid_0's accuracy: 0.878952\n",
      "Training until validation scores don't improve for 100 rounds\n",
      "Early stopping, best iteration is:\n",
      "[126]\tvalid_0's multi_logloss: 0.38398\tvalid_0's accuracy: 0.906081\n",
      "Training until validation scores don't improve for 100 rounds\n",
      "Did not meet early stopping. Best iteration is:\n",
      "[286]\tvalid_0's multi_logloss: 0.267528\tvalid_0's accuracy: 0.91358\n",
      "Training until validation scores don't improve for 100 rounds\n",
      "Did not meet early stopping. Best iteration is:\n",
      "[286]\tvalid_0's multi_logloss: 0.277261\tvalid_0's accuracy: 0.907558\n",
      "Training until validation scores don't improve for 100 rounds\n",
      "Did not meet early stopping. Best iteration is:\n",
      "[286]\tvalid_0's multi_logloss: 0.286323\tvalid_0's accuracy: 0.906956\n",
      "Training until validation scores don't improve for 100 rounds\n",
      "Did not meet early stopping. Best iteration is:\n",
      "[286]\tvalid_0's multi_logloss: 0.279871\tvalid_0's accuracy: 0.910268\n"
     ]
    },
    {
     "name": "stderr",
     "output_type": "stream",
     "text": [
      "[I 2024-02-13 15:50:25,353] Trial 67 finished with value: 0.904961464354528 and parameters: {'n_estimators': 286, 'learning_rate': 0.020915908576518243, 'num_leaves': 75, 'max_depth': 18, 'min_data_in_leaf': 36, 'colsample_bytree': 0.7437845494634482, 'subsample': 0.8172454794484577, 'min_gain_to_split': 0.7800734531396125, 'bagging_fraction': 0.9, 'bagging_freq': 1, 'feature_fraction': 0.4}. Best is trial 52 with value: 0.9062620423892099.\n"
     ]
    },
    {
     "name": "stdout",
     "output_type": "stream",
     "text": [
      "Training until validation scores don't improve for 100 rounds\n",
      "Early stopping, best iteration is:\n",
      "[277]\tvalid_0's multi_logloss: 0.28639\tvalid_0's accuracy: 0.909392\n",
      "Training until validation scores don't improve for 100 rounds\n",
      "Early stopping, best iteration is:\n",
      "[243]\tvalid_0's multi_logloss: 0.249574\tvalid_0's accuracy: 0.917796\n",
      "Training until validation scores don't improve for 100 rounds\n",
      "Early stopping, best iteration is:\n",
      "[274]\tvalid_0's multi_logloss: 0.258965\tvalid_0's accuracy: 0.912075\n",
      "Training until validation scores don't improve for 100 rounds\n",
      "Early stopping, best iteration is:\n",
      "[261]\tvalid_0's multi_logloss: 0.269683\tvalid_0's accuracy: 0.908461\n",
      "Training until validation scores don't improve for 100 rounds\n",
      "Early stopping, best iteration is:\n",
      "[278]\tvalid_0's multi_logloss: 0.266277\tvalid_0's accuracy: 0.912376\n"
     ]
    },
    {
     "name": "stderr",
     "output_type": "stream",
     "text": [
      "[I 2024-02-13 15:51:11,862] Trial 68 finished with value: 0.9070327552986512 and parameters: {'n_estimators': 416, 'learning_rate': 0.025791235528855927, 'num_leaves': 821, 'max_depth': 16, 'min_data_in_leaf': 47, 'colsample_bytree': 0.7781088364587361, 'subsample': 1.07295434711745, 'min_gain_to_split': 0.4139396094446268, 'bagging_fraction': 0.8, 'bagging_freq': 1, 'feature_fraction': 0.5}. Best is trial 68 with value: 0.9070327552986512.\n"
     ]
    },
    {
     "name": "stdout",
     "output_type": "stream",
     "text": [
      "Training until validation scores don't improve for 100 rounds\n",
      "Early stopping, best iteration is:\n",
      "[367]\tvalid_0's multi_logloss: 0.301315\tvalid_0's accuracy: 0.907285\n",
      "Training until validation scores don't improve for 100 rounds\n",
      "Early stopping, best iteration is:\n",
      "[378]\tvalid_0's multi_logloss: 0.280364\tvalid_0's accuracy: 0.910268\n",
      "Training until validation scores don't improve for 100 rounds\n",
      "Early stopping, best iteration is:\n",
      "[156]\tvalid_0's multi_logloss: 0.35669\tvalid_0's accuracy: 0.904246\n",
      "Training until validation scores don't improve for 100 rounds\n",
      "Early stopping, best iteration is:\n",
      "[330]\tvalid_0's multi_logloss: 0.299383\tvalid_0's accuracy: 0.906354\n",
      "Training until validation scores don't improve for 100 rounds\n",
      "Early stopping, best iteration is:\n",
      "[396]\tvalid_0's multi_logloss: 0.288729\tvalid_0's accuracy: 0.908461\n"
     ]
    },
    {
     "name": "stderr",
     "output_type": "stream",
     "text": [
      "[I 2024-02-13 15:51:44,678] Trial 69 finished with value: 0.9022639691714837 and parameters: {'n_estimators': 600, 'learning_rate': 0.01716058011449141, 'num_leaves': 921, 'max_depth': 19, 'min_data_in_leaf': 4, 'colsample_bytree': 0.7251332469066172, 'subsample': 1.0415801799217144, 'min_gain_to_split': 2.972646724393469, 'bagging_fraction': 0.8, 'bagging_freq': 1, 'feature_fraction': 0.5}. Best is trial 68 with value: 0.9070327552986512.\n"
     ]
    },
    {
     "name": "stdout",
     "output_type": "stream",
     "text": [
      "Training until validation scores don't improve for 100 rounds\n",
      "Did not meet early stopping. Best iteration is:\n",
      "[394]\tvalid_0's multi_logloss: 0.284209\tvalid_0's accuracy: 0.907285\n",
      "Training until validation scores don't improve for 100 rounds\n",
      "Early stopping, best iteration is:\n",
      "[237]\tvalid_0's multi_logloss: 0.265356\tvalid_0's accuracy: 0.914484\n",
      "Training until validation scores don't improve for 100 rounds\n",
      "Did not meet early stopping. Best iteration is:\n",
      "[394]\tvalid_0's multi_logloss: 0.267348\tvalid_0's accuracy: 0.908762\n",
      "Training until validation scores don't improve for 100 rounds\n",
      "Early stopping, best iteration is:\n",
      "[185]\tvalid_0's multi_logloss: 0.292087\tvalid_0's accuracy: 0.907558\n",
      "Training until validation scores don't improve for 100 rounds\n",
      "Early stopping, best iteration is:\n",
      "[172]\tvalid_0's multi_logloss: 0.289543\tvalid_0's accuracy: 0.909967\n"
     ]
    },
    {
     "name": "stderr",
     "output_type": "stream",
     "text": [
      "[I 2024-02-13 15:52:16,824] Trial 70 finished with value: 0.9058285163776493 and parameters: {'n_estimators': 395, 'learning_rate': 0.027681234464764556, 'num_leaves': 568, 'max_depth': 17, 'min_data_in_leaf': 33, 'colsample_bytree': 0.779615714119011, 'subsample': 0.9601606496690246, 'min_gain_to_split': 1.6551622488665934, 'bagging_fraction': 0.8, 'bagging_freq': 1, 'feature_fraction': 0.5}. Best is trial 68 with value: 0.9070327552986512.\n"
     ]
    },
    {
     "name": "stdout",
     "output_type": "stream",
     "text": [
      "Training until validation scores don't improve for 100 rounds\n",
      "Did not meet early stopping. Best iteration is:\n",
      "[379]\tvalid_0's multi_logloss: 0.284147\tvalid_0's accuracy: 0.908188\n",
      "Training until validation scores don't improve for 100 rounds\n",
      "Early stopping, best iteration is:\n",
      "[250]\tvalid_0's multi_logloss: 0.262013\tvalid_0's accuracy: 0.914785\n",
      "Training until validation scores don't improve for 100 rounds\n",
      "Did not meet early stopping. Best iteration is:\n",
      "[384]\tvalid_0's multi_logloss: 0.266171\tvalid_0's accuracy: 0.911472\n",
      "Training until validation scores don't improve for 100 rounds\n",
      "Early stopping, best iteration is:\n",
      "[182]\tvalid_0's multi_logloss: 0.290363\tvalid_0's accuracy: 0.907859\n",
      "Training until validation scores don't improve for 100 rounds\n",
      "Early stopping, best iteration is:\n",
      "[177]\tvalid_0's multi_logloss: 0.2848\tvalid_0's accuracy: 0.911171\n"
     ]
    },
    {
     "name": "stderr",
     "output_type": "stream",
     "text": [
      "[I 2024-02-13 15:52:44,109] Trial 71 finished with value: 0.9057803468208092 and parameters: {'n_estimators': 384, 'learning_rate': 0.029760217892163814, 'num_leaves': 884, 'max_depth': 17, 'min_data_in_leaf': 34, 'colsample_bytree': 0.7723341046966603, 'subsample': 1.0747362811012586, 'min_gain_to_split': 1.6994377143842345, 'bagging_fraction': 0.8, 'bagging_freq': 1, 'feature_fraction': 0.5}. Best is trial 68 with value: 0.9070327552986512.\n"
     ]
    },
    {
     "name": "stdout",
     "output_type": "stream",
     "text": [
      "Training until validation scores don't improve for 100 rounds\n",
      "Early stopping, best iteration is:\n",
      "[172]\tvalid_0's multi_logloss: 0.302477\tvalid_0's accuracy: 0.906984\n",
      "Training until validation scores don't improve for 100 rounds\n",
      "Did not meet early stopping. Best iteration is:\n",
      "[412]\tvalid_0's multi_logloss: 0.250736\tvalid_0's accuracy: 0.915989\n",
      "Training until validation scores don't improve for 100 rounds\n",
      "Early stopping, best iteration is:\n",
      "[215]\tvalid_0's multi_logloss: 0.275742\tvalid_0's accuracy: 0.910268\n",
      "Training until validation scores don't improve for 100 rounds\n",
      "Did not meet early stopping. Best iteration is:\n",
      "[412]\tvalid_0's multi_logloss: 0.270571\tvalid_0's accuracy: 0.907257\n",
      "Training until validation scores don't improve for 100 rounds\n",
      "Did not meet early stopping. Best iteration is:\n",
      "[411]\tvalid_0's multi_logloss: 0.267096\tvalid_0's accuracy: 0.911171\n"
     ]
    },
    {
     "name": "stderr",
     "output_type": "stream",
     "text": [
      "[I 2024-02-13 15:53:17,859] Trial 72 finished with value: 0.9071290944123314 and parameters: {'n_estimators': 412, 'learning_rate': 0.025379689943997908, 'num_leaves': 818, 'max_depth': 18, 'min_data_in_leaf': 34, 'colsample_bytree': 0.7777237052597111, 'subsample': 1.1220567513028787, 'min_gain_to_split': 1.1654800777107843, 'bagging_fraction': 0.8, 'bagging_freq': 1, 'feature_fraction': 0.5}. Best is trial 72 with value: 0.9071290944123314.\n"
     ]
    },
    {
     "name": "stdout",
     "output_type": "stream",
     "text": [
      "Training until validation scores don't improve for 100 rounds\n",
      "Early stopping, best iteration is:\n",
      "[210]\tvalid_0's multi_logloss: 0.295537\tvalid_0's accuracy: 0.908188\n",
      "Training until validation scores don't improve for 100 rounds\n",
      "Did not meet early stopping. Best iteration is:\n",
      "[390]\tvalid_0's multi_logloss: 0.262645\tvalid_0's accuracy: 0.912677\n",
      "Training until validation scores don't improve for 100 rounds\n",
      "Did not meet early stopping. Best iteration is:\n",
      "[390]\tvalid_0's multi_logloss: 0.27019\tvalid_0's accuracy: 0.909967\n",
      "Training until validation scores don't improve for 100 rounds\n",
      "Did not meet early stopping. Best iteration is:\n",
      "[390]\tvalid_0's multi_logloss: 0.277611\tvalid_0's accuracy: 0.906956\n",
      "Training until validation scores don't improve for 100 rounds\n",
      "Early stopping, best iteration is:\n",
      "[278]\tvalid_0's multi_logloss: 0.278305\tvalid_0's accuracy: 0.909365\n"
     ]
    },
    {
     "name": "stderr",
     "output_type": "stream",
     "text": [
      "[I 2024-02-13 15:53:45,012] Trial 73 finished with value: 0.9046724470134875 and parameters: {'n_estimators': 390, 'learning_rate': 0.025906936376165934, 'num_leaves': 841, 'max_depth': 16, 'min_data_in_leaf': 25, 'colsample_bytree': 0.7958161746712908, 'subsample': 1.133959831110725, 'min_gain_to_split': 2.2216154785817372, 'bagging_fraction': 0.8, 'bagging_freq': 1, 'feature_fraction': 0.6000000000000001}. Best is trial 72 with value: 0.9071290944123314.\n"
     ]
    },
    {
     "name": "stdout",
     "output_type": "stream",
     "text": [
      "Training until validation scores don't improve for 100 rounds\n",
      "Did not meet early stopping. Best iteration is:\n",
      "[434]\tvalid_0's multi_logloss: 0.287485\tvalid_0's accuracy: 0.910295\n",
      "Training until validation scores don't improve for 100 rounds\n",
      "Did not meet early stopping. Best iteration is:\n",
      "[434]\tvalid_0's multi_logloss: 0.25728\tvalid_0's accuracy: 0.915688\n",
      "Training until validation scores don't improve for 100 rounds\n",
      "Early stopping, best iteration is:\n",
      "[332]\tvalid_0's multi_logloss: 0.277726\tvalid_0's accuracy: 0.911774\n",
      "Training until validation scores don't improve for 100 rounds\n",
      "Early stopping, best iteration is:\n",
      "[262]\tvalid_0's multi_logloss: 0.299813\tvalid_0's accuracy: 0.906052\n",
      "Training until validation scores don't improve for 100 rounds\n",
      "Early stopping, best iteration is:\n",
      "[313]\tvalid_0's multi_logloss: 0.28282\tvalid_0's accuracy: 0.910569\n"
     ]
    },
    {
     "name": "stderr",
     "output_type": "stream",
     "text": [
      "[I 2024-02-13 15:54:30,344] Trial 74 finished with value: 0.9063102119460501 and parameters: {'n_estimators': 434, 'learning_rate': 0.015270533351352701, 'num_leaves': 820, 'max_depth': 19, 'min_data_in_leaf': 34, 'colsample_bytree': 0.828370238655781, 'subsample': 1.1024547875352788, 'min_gain_to_split': 1.165110109351246, 'bagging_fraction': 0.8, 'bagging_freq': 1, 'feature_fraction': 0.5}. Best is trial 72 with value: 0.9071290944123314.\n"
     ]
    },
    {
     "name": "stdout",
     "output_type": "stream",
     "text": [
      "Training until validation scores don't improve for 100 rounds\n",
      "Early stopping, best iteration is:\n",
      "[361]\tvalid_0's multi_logloss: 0.289157\tvalid_0's accuracy: 0.910295\n",
      "Training until validation scores don't improve for 100 rounds\n",
      "Early stopping, best iteration is:\n",
      "[532]\tvalid_0's multi_logloss: 0.253294\tvalid_0's accuracy: 0.917495\n",
      "Training until validation scores don't improve for 100 rounds\n",
      "Early stopping, best iteration is:\n",
      "[418]\tvalid_0's multi_logloss: 0.266462\tvalid_0's accuracy: 0.911472\n",
      "Training until validation scores don't improve for 100 rounds\n",
      "Early stopping, best iteration is:\n",
      "[324]\tvalid_0's multi_logloss: 0.282236\tvalid_0's accuracy: 0.908461\n",
      "Training until validation scores don't improve for 100 rounds\n",
      "Early stopping, best iteration is:\n",
      "[395]\tvalid_0's multi_logloss: 0.272279\tvalid_0's accuracy: 0.911171\n"
     ]
    },
    {
     "name": "stderr",
     "output_type": "stream",
     "text": [
      "[I 2024-02-13 15:55:23,193] Trial 75 finished with value: 0.9079961464354529 and parameters: {'n_estimators': 745, 'learning_rate': 0.015814527100162998, 'num_leaves': 742, 'max_depth': 19, 'min_data_in_leaf': 18, 'colsample_bytree': 0.8309728636518279, 'subsample': 1.1554573550007061, 'min_gain_to_split': 1.1021958438092825, 'bagging_fraction': 0.8, 'bagging_freq': 1, 'feature_fraction': 0.5}. Best is trial 75 with value: 0.9079961464354529.\n"
     ]
    },
    {
     "name": "stdout",
     "output_type": "stream",
     "text": [
      "Training until validation scores don't improve for 100 rounds\n",
      "Early stopping, best iteration is:\n",
      "[392]\tvalid_0's multi_logloss: 0.300889\tvalid_0's accuracy: 0.904877\n",
      "Training until validation scores don't improve for 100 rounds\n",
      "Early stopping, best iteration is:\n",
      "[577]\tvalid_0's multi_logloss: 0.269751\tvalid_0's accuracy: 0.914484\n",
      "Training until validation scores don't improve for 100 rounds\n",
      "Early stopping, best iteration is:\n",
      "[550]\tvalid_0's multi_logloss: 0.277932\tvalid_0's accuracy: 0.90816\n",
      "Training until validation scores don't improve for 100 rounds\n",
      "Early stopping, best iteration is:\n",
      "[577]\tvalid_0's multi_logloss: 0.285047\tvalid_0's accuracy: 0.908461\n",
      "Training until validation scores don't improve for 100 rounds\n",
      "Early stopping, best iteration is:\n",
      "[118]\tvalid_0's multi_logloss: 0.42881\tvalid_0's accuracy: 0.903041\n"
     ]
    },
    {
     "name": "stderr",
     "output_type": "stream",
     "text": [
      "[I 2024-02-13 15:56:03,483] Trial 76 finished with value: 0.9033718689788053 and parameters: {'n_estimators': 727, 'learning_rate': 0.01611950649641392, 'num_leaves': 779, 'max_depth': 20, 'min_data_in_leaf': 14, 'colsample_bytree': 0.8229178200421556, 'subsample': 1.1555158529751544, 'min_gain_to_split': 2.7312326769814836, 'bagging_fraction': 0.7, 'bagging_freq': 1, 'feature_fraction': 0.5}. Best is trial 75 with value: 0.9079961464354529.\n"
     ]
    },
    {
     "name": "stdout",
     "output_type": "stream",
     "text": [
      "Training until validation scores don't improve for 100 rounds\n",
      "Early stopping, best iteration is:\n",
      "[362]\tvalid_0's multi_logloss: 0.292222\tvalid_0's accuracy: 0.909091\n",
      "Training until validation scores don't improve for 100 rounds\n",
      "Did not meet early stopping. Best iteration is:\n",
      "[532]\tvalid_0's multi_logloss: 0.252239\tvalid_0's accuracy: 0.915688\n",
      "Training until validation scores don't improve for 100 rounds\n",
      "Early stopping, best iteration is:\n",
      "[401]\tvalid_0's multi_logloss: 0.271211\tvalid_0's accuracy: 0.912376\n",
      "Training until validation scores don't improve for 100 rounds\n",
      "Early stopping, best iteration is:\n",
      "[278]\tvalid_0's multi_logloss: 0.30004\tvalid_0's accuracy: 0.90816\n",
      "Training until validation scores don't improve for 100 rounds\n",
      "Early stopping, best iteration is:\n",
      "[238]\tvalid_0's multi_logloss: 0.312551\tvalid_0's accuracy: 0.908762\n"
     ]
    },
    {
     "name": "stderr",
     "output_type": "stream",
     "text": [
      "[I 2024-02-13 15:56:53,356] Trial 77 finished with value: 0.9056840077071291 and parameters: {'n_estimators': 532, 'learning_rate': 0.011901490181295226, 'num_leaves': 774, 'max_depth': 19, 'min_data_in_leaf': 32, 'colsample_bytree': 0.8476659946751319, 'subsample': 1.1968405813156926, 'min_gain_to_split': 0.9730821346604484, 'bagging_fraction': 0.8, 'bagging_freq': 1, 'feature_fraction': 0.6000000000000001}. Best is trial 75 with value: 0.9079961464354529.\n"
     ]
    },
    {
     "name": "stdout",
     "output_type": "stream",
     "text": [
      "Training until validation scores don't improve for 100 rounds\n",
      "Early stopping, best iteration is:\n",
      "[181]\tvalid_0's multi_logloss: 0.29982\tvalid_0's accuracy: 0.909994\n",
      "Training until validation scores don't improve for 100 rounds\n",
      "Early stopping, best iteration is:\n",
      "[266]\tvalid_0's multi_logloss: 0.251875\tvalid_0's accuracy: 0.915989\n",
      "Training until validation scores don't improve for 100 rounds\n",
      "Early stopping, best iteration is:\n",
      "[232]\tvalid_0's multi_logloss: 0.270095\tvalid_0's accuracy: 0.912075\n",
      "Training until validation scores don't improve for 100 rounds\n",
      "Early stopping, best iteration is:\n",
      "[236]\tvalid_0's multi_logloss: 0.280324\tvalid_0's accuracy: 0.907257\n",
      "Training until validation scores don't improve for 100 rounds\n",
      "Early stopping, best iteration is:\n",
      "[331]\tvalid_0's multi_logloss: 0.266572\tvalid_0's accuracy: 0.91358\n"
     ]
    },
    {
     "name": "stderr",
     "output_type": "stream",
     "text": [
      "[I 2024-02-13 15:57:41,087] Trial 78 finished with value: 0.9066955684007707 and parameters: {'n_estimators': 853, 'learning_rate': 0.022315720332265282, 'num_leaves': 675, 'max_depth': 19, 'min_data_in_leaf': 16, 'colsample_bytree': 0.791480047662655, 'subsample': 1.2312253880701536, 'min_gain_to_split': 0.4290396003372331, 'bagging_fraction': 0.9, 'bagging_freq': 1, 'feature_fraction': 0.5}. Best is trial 75 with value: 0.9079961464354529.\n"
     ]
    },
    {
     "name": "stdout",
     "output_type": "stream",
     "text": [
      "Training until validation scores don't improve for 100 rounds\n",
      "Early stopping, best iteration is:\n",
      "[292]\tvalid_0's multi_logloss: 0.299311\tvalid_0's accuracy: 0.907285\n",
      "Training until validation scores don't improve for 100 rounds\n",
      "Early stopping, best iteration is:\n",
      "[270]\tvalid_0's multi_logloss: 0.27322\tvalid_0's accuracy: 0.914785\n",
      "Training until validation scores don't improve for 100 rounds\n",
      "Early stopping, best iteration is:\n",
      "[351]\tvalid_0's multi_logloss: 0.27018\tvalid_0's accuracy: 0.913279\n",
      "Training until validation scores don't improve for 100 rounds\n",
      "Early stopping, best iteration is:\n",
      "[384]\tvalid_0's multi_logloss: 0.278325\tvalid_0's accuracy: 0.907558\n",
      "Training until validation scores don't improve for 100 rounds\n",
      "Early stopping, best iteration is:\n",
      "[347]\tvalid_0's multi_logloss: 0.274682\tvalid_0's accuracy: 0.912376\n"
     ]
    },
    {
     "name": "stderr",
     "output_type": "stream",
     "text": [
      "[I 2024-02-13 15:58:47,965] Trial 79 finished with value: 0.9061657032755299 and parameters: {'n_estimators': 849, 'learning_rate': 0.014249371822488458, 'num_leaves': 708, 'max_depth': 20, 'min_data_in_leaf': 12, 'colsample_bytree': 0.8233841881942331, 'subsample': 1.2225553353947813, 'min_gain_to_split': 0.47182234438118525, 'bagging_fraction': 0.9, 'bagging_freq': 1, 'feature_fraction': 0.5}. Best is trial 75 with value: 0.9079961464354529.\n"
     ]
    },
    {
     "name": "stdout",
     "output_type": "stream",
     "text": [
      "Training until validation scores don't improve for 100 rounds\n",
      "Early stopping, best iteration is:\n",
      "[258]\tvalid_0's multi_logloss: 0.289737\tvalid_0's accuracy: 0.907285\n",
      "Training until validation scores don't improve for 100 rounds\n",
      "Early stopping, best iteration is:\n",
      "[206]\tvalid_0's multi_logloss: 0.259892\tvalid_0's accuracy: 0.914182\n",
      "Training until validation scores don't improve for 100 rounds\n",
      "Early stopping, best iteration is:\n",
      "[188]\tvalid_0's multi_logloss: 0.276493\tvalid_0's accuracy: 0.913279\n",
      "Training until validation scores don't improve for 100 rounds\n",
      "Early stopping, best iteration is:\n",
      "[196]\tvalid_0's multi_logloss: 0.286551\tvalid_0's accuracy: 0.903643\n",
      "Training until validation scores don't improve for 100 rounds\n",
      "Early stopping, best iteration is:\n",
      "[239]\tvalid_0's multi_logloss: 0.275173\tvalid_0's accuracy: 0.912978\n"
     ]
    },
    {
     "name": "stderr",
     "output_type": "stream",
     "text": [
      "[I 2024-02-13 15:59:39,194] Trial 80 finished with value: 0.9052504816955684 and parameters: {'n_estimators': 877, 'learning_rate': 0.020352881909349932, 'num_leaves': 667, 'max_depth': 20, 'min_data_in_leaf': 9, 'colsample_bytree': 0.8707832564637812, 'subsample': 1.2588744104137122, 'min_gain_to_split': 0.40057390301602036, 'bagging_fraction': 0.9, 'bagging_freq': 1, 'feature_fraction': 0.6000000000000001}. Best is trial 75 with value: 0.9079961464354529.\n"
     ]
    },
    {
     "name": "stdout",
     "output_type": "stream",
     "text": [
      "Training until validation scores don't improve for 100 rounds\n",
      "Early stopping, best iteration is:\n",
      "[272]\tvalid_0's multi_logloss: 0.30071\tvalid_0's accuracy: 0.909392\n",
      "Training until validation scores don't improve for 100 rounds\n",
      "Early stopping, best iteration is:\n",
      "[230]\tvalid_0's multi_logloss: 0.28206\tvalid_0's accuracy: 0.91358\n",
      "Training until validation scores don't improve for 100 rounds\n",
      "Early stopping, best iteration is:\n",
      "[285]\tvalid_0's multi_logloss: 0.277871\tvalid_0's accuracy: 0.911472\n",
      "Training until validation scores don't improve for 100 rounds\n",
      "Early stopping, best iteration is:\n",
      "[227]\tvalid_0's multi_logloss: 0.305087\tvalid_0's accuracy: 0.907558\n",
      "Training until validation scores don't improve for 100 rounds\n",
      "Early stopping, best iteration is:\n",
      "[415]\tvalid_0's multi_logloss: 0.268862\tvalid_0's accuracy: 0.912677\n"
     ]
    },
    {
     "name": "stderr",
     "output_type": "stream",
     "text": [
      "[I 2024-02-13 16:00:40,029] Trial 81 finished with value: 0.9059730250481696 and parameters: {'n_estimators': 1103, 'learning_rate': 0.015042361504863147, 'num_leaves': 817, 'max_depth': 19, 'min_data_in_leaf': 14, 'colsample_bytree': 0.8262286679136968, 'subsample': 1.2206781772877224, 'min_gain_to_split': 0.4578136962656518, 'bagging_fraction': 0.9, 'bagging_freq': 1, 'feature_fraction': 0.5}. Best is trial 75 with value: 0.9079961464354529.\n"
     ]
    },
    {
     "name": "stdout",
     "output_type": "stream",
     "text": [
      "Training until validation scores don't improve for 100 rounds\n",
      "Early stopping, best iteration is:\n",
      "[441]\tvalid_0's multi_logloss: 0.286667\tvalid_0's accuracy: 0.910295\n",
      "Training until validation scores don't improve for 100 rounds\n",
      "Early stopping, best iteration is:\n",
      "[330]\tvalid_0's multi_logloss: 0.261321\tvalid_0's accuracy: 0.914785\n",
      "Training until validation scores don't improve for 100 rounds\n",
      "Early stopping, best iteration is:\n",
      "[337]\tvalid_0's multi_logloss: 0.272111\tvalid_0's accuracy: 0.911171\n",
      "Training until validation scores don't improve for 100 rounds\n",
      "Early stopping, best iteration is:\n",
      "[356]\tvalid_0's multi_logloss: 0.281356\tvalid_0's accuracy: 0.906354\n",
      "Training until validation scores don't improve for 100 rounds\n",
      "Early stopping, best iteration is:\n",
      "[388]\tvalid_0's multi_logloss: 0.271365\tvalid_0's accuracy: 0.911774\n"
     ]
    },
    {
     "name": "stderr",
     "output_type": "stream",
     "text": [
      "[I 2024-02-13 16:01:55,675] Trial 82 finished with value: 0.9067919075144509 and parameters: {'n_estimators': 1037, 'learning_rate': 0.013962517535778709, 'num_leaves': 740, 'max_depth': 20, 'min_data_in_leaf': 16, 'colsample_bytree': 0.8220192925557835, 'subsample': 1.2201408583011033, 'min_gain_to_split': 0.4456713887100192, 'bagging_fraction': 0.9, 'bagging_freq': 1, 'feature_fraction': 0.5}. Best is trial 75 with value: 0.9079961464354529.\n"
     ]
    },
    {
     "name": "stdout",
     "output_type": "stream",
     "text": [
      "Training until validation scores don't improve for 100 rounds\n",
      "Early stopping, best iteration is:\n",
      "[297]\tvalid_0's multi_logloss: 0.308663\tvalid_0's accuracy: 0.909392\n",
      "Training until validation scores don't improve for 100 rounds\n",
      "Early stopping, best iteration is:\n",
      "[464]\tvalid_0's multi_logloss: 0.259287\tvalid_0's accuracy: 0.915989\n",
      "Training until validation scores don't improve for 100 rounds\n",
      "Early stopping, best iteration is:\n",
      "[533]\tvalid_0's multi_logloss: 0.26475\tvalid_0's accuracy: 0.911774\n",
      "Training until validation scores don't improve for 100 rounds\n",
      "Early stopping, best iteration is:\n",
      "[234]\tvalid_0's multi_logloss: 0.321975\tvalid_0's accuracy: 0.906956\n",
      "Training until validation scores don't improve for 100 rounds\n",
      "Early stopping, best iteration is:\n",
      "[682]\tvalid_0's multi_logloss: 0.266436\tvalid_0's accuracy: 0.912376\n"
     ]
    },
    {
     "name": "stderr",
     "output_type": "stream",
     "text": [
      "[I 2024-02-13 16:02:51,143] Trial 83 finished with value: 0.9063583815028903 and parameters: {'n_estimators': 1049, 'learning_rate': 0.012754816188092979, 'num_leaves': 721, 'max_depth': 20, 'min_data_in_leaf': 18, 'colsample_bytree': 0.8061016900516779, 'subsample': 1.2792247515951993, 'min_gain_to_split': 1.0026589880127879, 'bagging_fraction': 0.9, 'bagging_freq': 1, 'feature_fraction': 0.5}. Best is trial 75 with value: 0.9079961464354529.\n"
     ]
    },
    {
     "name": "stdout",
     "output_type": "stream",
     "text": [
      "Training until validation scores don't improve for 100 rounds\n",
      "Early stopping, best iteration is:\n",
      "[266]\tvalid_0's multi_logloss: 0.317056\tvalid_0's accuracy: 0.908489\n",
      "Training until validation scores don't improve for 100 rounds\n",
      "Early stopping, best iteration is:\n",
      "[364]\tvalid_0's multi_logloss: 0.265404\tvalid_0's accuracy: 0.915688\n",
      "Training until validation scores don't improve for 100 rounds\n",
      "Early stopping, best iteration is:\n",
      "[137]\tvalid_0's multi_logloss: 0.426414\tvalid_0's accuracy: 0.909666\n",
      "Training until validation scores don't improve for 100 rounds\n",
      "Early stopping, best iteration is:\n",
      "[423]\tvalid_0's multi_logloss: 0.27869\tvalid_0's accuracy: 0.909967\n",
      "Training until validation scores don't improve for 100 rounds\n",
      "Early stopping, best iteration is:\n",
      "[628]\tvalid_0's multi_logloss: 0.265718\tvalid_0's accuracy: 0.912075\n"
     ]
    },
    {
     "name": "stderr",
     "output_type": "stream",
     "text": [
      "[I 2024-02-13 16:03:57,760] Trial 84 finished with value: 0.9059248554913294 and parameters: {'n_estimators': 829, 'learning_rate': 0.012550057734223291, 'num_leaves': 739, 'max_depth': 20, 'min_data_in_leaf': 18, 'colsample_bytree': 0.8039795919649696, 'subsample': 1.2941389319497865, 'min_gain_to_split': 0.7639476562077467, 'bagging_fraction': 0.9, 'bagging_freq': 1, 'feature_fraction': 0.5}. Best is trial 75 with value: 0.9079961464354529.\n"
     ]
    },
    {
     "name": "stdout",
     "output_type": "stream",
     "text": [
      "Training until validation scores don't improve for 100 rounds\n",
      "Early stopping, best iteration is:\n",
      "[364]\tvalid_0's multi_logloss: 0.305839\tvalid_0's accuracy: 0.909693\n",
      "Training until validation scores don't improve for 100 rounds\n",
      "Early stopping, best iteration is:\n",
      "[642]\tvalid_0's multi_logloss: 0.257279\tvalid_0's accuracy: 0.914182\n",
      "Training until validation scores don't improve for 100 rounds\n",
      "Early stopping, best iteration is:\n",
      "[347]\tvalid_0's multi_logloss: 0.293964\tvalid_0's accuracy: 0.911171\n",
      "Training until validation scores don't improve for 100 rounds\n",
      "Early stopping, best iteration is:\n",
      "[414]\tvalid_0's multi_logloss: 0.290795\tvalid_0's accuracy: 0.906655\n",
      "Training until validation scores don't improve for 100 rounds\n",
      "Early stopping, best iteration is:\n",
      "[146]\tvalid_0's multi_logloss: 0.478146\tvalid_0's accuracy: 0.906655\n"
     ]
    },
    {
     "name": "stderr",
     "output_type": "stream",
     "text": [
      "[I 2024-02-13 16:04:56,466] Trial 85 finished with value: 0.9051059730250482 and parameters: {'n_estimators': 1021, 'learning_rate': 0.00940752451119525, 'num_leaves': 677, 'max_depth': 19, 'min_data_in_leaf': 10, 'colsample_bytree': 0.8552787871823309, 'subsample': 1.305083606579889, 'min_gain_to_split': 1.1013252980725974, 'bagging_fraction': 0.9, 'bagging_freq': 1, 'feature_fraction': 0.6000000000000001}. Best is trial 75 with value: 0.9079961464354529.\n"
     ]
    },
    {
     "name": "stdout",
     "output_type": "stream",
     "text": [
      "Training until validation scores don't improve for 100 rounds\n",
      "Early stopping, best iteration is:\n",
      "[270]\tvalid_0's multi_logloss: 0.306585\tvalid_0's accuracy: 0.908188\n",
      "Training until validation scores don't improve for 100 rounds\n",
      "Early stopping, best iteration is:\n",
      "[254]\tvalid_0's multi_logloss: 0.28539\tvalid_0's accuracy: 0.912677\n",
      "Training until validation scores don't improve for 100 rounds\n",
      "Early stopping, best iteration is:\n",
      "[172]\tvalid_0's multi_logloss: 0.341692\tvalid_0's accuracy: 0.909666\n",
      "Training until validation scores don't improve for 100 rounds\n",
      "Early stopping, best iteration is:\n",
      "[243]\tvalid_0's multi_logloss: 0.305313\tvalid_0's accuracy: 0.907558\n",
      "Training until validation scores don't improve for 100 rounds\n",
      "Early stopping, best iteration is:\n",
      "[62]\tvalid_0's multi_logloss: 0.694623\tvalid_0's accuracy: 0.906052\n"
     ]
    },
    {
     "name": "stderr",
     "output_type": "stream",
     "text": [
      "[I 2024-02-13 16:05:47,861] Trial 86 finished with value: 0.9028901734104047 and parameters: {'n_estimators': 1162, 'learning_rate': 0.01424380577873739, 'num_leaves': 708, 'max_depth': 20, 'min_data_in_leaf': 17, 'colsample_bytree': 0.9010980537237544, 'subsample': 1.1457647222684797, 'min_gain_to_split': 0.9274130483957097, 'bagging_fraction': 0.9, 'bagging_freq': 1, 'feature_fraction': 0.5}. Best is trial 75 with value: 0.9079961464354529.\n"
     ]
    },
    {
     "name": "stdout",
     "output_type": "stream",
     "text": [
      "Training until validation scores don't improve for 100 rounds\n",
      "Early stopping, best iteration is:\n",
      "[265]\tvalid_0's multi_logloss: 0.292493\tvalid_0's accuracy: 0.908489\n",
      "Training until validation scores don't improve for 100 rounds\n",
      "Early stopping, best iteration is:\n",
      "[182]\tvalid_0's multi_logloss: 0.279375\tvalid_0's accuracy: 0.914484\n",
      "Training until validation scores don't improve for 100 rounds\n",
      "Early stopping, best iteration is:\n",
      "[218]\tvalid_0's multi_logloss: 0.279055\tvalid_0's accuracy: 0.911472\n",
      "Training until validation scores don't improve for 100 rounds\n",
      "Early stopping, best iteration is:\n",
      "[289]\tvalid_0's multi_logloss: 0.28062\tvalid_0's accuracy: 0.903945\n",
      "Training until validation scores don't improve for 100 rounds\n",
      "Early stopping, best iteration is:\n",
      "[445]\tvalid_0's multi_logloss: 0.267409\tvalid_0's accuracy: 0.914182\n"
     ]
    },
    {
     "name": "stderr",
     "output_type": "stream",
     "text": [
      "[I 2024-02-13 16:06:49,422] Trial 87 finished with value: 0.905587668593449 and parameters: {'n_estimators': 797, 'learning_rate': 0.01961079208140081, 'num_leaves': 629, 'max_depth': 19, 'min_data_in_leaf': 8, 'colsample_bytree': 0.8393275947365801, 'subsample': 1.0930886303785792, 'min_gain_to_split': 0.4087747681556035, 'bagging_fraction': 0.9, 'bagging_freq': 1, 'feature_fraction': 0.5}. Best is trial 75 with value: 0.9079961464354529.\n"
     ]
    },
    {
     "name": "stdout",
     "output_type": "stream",
     "text": [
      "Training until validation scores don't improve for 100 rounds\n",
      "Early stopping, best iteration is:\n",
      "[595]\tvalid_0's multi_logloss: 0.290019\tvalid_0's accuracy: 0.909091\n",
      "Training until validation scores don't improve for 100 rounds\n",
      "Early stopping, best iteration is:\n",
      "[190]\tvalid_0's multi_logloss: 0.371206\tvalid_0's accuracy: 0.909064\n",
      "Training until validation scores don't improve for 100 rounds\n",
      "Early stopping, best iteration is:\n",
      "[202]\tvalid_0's multi_logloss: 0.363482\tvalid_0's accuracy: 0.90545\n",
      "Training until validation scores don't improve for 100 rounds\n",
      "Early stopping, best iteration is:\n",
      "[291]\tvalid_0's multi_logloss: 0.313677\tvalid_0's accuracy: 0.905751\n",
      "Training until validation scores don't improve for 100 rounds\n",
      "Early stopping, best iteration is:\n",
      "[195]\tvalid_0's multi_logloss: 0.368765\tvalid_0's accuracy: 0.905149\n"
     ]
    },
    {
     "name": "stderr",
     "output_type": "stream",
     "text": [
      "[I 2024-02-13 16:07:28,031] Trial 88 finished with value: 0.9026493256262043 and parameters: {'n_estimators': 979, 'learning_rate': 0.010939135327020523, 'num_leaves': 803, 'max_depth': 20, 'min_data_in_leaf': 23, 'colsample_bytree': 0.8781086367959233, 'subsample': 1.1169352635869036, 'min_gain_to_split': 2.1098899545559266, 'bagging_fraction': 0.9, 'bagging_freq': 1, 'feature_fraction': 0.6000000000000001}. Best is trial 75 with value: 0.9079961464354529.\n"
     ]
    },
    {
     "name": "stdout",
     "output_type": "stream",
     "text": [
      "Training until validation scores don't improve for 100 rounds\n",
      "Early stopping, best iteration is:\n",
      "[545]\tvalid_0's multi_logloss: 0.303179\tvalid_0's accuracy: 0.90879\n",
      "Training until validation scores don't improve for 100 rounds\n",
      "Early stopping, best iteration is:\n",
      "[798]\tvalid_0's multi_logloss: 0.262925\tvalid_0's accuracy: 0.917194\n",
      "Training until validation scores don't improve for 100 rounds\n",
      "Early stopping, best iteration is:\n",
      "[509]\tvalid_0's multi_logloss: 0.293265\tvalid_0's accuracy: 0.909666\n",
      "Training until validation scores don't improve for 100 rounds\n",
      "Early stopping, best iteration is:\n",
      "[475]\tvalid_0's multi_logloss: 0.308015\tvalid_0's accuracy: 0.907257\n",
      "Training until validation scores don't improve for 100 rounds\n",
      "Early stopping, best iteration is:\n",
      "[351]\tvalid_0's multi_logloss: 0.336661\tvalid_0's accuracy: 0.90816\n"
     ]
    },
    {
     "name": "stderr",
     "output_type": "stream",
     "text": [
      "[I 2024-02-13 16:08:44,499] Trial 89 finished with value: 0.9048651252408477 and parameters: {'n_estimators': 1017, 'learning_rate': 0.007839706311894684, 'num_leaves': 712, 'max_depth': 18, 'min_data_in_leaf': 5, 'colsample_bytree': 0.7949834276672931, 'subsample': 1.1824728930512654, 'min_gain_to_split': 1.3105016427597636, 'bagging_fraction': 0.9, 'bagging_freq': 1, 'feature_fraction': 0.5}. Best is trial 75 with value: 0.9079961464354529.\n"
     ]
    },
    {
     "name": "stdout",
     "output_type": "stream",
     "text": [
      "Training until validation scores don't improve for 100 rounds\n",
      "Early stopping, best iteration is:\n",
      "[169]\tvalid_0's multi_logloss: 0.331481\tvalid_0's accuracy: 0.906081\n",
      "Training until validation scores don't improve for 100 rounds\n",
      "Early stopping, best iteration is:\n",
      "[190]\tvalid_0's multi_logloss: 0.289786\tvalid_0's accuracy: 0.914182\n",
      "Training until validation scores don't improve for 100 rounds\n",
      "Early stopping, best iteration is:\n",
      "[202]\tvalid_0's multi_logloss: 0.293339\tvalid_0's accuracy: 0.912978\n",
      "Training until validation scores don't improve for 100 rounds\n",
      "Early stopping, best iteration is:\n",
      "[211]\tvalid_0's multi_logloss: 0.300646\tvalid_0's accuracy: 0.906354\n",
      "Training until validation scores don't improve for 100 rounds\n",
      "Early stopping, best iteration is:\n",
      "[468]\tvalid_0's multi_logloss: 0.268186\tvalid_0's accuracy: 0.911472\n"
     ]
    },
    {
     "name": "stderr",
     "output_type": "stream",
     "text": [
      "[I 2024-02-13 16:09:43,724] Trial 90 finished with value: 0.9045761078998072 and parameters: {'n_estimators': 670, 'learning_rate': 0.015111429336669004, 'num_leaves': 908, 'max_depth': 20, 'min_data_in_leaf': 12, 'colsample_bytree': 0.8334890054140719, 'subsample': 1.0648228983772299, 'min_gain_to_split': 0.6630147450484127, 'bagging_fraction': 0.9, 'bagging_freq': 1, 'feature_fraction': 0.6000000000000001}. Best is trial 75 with value: 0.9079961464354529.\n"
     ]
    },
    {
     "name": "stdout",
     "output_type": "stream",
     "text": [
      "Training until validation scores don't improve for 100 rounds\n",
      "Early stopping, best iteration is:\n",
      "[227]\tvalid_0's multi_logloss: 0.290443\tvalid_0's accuracy: 0.909392\n",
      "Training until validation scores don't improve for 100 rounds\n",
      "Early stopping, best iteration is:\n",
      "[288]\tvalid_0's multi_logloss: 0.248652\tvalid_0's accuracy: 0.915989\n",
      "Training until validation scores don't improve for 100 rounds\n",
      "Early stopping, best iteration is:\n",
      "[287]\tvalid_0's multi_logloss: 0.259988\tvalid_0's accuracy: 0.913279\n",
      "Training until validation scores don't improve for 100 rounds\n",
      "Early stopping, best iteration is:\n",
      "[206]\tvalid_0's multi_logloss: 0.280272\tvalid_0's accuracy: 0.906655\n",
      "Training until validation scores don't improve for 100 rounds\n",
      "Early stopping, best iteration is:\n",
      "[272]\tvalid_0's multi_logloss: 0.270221\tvalid_0's accuracy: 0.912075\n"
     ]
    },
    {
     "name": "stderr",
     "output_type": "stream",
     "text": [
      "[I 2024-02-13 16:10:35,016] Trial 91 finished with value: 0.9071290944123314 and parameters: {'n_estimators': 1079, 'learning_rate': 0.023885138297706245, 'num_leaves': 760, 'max_depth': 19, 'min_data_in_leaf': 17, 'colsample_bytree': 0.7808368687986667, 'subsample': 1.1051924624421625, 'min_gain_to_split': 0.2858073025736804, 'bagging_fraction': 0.9, 'bagging_freq': 1, 'feature_fraction': 0.5}. Best is trial 75 with value: 0.9079961464354529.\n"
     ]
    },
    {
     "name": "stdout",
     "output_type": "stream",
     "text": [
      "Training until validation scores don't improve for 100 rounds\n",
      "Early stopping, best iteration is:\n",
      "[127]\tvalid_0's multi_logloss: 0.326019\tvalid_0's accuracy: 0.908188\n",
      "Training until validation scores don't improve for 100 rounds\n",
      "Early stopping, best iteration is:\n",
      "[261]\tvalid_0's multi_logloss: 0.250552\tvalid_0's accuracy: 0.91629\n",
      "Training until validation scores don't improve for 100 rounds\n",
      "Early stopping, best iteration is:\n",
      "[175]\tvalid_0's multi_logloss: 0.274442\tvalid_0's accuracy: 0.911774\n",
      "Training until validation scores don't improve for 100 rounds\n",
      "Early stopping, best iteration is:\n",
      "[247]\tvalid_0's multi_logloss: 0.276101\tvalid_0's accuracy: 0.907257\n",
      "Training until validation scores don't improve for 100 rounds\n",
      "Early stopping, best iteration is:\n",
      "[235]\tvalid_0's multi_logloss: 0.273564\tvalid_0's accuracy: 0.912677\n"
     ]
    },
    {
     "name": "stderr",
     "output_type": "stream",
     "text": [
      "[I 2024-02-13 16:11:41,175] Trial 92 finished with value: 0.9067919075144509 and parameters: {'n_estimators': 1091, 'learning_rate': 0.02297365039786835, 'num_leaves': 777, 'max_depth': 19, 'min_data_in_leaf': 17, 'colsample_bytree': 0.8104265228496984, 'subsample': 1.123357560108248, 'min_gain_to_split': 0.28589653853837665, 'bagging_fraction': 0.9, 'bagging_freq': 1, 'feature_fraction': 0.5}. Best is trial 75 with value: 0.9079961464354529.\n"
     ]
    },
    {
     "name": "stdout",
     "output_type": "stream",
     "text": [
      "Training until validation scores don't improve for 100 rounds\n",
      "Early stopping, best iteration is:\n",
      "[123]\tvalid_0's multi_logloss: 0.325417\tvalid_0's accuracy: 0.90578\n",
      "Training until validation scores don't improve for 100 rounds\n",
      "Early stopping, best iteration is:\n",
      "[116]\tvalid_0's multi_logloss: 0.309534\tvalid_0's accuracy: 0.914785\n",
      "Training until validation scores don't improve for 100 rounds\n",
      "Early stopping, best iteration is:\n",
      "[176]\tvalid_0's multi_logloss: 0.278055\tvalid_0's accuracy: 0.912677\n",
      "Training until validation scores don't improve for 100 rounds\n",
      "Early stopping, best iteration is:\n",
      "[182]\tvalid_0's multi_logloss: 0.289562\tvalid_0's accuracy: 0.904547\n",
      "Training until validation scores don't improve for 100 rounds\n",
      "Early stopping, best iteration is:\n",
      "[213]\tvalid_0's multi_logloss: 0.275576\tvalid_0's accuracy: 0.911774\n"
     ]
    },
    {
     "name": "stderr",
     "output_type": "stream",
     "text": [
      "[I 2024-02-13 16:13:23,800] Trial 93 finished with value: 0.9042389210019268 and parameters: {'n_estimators': 1086, 'learning_rate': 0.02290648299110298, 'num_leaves': 755, 'max_depth': 19, 'min_data_in_leaf': 16, 'colsample_bytree': 0.7702855231462556, 'subsample': 1.11750017305718, 'min_gain_to_split': 0.007012339487263486, 'bagging_fraction': 0.9, 'bagging_freq': 1, 'feature_fraction': 0.5}. Best is trial 75 with value: 0.9079961464354529.\n"
     ]
    },
    {
     "name": "stdout",
     "output_type": "stream",
     "text": [
      "Training until validation scores don't improve for 100 rounds\n",
      "Early stopping, best iteration is:\n",
      "[140]\tvalid_0's multi_logloss: 0.319516\tvalid_0's accuracy: 0.908188\n",
      "Training until validation scores don't improve for 100 rounds\n",
      "Early stopping, best iteration is:\n",
      "[186]\tvalid_0's multi_logloss: 0.269361\tvalid_0's accuracy: 0.915387\n",
      "Training until validation scores don't improve for 100 rounds\n",
      "Early stopping, best iteration is:\n",
      "[299]\tvalid_0's multi_logloss: 0.263315\tvalid_0's accuracy: 0.912376\n",
      "Training until validation scores don't improve for 100 rounds\n",
      "Early stopping, best iteration is:\n",
      "[211]\tvalid_0's multi_logloss: 0.286204\tvalid_0's accuracy: 0.907859\n",
      "Training until validation scores don't improve for 100 rounds\n",
      "Early stopping, best iteration is:\n",
      "[291]\tvalid_0's multi_logloss: 0.270525\tvalid_0's accuracy: 0.913279\n"
     ]
    },
    {
     "name": "stderr",
     "output_type": "stream",
     "text": [
      "[I 2024-02-13 16:13:57,496] Trial 94 finished with value: 0.9058766859344894 and parameters: {'n_estimators': 914, 'learning_rate': 0.02315886995622457, 'num_leaves': 822, 'max_depth': 19, 'min_data_in_leaf': 21, 'colsample_bytree': 0.8087260812408782, 'subsample': 1.0843577197522036, 'min_gain_to_split': 0.8724038826598435, 'bagging_fraction': 0.9, 'bagging_freq': 1, 'feature_fraction': 0.5}. Best is trial 75 with value: 0.9079961464354529.\n"
     ]
    },
    {
     "name": "stdout",
     "output_type": "stream",
     "text": [
      "Training until validation scores don't improve for 100 rounds\n",
      "Early stopping, best iteration is:\n",
      "[116]\tvalid_0's multi_logloss: 0.397445\tvalid_0's accuracy: 0.903974\n",
      "Training until validation scores don't improve for 100 rounds\n",
      "Early stopping, best iteration is:\n",
      "[645]\tvalid_0's multi_logloss: 0.254549\tvalid_0's accuracy: 0.915989\n",
      "Training until validation scores don't improve for 100 rounds\n",
      "Early stopping, best iteration is:\n",
      "[550]\tvalid_0's multi_logloss: 0.265514\tvalid_0's accuracy: 0.911472\n",
      "Training until validation scores don't improve for 100 rounds\n",
      "Early stopping, best iteration is:\n",
      "[291]\tvalid_0's multi_logloss: 0.284855\tvalid_0's accuracy: 0.909365\n",
      "Training until validation scores don't improve for 100 rounds\n",
      "Early stopping, best iteration is:\n",
      "[377]\tvalid_0's multi_logloss: 0.272853\tvalid_0's accuracy: 0.910569\n"
     ]
    },
    {
     "name": "stderr",
     "output_type": "stream",
     "text": [
      "[I 2024-02-13 16:14:49,437] Trial 95 finished with value: 0.9056358381502891 and parameters: {'n_estimators': 1156, 'learning_rate': 0.018583550500545488, 'num_leaves': 860, 'max_depth': 18, 'min_data_in_leaf': 30, 'colsample_bytree': 0.8665855148717825, 'subsample': 1.167827167811254, 'min_gain_to_split': 1.4364141510797452, 'bagging_fraction': 0.9, 'bagging_freq': 1, 'feature_fraction': 0.5}. Best is trial 75 with value: 0.9079961464354529.\n"
     ]
    },
    {
     "name": "stdout",
     "output_type": "stream",
     "text": [
      "Training until validation scores don't improve for 100 rounds\n",
      "Early stopping, best iteration is:\n",
      "[220]\tvalid_0's multi_logloss: 0.289217\tvalid_0's accuracy: 0.907887\n",
      "Training until validation scores don't improve for 100 rounds\n",
      "Early stopping, best iteration is:\n",
      "[121]\tvalid_0's multi_logloss: 0.29943\tvalid_0's accuracy: 0.914785\n",
      "Training until validation scores don't improve for 100 rounds\n",
      "Early stopping, best iteration is:\n",
      "[222]\tvalid_0's multi_logloss: 0.267814\tvalid_0's accuracy: 0.909967\n",
      "Training until validation scores don't improve for 100 rounds\n",
      "Early stopping, best iteration is:\n",
      "[146]\tvalid_0's multi_logloss: 0.301904\tvalid_0's accuracy: 0.90545\n",
      "Training until validation scores don't improve for 100 rounds\n",
      "Early stopping, best iteration is:\n",
      "[187]\tvalid_0's multi_logloss: 0.275494\tvalid_0's accuracy: 0.91087\n"
     ]
    },
    {
     "name": "stderr",
     "output_type": "stream",
     "text": [
      "[I 2024-02-13 16:15:35,348] Trial 96 finished with value: 0.9065028901734105 and parameters: {'n_estimators': 1346, 'learning_rate': 0.02407722304005574, 'num_leaves': 791, 'max_depth': 19, 'min_data_in_leaf': 25, 'colsample_bytree': 0.7860445011063371, 'subsample': 1.1108927387819443, 'min_gain_to_split': 0.31985143233131297, 'bagging_fraction': 0.8, 'bagging_freq': 1, 'feature_fraction': 0.5}. Best is trial 75 with value: 0.9079961464354529.\n"
     ]
    },
    {
     "name": "stdout",
     "output_type": "stream",
     "text": [
      "Training until validation scores don't improve for 100 rounds\n",
      "Early stopping, best iteration is:\n",
      "[166]\tvalid_0's multi_logloss: 0.3225\tvalid_0's accuracy: 0.908489\n",
      "Training until validation scores don't improve for 100 rounds\n",
      "Early stopping, best iteration is:\n",
      "[194]\tvalid_0's multi_logloss: 0.277837\tvalid_0's accuracy: 0.915086\n",
      "Training until validation scores don't improve for 100 rounds\n",
      "Early stopping, best iteration is:\n",
      "[416]\tvalid_0's multi_logloss: 0.259614\tvalid_0's accuracy: 0.912677\n",
      "Training until validation scores don't improve for 100 rounds\n",
      "Early stopping, best iteration is:\n",
      "[293]\tvalid_0's multi_logloss: 0.276989\tvalid_0's accuracy: 0.907257\n",
      "Training until validation scores don't improve for 100 rounds\n",
      "Early stopping, best iteration is:\n",
      "[283]\tvalid_0's multi_logloss: 0.273178\tvalid_0's accuracy: 0.909967\n"
     ]
    },
    {
     "name": "stderr",
     "output_type": "stream",
     "text": [
      "[I 2024-02-13 16:16:45,945] Trial 97 finished with value: 0.9068400770712909 and parameters: {'n_estimators': 1264, 'learning_rate': 0.017639466414188783, 'num_leaves': 791, 'max_depth': 19, 'min_data_in_leaf': 26, 'colsample_bytree': 0.9152332983848356, 'subsample': 1.1181522868579141, 'min_gain_to_split': 0.24447804626641978, 'bagging_fraction': 0.8, 'bagging_freq': 1, 'feature_fraction': 0.5}. Best is trial 75 with value: 0.9079961464354529.\n"
     ]
    },
    {
     "name": "stdout",
     "output_type": "stream",
     "text": [
      "Training until validation scores don't improve for 100 rounds\n",
      "Early stopping, best iteration is:\n",
      "[190]\tvalid_0's multi_logloss: 0.291913\tvalid_0's accuracy: 0.906683\n",
      "Training until validation scores don't improve for 100 rounds\n",
      "Early stopping, best iteration is:\n",
      "[184]\tvalid_0's multi_logloss: 0.252553\tvalid_0's accuracy: 0.917194\n",
      "Training until validation scores don't improve for 100 rounds\n",
      "Early stopping, best iteration is:\n",
      "[102]\tvalid_0's multi_logloss: 0.321715\tvalid_0's accuracy: 0.912376\n",
      "Training until validation scores don't improve for 100 rounds\n",
      "Early stopping, best iteration is:\n",
      "[201]\tvalid_0's multi_logloss: 0.27688\tvalid_0's accuracy: 0.906655\n",
      "Training until validation scores don't improve for 100 rounds\n",
      "Early stopping, best iteration is:\n",
      "[176]\tvalid_0's multi_logloss: 0.274159\tvalid_0's accuracy: 0.91087\n"
     ]
    },
    {
     "name": "stderr",
     "output_type": "stream",
     "text": [
      "[I 2024-02-13 16:17:31,929] Trial 98 finished with value: 0.9067919075144509 and parameters: {'n_estimators': 1285, 'learning_rate': 0.024608845280481836, 'num_leaves': 781, 'max_depth': 20, 'min_data_in_leaf': 19, 'colsample_bytree': 0.8902405354760243, 'subsample': 1.154246987214956, 'min_gain_to_split': 0.27652551524288305, 'bagging_fraction': 0.6000000000000001, 'bagging_freq': 1, 'feature_fraction': 0.6000000000000001}. Best is trial 75 with value: 0.9079961464354529.\n"
     ]
    },
    {
     "name": "stdout",
     "output_type": "stream",
     "text": [
      "Training until validation scores don't improve for 100 rounds\n",
      "Early stopping, best iteration is:\n",
      "[127]\tvalid_0's multi_logloss: 0.308384\tvalid_0's accuracy: 0.909392\n",
      "Training until validation scores don't improve for 100 rounds\n",
      "Early stopping, best iteration is:\n",
      "[115]\tvalid_0's multi_logloss: 0.291127\tvalid_0's accuracy: 0.915086\n",
      "Training until validation scores don't improve for 100 rounds\n",
      "Early stopping, best iteration is:\n",
      "[104]\tvalid_0's multi_logloss: 0.311061\tvalid_0's accuracy: 0.912075\n",
      "Training until validation scores don't improve for 100 rounds\n",
      "Early stopping, best iteration is:\n",
      "[131]\tvalid_0's multi_logloss: 0.293287\tvalid_0's accuracy: 0.908762\n",
      "Training until validation scores don't improve for 100 rounds\n",
      "Early stopping, best iteration is:\n",
      "[173]\tvalid_0's multi_logloss: 0.274312\tvalid_0's accuracy: 0.910569\n"
     ]
    },
    {
     "name": "stderr",
     "output_type": "stream",
     "text": [
      "[I 2024-02-13 16:18:14,634] Trial 99 finished with value: 0.9052504816955684 and parameters: {'n_estimators': 1334, 'learning_rate': 0.025007128677348632, 'num_leaves': 784, 'max_depth': 19, 'min_data_in_leaf': 24, 'colsample_bytree': 0.9149430332628581, 'subsample': 1.0523612408338043, 'min_gain_to_split': 0.26469019883754813, 'bagging_fraction': 0.6000000000000001, 'bagging_freq': 1, 'feature_fraction': 0.6000000000000001}. Best is trial 75 with value: 0.9079961464354529.\n"
     ]
    },
    {
     "name": "stdout",
     "output_type": "stream",
     "text": [
      "Training until validation scores don't improve for 100 rounds\n",
      "Early stopping, best iteration is:\n",
      "[274]\tvalid_0's multi_logloss: 0.287232\tvalid_0's accuracy: 0.909091\n",
      "Training until validation scores don't improve for 100 rounds\n",
      "Early stopping, best iteration is:\n",
      "[152]\tvalid_0's multi_logloss: 0.280134\tvalid_0's accuracy: 0.915387\n",
      "Training until validation scores don't improve for 100 rounds\n",
      "Early stopping, best iteration is:\n",
      "[242]\tvalid_0's multi_logloss: 0.262832\tvalid_0's accuracy: 0.912075\n",
      "Training until validation scores don't improve for 100 rounds\n",
      "Early stopping, best iteration is:\n",
      "[174]\tvalid_0's multi_logloss: 0.287337\tvalid_0's accuracy: 0.90816\n",
      "Training until validation scores don't improve for 100 rounds\n",
      "Early stopping, best iteration is:\n",
      "[187]\tvalid_0's multi_logloss: 0.281166\tvalid_0's accuracy: 0.910569\n"
     ]
    },
    {
     "name": "stderr",
     "output_type": "stream",
     "text": [
      "[I 2024-02-13 16:19:12,188] Trial 100 finished with value: 0.9062138728323699 and parameters: {'n_estimators': 1252, 'learning_rate': 0.020548461077414093, 'num_leaves': 760, 'max_depth': 18, 'min_data_in_leaf': 27, 'colsample_bytree': 0.9756678188419018, 'subsample': 1.0217615988703068, 'min_gain_to_split': 0.2406595439713618, 'bagging_fraction': 0.7, 'bagging_freq': 1, 'feature_fraction': 0.6000000000000001}. Best is trial 75 with value: 0.9079961464354529.\n"
     ]
    },
    {
     "name": "stdout",
     "output_type": "stream",
     "text": [
      "Training until validation scores don't improve for 100 rounds\n",
      "Early stopping, best iteration is:\n",
      "[419]\tvalid_0's multi_logloss: 0.283298\tvalid_0's accuracy: 0.909392\n",
      "Training until validation scores don't improve for 100 rounds\n",
      "Early stopping, best iteration is:\n",
      "[370]\tvalid_0's multi_logloss: 0.254435\tvalid_0's accuracy: 0.916893\n",
      "Training until validation scores don't improve for 100 rounds\n",
      "Early stopping, best iteration is:\n",
      "[242]\tvalid_0's multi_logloss: 0.277249\tvalid_0's accuracy: 0.912677\n",
      "Training until validation scores don't improve for 100 rounds\n",
      "Early stopping, best iteration is:\n",
      "[207]\tvalid_0's multi_logloss: 0.298178\tvalid_0's accuracy: 0.907257\n",
      "Training until validation scores don't improve for 100 rounds\n",
      "Early stopping, best iteration is:\n",
      "[301]\tvalid_0's multi_logloss: 0.275047\tvalid_0's accuracy: 0.912075\n"
     ]
    },
    {
     "name": "stderr",
     "output_type": "stream",
     "text": [
      "[I 2024-02-13 16:19:59,336] Trial 101 finished with value: 0.907418111753372 and parameters: {'n_estimators': 1358, 'learning_rate': 0.017936495648902324, 'num_leaves': 743, 'max_depth': 20, 'min_data_in_leaf': 19, 'colsample_bytree': 0.8946350273746356, 'subsample': 1.1432037487288986, 'min_gain_to_split': 0.8513221460697333, 'bagging_fraction': 0.8, 'bagging_freq': 1, 'feature_fraction': 0.5}. Best is trial 75 with value: 0.9079961464354529.\n"
     ]
    },
    {
     "name": "stdout",
     "output_type": "stream",
     "text": [
      "Training until validation scores don't improve for 100 rounds\n",
      "Early stopping, best iteration is:\n",
      "[223]\tvalid_0's multi_logloss: 0.304036\tvalid_0's accuracy: 0.90879\n",
      "Training until validation scores don't improve for 100 rounds\n",
      "Early stopping, best iteration is:\n",
      "[303]\tvalid_0's multi_logloss: 0.259441\tvalid_0's accuracy: 0.915688\n",
      "Training until validation scores don't improve for 100 rounds\n",
      "Early stopping, best iteration is:\n",
      "[207]\tvalid_0's multi_logloss: 0.291099\tvalid_0's accuracy: 0.911472\n",
      "Training until validation scores don't improve for 100 rounds\n",
      "Early stopping, best iteration is:\n",
      "[279]\tvalid_0's multi_logloss: 0.283535\tvalid_0's accuracy: 0.908762\n",
      "Training until validation scores don't improve for 100 rounds\n",
      "Early stopping, best iteration is:\n",
      "[166]\tvalid_0's multi_logloss: 0.320331\tvalid_0's accuracy: 0.908762\n"
     ]
    },
    {
     "name": "stderr",
     "output_type": "stream",
     "text": [
      "[I 2024-02-13 16:20:45,414] Trial 102 finished with value: 0.9050096339113679 and parameters: {'n_estimators': 1321, 'learning_rate': 0.017472368257162106, 'num_leaves': 737, 'max_depth': 20, 'min_data_in_leaf': 16, 'colsample_bytree': 0.8829981021203577, 'subsample': 1.1464404111489328, 'min_gain_to_split': 0.683650083637726, 'bagging_fraction': 0.8, 'bagging_freq': 1, 'feature_fraction': 0.5}. Best is trial 75 with value: 0.9079961464354529.\n"
     ]
    },
    {
     "name": "stdout",
     "output_type": "stream",
     "text": [
      "Training until validation scores don't improve for 100 rounds\n",
      "Early stopping, best iteration is:\n",
      "[224]\tvalid_0's multi_logloss: 0.289864\tvalid_0's accuracy: 0.908489\n",
      "Training until validation scores don't improve for 100 rounds\n",
      "Early stopping, best iteration is:\n",
      "[271]\tvalid_0's multi_logloss: 0.249365\tvalid_0's accuracy: 0.916591\n",
      "Training until validation scores don't improve for 100 rounds\n",
      "Early stopping, best iteration is:\n",
      "[196]\tvalid_0's multi_logloss: 0.270272\tvalid_0's accuracy: 0.913279\n",
      "Training until validation scores don't improve for 100 rounds\n",
      "Early stopping, best iteration is:\n",
      "[167]\tvalid_0's multi_logloss: 0.290475\tvalid_0's accuracy: 0.907859\n",
      "Training until validation scores don't improve for 100 rounds\n",
      "Early stopping, best iteration is:\n",
      "[224]\tvalid_0's multi_logloss: 0.271272\tvalid_0's accuracy: 0.910569\n"
     ]
    },
    {
     "name": "stderr",
     "output_type": "stream",
     "text": [
      "[I 2024-02-13 16:21:31,863] Trial 103 finished with value: 0.9075144508670518 and parameters: {'n_estimators': 1472, 'learning_rate': 0.023941260865241183, 'num_leaves': 840, 'max_depth': 19, 'min_data_in_leaf': 20, 'colsample_bytree': 0.9253147666381331, 'subsample': 1.1161191723110306, 'min_gain_to_split': 0.3520576372411242, 'bagging_fraction': 0.8, 'bagging_freq': 1, 'feature_fraction': 0.5}. Best is trial 75 with value: 0.9079961464354529.\n"
     ]
    },
    {
     "name": "stdout",
     "output_type": "stream",
     "text": [
      "Training until validation scores don't improve for 100 rounds\n",
      "Early stopping, best iteration is:\n",
      "[139]\tvalid_0's multi_logloss: 0.295717\tvalid_0's accuracy: 0.907285\n",
      "Training until validation scores don't improve for 100 rounds\n",
      "Early stopping, best iteration is:\n",
      "[239]\tvalid_0's multi_logloss: 0.246675\tvalid_0's accuracy: 0.914182\n",
      "Training until validation scores don't improve for 100 rounds\n",
      "Early stopping, best iteration is:\n",
      "[110]\tvalid_0's multi_logloss: 0.292258\tvalid_0's accuracy: 0.91087\n",
      "Training until validation scores don't improve for 100 rounds\n",
      "Early stopping, best iteration is:\n",
      "[172]\tvalid_0's multi_logloss: 0.278389\tvalid_0's accuracy: 0.908461\n",
      "Training until validation scores don't improve for 100 rounds\n",
      "Early stopping, best iteration is:\n",
      "[167]\tvalid_0's multi_logloss: 0.273089\tvalid_0's accuracy: 0.909064\n"
     ]
    },
    {
     "name": "stderr",
     "output_type": "stream",
     "text": [
      "[I 2024-02-13 16:22:10,919] Trial 104 finished with value: 0.9060693641618498 and parameters: {'n_estimators': 1459, 'learning_rate': 0.02830691529886886, 'num_leaves': 837, 'max_depth': 20, 'min_data_in_leaf': 19, 'colsample_bytree': 0.9660233346828895, 'subsample': 1.1896276638193137, 'min_gain_to_split': 0.266863673022578, 'bagging_fraction': 0.7, 'bagging_freq': 1, 'feature_fraction': 0.6000000000000001}. Best is trial 75 with value: 0.9079961464354529.\n"
     ]
    },
    {
     "name": "stdout",
     "output_type": "stream",
     "text": [
      "Training until validation scores don't improve for 100 rounds\n",
      "Early stopping, best iteration is:\n",
      "[338]\tvalid_0's multi_logloss: 0.289884\tvalid_0's accuracy: 0.909091\n",
      "Training until validation scores don't improve for 100 rounds\n",
      "Early stopping, best iteration is:\n",
      "[306]\tvalid_0's multi_logloss: 0.265479\tvalid_0's accuracy: 0.915688\n",
      "Training until validation scores don't improve for 100 rounds\n",
      "Early stopping, best iteration is:\n",
      "[210]\tvalid_0's multi_logloss: 0.29054\tvalid_0's accuracy: 0.909064\n",
      "Training until validation scores don't improve for 100 rounds\n",
      "Early stopping, best iteration is:\n",
      "[225]\tvalid_0's multi_logloss: 0.295666\tvalid_0's accuracy: 0.908461\n",
      "Training until validation scores don't improve for 100 rounds\n",
      "Early stopping, best iteration is:\n",
      "[394]\tvalid_0's multi_logloss: 0.272855\tvalid_0's accuracy: 0.911171\n"
     ]
    },
    {
     "name": "stderr",
     "output_type": "stream",
     "text": [
      "[I 2024-02-13 16:22:45,237] Trial 105 finished with value: 0.9061175337186897 and parameters: {'n_estimators': 1523, 'learning_rate': 0.019111025646069354, 'num_leaves': 649, 'max_depth': 19, 'min_data_in_leaf': 20, 'colsample_bytree': 0.9241228664922952, 'subsample': 1.1357717978118604, 'min_gain_to_split': 1.5158785146631453, 'bagging_fraction': 0.8, 'bagging_freq': 1, 'feature_fraction': 0.5}. Best is trial 75 with value: 0.9079961464354529.\n"
     ]
    },
    {
     "name": "stdout",
     "output_type": "stream",
     "text": [
      "Training until validation scores don't improve for 100 rounds\n",
      "Early stopping, best iteration is:\n",
      "[239]\tvalid_0's multi_logloss: 0.288051\tvalid_0's accuracy: 0.909091\n",
      "Training until validation scores don't improve for 100 rounds\n",
      "Early stopping, best iteration is:\n",
      "[268]\tvalid_0's multi_logloss: 0.252655\tvalid_0's accuracy: 0.91629\n",
      "Training until validation scores don't improve for 100 rounds\n",
      "Early stopping, best iteration is:\n",
      "[269]\tvalid_0's multi_logloss: 0.26631\tvalid_0's accuracy: 0.912677\n",
      "Training until validation scores don't improve for 100 rounds\n",
      "Early stopping, best iteration is:\n",
      "[333]\tvalid_0's multi_logloss: 0.272369\tvalid_0's accuracy: 0.909666\n",
      "Training until validation scores don't improve for 100 rounds\n",
      "Early stopping, best iteration is:\n",
      "[365]\tvalid_0's multi_logloss: 0.265915\tvalid_0's accuracy: 0.912075\n"
     ]
    },
    {
     "name": "stderr",
     "output_type": "stream",
     "text": [
      "[I 2024-02-13 16:23:23,254] Trial 106 finished with value: 0.9067919075144509 and parameters: {'n_estimators': 1190, 'learning_rate': 0.02203986080928849, 'num_leaves': 884, 'max_depth': 18, 'min_data_in_leaf': 22, 'colsample_bytree': 0.8996395354834056, 'subsample': 1.0670796618856297, 'min_gain_to_split': 0.7221488606128623, 'bagging_fraction': 0.8, 'bagging_freq': 1, 'feature_fraction': 0.5}. Best is trial 75 with value: 0.9079961464354529.\n"
     ]
    },
    {
     "name": "stdout",
     "output_type": "stream",
     "text": [
      "Training until validation scores don't improve for 100 rounds\n",
      "Early stopping, best iteration is:\n",
      "[428]\tvalid_0's multi_logloss: 0.288567\tvalid_0's accuracy: 0.90879\n",
      "Training until validation scores don't improve for 100 rounds\n",
      "Early stopping, best iteration is:\n",
      "[668]\tvalid_0's multi_logloss: 0.259971\tvalid_0's accuracy: 0.915387\n",
      "Training until validation scores don't improve for 100 rounds\n",
      "Early stopping, best iteration is:\n",
      "[510]\tvalid_0's multi_logloss: 0.270393\tvalid_0's accuracy: 0.908461\n",
      "Training until validation scores don't improve for 100 rounds\n",
      "Early stopping, best iteration is:\n",
      "[600]\tvalid_0's multi_logloss: 0.276311\tvalid_0's accuracy: 0.909064\n",
      "Training until validation scores don't improve for 100 rounds\n",
      "Early stopping, best iteration is:\n",
      "[397]\tvalid_0's multi_logloss: 0.277845\tvalid_0's accuracy: 0.910268\n"
     ]
    },
    {
     "name": "stderr",
     "output_type": "stream",
     "text": [
      "[I 2024-02-13 16:23:58,963] Trial 107 finished with value: 0.9053468208092486 and parameters: {'n_estimators': 1180, 'learning_rate': 0.017575249925944225, 'num_leaves': 940, 'max_depth': 6, 'min_data_in_leaf': 22, 'colsample_bytree': 0.9019441007908553, 'subsample': 1.076450558366345, 'min_gain_to_split': 1.841360302416042, 'bagging_fraction': 0.8, 'bagging_freq': 1, 'feature_fraction': 0.6000000000000001}. Best is trial 75 with value: 0.9079961464354529.\n"
     ]
    },
    {
     "name": "stdout",
     "output_type": "stream",
     "text": [
      "Training until validation scores don't improve for 100 rounds\n",
      "Early stopping, best iteration is:\n",
      "[323]\tvalid_0's multi_logloss: 0.284857\tvalid_0's accuracy: 0.909091\n",
      "Training until validation scores don't improve for 100 rounds\n",
      "Early stopping, best iteration is:\n",
      "[374]\tvalid_0's multi_logloss: 0.246467\tvalid_0's accuracy: 0.918398\n",
      "Training until validation scores don't improve for 100 rounds\n",
      "Early stopping, best iteration is:\n",
      "[316]\tvalid_0's multi_logloss: 0.260235\tvalid_0's accuracy: 0.912075\n",
      "Training until validation scores don't improve for 100 rounds\n",
      "Early stopping, best iteration is:\n",
      "[264]\tvalid_0's multi_logloss: 0.270497\tvalid_0's accuracy: 0.908461\n",
      "Training until validation scores don't improve for 100 rounds\n",
      "Early stopping, best iteration is:\n",
      "[248]\tvalid_0's multi_logloss: 0.267425\tvalid_0's accuracy: 0.912677\n"
     ]
    },
    {
     "name": "stderr",
     "output_type": "stream",
     "text": [
      "[I 2024-02-13 16:24:34,238] Trial 108 finished with value: 0.9076107899807322 and parameters: {'n_estimators': 1404, 'learning_rate': 0.028818044444094207, 'num_leaves': 979, 'max_depth': 18, 'min_data_in_leaf': 28, 'colsample_bytree': 0.9479195323268645, 'subsample': 1.0502150019819896, 'min_gain_to_split': 0.7458372228291015, 'bagging_fraction': 0.6000000000000001, 'bagging_freq': 1, 'feature_fraction': 0.5}. Best is trial 75 with value: 0.9079961464354529.\n"
     ]
    },
    {
     "name": "stdout",
     "output_type": "stream",
     "text": [
      "Training until validation scores don't improve for 100 rounds\n",
      "Early stopping, best iteration is:\n",
      "[144]\tvalid_0's multi_logloss: 0.299861\tvalid_0's accuracy: 0.908188\n",
      "Training until validation scores don't improve for 100 rounds\n",
      "Early stopping, best iteration is:\n",
      "[144]\tvalid_0's multi_logloss: 0.268993\tvalid_0's accuracy: 0.918097\n",
      "Training until validation scores don't improve for 100 rounds\n",
      "Early stopping, best iteration is:\n",
      "[135]\tvalid_0's multi_logloss: 0.282619\tvalid_0's accuracy: 0.911774\n",
      "Training until validation scores don't improve for 100 rounds\n",
      "Early stopping, best iteration is:\n",
      "[186]\tvalid_0's multi_logloss: 0.276567\tvalid_0's accuracy: 0.907558\n",
      "Training until validation scores don't improve for 100 rounds\n",
      "Early stopping, best iteration is:\n",
      "[162]\tvalid_0's multi_logloss: 0.276265\tvalid_0's accuracy: 0.911774\n"
     ]
    },
    {
     "name": "stderr",
     "output_type": "stream",
     "text": [
      "[I 2024-02-13 16:25:22,172] Trial 109 finished with value: 0.9064065510597302 and parameters: {'n_estimators': 1378, 'learning_rate': 0.028708493604681928, 'num_leaves': 950, 'max_depth': 20, 'min_data_in_leaf': 30, 'colsample_bytree': 0.9528006645721779, 'subsample': 1.0054812925391947, 'min_gain_to_split': 0.01709884462127742, 'bagging_fraction': 0.6000000000000001, 'bagging_freq': 1, 'feature_fraction': 0.5}. Best is trial 75 with value: 0.9079961464354529.\n"
     ]
    },
    {
     "name": "stdout",
     "output_type": "stream",
     "text": [
      "Training until validation scores don't improve for 100 rounds\n",
      "Early stopping, best iteration is:\n",
      "[298]\tvalid_0's multi_logloss: 0.286617\tvalid_0's accuracy: 0.908489\n",
      "Training until validation scores don't improve for 100 rounds\n",
      "Early stopping, best iteration is:\n",
      "[463]\tvalid_0's multi_logloss: 0.250002\tvalid_0's accuracy: 0.916893\n",
      "Training until validation scores don't improve for 100 rounds\n",
      "Early stopping, best iteration is:\n",
      "[307]\tvalid_0's multi_logloss: 0.265744\tvalid_0's accuracy: 0.911774\n",
      "Training until validation scores don't improve for 100 rounds\n",
      "Early stopping, best iteration is:\n",
      "[262]\tvalid_0's multi_logloss: 0.276316\tvalid_0's accuracy: 0.91087\n",
      "Training until validation scores don't improve for 100 rounds\n",
      "Early stopping, best iteration is:\n",
      "[199]\tvalid_0's multi_logloss: 0.280985\tvalid_0's accuracy: 0.911774\n"
     ]
    },
    {
     "name": "stderr",
     "output_type": "stream",
     "text": [
      "[I 2024-02-13 16:25:52,302] Trial 110 finished with value: 0.9060211946050096 and parameters: {'n_estimators': 1263, 'learning_rate': 0.025999105197620873, 'num_leaves': 970, 'max_depth': 18, 'min_data_in_leaf': 28, 'colsample_bytree': 0.9358146695960609, 'subsample': 1.164382501336413, 'min_gain_to_split': 1.1357685440039909, 'bagging_fraction': 0.6000000000000001, 'bagging_freq': 1, 'feature_fraction': 0.5}. Best is trial 75 with value: 0.9079961464354529.\n"
     ]
    },
    {
     "name": "stdout",
     "output_type": "stream",
     "text": [
      "Training until validation scores don't improve for 100 rounds\n",
      "Early stopping, best iteration is:\n",
      "[145]\tvalid_0's multi_logloss: 0.357795\tvalid_0's accuracy: 0.909091\n",
      "Training until validation scores don't improve for 100 rounds\n",
      "Early stopping, best iteration is:\n",
      "[248]\tvalid_0's multi_logloss: 0.267341\tvalid_0's accuracy: 0.916893\n",
      "Training until validation scores don't improve for 100 rounds\n",
      "Early stopping, best iteration is:\n",
      "[271]\tvalid_0's multi_logloss: 0.274523\tvalid_0's accuracy: 0.911774\n",
      "Training until validation scores don't improve for 100 rounds\n",
      "Early stopping, best iteration is:\n",
      "[298]\tvalid_0's multi_logloss: 0.281237\tvalid_0's accuracy: 0.907859\n",
      "Training until validation scores don't improve for 100 rounds\n",
      "Early stopping, best iteration is:\n",
      "[336]\tvalid_0's multi_logloss: 0.271109\tvalid_0's accuracy: 0.912075\n"
     ]
    },
    {
     "name": "stderr",
     "output_type": "stream",
     "text": [
      "[I 2024-02-13 16:26:30,085] Trial 111 finished with value: 0.9072254335260116 and parameters: {'n_estimators': 1215, 'learning_rate': 0.016679913117723353, 'num_leaves': 889, 'max_depth': 18, 'min_data_in_leaf': 23, 'colsample_bytree': 0.9173806992191702, 'subsample': 1.0582018210245103, 'min_gain_to_split': 0.7171478513984504, 'bagging_fraction': 0.7, 'bagging_freq': 1, 'feature_fraction': 0.5}. Best is trial 75 with value: 0.9079961464354529.\n"
     ]
    },
    {
     "name": "stdout",
     "output_type": "stream",
     "text": [
      "Training until validation scores don't improve for 100 rounds\n",
      "Early stopping, best iteration is:\n",
      "[90]\tvalid_0's multi_logloss: 0.306924\tvalid_0's accuracy: 0.909693\n",
      "Training until validation scores don't improve for 100 rounds\n",
      "Early stopping, best iteration is:\n",
      "[129]\tvalid_0's multi_logloss: 0.260495\tvalid_0's accuracy: 0.914785\n",
      "Training until validation scores don't improve for 100 rounds\n",
      "Early stopping, best iteration is:\n",
      "[107]\tvalid_0's multi_logloss: 0.278623\tvalid_0's accuracy: 0.91087\n",
      "Training until validation scores don't improve for 100 rounds\n",
      "Early stopping, best iteration is:\n",
      "[182]\tvalid_0's multi_logloss: 0.273445\tvalid_0's accuracy: 0.90816\n",
      "Training until validation scores don't improve for 100 rounds\n",
      "Early stopping, best iteration is:\n",
      "[274]\tvalid_0's multi_logloss: 0.26713\tvalid_0's accuracy: 0.911774\n"
     ]
    },
    {
     "name": "stderr",
     "output_type": "stream",
     "text": [
      "[I 2024-02-13 16:26:51,997] Trial 112 finished with value: 0.9061657032755299 and parameters: {'n_estimators': 1220, 'learning_rate': 0.04070564639167106, 'num_leaves': 862, 'max_depth': 19, 'min_data_in_leaf': 14, 'colsample_bytree': 0.9623124747676605, 'subsample': 1.048989037403099, 'min_gain_to_split': 0.7990134275558312, 'bagging_fraction': 0.6000000000000001, 'bagging_freq': 1, 'feature_fraction': 0.5}. Best is trial 75 with value: 0.9079961464354529.\n"
     ]
    },
    {
     "name": "stdout",
     "output_type": "stream",
     "text": [
      "Training until validation scores don't improve for 100 rounds\n",
      "Early stopping, best iteration is:\n",
      "[321]\tvalid_0's multi_logloss: 0.292523\tvalid_0's accuracy: 0.909693\n",
      "Training until validation scores don't improve for 100 rounds\n",
      "Early stopping, best iteration is:\n",
      "[106]\tvalid_0's multi_logloss: 0.438308\tvalid_0's accuracy: 0.909064\n",
      "Training until validation scores don't improve for 100 rounds\n",
      "Early stopping, best iteration is:\n",
      "[332]\tvalid_0's multi_logloss: 0.278867\tvalid_0's accuracy: 0.908762\n",
      "Training until validation scores don't improve for 100 rounds\n",
      "Early stopping, best iteration is:\n",
      "[422]\tvalid_0's multi_logloss: 0.27579\tvalid_0's accuracy: 0.909967\n",
      "Training until validation scores don't improve for 100 rounds\n",
      "Early stopping, best iteration is:\n",
      "[258]\tvalid_0's multi_logloss: 0.291526\tvalid_0's accuracy: 0.911472\n"
     ]
    },
    {
     "name": "stderr",
     "output_type": "stream",
     "text": [
      "[I 2024-02-13 16:27:24,455] Trial 113 finished with value: 0.9035163776493256 and parameters: {'n_estimators': 1401, 'learning_rate': 0.016383875022150555, 'num_leaves': 1015, 'max_depth': 18, 'min_data_in_leaf': 24, 'colsample_bytree': 0.9216026359345171, 'subsample': 1.1276744885663705, 'min_gain_to_split': 1.2930507738382682, 'bagging_fraction': 0.5, 'bagging_freq': 1, 'feature_fraction': 0.5}. Best is trial 75 with value: 0.9079961464354529.\n"
     ]
    },
    {
     "name": "stdout",
     "output_type": "stream",
     "text": [
      "Training until validation scores don't improve for 100 rounds\n",
      "Early stopping, best iteration is:\n",
      "[302]\tvalid_0's multi_logloss: 0.294269\tvalid_0's accuracy: 0.908188\n",
      "Training until validation scores don't improve for 100 rounds\n",
      "Early stopping, best iteration is:\n",
      "[485]\tvalid_0's multi_logloss: 0.255882\tvalid_0's accuracy: 0.916893\n",
      "Training until validation scores don't improve for 100 rounds\n",
      "Early stopping, best iteration is:\n",
      "[140]\tvalid_0's multi_logloss: 0.338817\tvalid_0's accuracy: 0.907558\n",
      "Training until validation scores don't improve for 100 rounds\n",
      "Early stopping, best iteration is:\n",
      "[236]\tvalid_0's multi_logloss: 0.292676\tvalid_0's accuracy: 0.908461\n",
      "Training until validation scores don't improve for 100 rounds\n",
      "Early stopping, best iteration is:\n",
      "[357]\tvalid_0's multi_logloss: 0.274739\tvalid_0's accuracy: 0.909967\n"
     ]
    },
    {
     "name": "stderr",
     "output_type": "stream",
     "text": [
      "[I 2024-02-13 16:27:54,826] Trial 114 finished with value: 0.9061657032755299 and parameters: {'n_estimators': 1499, 'learning_rate': 0.019165415428994182, 'num_leaves': 807, 'max_depth': 19, 'min_data_in_leaf': 20, 'colsample_bytree': 0.8588231083247928, 'subsample': 1.0982089048906958, 'min_gain_to_split': 1.5230390318983802, 'bagging_fraction': 0.7, 'bagging_freq': 1, 'feature_fraction': 0.5}. Best is trial 75 with value: 0.9079961464354529.\n"
     ]
    },
    {
     "name": "stdout",
     "output_type": "stream",
     "text": [
      "Training until validation scores don't improve for 100 rounds\n",
      "Early stopping, best iteration is:\n",
      "[183]\tvalid_0's multi_logloss: 0.385042\tvalid_0's accuracy: 0.905479\n",
      "Training until validation scores don't improve for 100 rounds\n",
      "Early stopping, best iteration is:\n",
      "[306]\tvalid_0's multi_logloss: 0.283441\tvalid_0's accuracy: 0.913279\n",
      "Training until validation scores don't improve for 100 rounds\n",
      "Early stopping, best iteration is:\n",
      "[441]\tvalid_0's multi_logloss: 0.270938\tvalid_0's accuracy: 0.913881\n",
      "Training until validation scores don't improve for 100 rounds\n",
      "Early stopping, best iteration is:\n",
      "[210]\tvalid_0's multi_logloss: 0.353215\tvalid_0's accuracy: 0.906052\n",
      "Training until validation scores don't improve for 100 rounds\n",
      "Early stopping, best iteration is:\n",
      "[348]\tvalid_0's multi_logloss: 0.288064\tvalid_0's accuracy: 0.909666\n"
     ]
    },
    {
     "name": "stderr",
     "output_type": "stream",
     "text": [
      "[I 2024-02-13 16:28:38,532] Trial 115 finished with value: 0.9028901734104047 and parameters: {'n_estimators': 1127, 'learning_rate': 0.010595962915680615, 'num_leaves': 889, 'max_depth': 20, 'min_data_in_leaf': 11, 'colsample_bytree': 0.944779185180474, 'subsample': 1.0038554414596217, 'min_gain_to_split': 0.9822745062134537, 'bagging_fraction': 0.7, 'bagging_freq': 1, 'feature_fraction': 0.6000000000000001}. Best is trial 75 with value: 0.9079961464354529.\n"
     ]
    },
    {
     "name": "stdout",
     "output_type": "stream",
     "text": [
      "Training until validation scores don't improve for 100 rounds\n",
      "Early stopping, best iteration is:\n",
      "[137]\tvalid_0's multi_logloss: 0.310306\tvalid_0's accuracy: 0.909994\n",
      "Training until validation scores don't improve for 100 rounds\n",
      "Early stopping, best iteration is:\n",
      "[305]\tvalid_0's multi_logloss: 0.247305\tvalid_0's accuracy: 0.915989\n",
      "Training until validation scores don't improve for 100 rounds\n",
      "Early stopping, best iteration is:\n",
      "[232]\tvalid_0's multi_logloss: 0.263504\tvalid_0's accuracy: 0.911774\n",
      "Training until validation scores don't improve for 100 rounds\n",
      "Early stopping, best iteration is:\n",
      "[204]\tvalid_0's multi_logloss: 0.28002\tvalid_0's accuracy: 0.907859\n",
      "Training until validation scores don't improve for 100 rounds\n",
      "Early stopping, best iteration is:\n",
      "[240]\tvalid_0's multi_logloss: 0.268229\tvalid_0's accuracy: 0.91087\n"
     ]
    },
    {
     "name": "stderr",
     "output_type": "stream",
     "text": [
      "[I 2024-02-13 16:29:18,037] Trial 116 finished with value: 0.9061657032755299 and parameters: {'n_estimators': 1277, 'learning_rate': 0.02465237182315697, 'num_leaves': 763, 'max_depth': 18, 'min_data_in_leaf': 26, 'colsample_bytree': 0.8806163496698272, 'subsample': 1.037895629324395, 'min_gain_to_split': 0.3143073872974037, 'bagging_fraction': 0.6000000000000001, 'bagging_freq': 1, 'feature_fraction': 0.5}. Best is trial 75 with value: 0.9079961464354529.\n"
     ]
    },
    {
     "name": "stdout",
     "output_type": "stream",
     "text": [
      "Training until validation scores don't improve for 100 rounds\n",
      "Early stopping, best iteration is:\n",
      "[344]\tvalid_0's multi_logloss: 0.297646\tvalid_0's accuracy: 0.908188\n",
      "Training until validation scores don't improve for 100 rounds\n",
      "Early stopping, best iteration is:\n",
      "[533]\tvalid_0's multi_logloss: 0.252625\tvalid_0's accuracy: 0.915989\n",
      "Training until validation scores don't improve for 100 rounds\n",
      "Early stopping, best iteration is:\n",
      "[287]\tvalid_0's multi_logloss: 0.289332\tvalid_0's accuracy: 0.911774\n",
      "Training until validation scores don't improve for 100 rounds\n",
      "Early stopping, best iteration is:\n",
      "[258]\tvalid_0's multi_logloss: 0.309462\tvalid_0's accuracy: 0.904848\n",
      "Training until validation scores don't improve for 100 rounds\n",
      "Early stopping, best iteration is:\n",
      "[393]\tvalid_0's multi_logloss: 0.275231\tvalid_0's accuracy: 0.912075\n"
     ]
    },
    {
     "name": "stderr",
     "output_type": "stream",
     "text": [
      "[I 2024-02-13 16:30:19,123] Trial 117 finished with value: 0.9062138728323699 and parameters: {'n_estimators': 1297, 'learning_rate': 0.013020278123045044, 'num_leaves': 839, 'max_depth': 19, 'min_data_in_leaf': 6, 'colsample_bytree': 0.978401113410043, 'subsample': 1.187926166453599, 'min_gain_to_split': 0.5536283587278528, 'bagging_fraction': 0.8, 'bagging_freq': 1, 'feature_fraction': 0.5}. Best is trial 75 with value: 0.9079961464354529.\n"
     ]
    },
    {
     "name": "stdout",
     "output_type": "stream",
     "text": [
      "Training until validation scores don't improve for 100 rounds\n",
      "Early stopping, best iteration is:\n",
      "[354]\tvalid_0's multi_logloss: 0.28595\tvalid_0's accuracy: 0.90879\n",
      "Training until validation scores don't improve for 100 rounds\n",
      "Early stopping, best iteration is:\n",
      "[265]\tvalid_0's multi_logloss: 0.26305\tvalid_0's accuracy: 0.912075\n",
      "Training until validation scores don't improve for 100 rounds\n",
      "Early stopping, best iteration is:\n",
      "[284]\tvalid_0's multi_logloss: 0.271274\tvalid_0's accuracy: 0.910569\n",
      "Training until validation scores don't improve for 100 rounds\n",
      "Early stopping, best iteration is:\n",
      "[95]\tvalid_0's multi_logloss: 0.330791\tvalid_0's accuracy: 0.906052\n",
      "Training until validation scores don't improve for 100 rounds\n",
      "Early stopping, best iteration is:\n",
      "[260]\tvalid_0's multi_logloss: 0.273686\tvalid_0's accuracy: 0.911472\n"
     ]
    },
    {
     "name": "stderr",
     "output_type": "stream",
     "text": [
      "[I 2024-02-13 16:30:40,679] Trial 118 finished with value: 0.9044797687861272 and parameters: {'n_estimators': 932, 'learning_rate': 0.034176522258945165, 'num_leaves': 902, 'max_depth': 20, 'min_data_in_leaf': 38, 'colsample_bytree': 0.9253355161264891, 'subsample': 1.1579551451686017, 'min_gain_to_split': 1.9263021098566881, 'bagging_fraction': 0.7, 'bagging_freq': 1, 'feature_fraction': 0.5}. Best is trial 75 with value: 0.9079961464354529.\n"
     ]
    },
    {
     "name": "stdout",
     "output_type": "stream",
     "text": [
      "Training until validation scores don't improve for 100 rounds\n",
      "Early stopping, best iteration is:\n",
      "[362]\tvalid_0's multi_logloss: 0.297473\tvalid_0's accuracy: 0.908188\n",
      "Training until validation scores don't improve for 100 rounds\n",
      "Early stopping, best iteration is:\n",
      "[331]\tvalid_0's multi_logloss: 0.273747\tvalid_0's accuracy: 0.91358\n",
      "Training until validation scores don't improve for 100 rounds\n",
      "Early stopping, best iteration is:\n",
      "[350]\tvalid_0's multi_logloss: 0.280232\tvalid_0's accuracy: 0.911171\n",
      "Training until validation scores don't improve for 100 rounds\n",
      "Early stopping, best iteration is:\n",
      "[444]\tvalid_0's multi_logloss: 0.27905\tvalid_0's accuracy: 0.907859\n",
      "Training until validation scores don't improve for 100 rounds\n",
      "Early stopping, best iteration is:\n",
      "[370]\tvalid_0's multi_logloss: 0.281457\tvalid_0's accuracy: 0.91087\n"
     ]
    },
    {
     "name": "stderr",
     "output_type": "stream",
     "text": [
      "[I 2024-02-13 16:31:38,610] Trial 119 finished with value: 0.90626204238921 and parameters: {'n_estimators': 1062, 'learning_rate': 0.01189038694323759, 'num_leaves': 796, 'max_depth': 18, 'min_data_in_leaf': 15, 'colsample_bytree': 0.8893138964677946, 'subsample': 1.1071206559327929, 'min_gain_to_split': 0.6508914480514509, 'bagging_fraction': 0.8, 'bagging_freq': 1, 'feature_fraction': 0.5}. Best is trial 75 with value: 0.9079961464354529.\n"
     ]
    },
    {
     "name": "stdout",
     "output_type": "stream",
     "text": [
      "Training until validation scores don't improve for 100 rounds\n",
      "Early stopping, best iteration is:\n",
      "[106]\tvalid_0's multi_logloss: 0.305435\tvalid_0's accuracy: 0.908188\n",
      "Training until validation scores don't improve for 100 rounds\n",
      "Early stopping, best iteration is:\n",
      "[123]\tvalid_0's multi_logloss: 0.25996\tvalid_0's accuracy: 0.914484\n",
      "Training until validation scores don't improve for 100 rounds\n",
      "Early stopping, best iteration is:\n",
      "[130]\tvalid_0's multi_logloss: 0.270498\tvalid_0's accuracy: 0.91087\n",
      "Training until validation scores don't improve for 100 rounds\n",
      "Early stopping, best iteration is:\n",
      "[155]\tvalid_0's multi_logloss: 0.276786\tvalid_0's accuracy: 0.904848\n",
      "Training until validation scores don't improve for 100 rounds\n",
      "Early stopping, best iteration is:\n",
      "[163]\tvalid_0's multi_logloss: 0.274379\tvalid_0's accuracy: 0.907558\n"
     ]
    },
    {
     "name": "stderr",
     "output_type": "stream",
     "text": [
      "[I 2024-02-13 16:32:26,568] Trial 120 finished with value: 0.9063102119460501 and parameters: {'n_estimators': 1430, 'learning_rate': 0.030385336481212468, 'num_leaves': 730, 'max_depth': 17, 'min_data_in_leaf': 28, 'colsample_bytree': 0.8538546426113541, 'subsample': 1.2080372889818223, 'min_gain_to_split': 0.031621510602489855, 'bagging_fraction': 0.8, 'bagging_freq': 1, 'feature_fraction': 0.6000000000000001}. Best is trial 75 with value: 0.9079961464354529.\n"
     ]
    },
    {
     "name": "stdout",
     "output_type": "stream",
     "text": [
      "Training until validation scores don't improve for 100 rounds\n",
      "Early stopping, best iteration is:\n",
      "[112]\tvalid_0's multi_logloss: 0.35729\tvalid_0's accuracy: 0.907887\n",
      "Training until validation scores don't improve for 100 rounds\n",
      "Early stopping, best iteration is:\n",
      "[255]\tvalid_0's multi_logloss: 0.254997\tvalid_0's accuracy: 0.91629\n",
      "Training until validation scores don't improve for 100 rounds\n",
      "Early stopping, best iteration is:\n",
      "[240]\tvalid_0's multi_logloss: 0.269531\tvalid_0's accuracy: 0.913279\n",
      "Training until validation scores don't improve for 100 rounds\n",
      "Early stopping, best iteration is:\n",
      "[181]\tvalid_0's multi_logloss: 0.298035\tvalid_0's accuracy: 0.906354\n",
      "Training until validation scores don't improve for 100 rounds\n",
      "Early stopping, best iteration is:\n",
      "[403]\tvalid_0's multi_logloss: 0.264823\tvalid_0's accuracy: 0.912075\n"
     ]
    },
    {
     "name": "stderr",
     "output_type": "stream",
     "text": [
      "[I 2024-02-13 16:32:59,250] Trial 121 finished with value: 0.9061657032755299 and parameters: {'n_estimators': 1197, 'learning_rate': 0.02165794679761825, 'num_leaves': 876, 'max_depth': 18, 'min_data_in_leaf': 22, 'colsample_bytree': 0.8895358893012042, 'subsample': 1.0606882037677894, 'min_gain_to_split': 0.7767293067284575, 'bagging_fraction': 0.8, 'bagging_freq': 1, 'feature_fraction': 0.5}. Best is trial 75 with value: 0.9079961464354529.\n"
     ]
    },
    {
     "name": "stdout",
     "output_type": "stream",
     "text": [
      "Training until validation scores don't improve for 100 rounds\n",
      "Early stopping, best iteration is:\n",
      "[237]\tvalid_0's multi_logloss: 0.309447\tvalid_0's accuracy: 0.909091\n",
      "Training until validation scores don't improve for 100 rounds\n",
      "Early stopping, best iteration is:\n",
      "[647]\tvalid_0's multi_logloss: 0.250998\tvalid_0's accuracy: 0.917495\n",
      "Training until validation scores don't improve for 100 rounds\n",
      "Early stopping, best iteration is:\n",
      "[293]\tvalid_0's multi_logloss: 0.276679\tvalid_0's accuracy: 0.911472\n",
      "Training until validation scores don't improve for 100 rounds\n",
      "Early stopping, best iteration is:\n",
      "[315]\tvalid_0's multi_logloss: 0.282607\tvalid_0's accuracy: 0.908461\n",
      "Training until validation scores don't improve for 100 rounds\n",
      "Early stopping, best iteration is:\n",
      "[422]\tvalid_0's multi_logloss: 0.270728\tvalid_0's accuracy: 0.911774\n"
     ]
    },
    {
     "name": "stderr",
     "output_type": "stream",
     "text": [
      "[I 2024-02-13 16:33:43,369] Trial 122 finished with value: 0.9071772639691715 and parameters: {'n_estimators': 1373, 'learning_rate': 0.015992574426327746, 'num_leaves': 854, 'max_depth': 18, 'min_data_in_leaf': 18, 'colsample_bytree': 0.9481464258374483, 'subsample': 1.0846842418688483, 'min_gain_to_split': 1.0765436369769341, 'bagging_fraction': 0.8, 'bagging_freq': 1, 'feature_fraction': 0.5}. Best is trial 75 with value: 0.9079961464354529.\n"
     ]
    },
    {
     "name": "stdout",
     "output_type": "stream",
     "text": [
      "Training until validation scores don't improve for 100 rounds\n",
      "Early stopping, best iteration is:\n",
      "[384]\tvalid_0's multi_logloss: 0.287649\tvalid_0's accuracy: 0.909392\n",
      "Training until validation scores don't improve for 100 rounds\n",
      "Early stopping, best iteration is:\n",
      "[550]\tvalid_0's multi_logloss: 0.252426\tvalid_0's accuracy: 0.919301\n",
      "Training until validation scores don't improve for 100 rounds\n",
      "Early stopping, best iteration is:\n",
      "[282]\tvalid_0's multi_logloss: 0.279017\tvalid_0's accuracy: 0.910569\n",
      "Training until validation scores don't improve for 100 rounds\n",
      "Early stopping, best iteration is:\n",
      "[251]\tvalid_0's multi_logloss: 0.295147\tvalid_0's accuracy: 0.908461\n",
      "Training until validation scores don't improve for 100 rounds\n",
      "Early stopping, best iteration is:\n",
      "[384]\tvalid_0's multi_logloss: 0.272138\tvalid_0's accuracy: 0.912075\n"
     ]
    },
    {
     "name": "stderr",
     "output_type": "stream",
     "text": [
      "[I 2024-02-13 16:34:23,905] Trial 123 finished with value: 0.9071290944123314 and parameters: {'n_estimators': 1559, 'learning_rate': 0.016067906930262235, 'num_leaves': 854, 'max_depth': 19, 'min_data_in_leaf': 19, 'colsample_bytree': 0.9566547444336462, 'subsample': 0.9844636094466344, 'min_gain_to_split': 1.1193309496005863, 'bagging_fraction': 0.8, 'bagging_freq': 1, 'feature_fraction': 0.5}. Best is trial 75 with value: 0.9079961464354529.\n"
     ]
    },
    {
     "name": "stdout",
     "output_type": "stream",
     "text": [
      "Training until validation scores don't improve for 100 rounds\n",
      "Early stopping, best iteration is:\n",
      "[310]\tvalid_0's multi_logloss: 0.294699\tvalid_0's accuracy: 0.909392\n",
      "Training until validation scores don't improve for 100 rounds\n",
      "Early stopping, best iteration is:\n",
      "[515]\tvalid_0's multi_logloss: 0.253858\tvalid_0's accuracy: 0.917796\n",
      "Training until validation scores don't improve for 100 rounds\n",
      "Early stopping, best iteration is:\n",
      "[469]\tvalid_0's multi_logloss: 0.263587\tvalid_0's accuracy: 0.912075\n",
      "Training until validation scores don't improve for 100 rounds\n",
      "Early stopping, best iteration is:\n",
      "[503]\tvalid_0's multi_logloss: 0.271099\tvalid_0's accuracy: 0.909666\n",
      "Training until validation scores don't improve for 100 rounds\n",
      "Early stopping, best iteration is:\n",
      "[426]\tvalid_0's multi_logloss: 0.270663\tvalid_0's accuracy: 0.912075\n"
     ]
    },
    {
     "name": "stderr",
     "output_type": "stream",
     "text": [
      "[I 2024-02-13 16:35:07,982] Trial 124 finished with value: 0.907418111753372 and parameters: {'n_estimators': 1628, 'learning_rate': 0.016351513655657426, 'num_leaves': 854, 'max_depth': 19, 'min_data_in_leaf': 18, 'colsample_bytree': 0.9980608809535816, 'subsample': 0.9782465005321458, 'min_gain_to_split': 1.139358274549411, 'bagging_fraction': 0.8, 'bagging_freq': 1, 'feature_fraction': 0.5}. Best is trial 75 with value: 0.9079961464354529.\n"
     ]
    },
    {
     "name": "stdout",
     "output_type": "stream",
     "text": [
      "Training until validation scores don't improve for 100 rounds\n",
      "Early stopping, best iteration is:\n",
      "[698]\tvalid_0's multi_logloss: 0.283817\tvalid_0's accuracy: 0.909392\n",
      "Training until validation scores don't improve for 100 rounds\n",
      "Early stopping, best iteration is:\n",
      "[325]\tvalid_0's multi_logloss: 0.276504\tvalid_0's accuracy: 0.914484\n",
      "Training until validation scores don't improve for 100 rounds\n",
      "Early stopping, best iteration is:\n",
      "[432]\tvalid_0's multi_logloss: 0.273669\tvalid_0's accuracy: 0.907859\n",
      "Training until validation scores don't improve for 100 rounds\n",
      "Early stopping, best iteration is:\n",
      "[299]\tvalid_0's multi_logloss: 0.296078\tvalid_0's accuracy: 0.907257\n",
      "Training until validation scores don't improve for 100 rounds\n",
      "Early stopping, best iteration is:\n",
      "[511]\tvalid_0's multi_logloss: 0.274372\tvalid_0's accuracy: 0.910268\n"
     ]
    },
    {
     "name": "stderr",
     "output_type": "stream",
     "text": [
      "[I 2024-02-13 16:35:49,033] Trial 125 finished with value: 0.9063583815028903 and parameters: {'n_estimators': 1566, 'learning_rate': 0.014758771057152306, 'num_leaves': 982, 'max_depth': 17, 'min_data_in_leaf': 18, 'colsample_bytree': 0.9775249262352241, 'subsample': 0.976405880200575, 'min_gain_to_split': 1.674572044406077, 'bagging_fraction': 0.8, 'bagging_freq': 1, 'feature_fraction': 0.5}. Best is trial 75 with value: 0.9079961464354529.\n"
     ]
    },
    {
     "name": "stdout",
     "output_type": "stream",
     "text": [
      "Training until validation scores don't improve for 100 rounds\n",
      "Early stopping, best iteration is:\n",
      "[226]\tvalid_0's multi_logloss: 0.31917\tvalid_0's accuracy: 0.903974\n",
      "Training until validation scores don't improve for 100 rounds\n",
      "Early stopping, best iteration is:\n",
      "[649]\tvalid_0's multi_logloss: 0.262087\tvalid_0's accuracy: 0.91629\n",
      "Training until validation scores don't improve for 100 rounds\n",
      "Early stopping, best iteration is:\n",
      "[368]\tvalid_0's multi_logloss: 0.27996\tvalid_0's accuracy: 0.90816\n",
      "Training until validation scores don't improve for 100 rounds\n",
      "Early stopping, best iteration is:\n",
      "[474]\tvalid_0's multi_logloss: 0.281188\tvalid_0's accuracy: 0.91087\n",
      "Training until validation scores don't improve for 100 rounds\n",
      "Early stopping, best iteration is:\n",
      "[360]\tvalid_0's multi_logloss: 0.284202\tvalid_0's accuracy: 0.908762\n"
     ]
    },
    {
     "name": "stderr",
     "output_type": "stream",
     "text": [
      "[I 2024-02-13 16:36:23,394] Trial 126 finished with value: 0.9048169556840078 and parameters: {'n_estimators': 1674, 'learning_rate': 0.017160330753305985, 'num_leaves': 927, 'max_depth': 19, 'min_data_in_leaf': 13, 'colsample_bytree': 0.9978569985066746, 'subsample': 1.0195498180253706, 'min_gain_to_split': 2.1891846831221313, 'bagging_fraction': 0.8, 'bagging_freq': 1, 'feature_fraction': 0.5}. Best is trial 75 with value: 0.9079961464354529.\n"
     ]
    },
    {
     "name": "stdout",
     "output_type": "stream",
     "text": [
      "Training until validation scores don't improve for 100 rounds\n",
      "Early stopping, best iteration is:\n",
      "[354]\tvalid_0's multi_logloss: 0.326503\tvalid_0's accuracy: 0.90879\n",
      "Training until validation scores don't improve for 100 rounds\n",
      "Early stopping, best iteration is:\n",
      "[232]\tvalid_0's multi_logloss: 0.382006\tvalid_0's accuracy: 0.911472\n",
      "Training until validation scores don't improve for 100 rounds\n",
      "Early stopping, best iteration is:\n",
      "[224]\tvalid_0's multi_logloss: 0.40931\tvalid_0's accuracy: 0.90545\n",
      "Training until validation scores don't improve for 100 rounds\n",
      "Early stopping, best iteration is:\n",
      "[477]\tvalid_0's multi_logloss: 0.295352\tvalid_0's accuracy: 0.907257\n",
      "Training until validation scores don't improve for 100 rounds\n",
      "Early stopping, best iteration is:\n",
      "[234]\tvalid_0's multi_logloss: 0.390481\tvalid_0's accuracy: 0.905751\n"
     ]
    },
    {
     "name": "stderr",
     "output_type": "stream",
     "text": [
      "[I 2024-02-13 16:37:06,505] Trial 127 finished with value: 0.9026974951830443 and parameters: {'n_estimators': 1390, 'learning_rate': 0.008713121291609255, 'num_leaves': 856, 'max_depth': 18, 'min_data_in_leaf': 24, 'colsample_bytree': 0.9560269536217325, 'subsample': 0.973959558353426, 'min_gain_to_split': 1.1886055990124291, 'bagging_fraction': 0.8, 'bagging_freq': 1, 'feature_fraction': 0.5}. Best is trial 75 with value: 0.9079961464354529.\n"
     ]
    },
    {
     "name": "stdout",
     "output_type": "stream",
     "text": [
      "Training until validation scores don't improve for 100 rounds\n",
      "Early stopping, best iteration is:\n",
      "[328]\tvalid_0's multi_logloss: 0.336881\tvalid_0's accuracy: 0.903974\n",
      "Training until validation scores don't improve for 100 rounds\n",
      "Early stopping, best iteration is:\n",
      "[141]\tvalid_0's multi_logloss: 0.519853\tvalid_0's accuracy: 0.905149\n",
      "Training until validation scores don't improve for 100 rounds\n",
      "Early stopping, best iteration is:\n",
      "[732]\tvalid_0's multi_logloss: 0.269518\tvalid_0's accuracy: 0.91087\n",
      "Training until validation scores don't improve for 100 rounds\n",
      "Early stopping, best iteration is:\n",
      "[707]\tvalid_0's multi_logloss: 0.28014\tvalid_0's accuracy: 0.908461\n",
      "Training until validation scores don't improve for 100 rounds\n",
      "Early stopping, best iteration is:\n",
      "[726]\tvalid_0's multi_logloss: 0.275138\tvalid_0's accuracy: 0.911171\n"
     ]
    },
    {
     "name": "stderr",
     "output_type": "stream",
     "text": [
      "[I 2024-02-13 16:37:57,271] Trial 128 finished with value: 0.9041907514450866 and parameters: {'n_estimators': 1459, 'learning_rate': 0.010936192043646847, 'num_leaves': 831, 'max_depth': 16, 'min_data_in_leaf': 20, 'colsample_bytree': 0.9392227385322028, 'subsample': 1.0055980934416027, 'min_gain_to_split': 1.437305223379695, 'bagging_fraction': 0.8, 'bagging_freq': 1, 'feature_fraction': 0.4}. Best is trial 75 with value: 0.9079961464354529.\n"
     ]
    },
    {
     "name": "stdout",
     "output_type": "stream",
     "text": [
      "Training until validation scores don't improve for 100 rounds\n",
      "Early stopping, best iteration is:\n",
      "[351]\tvalid_0's multi_logloss: 0.295366\tvalid_0's accuracy: 0.909392\n",
      "Training until validation scores don't improve for 100 rounds\n",
      "Early stopping, best iteration is:\n",
      "[569]\tvalid_0's multi_logloss: 0.25261\tvalid_0's accuracy: 0.918699\n",
      "Training until validation scores don't improve for 100 rounds\n",
      "Early stopping, best iteration is:\n",
      "[444]\tvalid_0's multi_logloss: 0.268639\tvalid_0's accuracy: 0.910569\n",
      "Training until validation scores don't improve for 100 rounds\n",
      "Early stopping, best iteration is:\n",
      "[236]\tvalid_0's multi_logloss: 0.316886\tvalid_0's accuracy: 0.90545\n",
      "Training until validation scores don't improve for 100 rounds\n",
      "Early stopping, best iteration is:\n",
      "[261]\tvalid_0's multi_logloss: 0.299851\tvalid_0's accuracy: 0.912376\n"
     ]
    },
    {
     "name": "stderr",
     "output_type": "stream",
     "text": [
      "[I 2024-02-13 16:38:40,220] Trial 129 finished with value: 0.9064547206165703 and parameters: {'n_estimators': 1638, 'learning_rate': 0.014009597900971938, 'num_leaves': 951, 'max_depth': 19, 'min_data_in_leaf': 31, 'colsample_bytree': 0.9849863994610238, 'subsample': 0.9390408620444731, 'min_gain_to_split': 1.0820763759408547, 'bagging_fraction': 0.8, 'bagging_freq': 1, 'feature_fraction': 0.5}. Best is trial 75 with value: 0.9079961464354529.\n"
     ]
    },
    {
     "name": "stdout",
     "output_type": "stream",
     "text": [
      "Training until validation scores don't improve for 100 rounds\n",
      "Early stopping, best iteration is:\n",
      "[405]\tvalid_0's multi_logloss: 0.29127\tvalid_0's accuracy: 0.907285\n",
      "Training until validation scores don't improve for 100 rounds\n",
      "Early stopping, best iteration is:\n",
      "[461]\tvalid_0's multi_logloss: 0.263378\tvalid_0's accuracy: 0.91358\n",
      "Training until validation scores don't improve for 100 rounds\n",
      "Early stopping, best iteration is:\n",
      "[577]\tvalid_0's multi_logloss: 0.269843\tvalid_0's accuracy: 0.911171\n",
      "Training until validation scores don't improve for 100 rounds\n",
      "Early stopping, best iteration is:\n",
      "[362]\tvalid_0's multi_logloss: 0.289898\tvalid_0's accuracy: 0.906956\n",
      "Training until validation scores don't improve for 100 rounds\n",
      "Early stopping, best iteration is:\n",
      "[296]\tvalid_0's multi_logloss: 0.291328\tvalid_0's accuracy: 0.909064\n"
     ]
    },
    {
     "name": "stderr",
     "output_type": "stream",
     "text": [
      "[I 2024-02-13 16:39:16,159] Trial 130 finished with value: 0.9050096339113679 and parameters: {'n_estimators': 1498, 'learning_rate': 0.015575405378105636, 'num_leaves': 691, 'max_depth': 17, 'min_data_in_leaf': 26, 'colsample_bytree': 0.9125145135947034, 'subsample': 1.07745251510907, 'min_gain_to_split': 1.9074458718684086, 'bagging_fraction': 0.7, 'bagging_freq': 1, 'feature_fraction': 0.5}. Best is trial 75 with value: 0.9079961464354529.\n"
     ]
    },
    {
     "name": "stdout",
     "output_type": "stream",
     "text": [
      "Training until validation scores don't improve for 100 rounds\n",
      "Early stopping, best iteration is:\n",
      "[267]\tvalid_0's multi_logloss: 0.290703\tvalid_0's accuracy: 0.908188\n",
      "Training until validation scores don't improve for 100 rounds\n",
      "Early stopping, best iteration is:\n",
      "[316]\tvalid_0's multi_logloss: 0.255758\tvalid_0's accuracy: 0.91629\n",
      "Training until validation scores don't improve for 100 rounds\n",
      "Early stopping, best iteration is:\n",
      "[283]\tvalid_0's multi_logloss: 0.267521\tvalid_0's accuracy: 0.909666\n",
      "Training until validation scores don't improve for 100 rounds\n",
      "Early stopping, best iteration is:\n",
      "[220]\tvalid_0's multi_logloss: 0.286769\tvalid_0's accuracy: 0.90816\n",
      "Training until validation scores don't improve for 100 rounds\n",
      "Early stopping, best iteration is:\n",
      "[355]\tvalid_0's multi_logloss: 0.268352\tvalid_0's accuracy: 0.912677\n"
     ]
    },
    {
     "name": "stderr",
     "output_type": "stream",
     "text": [
      "[I 2024-02-13 16:39:51,590] Trial 131 finished with value: 0.9070809248554914 and parameters: {'n_estimators': 1569, 'learning_rate': 0.020293382757889274, 'num_leaves': 807, 'max_depth': 19, 'min_data_in_leaf': 18, 'colsample_bytree': 0.9613710048232316, 'subsample': 1.0282438910759075, 'min_gain_to_split': 0.8908773845676702, 'bagging_fraction': 0.8, 'bagging_freq': 1, 'feature_fraction': 0.5}. Best is trial 75 with value: 0.9079961464354529.\n"
     ]
    },
    {
     "name": "stdout",
     "output_type": "stream",
     "text": [
      "Training until validation scores don't improve for 100 rounds\n",
      "Early stopping, best iteration is:\n",
      "[143]\tvalid_0's multi_logloss: 0.338883\tvalid_0's accuracy: 0.906984\n",
      "Training until validation scores don't improve for 100 rounds\n",
      "Early stopping, best iteration is:\n",
      "[542]\tvalid_0's multi_logloss: 0.250319\tvalid_0's accuracy: 0.917194\n",
      "Training until validation scores don't improve for 100 rounds\n",
      "Early stopping, best iteration is:\n",
      "[717]\tvalid_0's multi_logloss: 0.259205\tvalid_0's accuracy: 0.912978\n",
      "Training until validation scores don't improve for 100 rounds\n",
      "Early stopping, best iteration is:\n",
      "[350]\tvalid_0's multi_logloss: 0.275074\tvalid_0's accuracy: 0.909365\n",
      "Training until validation scores don't improve for 100 rounds\n",
      "Early stopping, best iteration is:\n",
      "[365]\tvalid_0's multi_logloss: 0.270214\tvalid_0's accuracy: 0.912075\n"
     ]
    },
    {
     "name": "stderr",
     "output_type": "stream",
     "text": [
      "[I 2024-02-13 16:40:33,074] Trial 132 finished with value: 0.905587668593449 and parameters: {'n_estimators': 1580, 'learning_rate': 0.019663094012659164, 'num_leaves': 861, 'max_depth': 19, 'min_data_in_leaf': 15, 'colsample_bytree': 0.9601058711096255, 'subsample': 1.046297907640867, 'min_gain_to_split': 0.9804638171906669, 'bagging_fraction': 0.8, 'bagging_freq': 1, 'feature_fraction': 0.5}. Best is trial 75 with value: 0.9079961464354529.\n"
     ]
    },
    {
     "name": "stdout",
     "output_type": "stream",
     "text": [
      "Training until validation scores don't improve for 100 rounds\n",
      "Early stopping, best iteration is:\n",
      "[369]\tvalid_0's multi_logloss: 0.288435\tvalid_0's accuracy: 0.910897\n",
      "Training until validation scores don't improve for 100 rounds\n",
      "Early stopping, best iteration is:\n",
      "[384]\tvalid_0's multi_logloss: 0.261097\tvalid_0's accuracy: 0.917194\n",
      "Training until validation scores don't improve for 100 rounds\n",
      "Early stopping, best iteration is:\n",
      "[598]\tvalid_0's multi_logloss: 0.264636\tvalid_0's accuracy: 0.912075\n",
      "Training until validation scores don't improve for 100 rounds\n",
      "Early stopping, best iteration is:\n",
      "[326]\tvalid_0's multi_logloss: 0.285814\tvalid_0's accuracy: 0.908762\n",
      "Training until validation scores don't improve for 100 rounds\n",
      "Early stopping, best iteration is:\n",
      "[296]\tvalid_0's multi_logloss: 0.284856\tvalid_0's accuracy: 0.91087\n"
     ]
    },
    {
     "name": "stderr",
     "output_type": "stream",
     "text": [
      "[I 2024-02-13 16:41:08,765] Trial 133 finished with value: 0.9059248554913296 and parameters: {'n_estimators': 1530, 'learning_rate': 0.017235623181334304, 'num_leaves': 817, 'max_depth': 18, 'min_data_in_leaf': 23, 'colsample_bytree': 0.9379652834100163, 'subsample': 1.0939021050659257, 'min_gain_to_split': 1.5858790537794105, 'bagging_fraction': 0.8, 'bagging_freq': 1, 'feature_fraction': 0.5}. Best is trial 75 with value: 0.9079961464354529.\n"
     ]
    },
    {
     "name": "stdout",
     "output_type": "stream",
     "text": [
      "Training until validation scores don't improve for 100 rounds\n",
      "Early stopping, best iteration is:\n",
      "[397]\tvalid_0's multi_logloss: 0.289049\tvalid_0's accuracy: 0.909392\n",
      "Training until validation scores don't improve for 100 rounds\n",
      "Early stopping, best iteration is:\n",
      "[349]\tvalid_0's multi_logloss: 0.263272\tvalid_0's accuracy: 0.915688\n",
      "Training until validation scores don't improve for 100 rounds\n",
      "Early stopping, best iteration is:\n",
      "[366]\tvalid_0's multi_logloss: 0.271268\tvalid_0's accuracy: 0.912075\n",
      "Training until validation scores don't improve for 100 rounds\n",
      "Early stopping, best iteration is:\n",
      "[317]\tvalid_0's multi_logloss: 0.288857\tvalid_0's accuracy: 0.906655\n",
      "Training until validation scores don't improve for 100 rounds\n",
      "Early stopping, best iteration is:\n",
      "[458]\tvalid_0's multi_logloss: 0.269322\tvalid_0's accuracy: 0.913279\n"
     ]
    },
    {
     "name": "stderr",
     "output_type": "stream",
     "text": [
      "[I 2024-02-13 16:42:08,734] Trial 134 finished with value: 0.9070327552986512 and parameters: {'n_estimators': 1697, 'learning_rate': 0.013715808041088193, 'num_leaves': 747, 'max_depth': 20, 'min_data_in_leaf': 8, 'colsample_bytree': 0.9815445385497117, 'subsample': 0.9944861676525388, 'min_gain_to_split': 0.5540852241178991, 'bagging_fraction': 0.8, 'bagging_freq': 1, 'feature_fraction': 0.5}. Best is trial 75 with value: 0.9079961464354529.\n"
     ]
    },
    {
     "name": "stdout",
     "output_type": "stream",
     "text": [
      "Training until validation scores don't improve for 100 rounds\n",
      "Early stopping, best iteration is:\n",
      "[346]\tvalid_0's multi_logloss: 0.304987\tvalid_0's accuracy: 0.90879\n",
      "Training until validation scores don't improve for 100 rounds\n",
      "Early stopping, best iteration is:\n",
      "[400]\tvalid_0's multi_logloss: 0.271973\tvalid_0's accuracy: 0.914182\n",
      "Training until validation scores don't improve for 100 rounds\n",
      "Early stopping, best iteration is:\n",
      "[284]\tvalid_0's multi_logloss: 0.305888\tvalid_0's accuracy: 0.909064\n",
      "Training until validation scores don't improve for 100 rounds\n",
      "Early stopping, best iteration is:\n",
      "[317]\tvalid_0's multi_logloss: 0.303769\tvalid_0's accuracy: 0.907859\n",
      "Training until validation scores don't improve for 100 rounds\n",
      "Early stopping, best iteration is:\n",
      "[308]\tvalid_0's multi_logloss: 0.30075\tvalid_0's accuracy: 0.909064\n"
     ]
    },
    {
     "name": "stderr",
     "output_type": "stream",
     "text": [
      "[I 2024-02-13 16:42:49,690] Trial 135 finished with value: 0.9052986512524084 and parameters: {'n_estimators': 1754, 'learning_rate': 0.012305474233067406, 'num_leaves': 905, 'max_depth': 19, 'min_data_in_leaf': 9, 'colsample_bytree': 0.9998888005163676, 'subsample': 0.9891341192693026, 'min_gain_to_split': 1.3729406496541103, 'bagging_fraction': 0.8, 'bagging_freq': 1, 'feature_fraction': 0.5}. Best is trial 75 with value: 0.9079961464354529.\n"
     ]
    },
    {
     "name": "stdout",
     "output_type": "stream",
     "text": [
      "Training until validation scores don't improve for 100 rounds\n",
      "Early stopping, best iteration is:\n",
      "[189]\tvalid_0's multi_logloss: 0.307841\tvalid_0's accuracy: 0.906382\n",
      "Training until validation scores don't improve for 100 rounds\n",
      "Early stopping, best iteration is:\n",
      "[492]\tvalid_0's multi_logloss: 0.251063\tvalid_0's accuracy: 0.916893\n",
      "Training until validation scores don't improve for 100 rounds\n",
      "Early stopping, best iteration is:\n",
      "[252]\tvalid_0's multi_logloss: 0.27493\tvalid_0's accuracy: 0.911171\n",
      "Training until validation scores don't improve for 100 rounds\n",
      "Early stopping, best iteration is:\n",
      "[356]\tvalid_0's multi_logloss: 0.273481\tvalid_0's accuracy: 0.908461\n",
      "Training until validation scores don't improve for 100 rounds\n",
      "Early stopping, best iteration is:\n",
      "[359]\tvalid_0's multi_logloss: 0.269177\tvalid_0's accuracy: 0.912677\n"
     ]
    },
    {
     "name": "stderr",
     "output_type": "stream",
     "text": [
      "[I 2024-02-13 16:43:27,916] Trial 136 finished with value: 0.905587668593449 and parameters: {'n_estimators': 1634, 'learning_rate': 0.020150287566625208, 'num_leaves': 803, 'max_depth': 18, 'min_data_in_leaf': 12, 'colsample_bytree': 0.9694693582027273, 'subsample': 1.0452545057717721, 'min_gain_to_split': 0.9197777883799882, 'bagging_fraction': 0.8, 'bagging_freq': 1, 'feature_fraction': 0.5}. Best is trial 75 with value: 0.9079961464354529.\n"
     ]
    },
    {
     "name": "stdout",
     "output_type": "stream",
     "text": [
      "Training until validation scores don't improve for 100 rounds\n",
      "Early stopping, best iteration is:\n",
      "[116]\tvalid_0's multi_logloss: 0.339917\tvalid_0's accuracy: 0.906081\n",
      "Training until validation scores don't improve for 100 rounds\n",
      "Early stopping, best iteration is:\n",
      "[324]\tvalid_0's multi_logloss: 0.266324\tvalid_0's accuracy: 0.913881\n",
      "Training until validation scores don't improve for 100 rounds\n",
      "Early stopping, best iteration is:\n",
      "[370]\tvalid_0's multi_logloss: 0.27276\tvalid_0's accuracy: 0.90816\n",
      "Training until validation scores don't improve for 100 rounds\n",
      "Early stopping, best iteration is:\n",
      "[231]\tvalid_0's multi_logloss: 0.294149\tvalid_0's accuracy: 0.903945\n",
      "Training until validation scores don't improve for 100 rounds\n",
      "Early stopping, best iteration is:\n",
      "[281]\tvalid_0's multi_logloss: 0.281916\tvalid_0's accuracy: 0.91087\n"
     ]
    },
    {
     "name": "stderr",
     "output_type": "stream",
     "text": [
      "[I 2024-02-13 16:43:50,699] Trial 137 finished with value: 0.9037090558766859 and parameters: {'n_estimators': 1715, 'learning_rate': 0.02731490719659072, 'num_leaves': 838, 'max_depth': 19, 'min_data_in_leaf': 21, 'colsample_bytree': 0.952139109369642, 'subsample': 1.024913820182006, 'min_gain_to_split': 2.368502810275627, 'bagging_fraction': 0.7, 'bagging_freq': 1, 'feature_fraction': 0.5}. Best is trial 75 with value: 0.9079961464354529.\n"
     ]
    },
    {
     "name": "stdout",
     "output_type": "stream",
     "text": [
      "Training until validation scores don't improve for 100 rounds\n",
      "Early stopping, best iteration is:\n",
      "[199]\tvalid_0's multi_logloss: 0.347021\tvalid_0's accuracy: 0.90578\n",
      "Training until validation scores don't improve for 100 rounds\n",
      "Early stopping, best iteration is:\n",
      "[639]\tvalid_0's multi_logloss: 0.249687\tvalid_0's accuracy: 0.91629\n",
      "Training until validation scores don't improve for 100 rounds\n",
      "Early stopping, best iteration is:\n",
      "[432]\tvalid_0's multi_logloss: 0.267883\tvalid_0's accuracy: 0.910569\n",
      "Training until validation scores don't improve for 100 rounds\n",
      "Early stopping, best iteration is:\n",
      "[253]\tvalid_0's multi_logloss: 0.312907\tvalid_0's accuracy: 0.904246\n",
      "Training until validation scores don't improve for 100 rounds\n",
      "Early stopping, best iteration is:\n",
      "[442]\tvalid_0's multi_logloss: 0.270479\tvalid_0's accuracy: 0.912677\n"
     ]
    },
    {
     "name": "stderr",
     "output_type": "stream",
     "text": [
      "[I 2024-02-13 16:44:40,950] Trial 138 finished with value: 0.9058766859344894 and parameters: {'n_estimators': 1659, 'learning_rate': 0.016150062376522455, 'num_leaves': 752, 'max_depth': 20, 'min_data_in_leaf': 29, 'colsample_bytree': 0.91881024990767, 'subsample': 0.9529084790090825, 'min_gain_to_split': 0.6286987913836468, 'bagging_fraction': 0.8, 'bagging_freq': 1, 'feature_fraction': 0.4}. Best is trial 75 with value: 0.9079961464354529.\n"
     ]
    },
    {
     "name": "stdout",
     "output_type": "stream",
     "text": [
      "Training until validation scores don't improve for 100 rounds\n",
      "Early stopping, best iteration is:\n",
      "[646]\tvalid_0's multi_logloss: 0.288844\tvalid_0's accuracy: 0.910897\n",
      "Training until validation scores don't improve for 100 rounds\n",
      "Early stopping, best iteration is:\n",
      "[624]\tvalid_0's multi_logloss: 0.261974\tvalid_0's accuracy: 0.915688\n",
      "Training until validation scores don't improve for 100 rounds\n",
      "Early stopping, best iteration is:\n",
      "[696]\tvalid_0's multi_logloss: 0.268145\tvalid_0's accuracy: 0.911472\n",
      "Training until validation scores don't improve for 100 rounds\n",
      "Early stopping, best iteration is:\n",
      "[418]\tvalid_0's multi_logloss: 0.297952\tvalid_0's accuracy: 0.907257\n",
      "Training until validation scores don't improve for 100 rounds\n",
      "Early stopping, best iteration is:\n",
      "[537]\tvalid_0's multi_logloss: 0.278799\tvalid_0's accuracy: 0.910268\n"
     ]
    },
    {
     "name": "stderr",
     "output_type": "stream",
     "text": [
      "[I 2024-02-13 16:45:38,802] Trial 139 finished with value: 0.9064065510597302 and parameters: {'n_estimators': 1459, 'learning_rate': 0.009906950082455455, 'num_leaves': 850, 'max_depth': 19, 'min_data_in_leaf': 48, 'colsample_bytree': 0.9794116881947444, 'subsample': 0.9769365842092195, 'min_gain_to_split': 1.2716929930391283, 'bagging_fraction': 0.8, 'bagging_freq': 1, 'feature_fraction': 0.5}. Best is trial 75 with value: 0.9079961464354529.\n"
     ]
    },
    {
     "name": "stdout",
     "output_type": "stream",
     "text": [
      "Training until validation scores don't improve for 100 rounds\n",
      "Early stopping, best iteration is:\n",
      "[356]\tvalid_0's multi_logloss: 0.291329\tvalid_0's accuracy: 0.907586\n",
      "Training until validation scores don't improve for 100 rounds\n",
      "Early stopping, best iteration is:\n",
      "[459]\tvalid_0's multi_logloss: 0.263562\tvalid_0's accuracy: 0.915688\n",
      "Training until validation scores don't improve for 100 rounds\n",
      "Early stopping, best iteration is:\n",
      "[421]\tvalid_0's multi_logloss: 0.270774\tvalid_0's accuracy: 0.909666\n",
      "Training until validation scores don't improve for 100 rounds\n",
      "Early stopping, best iteration is:\n",
      "[307]\tvalid_0's multi_logloss: 0.285946\tvalid_0's accuracy: 0.907859\n",
      "Training until validation scores don't improve for 100 rounds\n",
      "Early stopping, best iteration is:\n",
      "[303]\tvalid_0's multi_logloss: 0.282704\tvalid_0's accuracy: 0.910268\n"
     ]
    },
    {
     "name": "stderr",
     "output_type": "stream",
     "text": [
      "[I 2024-02-13 16:46:10,820] Trial 140 finished with value: 0.905587668593449 and parameters: {'n_estimators': 1541, 'learning_rate': 0.02062824456062389, 'num_leaves': 869, 'max_depth': 18, 'min_data_in_leaf': 18, 'colsample_bytree': 0.9270809185114394, 'subsample': 1.0241785855156953, 'min_gain_to_split': 2.0598255801375545, 'bagging_fraction': 0.8, 'bagging_freq': 1, 'feature_fraction': 0.5}. Best is trial 75 with value: 0.9079961464354529.\n"
     ]
    },
    {
     "name": "stdout",
     "output_type": "stream",
     "text": [
      "Training until validation scores don't improve for 100 rounds\n",
      "Early stopping, best iteration is:\n",
      "[229]\tvalid_0's multi_logloss: 0.316965\tvalid_0's accuracy: 0.907586\n",
      "Training until validation scores don't improve for 100 rounds\n",
      "Early stopping, best iteration is:\n",
      "[453]\tvalid_0's multi_logloss: 0.252646\tvalid_0's accuracy: 0.91629\n",
      "Training until validation scores don't improve for 100 rounds\n",
      "Early stopping, best iteration is:\n",
      "[264]\tvalid_0's multi_logloss: 0.287705\tvalid_0's accuracy: 0.909666\n",
      "Training until validation scores don't improve for 100 rounds\n",
      "Early stopping, best iteration is:\n",
      "[349]\tvalid_0's multi_logloss: 0.282436\tvalid_0's accuracy: 0.906052\n",
      "Training until validation scores don't improve for 100 rounds\n",
      "Early stopping, best iteration is:\n",
      "[444]\tvalid_0's multi_logloss: 0.269131\tvalid_0's accuracy: 0.912978\n"
     ]
    },
    {
     "name": "stderr",
     "output_type": "stream",
     "text": [
      "[I 2024-02-13 16:47:08,704] Trial 141 finished with value: 0.9063102119460501 and parameters: {'n_estimators': 1370, 'learning_rate': 0.014485443809797697, 'num_leaves': 765, 'max_depth': 20, 'min_data_in_leaf': 7, 'colsample_bytree': 0.9056304235633117, 'subsample': 1.0904079105451916, 'min_gain_to_split': 0.5479098300030927, 'bagging_fraction': 0.8, 'bagging_freq': 1, 'feature_fraction': 0.5}. Best is trial 75 with value: 0.9079961464354529.\n"
     ]
    },
    {
     "name": "stdout",
     "output_type": "stream",
     "text": [
      "Training until validation scores don't improve for 100 rounds\n",
      "Early stopping, best iteration is:\n",
      "[108]\tvalid_0's multi_logloss: 0.500164\tvalid_0's accuracy: 0.904275\n",
      "Training until validation scores don't improve for 100 rounds\n",
      "Early stopping, best iteration is:\n",
      "[200]\tvalid_0's multi_logloss: 0.315574\tvalid_0's accuracy: 0.913881\n",
      "Training until validation scores don't improve for 100 rounds\n",
      "Early stopping, best iteration is:\n",
      "[180]\tvalid_0's multi_logloss: 0.344053\tvalid_0's accuracy: 0.909365\n",
      "Training until validation scores don't improve for 100 rounds\n",
      "Early stopping, best iteration is:\n",
      "[203]\tvalid_0's multi_logloss: 0.332941\tvalid_0's accuracy: 0.904547\n",
      "Training until validation scores don't improve for 100 rounds\n",
      "Early stopping, best iteration is:\n",
      "[284]\tvalid_0's multi_logloss: 0.286189\tvalid_0's accuracy: 0.913279\n"
     ]
    },
    {
     "name": "stderr",
     "output_type": "stream",
     "text": [
      "[I 2024-02-13 16:48:38,086] Trial 142 finished with value: 0.9041425818882466 and parameters: {'n_estimators': 1615, 'learning_rate': 0.0128531502806441, 'num_leaves': 746, 'max_depth': 20, 'min_data_in_leaf': 15, 'colsample_bytree': 0.9431296939924575, 'subsample': 1.1746755582734485, 'min_gain_to_split': 0.0038585976119904775, 'bagging_fraction': 0.8, 'bagging_freq': 1, 'feature_fraction': 0.5}. Best is trial 75 with value: 0.9079961464354529.\n"
     ]
    },
    {
     "name": "stdout",
     "output_type": "stream",
     "text": [
      "Training until validation scores don't improve for 100 rounds\n",
      "Early stopping, best iteration is:\n",
      "[395]\tvalid_0's multi_logloss: 0.286518\tvalid_0's accuracy: 0.909091\n",
      "Training until validation scores don't improve for 100 rounds\n",
      "Early stopping, best iteration is:\n",
      "[356]\tvalid_0's multi_logloss: 0.259583\tvalid_0's accuracy: 0.915989\n",
      "Training until validation scores don't improve for 100 rounds\n",
      "Early stopping, best iteration is:\n",
      "[286]\tvalid_0's multi_logloss: 0.276459\tvalid_0's accuracy: 0.912978\n",
      "Training until validation scores don't improve for 100 rounds\n",
      "Early stopping, best iteration is:\n",
      "[191]\tvalid_0's multi_logloss: 0.311218\tvalid_0's accuracy: 0.906655\n",
      "Training until validation scores don't improve for 100 rounds\n",
      "Early stopping, best iteration is:\n",
      "[313]\tvalid_0's multi_logloss: 0.276491\tvalid_0's accuracy: 0.910569\n"
     ]
    },
    {
     "name": "stderr",
     "output_type": "stream",
     "text": [
      "[I 2024-02-13 16:49:19,619] Trial 143 finished with value: 0.9059248554913294 and parameters: {'n_estimators': 967, 'learning_rate': 0.01853969960450971, 'num_leaves': 797, 'max_depth': 20, 'min_data_in_leaf': 2, 'colsample_bytree': 0.985898463225574, 'subsample': 1.1131266113294425, 'min_gain_to_split': 0.9210248772285651, 'bagging_fraction': 0.8, 'bagging_freq': 1, 'feature_fraction': 0.5}. Best is trial 75 with value: 0.9079961464354529.\n"
     ]
    },
    {
     "name": "stdout",
     "output_type": "stream",
     "text": [
      "Training until validation scores don't improve for 100 rounds\n",
      "Early stopping, best iteration is:\n",
      "[276]\tvalid_0's multi_logloss: 0.322631\tvalid_0's accuracy: 0.907887\n",
      "Training until validation scores don't improve for 100 rounds\n",
      "Early stopping, best iteration is:\n",
      "[206]\tvalid_0's multi_logloss: 0.342658\tvalid_0's accuracy: 0.914182\n",
      "Training until validation scores don't improve for 100 rounds\n",
      "Early stopping, best iteration is:\n",
      "[173]\tvalid_0's multi_logloss: 0.388628\tvalid_0's accuracy: 0.909967\n",
      "Training until validation scores don't improve for 100 rounds\n",
      "Early stopping, best iteration is:\n",
      "[355]\tvalid_0's multi_logloss: 0.28963\tvalid_0's accuracy: 0.90816\n",
      "Training until validation scores don't improve for 100 rounds\n",
      "Early stopping, best iteration is:\n",
      "[515]\tvalid_0's multi_logloss: 0.269971\tvalid_0's accuracy: 0.911171\n"
     ]
    },
    {
     "name": "stderr",
     "output_type": "stream",
     "text": [
      "[I 2024-02-13 16:50:14,889] Trial 144 finished with value: 0.9058766859344892 and parameters: {'n_estimators': 1438, 'learning_rate': 0.011327752381986298, 'num_leaves': 821, 'max_depth': 19, 'min_data_in_leaf': 17, 'colsample_bytree': 0.9610404544232305, 'subsample': 1.1375921897086867, 'min_gain_to_split': 0.5347482108900303, 'bagging_fraction': 0.8, 'bagging_freq': 1, 'feature_fraction': 0.5}. Best is trial 75 with value: 0.9079961464354529.\n"
     ]
    },
    {
     "name": "stdout",
     "output_type": "stream",
     "text": [
      "Training until validation scores don't improve for 100 rounds\n",
      "Early stopping, best iteration is:\n",
      "[313]\tvalid_0's multi_logloss: 0.301336\tvalid_0's accuracy: 0.909693\n",
      "Training until validation scores don't improve for 100 rounds\n",
      "Early stopping, best iteration is:\n",
      "[484]\tvalid_0's multi_logloss: 0.256332\tvalid_0's accuracy: 0.917194\n",
      "Training until validation scores don't improve for 100 rounds\n",
      "Early stopping, best iteration is:\n",
      "[151]\tvalid_0's multi_logloss: 0.383943\tvalid_0's accuracy: 0.90816\n",
      "Training until validation scores don't improve for 100 rounds\n",
      "Early stopping, best iteration is:\n",
      "[269]\tvalid_0's multi_logloss: 0.301912\tvalid_0's accuracy: 0.908461\n",
      "Training until validation scores don't improve for 100 rounds\n",
      "Early stopping, best iteration is:\n",
      "[234]\tvalid_0's multi_logloss: 0.314603\tvalid_0's accuracy: 0.90816\n"
     ]
    },
    {
     "name": "stderr",
     "output_type": "stream",
     "text": [
      "[I 2024-02-13 16:50:53,810] Trial 145 finished with value: 0.9050578034682081 and parameters: {'n_estimators': 1784, 'learning_rate': 0.013544882143564363, 'num_leaves': 705, 'max_depth': 19, 'min_data_in_leaf': 20, 'colsample_bytree': 0.8692691741317872, 'subsample': 1.0680555717047153, 'min_gain_to_split': 1.0554043935304513, 'bagging_fraction': 0.8, 'bagging_freq': 1, 'feature_fraction': 0.5}. Best is trial 75 with value: 0.9079961464354529.\n"
     ]
    },
    {
     "name": "stdout",
     "output_type": "stream",
     "text": [
      "Training until validation scores don't improve for 100 rounds\n",
      "Early stopping, best iteration is:\n",
      "[379]\tvalid_0's multi_logloss: 0.287353\tvalid_0's accuracy: 0.906984\n",
      "Training until validation scores don't improve for 100 rounds\n",
      "Early stopping, best iteration is:\n",
      "[251]\tvalid_0's multi_logloss: 0.266775\tvalid_0's accuracy: 0.915688\n",
      "Training until validation scores don't improve for 100 rounds\n",
      "Early stopping, best iteration is:\n",
      "[305]\tvalid_0's multi_logloss: 0.270201\tvalid_0's accuracy: 0.911171\n",
      "Training until validation scores don't improve for 100 rounds\n",
      "Early stopping, best iteration is:\n",
      "[254]\tvalid_0's multi_logloss: 0.290112\tvalid_0's accuracy: 0.905149\n",
      "Training until validation scores don't improve for 100 rounds\n",
      "Early stopping, best iteration is:\n",
      "[276]\tvalid_0's multi_logloss: 0.278112\tvalid_0's accuracy: 0.912978\n"
     ]
    },
    {
     "name": "stderr",
     "output_type": "stream",
     "text": [
      "[I 2024-02-13 16:51:49,984] Trial 146 finished with value: 0.9057803468208092 and parameters: {'n_estimators': 1596, 'learning_rate': 0.016368025866073724, 'num_leaves': 734, 'max_depth': 20, 'min_data_in_leaf': 11, 'colsample_bytree': 0.9089591306568688, 'subsample': 0.9968607218343014, 'min_gain_to_split': 0.3666328106168705, 'bagging_fraction': 0.7, 'bagging_freq': 1, 'feature_fraction': 0.5}. Best is trial 75 with value: 0.9079961464354529.\n"
     ]
    },
    {
     "name": "stdout",
     "output_type": "stream",
     "text": [
      "Training until validation scores don't improve for 100 rounds\n",
      "Early stopping, best iteration is:\n",
      "[164]\tvalid_0's multi_logloss: 0.3029\tvalid_0's accuracy: 0.906382\n",
      "Training until validation scores don't improve for 100 rounds\n",
      "Early stopping, best iteration is:\n",
      "[303]\tvalid_0's multi_logloss: 0.259237\tvalid_0's accuracy: 0.915387\n",
      "Training until validation scores don't improve for 100 rounds\n",
      "Early stopping, best iteration is:\n",
      "[288]\tvalid_0's multi_logloss: 0.27104\tvalid_0's accuracy: 0.910569\n",
      "Training until validation scores don't improve for 100 rounds\n",
      "Early stopping, best iteration is:\n",
      "[201]\tvalid_0's multi_logloss: 0.28929\tvalid_0's accuracy: 0.908461\n",
      "Training until validation scores don't improve for 100 rounds\n",
      "Early stopping, best iteration is:\n",
      "[272]\tvalid_0's multi_logloss: 0.273864\tvalid_0's accuracy: 0.91087\n"
     ]
    },
    {
     "name": "stderr",
     "output_type": "stream",
     "text": [
      "[I 2024-02-13 16:52:14,416] Trial 147 finished with value: 0.9063102119460501 and parameters: {'n_estimators': 1237, 'learning_rate': 0.027703201538930824, 'num_leaves': 886, 'max_depth': 18, 'min_data_in_leaf': 25, 'colsample_bytree': 0.9386666774007871, 'subsample': 0.9325040742050181, 'min_gain_to_split': 1.7819638521460148, 'bagging_fraction': 0.8, 'bagging_freq': 1, 'feature_fraction': 0.5}. Best is trial 75 with value: 0.9079961464354529.\n"
     ]
    },
    {
     "name": "stdout",
     "output_type": "stream",
     "text": [
      "Training until validation scores don't improve for 100 rounds\n",
      "Early stopping, best iteration is:\n",
      "[408]\tvalid_0's multi_logloss: 0.306749\tvalid_0's accuracy: 0.904576\n",
      "Training until validation scores don't improve for 100 rounds\n",
      "Early stopping, best iteration is:\n",
      "[431]\tvalid_0's multi_logloss: 0.287065\tvalid_0's accuracy: 0.907257\n",
      "Training until validation scores don't improve for 100 rounds\n",
      "Early stopping, best iteration is:\n",
      "[408]\tvalid_0's multi_logloss: 0.295606\tvalid_0's accuracy: 0.906655\n",
      "Training until validation scores don't improve for 100 rounds\n",
      "Early stopping, best iteration is:\n",
      "[171]\tvalid_0's multi_logloss: 0.363372\tvalid_0's accuracy: 0.899729\n",
      "Training until validation scores don't improve for 100 rounds\n",
      "Early stopping, best iteration is:\n",
      "[422]\tvalid_0's multi_logloss: 0.300237\tvalid_0's accuracy: 0.904547\n"
     ]
    },
    {
     "name": "stderr",
     "output_type": "stream",
     "text": [
      "[I 2024-02-13 16:52:40,630] Trial 148 finished with value: 0.9001926782273604 and parameters: {'n_estimators': 1324, 'learning_rate': 0.02249340691868382, 'num_leaves': 450, 'max_depth': 19, 'min_data_in_leaf': 22, 'colsample_bytree': 0.9681462973788408, 'subsample': 1.08346989965529, 'min_gain_to_split': 4.279586428173094, 'bagging_fraction': 0.7, 'bagging_freq': 1, 'feature_fraction': 0.4}. Best is trial 75 with value: 0.9079961464354529.\n"
     ]
    },
    {
     "name": "stdout",
     "output_type": "stream",
     "text": [
      "Training until validation scores don't improve for 100 rounds\n",
      "Early stopping, best iteration is:\n",
      "[384]\tvalid_0's multi_logloss: 0.311549\tvalid_0's accuracy: 0.908489\n",
      "Training until validation scores don't improve for 100 rounds\n",
      "Early stopping, best iteration is:\n",
      "[300]\tvalid_0's multi_logloss: 0.319497\tvalid_0's accuracy: 0.913279\n",
      "Training until validation scores don't improve for 100 rounds\n",
      "Early stopping, best iteration is:\n",
      "[432]\tvalid_0's multi_logloss: 0.283575\tvalid_0's accuracy: 0.911472\n",
      "Training until validation scores don't improve for 100 rounds\n",
      "Early stopping, best iteration is:\n",
      "[546]\tvalid_0's multi_logloss: 0.280971\tvalid_0's accuracy: 0.908762\n",
      "Training until validation scores don't improve for 100 rounds\n",
      "Early stopping, best iteration is:\n",
      "[622]\tvalid_0's multi_logloss: 0.271429\tvalid_0's accuracy: 0.911472\n"
     ]
    },
    {
     "name": "stderr",
     "output_type": "stream",
     "text": [
      "[I 2024-02-13 16:53:45,447] Trial 149 finished with value: 0.9064547206165703 and parameters: {'n_estimators': 1131, 'learning_rate': 0.009114376640621756, 'num_leaves': 799, 'max_depth': 20, 'min_data_in_leaf': 19, 'colsample_bytree': 0.841032654521417, 'subsample': 1.246309060783246, 'min_gain_to_split': 0.8070300422921735, 'bagging_fraction': 0.8, 'bagging_freq': 1, 'feature_fraction': 0.5}. Best is trial 75 with value: 0.9079961464354529.\n"
     ]
    },
    {
     "name": "stdout",
     "output_type": "stream",
     "text": [
      "Training until validation scores don't improve for 100 rounds\n",
      "Early stopping, best iteration is:\n",
      "[180]\tvalid_0's multi_logloss: 0.291796\tvalid_0's accuracy: 0.907285\n",
      "Training until validation scores don't improve for 100 rounds\n",
      "Early stopping, best iteration is:\n",
      "[307]\tvalid_0's multi_logloss: 0.256143\tvalid_0's accuracy: 0.915387\n",
      "Training until validation scores don't improve for 100 rounds\n",
      "Early stopping, best iteration is:\n",
      "[359]\tvalid_0's multi_logloss: 0.263672\tvalid_0's accuracy: 0.912376\n",
      "Training until validation scores don't improve for 100 rounds\n",
      "Early stopping, best iteration is:\n",
      "[241]\tvalid_0's multi_logloss: 0.275308\tvalid_0's accuracy: 0.911774\n",
      "Training until validation scores don't improve for 100 rounds\n",
      "Early stopping, best iteration is:\n",
      "[370]\tvalid_0's multi_logloss: 0.267608\tvalid_0's accuracy: 0.912376\n"
     ]
    },
    {
     "name": "stderr",
     "output_type": "stream",
     "text": [
      "[I 2024-02-13 16:54:13,763] Trial 150 finished with value: 0.9063102119460501 and parameters: {'n_estimators': 1488, 'learning_rate': 0.03148598886381337, 'num_leaves': 769, 'max_depth': 19, 'min_data_in_leaf': 13, 'colsample_bytree': 0.9966592808771778, 'subsample': 1.2075769348453733, 'min_gain_to_split': 1.291540477392546, 'bagging_fraction': 0.8, 'bagging_freq': 1, 'feature_fraction': 0.5}. Best is trial 75 with value: 0.9079961464354529.\n"
     ]
    },
    {
     "name": "stdout",
     "output_type": "stream",
     "text": [
      "Training until validation scores don't improve for 100 rounds\n",
      "Early stopping, best iteration is:\n",
      "[206]\tvalid_0's multi_logloss: 0.294057\tvalid_0's accuracy: 0.909693\n",
      "Training until validation scores don't improve for 100 rounds\n",
      "Early stopping, best iteration is:\n",
      "[190]\tvalid_0's multi_logloss: 0.260896\tvalid_0's accuracy: 0.91629\n",
      "Training until validation scores don't improve for 100 rounds\n",
      "Early stopping, best iteration is:\n",
      "[62]\tvalid_0's multi_logloss: 0.471327\tvalid_0's accuracy: 0.909666\n",
      "Training until validation scores don't improve for 100 rounds\n",
      "Early stopping, best iteration is:\n",
      "[290]\tvalid_0's multi_logloss: 0.274345\tvalid_0's accuracy: 0.907257\n",
      "Training until validation scores don't improve for 100 rounds\n",
      "Early stopping, best iteration is:\n",
      "[316]\tvalid_0's multi_logloss: 0.2676\tvalid_0's accuracy: 0.91358\n"
     ]
    },
    {
     "name": "stderr",
     "output_type": "stream",
     "text": [
      "[I 2024-02-13 16:54:54,666] Trial 151 finished with value: 0.90626204238921 and parameters: {'n_estimators': 1004, 'learning_rate': 0.023376054393766502, 'num_leaves': 783, 'max_depth': 19, 'min_data_in_leaf': 17, 'colsample_bytree': 0.8659309935679905, 'subsample': 1.1359073504215655, 'min_gain_to_split': 0.345148188202547, 'bagging_fraction': 0.9, 'bagging_freq': 1, 'feature_fraction': 0.5}. Best is trial 75 with value: 0.9079961464354529.\n"
     ]
    },
    {
     "name": "stdout",
     "output_type": "stream",
     "text": [
      "Training until validation scores don't improve for 100 rounds\n",
      "Early stopping, best iteration is:\n",
      "[224]\tvalid_0's multi_logloss: 0.299215\tvalid_0's accuracy: 0.908188\n",
      "Training until validation scores don't improve for 100 rounds\n",
      "Early stopping, best iteration is:\n",
      "[285]\tvalid_0's multi_logloss: 0.257632\tvalid_0's accuracy: 0.91629\n",
      "Training until validation scores don't improve for 100 rounds\n",
      "Early stopping, best iteration is:\n",
      "[319]\tvalid_0's multi_logloss: 0.26649\tvalid_0's accuracy: 0.911472\n",
      "Training until validation scores don't improve for 100 rounds\n",
      "Early stopping, best iteration is:\n",
      "[259]\tvalid_0's multi_logloss: 0.283367\tvalid_0's accuracy: 0.909064\n",
      "Training until validation scores don't improve for 100 rounds\n",
      "Early stopping, best iteration is:\n",
      "[380]\tvalid_0's multi_logloss: 0.267861\tvalid_0's accuracy: 0.912978\n"
     ]
    },
    {
     "name": "stderr",
     "output_type": "stream",
     "text": [
      "[I 2024-02-13 16:55:36,441] Trial 152 finished with value: 0.9069845857418113 and parameters: {'n_estimators': 1126, 'learning_rate': 0.01880671889657833, 'num_leaves': 843, 'max_depth': 18, 'min_data_in_leaf': 16, 'colsample_bytree': 0.8181942127814302, 'subsample': 1.1339498794307203, 'min_gain_to_split': 0.6519957748055945, 'bagging_fraction': 0.9, 'bagging_freq': 1, 'feature_fraction': 0.5}. Best is trial 75 with value: 0.9079961464354529.\n"
     ]
    },
    {
     "name": "stdout",
     "output_type": "stream",
     "text": [
      "Training until validation scores don't improve for 100 rounds\n",
      "Early stopping, best iteration is:\n",
      "[221]\tvalid_0's multi_logloss: 0.301961\tvalid_0's accuracy: 0.90879\n",
      "Training until validation scores don't improve for 100 rounds\n",
      "Early stopping, best iteration is:\n",
      "[326]\tvalid_0's multi_logloss: 0.255624\tvalid_0's accuracy: 0.915387\n",
      "Training until validation scores don't improve for 100 rounds\n",
      "Early stopping, best iteration is:\n",
      "[179]\tvalid_0's multi_logloss: 0.301992\tvalid_0's accuracy: 0.910569\n",
      "Training until validation scores don't improve for 100 rounds\n",
      "Early stopping, best iteration is:\n",
      "[210]\tvalid_0's multi_logloss: 0.29847\tvalid_0's accuracy: 0.908461\n",
      "Training until validation scores don't improve for 100 rounds\n",
      "Early stopping, best iteration is:\n",
      "[156]\tvalid_0's multi_logloss: 0.322058\tvalid_0's accuracy: 0.909967\n"
     ]
    },
    {
     "name": "stderr",
     "output_type": "stream",
     "text": [
      "[I 2024-02-13 16:56:12,721] Trial 153 finished with value: 0.9052986512524084 and parameters: {'n_estimators': 1416, 'learning_rate': 0.018172590024088057, 'num_leaves': 849, 'max_depth': 18, 'min_data_in_leaf': 16, 'colsample_bytree': 0.7457974780981131, 'subsample': 1.1804160435461184, 'min_gain_to_split': 0.7383223060211486, 'bagging_fraction': 0.9, 'bagging_freq': 1, 'feature_fraction': 0.5}. Best is trial 75 with value: 0.9079961464354529.\n"
     ]
    },
    {
     "name": "stdout",
     "output_type": "stream",
     "text": [
      "Training until validation scores don't improve for 100 rounds\n",
      "Early stopping, best iteration is:\n",
      "[282]\tvalid_0's multi_logloss: 0.298265\tvalid_0's accuracy: 0.907586\n",
      "Training until validation scores don't improve for 100 rounds\n",
      "Early stopping, best iteration is:\n",
      "[119]\tvalid_0's multi_logloss: 0.412706\tvalid_0's accuracy: 0.916893\n",
      "Training until validation scores don't improve for 100 rounds\n",
      "Early stopping, best iteration is:\n",
      "[249]\tvalid_0's multi_logloss: 0.28096\tvalid_0's accuracy: 0.912376\n",
      "Training until validation scores don't improve for 100 rounds\n",
      "Early stopping, best iteration is:\n",
      "[250]\tvalid_0's multi_logloss: 0.29486\tvalid_0's accuracy: 0.906052\n",
      "Training until validation scores don't improve for 100 rounds\n",
      "Early stopping, best iteration is:\n",
      "[359]\tvalid_0's multi_logloss: 0.271148\tvalid_0's accuracy: 0.912075\n"
     ]
    },
    {
     "name": "stderr",
     "output_type": "stream",
     "text": [
      "[I 2024-02-13 16:57:41,538] Trial 154 finished with value: 0.9065992292870906 and parameters: {'n_estimators': 1048, 'learning_rate': 0.014532194280238183, 'num_leaves': 826, 'max_depth': 18, 'min_data_in_leaf': 21, 'colsample_bytree': 0.9281566960241208, 'subsample': 1.0485031587853295, 'min_gain_to_split': 0.01198756669021761, 'bagging_fraction': 0.8, 'bagging_freq': 1, 'feature_fraction': 0.5}. Best is trial 75 with value: 0.9079961464354529.\n"
     ]
    },
    {
     "name": "stdout",
     "output_type": "stream",
     "text": [
      "Training until validation scores don't improve for 100 rounds\n",
      "Early stopping, best iteration is:\n",
      "[193]\tvalid_0's multi_logloss: 0.306673\tvalid_0's accuracy: 0.909091\n",
      "Training until validation scores don't improve for 100 rounds\n",
      "Early stopping, best iteration is:\n",
      "[471]\tvalid_0's multi_logloss: 0.245358\tvalid_0's accuracy: 0.916591\n",
      "Training until validation scores don't improve for 100 rounds\n",
      "Early stopping, best iteration is:\n",
      "[207]\tvalid_0's multi_logloss: 0.281327\tvalid_0's accuracy: 0.91087\n",
      "Training until validation scores don't improve for 100 rounds\n",
      "Early stopping, best iteration is:\n",
      "[338]\tvalid_0's multi_logloss: 0.270151\tvalid_0's accuracy: 0.907859\n",
      "Training until validation scores don't improve for 100 rounds\n",
      "Early stopping, best iteration is:\n",
      "[272]\tvalid_0's multi_logloss: 0.272912\tvalid_0's accuracy: 0.910268\n"
     ]
    },
    {
     "name": "stderr",
     "output_type": "stream",
     "text": [
      "[I 2024-02-13 16:58:23,821] Trial 155 finished with value: 0.9064065510597302 and parameters: {'n_estimators': 1221, 'learning_rate': 0.019875604484054055, 'num_leaves': 906, 'max_depth': 17, 'min_data_in_leaf': 36, 'colsample_bytree': 0.8198386611143526, 'subsample': 1.1159648035307825, 'min_gain_to_split': 0.5695788098044262, 'bagging_fraction': 0.8, 'bagging_freq': 1, 'feature_fraction': 0.5}. Best is trial 75 with value: 0.9079961464354529.\n"
     ]
    },
    {
     "name": "stdout",
     "output_type": "stream",
     "text": [
      "Training until validation scores don't improve for 100 rounds\n",
      "Early stopping, best iteration is:\n",
      "[266]\tvalid_0's multi_logloss: 0.302201\tvalid_0's accuracy: 0.907887\n",
      "Training until validation scores don't improve for 100 rounds\n",
      "Did not meet early stopping. Best iteration is:\n",
      "[476]\tvalid_0's multi_logloss: 0.259327\tvalid_0's accuracy: 0.916591\n",
      "Training until validation scores don't improve for 100 rounds\n",
      "Early stopping, best iteration is:\n",
      "[358]\tvalid_0's multi_logloss: 0.273716\tvalid_0's accuracy: 0.909967\n",
      "Training until validation scores don't improve for 100 rounds\n",
      "Early stopping, best iteration is:\n",
      "[346]\tvalid_0's multi_logloss: 0.284661\tvalid_0's accuracy: 0.907558\n",
      "Training until validation scores don't improve for 100 rounds\n",
      "Did not meet early stopping. Best iteration is:\n",
      "[476]\tvalid_0's multi_logloss: 0.272379\tvalid_0's accuracy: 0.909365\n"
     ]
    },
    {
     "name": "stderr",
     "output_type": "stream",
     "text": [
      "[I 2024-02-13 16:58:58,794] Trial 156 finished with value: 0.9061657032755299 and parameters: {'n_estimators': 476, 'learning_rate': 0.01620560889192231, 'num_leaves': 813, 'max_depth': 20, 'min_data_in_leaf': 23, 'colsample_bytree': 0.8390823861877555, 'subsample': 0.8995920186905751, 'min_gain_to_split': 1.5751356119250184, 'bagging_fraction': 0.9, 'bagging_freq': 1, 'feature_fraction': 0.5}. Best is trial 75 with value: 0.9079961464354529.\n"
     ]
    },
    {
     "name": "stdout",
     "output_type": "stream",
     "text": [
      "Training until validation scores don't improve for 100 rounds\n",
      "Early stopping, best iteration is:\n",
      "[238]\tvalid_0's multi_logloss: 0.327967\tvalid_0's accuracy: 0.907285\n",
      "Training until validation scores don't improve for 100 rounds\n",
      "Early stopping, best iteration is:\n",
      "[394]\tvalid_0's multi_logloss: 0.264025\tvalid_0's accuracy: 0.913881\n",
      "Training until validation scores don't improve for 100 rounds\n",
      "Early stopping, best iteration is:\n",
      "[361]\tvalid_0's multi_logloss: 0.283025\tvalid_0's accuracy: 0.909064\n",
      "Training until validation scores don't improve for 100 rounds\n",
      "Early stopping, best iteration is:\n",
      "[336]\tvalid_0's multi_logloss: 0.294461\tvalid_0's accuracy: 0.907558\n",
      "Training until validation scores don't improve for 100 rounds\n",
      "Early stopping, best iteration is:\n",
      "[429]\tvalid_0's multi_logloss: 0.275775\tvalid_0's accuracy: 0.90816\n"
     ]
    },
    {
     "name": "stderr",
     "output_type": "stream",
     "text": [
      "[I 2024-02-13 16:59:42,884] Trial 157 finished with value: 0.9060211946050096 and parameters: {'n_estimators': 1364, 'learning_rate': 0.012575757907740544, 'num_leaves': 923, 'max_depth': 18, 'min_data_in_leaf': 27, 'colsample_bytree': 0.9514650413619964, 'subsample': 1.153799540311938, 'min_gain_to_split': 1.1051768581249917, 'bagging_fraction': 0.8, 'bagging_freq': 1, 'feature_fraction': 0.5}. Best is trial 75 with value: 0.9079961464354529.\n"
     ]
    },
    {
     "name": "stdout",
     "output_type": "stream",
     "text": [
      "Training until validation scores don't improve for 100 rounds\n",
      "Early stopping, best iteration is:\n",
      "[100]\tvalid_0's multi_logloss: 0.376823\tvalid_0's accuracy: 0.906683\n",
      "Training until validation scores don't improve for 100 rounds\n",
      "Early stopping, best iteration is:\n",
      "[270]\tvalid_0's multi_logloss: 0.25166\tvalid_0's accuracy: 0.915989\n",
      "Training until validation scores don't improve for 100 rounds\n",
      "Early stopping, best iteration is:\n",
      "[191]\tvalid_0's multi_logloss: 0.28096\tvalid_0's accuracy: 0.910268\n",
      "Training until validation scores don't improve for 100 rounds\n",
      "Early stopping, best iteration is:\n",
      "[201]\tvalid_0's multi_logloss: 0.287699\tvalid_0's accuracy: 0.905751\n",
      "Training until validation scores don't improve for 100 rounds\n",
      "Early stopping, best iteration is:\n",
      "[249]\tvalid_0's multi_logloss: 0.271284\tvalid_0's accuracy: 0.911774\n"
     ]
    },
    {
     "name": "stderr",
     "output_type": "stream",
     "text": [
      "[I 2024-02-13 17:00:32,868] Trial 158 finished with value: 0.90611753371869 and parameters: {'n_estimators': 1149, 'learning_rate': 0.020969202078268457, 'num_leaves': 870, 'max_depth': 19, 'min_data_in_leaf': 14, 'colsample_bytree': 0.9040104271631579, 'subsample': 1.0649103199926653, 'min_gain_to_split': 0.23759783221062214, 'bagging_fraction': 0.8, 'bagging_freq': 1, 'feature_fraction': 0.5}. Best is trial 75 with value: 0.9079961464354529.\n"
     ]
    },
    {
     "name": "stdout",
     "output_type": "stream",
     "text": [
      "Training until validation scores don't improve for 100 rounds\n",
      "Early stopping, best iteration is:\n",
      "[459]\tvalid_0's multi_logloss: 0.310818\tvalid_0's accuracy: 0.903371\n",
      "Training until validation scores don't improve for 100 rounds\n",
      "Early stopping, best iteration is:\n",
      "[405]\tvalid_0's multi_logloss: 0.293999\tvalid_0's accuracy: 0.903945\n",
      "Training until validation scores don't improve for 100 rounds\n",
      "Early stopping, best iteration is:\n",
      "[52]\tvalid_0's multi_logloss: 0.556746\tvalid_0's accuracy: 0.899127\n",
      "Training until validation scores don't improve for 100 rounds\n",
      "Early stopping, best iteration is:\n",
      "[39]\tvalid_0's multi_logloss: 0.682302\tvalid_0's accuracy: 0.894309\n",
      "Training until validation scores don't improve for 100 rounds\n",
      "Early stopping, best iteration is:\n",
      "[383]\tvalid_0's multi_logloss: 0.304893\tvalid_0's accuracy: 0.904848\n"
     ]
    },
    {
     "name": "stderr",
     "output_type": "stream",
     "text": [
      "[I 2024-02-13 17:00:52,549] Trial 159 finished with value: 0.8974470134874759 and parameters: {'n_estimators': 1305, 'learning_rate': 0.025229730526937885, 'num_leaves': 847, 'max_depth': 17, 'min_data_in_leaf': 19, 'colsample_bytree': 0.7627609702368737, 'subsample': 1.0218782181906956, 'min_gain_to_split': 6.334586111015697, 'bagging_fraction': 0.9, 'bagging_freq': 1, 'feature_fraction': 0.5}. Best is trial 75 with value: 0.9079961464354529.\n"
     ]
    },
    {
     "name": "stdout",
     "output_type": "stream",
     "text": [
      "Training until validation scores don't improve for 100 rounds\n",
      "Early stopping, best iteration is:\n",
      "[114]\tvalid_0's multi_logloss: 0.302156\tvalid_0's accuracy: 0.90578\n",
      "Training until validation scores don't improve for 100 rounds\n",
      "Early stopping, best iteration is:\n",
      "[388]\tvalid_0's multi_logloss: 0.247751\tvalid_0's accuracy: 0.916893\n",
      "Training until validation scores don't improve for 100 rounds\n",
      "Early stopping, best iteration is:\n",
      "[231]\tvalid_0's multi_logloss: 0.262078\tvalid_0's accuracy: 0.911774\n",
      "Training until validation scores don't improve for 100 rounds\n",
      "Early stopping, best iteration is:\n",
      "[237]\tvalid_0's multi_logloss: 0.270726\tvalid_0's accuracy: 0.91087\n",
      "Training until validation scores don't improve for 100 rounds\n",
      "Early stopping, best iteration is:\n",
      "[151]\tvalid_0's multi_logloss: 0.275804\tvalid_0's accuracy: 0.908762\n"
     ]
    },
    {
     "name": "stderr",
     "output_type": "stream",
     "text": [
      "[I 2024-02-13 17:01:22,856] Trial 160 finished with value: 0.905587668593449 and parameters: {'n_estimators': 1714, 'learning_rate': 0.037286983300968024, 'num_leaves': 733, 'max_depth': 19, 'min_data_in_leaf': 9, 'colsample_bytree': 0.8787334189745207, 'subsample': 1.0982245159017399, 'min_gain_to_split': 0.7996847690127797, 'bagging_fraction': 0.7, 'bagging_freq': 1, 'feature_fraction': 0.5}. Best is trial 75 with value: 0.9079961464354529.\n"
     ]
    },
    {
     "name": "stdout",
     "output_type": "stream",
     "text": [
      "Training until validation scores don't improve for 100 rounds\n",
      "Early stopping, best iteration is:\n",
      "[315]\tvalid_0's multi_logloss: 0.290086\tvalid_0's accuracy: 0.909091\n",
      "Training until validation scores don't improve for 100 rounds\n",
      "Early stopping, best iteration is:\n",
      "[191]\tvalid_0's multi_logloss: 0.279549\tvalid_0's accuracy: 0.915989\n",
      "Training until validation scores don't improve for 100 rounds\n",
      "Early stopping, best iteration is:\n",
      "[129]\tvalid_0's multi_logloss: 0.345769\tvalid_0's accuracy: 0.910268\n",
      "Training until validation scores don't improve for 100 rounds\n",
      "Early stopping, best iteration is:\n",
      "[327]\tvalid_0's multi_logloss: 0.276624\tvalid_0's accuracy: 0.907257\n",
      "Training until validation scores don't improve for 100 rounds\n",
      "Early stopping, best iteration is:\n",
      "[313]\tvalid_0's multi_logloss: 0.271785\tvalid_0's accuracy: 0.912376\n"
     ]
    },
    {
     "name": "stderr",
     "output_type": "stream",
     "text": [
      "[I 2024-02-13 17:02:19,963] Trial 161 finished with value: 0.9060693641618498 and parameters: {'n_estimators': 1554, 'learning_rate': 0.017775782703010425, 'num_leaves': 780, 'max_depth': 19, 'min_data_in_leaf': 17, 'colsample_bytree': 0.8102494860340034, 'subsample': 1.1290974813625663, 'min_gain_to_split': 0.2777604461038944, 'bagging_fraction': 0.9, 'bagging_freq': 1, 'feature_fraction': 0.5}. Best is trial 75 with value: 0.9079961464354529.\n"
     ]
    },
    {
     "name": "stdout",
     "output_type": "stream",
     "text": [
      "Training until validation scores don't improve for 100 rounds\n",
      "Early stopping, best iteration is:\n",
      "[182]\tvalid_0's multi_logloss: 0.29734\tvalid_0's accuracy: 0.908489\n",
      "Training until validation scores don't improve for 100 rounds\n",
      "Early stopping, best iteration is:\n",
      "[286]\tvalid_0's multi_logloss: 0.251193\tvalid_0's accuracy: 0.91629\n",
      "Training until validation scores don't improve for 100 rounds\n",
      "Early stopping, best iteration is:\n",
      "[213]\tvalid_0's multi_logloss: 0.268601\tvalid_0's accuracy: 0.912075\n",
      "Training until validation scores don't improve for 100 rounds\n",
      "Early stopping, best iteration is:\n",
      "[325]\tvalid_0's multi_logloss: 0.271087\tvalid_0's accuracy: 0.908762\n",
      "Training until validation scores don't improve for 100 rounds\n",
      "Early stopping, best iteration is:\n",
      "[274]\tvalid_0's multi_logloss: 0.269006\tvalid_0's accuracy: 0.912376\n"
     ]
    },
    {
     "name": "stderr",
     "output_type": "stream",
     "text": [
      "[I 2024-02-13 17:02:56,822] Trial 162 finished with value: 0.9076107899807322 and parameters: {'n_estimators': 1103, 'learning_rate': 0.02346403118100422, 'num_leaves': 758, 'max_depth': 18, 'min_data_in_leaf': 18, 'colsample_bytree': 0.8483324205383729, 'subsample': 1.2052415582873166, 'min_gain_to_split': 0.5729721398058623, 'bagging_fraction': 0.9, 'bagging_freq': 1, 'feature_fraction': 0.5}. Best is trial 75 with value: 0.9079961464354529.\n"
     ]
    },
    {
     "name": "stdout",
     "output_type": "stream",
     "text": [
      "Training until validation scores don't improve for 100 rounds\n",
      "Early stopping, best iteration is:\n",
      "[192]\tvalid_0's multi_logloss: 0.290111\tvalid_0's accuracy: 0.908188\n",
      "Training until validation scores don't improve for 100 rounds\n",
      "Early stopping, best iteration is:\n",
      "[270]\tvalid_0's multi_logloss: 0.248441\tvalid_0's accuracy: 0.915688\n",
      "Training until validation scores don't improve for 100 rounds\n",
      "Early stopping, best iteration is:\n",
      "[105]\tvalid_0's multi_logloss: 0.307845\tvalid_0's accuracy: 0.91087\n",
      "Training until validation scores don't improve for 100 rounds\n",
      "Early stopping, best iteration is:\n",
      "[196]\tvalid_0's multi_logloss: 0.27779\tvalid_0's accuracy: 0.906956\n",
      "Training until validation scores don't improve for 100 rounds\n",
      "Early stopping, best iteration is:\n",
      "[291]\tvalid_0's multi_logloss: 0.26643\tvalid_0's accuracy: 0.912677\n"
     ]
    },
    {
     "name": "stderr",
     "output_type": "stream",
     "text": [
      "[I 2024-02-13 17:03:29,646] Trial 163 finished with value: 0.9079479768786127 and parameters: {'n_estimators': 1094, 'learning_rate': 0.028227521481740674, 'num_leaves': 756, 'max_depth': 18, 'min_data_in_leaf': 19, 'colsample_bytree': 0.8594439666532759, 'subsample': 1.2178100859145866, 'min_gain_to_split': 0.5240173005449763, 'bagging_fraction': 0.9, 'bagging_freq': 1, 'feature_fraction': 0.5}. Best is trial 75 with value: 0.9079961464354529.\n"
     ]
    },
    {
     "name": "stdout",
     "output_type": "stream",
     "text": [
      "Training until validation scores don't improve for 100 rounds\n",
      "Early stopping, best iteration is:\n",
      "[302]\tvalid_0's multi_logloss: 0.28332\tvalid_0's accuracy: 0.910897\n",
      "Training until validation scores don't improve for 100 rounds\n",
      "Early stopping, best iteration is:\n",
      "[302]\tvalid_0's multi_logloss: 0.255145\tvalid_0's accuracy: 0.915688\n",
      "Training until validation scores don't improve for 100 rounds\n",
      "Early stopping, best iteration is:\n",
      "[256]\tvalid_0's multi_logloss: 0.266213\tvalid_0's accuracy: 0.911472\n",
      "Training until validation scores don't improve for 100 rounds\n",
      "Early stopping, best iteration is:\n",
      "[188]\tvalid_0's multi_logloss: 0.285156\tvalid_0's accuracy: 0.908762\n",
      "Training until validation scores don't improve for 100 rounds\n",
      "Early stopping, best iteration is:\n",
      "[171]\tvalid_0's multi_logloss: 0.280427\tvalid_0's accuracy: 0.912075\n"
     ]
    },
    {
     "name": "stderr",
     "output_type": "stream",
     "text": [
      "[I 2024-02-13 17:03:55,097] Trial 164 finished with value: 0.9065510597302504 and parameters: {'n_estimators': 1120, 'learning_rate': 0.029191986204266385, 'num_leaves': 829, 'max_depth': 18, 'min_data_in_leaf': 23, 'colsample_bytree': 0.8562630860328142, 'subsample': 1.229273813691785, 'min_gain_to_split': 1.2587660598852755, 'bagging_fraction': 0.9, 'bagging_freq': 1, 'feature_fraction': 0.5}. Best is trial 75 with value: 0.9079961464354529.\n"
     ]
    },
    {
     "name": "stdout",
     "output_type": "stream",
     "text": [
      "Training until validation scores don't improve for 100 rounds\n",
      "Early stopping, best iteration is:\n",
      "[179]\tvalid_0's multi_logloss: 0.295476\tvalid_0's accuracy: 0.907887\n",
      "Training until validation scores don't improve for 100 rounds\n",
      "Early stopping, best iteration is:\n",
      "[272]\tvalid_0's multi_logloss: 0.251234\tvalid_0's accuracy: 0.91629\n",
      "Training until validation scores don't improve for 100 rounds\n",
      "Early stopping, best iteration is:\n",
      "[239]\tvalid_0's multi_logloss: 0.26367\tvalid_0's accuracy: 0.911472\n",
      "Training until validation scores don't improve for 100 rounds\n",
      "Early stopping, best iteration is:\n",
      "[163]\tvalid_0's multi_logloss: 0.288682\tvalid_0's accuracy: 0.909064\n",
      "Training until validation scores don't improve for 100 rounds\n",
      "Early stopping, best iteration is:\n",
      "[213]\tvalid_0's multi_logloss: 0.273486\tvalid_0's accuracy: 0.910569\n"
     ]
    },
    {
     "name": "stderr",
     "output_type": "stream",
     "text": [
      "[I 2024-02-13 17:04:25,700] Trial 165 finished with value: 0.906888246628131 and parameters: {'n_estimators': 1090, 'learning_rate': 0.02591719424156137, 'num_leaves': 752, 'max_depth': 18, 'min_data_in_leaf': 20, 'colsample_bytree': 0.8965470979193962, 'subsample': 1.187279818298923, 'min_gain_to_split': 0.6595579361845858, 'bagging_fraction': 0.8, 'bagging_freq': 1, 'feature_fraction': 0.5}. Best is trial 75 with value: 0.9079961464354529.\n"
     ]
    },
    {
     "name": "stdout",
     "output_type": "stream",
     "text": [
      "Training until validation scores don't improve for 100 rounds\n",
      "Early stopping, best iteration is:\n",
      "[175]\tvalid_0's multi_logloss: 0.295891\tvalid_0's accuracy: 0.906683\n",
      "Training until validation scores don't improve for 100 rounds\n",
      "Early stopping, best iteration is:\n",
      "[277]\tvalid_0's multi_logloss: 0.254463\tvalid_0's accuracy: 0.91629\n",
      "Training until validation scores don't improve for 100 rounds\n",
      "Early stopping, best iteration is:\n",
      "[369]\tvalid_0's multi_logloss: 0.260704\tvalid_0's accuracy: 0.911774\n",
      "Training until validation scores don't improve for 100 rounds\n",
      "Early stopping, best iteration is:\n",
      "[157]\tvalid_0's multi_logloss: 0.292776\tvalid_0's accuracy: 0.906956\n",
      "Training until validation scores don't improve for 100 rounds\n",
      "Early stopping, best iteration is:\n",
      "[369]\tvalid_0's multi_logloss: 0.26658\tvalid_0's accuracy: 0.912376\n"
     ]
    },
    {
     "name": "stderr",
     "output_type": "stream",
     "text": [
      "[I 2024-02-13 17:04:53,916] Trial 166 finished with value: 0.9066955684007706 and parameters: {'n_estimators': 1096, 'learning_rate': 0.033045080510891604, 'num_leaves': 690, 'max_depth': 17, 'min_data_in_leaf': 18, 'colsample_bytree': 0.8900946742925355, 'subsample': 1.1878691564766595, 'min_gain_to_split': 0.9607315703827366, 'bagging_fraction': 0.9, 'bagging_freq': 1, 'feature_fraction': 0.4}. Best is trial 75 with value: 0.9079961464354529.\n"
     ]
    },
    {
     "name": "stdout",
     "output_type": "stream",
     "text": [
      "Training until validation scores don't improve for 100 rounds\n",
      "Early stopping, best iteration is:\n",
      "[172]\tvalid_0's multi_logloss: 0.29604\tvalid_0's accuracy: 0.907887\n",
      "Training until validation scores don't improve for 100 rounds\n",
      "Early stopping, best iteration is:\n",
      "[306]\tvalid_0's multi_logloss: 0.250349\tvalid_0's accuracy: 0.913881\n",
      "Training until validation scores don't improve for 100 rounds\n",
      "Early stopping, best iteration is:\n",
      "[275]\tvalid_0's multi_logloss: 0.261528\tvalid_0's accuracy: 0.910569\n",
      "Training until validation scores don't improve for 100 rounds\n",
      "Early stopping, best iteration is:\n",
      "[201]\tvalid_0's multi_logloss: 0.277891\tvalid_0's accuracy: 0.909064\n",
      "Training until validation scores don't improve for 100 rounds\n",
      "Early stopping, best iteration is:\n",
      "[198]\tvalid_0's multi_logloss: 0.276384\tvalid_0's accuracy: 0.909064\n"
     ]
    },
    {
     "name": "stderr",
     "output_type": "stream",
     "text": [
      "[I 2024-02-13 17:05:25,078] Trial 167 finished with value: 0.9062138728323699 and parameters: {'n_estimators': 990, 'learning_rate': 0.02613280974947422, 'num_leaves': 760, 'max_depth': 18, 'min_data_in_leaf': 20, 'colsample_bytree': 0.7837822714460304, 'subsample': 1.1661443574818149, 'min_gain_to_split': 0.7199702247009914, 'bagging_fraction': 0.8, 'bagging_freq': 1, 'feature_fraction': 0.5}. Best is trial 75 with value: 0.9079961464354529.\n"
     ]
    },
    {
     "name": "stdout",
     "output_type": "stream",
     "text": [
      "Training until validation scores don't improve for 100 rounds\n",
      "Early stopping, best iteration is:\n",
      "[163]\tvalid_0's multi_logloss: 0.289914\tvalid_0's accuracy: 0.907887\n",
      "Training until validation scores don't improve for 100 rounds\n",
      "Early stopping, best iteration is:\n",
      "[156]\tvalid_0's multi_logloss: 0.266112\tvalid_0's accuracy: 0.912978\n",
      "Training until validation scores don't improve for 100 rounds\n",
      "Early stopping, best iteration is:\n",
      "[351]\tvalid_0's multi_logloss: 0.264636\tvalid_0's accuracy: 0.912677\n",
      "Training until validation scores don't improve for 100 rounds\n",
      "Early stopping, best iteration is:\n",
      "[100]\tvalid_0's multi_logloss: 0.30165\tvalid_0's accuracy: 0.907257\n",
      "Training until validation scores don't improve for 100 rounds\n",
      "Early stopping, best iteration is:\n",
      "[280]\tvalid_0's multi_logloss: 0.269784\tvalid_0's accuracy: 0.912376\n"
     ]
    },
    {
     "name": "stderr",
     "output_type": "stream",
     "text": [
      "[I 2024-02-13 17:05:45,906] Trial 168 finished with value: 0.9059730250481696 and parameters: {'n_estimators': 1068, 'learning_rate': 0.039228017281137555, 'num_leaves': 618, 'max_depth': 17, 'min_data_in_leaf': 14, 'colsample_bytree': 0.8471851896628512, 'subsample': 1.2605697650226366, 'min_gain_to_split': 1.4956548425236376, 'bagging_fraction': 0.9, 'bagging_freq': 1, 'feature_fraction': 0.5}. Best is trial 75 with value: 0.9079961464354529.\n"
     ]
    },
    {
     "name": "stdout",
     "output_type": "stream",
     "text": [
      "Training until validation scores don't improve for 100 rounds\n",
      "Early stopping, best iteration is:\n",
      "[200]\tvalid_0's multi_logloss: 0.29685\tvalid_0's accuracy: 0.906984\n",
      "Training until validation scores don't improve for 100 rounds\n",
      "Early stopping, best iteration is:\n",
      "[371]\tvalid_0's multi_logloss: 0.251896\tvalid_0's accuracy: 0.917194\n",
      "Training until validation scores don't improve for 100 rounds\n",
      "Early stopping, best iteration is:\n",
      "[286]\tvalid_0's multi_logloss: 0.26532\tvalid_0's accuracy: 0.91087\n",
      "Training until validation scores don't improve for 100 rounds\n",
      "Early stopping, best iteration is:\n",
      "[351]\tvalid_0's multi_logloss: 0.272542\tvalid_0's accuracy: 0.90816\n",
      "Training until validation scores don't improve for 100 rounds\n",
      "Early stopping, best iteration is:\n",
      "[190]\tvalid_0's multi_logloss: 0.285341\tvalid_0's accuracy: 0.91087\n"
     ]
    },
    {
     "name": "stderr",
     "output_type": "stream",
     "text": [
      "[I 2024-02-13 17:06:17,311] Trial 169 finished with value: 0.9059248554913294 and parameters: {'n_estimators': 1682, 'learning_rate': 0.02406090585794677, 'num_leaves': 726, 'max_depth': 18, 'min_data_in_leaf': 21, 'colsample_bytree': 0.9716209820694768, 'subsample': 1.2052251429913619, 'min_gain_to_split': 1.1147464098868083, 'bagging_fraction': 0.8, 'bagging_freq': 1, 'feature_fraction': 0.5}. Best is trial 75 with value: 0.9079961464354529.\n"
     ]
    },
    {
     "name": "stdout",
     "output_type": "stream",
     "text": [
      "Training until validation scores don't improve for 100 rounds\n",
      "Early stopping, best iteration is:\n",
      "[112]\tvalid_0's multi_logloss: 0.312359\tvalid_0's accuracy: 0.907887\n",
      "Training until validation scores don't improve for 100 rounds\n",
      "Early stopping, best iteration is:\n",
      "[212]\tvalid_0's multi_logloss: 0.249993\tvalid_0's accuracy: 0.917194\n",
      "Training until validation scores don't improve for 100 rounds\n",
      "Early stopping, best iteration is:\n",
      "[214]\tvalid_0's multi_logloss: 0.263927\tvalid_0's accuracy: 0.911472\n",
      "Training until validation scores don't improve for 100 rounds\n",
      "Early stopping, best iteration is:\n",
      "[117]\tvalid_0's multi_logloss: 0.304974\tvalid_0's accuracy: 0.906052\n",
      "Training until validation scores don't improve for 100 rounds\n",
      "Early stopping, best iteration is:\n",
      "[194]\tvalid_0's multi_logloss: 0.269328\tvalid_0's accuracy: 0.911171\n"
     ]
    },
    {
     "name": "stderr",
     "output_type": "stream",
     "text": [
      "[I 2024-02-13 17:06:46,524] Trial 170 finished with value: 0.9060211946050096 and parameters: {'n_estimators': 1175, 'learning_rate': 0.02995169449001383, 'num_leaves': 810, 'max_depth': 16, 'min_data_in_leaf': 24, 'colsample_bytree': 0.8742019125475025, 'subsample': 0.9868272889960183, 'min_gain_to_split': 0.5679074826078345, 'bagging_fraction': 0.8, 'bagging_freq': 1, 'feature_fraction': 0.5}. Best is trial 75 with value: 0.9079961464354529.\n"
     ]
    },
    {
     "name": "stdout",
     "output_type": "stream",
     "text": [
      "Training until validation scores don't improve for 100 rounds\n",
      "Early stopping, best iteration is:\n",
      "[197]\tvalid_0's multi_logloss: 0.294258\tvalid_0's accuracy: 0.90879\n",
      "Training until validation scores don't improve for 100 rounds\n",
      "Early stopping, best iteration is:\n",
      "[316]\tvalid_0's multi_logloss: 0.245762\tvalid_0's accuracy: 0.918398\n",
      "Training until validation scores don't improve for 100 rounds\n",
      "Early stopping, best iteration is:\n",
      "[231]\tvalid_0's multi_logloss: 0.26897\tvalid_0's accuracy: 0.910569\n",
      "Training until validation scores don't improve for 100 rounds\n",
      "Early stopping, best iteration is:\n",
      "[169]\tvalid_0's multi_logloss: 0.298174\tvalid_0's accuracy: 0.905751\n",
      "Training until validation scores don't improve for 100 rounds\n",
      "Early stopping, best iteration is:\n",
      "[209]\tvalid_0's multi_logloss: 0.275606\tvalid_0's accuracy: 0.911472\n"
     ]
    },
    {
     "name": "stderr",
     "output_type": "stream",
     "text": [
      "[I 2024-02-13 17:07:32,401] Trial 171 finished with value: 0.9070327552986512 and parameters: {'n_estimators': 1205, 'learning_rate': 0.021465798661433243, 'num_leaves': 799, 'max_depth': 18, 'min_data_in_leaf': 26, 'colsample_bytree': 0.910740892168849, 'subsample': 1.0885488974778765, 'min_gain_to_split': 0.247744722422304, 'bagging_fraction': 0.8, 'bagging_freq': 1, 'feature_fraction': 0.5}. Best is trial 75 with value: 0.9079961464354529.\n"
     ]
    },
    {
     "name": "stdout",
     "output_type": "stream",
     "text": [
      "Training until validation scores don't improve for 100 rounds\n",
      "Early stopping, best iteration is:\n",
      "[257]\tvalid_0's multi_logloss: 0.305631\tvalid_0's accuracy: 0.905479\n",
      "Training until validation scores don't improve for 100 rounds\n",
      "Early stopping, best iteration is:\n",
      "[608]\tvalid_0's multi_logloss: 0.272839\tvalid_0's accuracy: 0.911774\n",
      "Training until validation scores don't improve for 100 rounds\n",
      "Early stopping, best iteration is:\n",
      "[112]\tvalid_0's multi_logloss: 0.362619\tvalid_0's accuracy: 0.904246\n",
      "Training until validation scores don't improve for 100 rounds\n",
      "Early stopping, best iteration is:\n",
      "[156]\tvalid_0's multi_logloss: 0.326232\tvalid_0's accuracy: 0.905149\n",
      "Training until validation scores don't improve for 100 rounds\n",
      "Early stopping, best iteration is:\n",
      "[381]\tvalid_0's multi_logloss: 0.286868\tvalid_0's accuracy: 0.907257\n"
     ]
    },
    {
     "name": "stderr",
     "output_type": "stream",
     "text": [
      "[I 2024-02-13 17:07:56,633] Trial 172 finished with value: 0.9021194605009633 and parameters: {'n_estimators': 1142, 'learning_rate': 0.023276046581069756, 'num_leaves': 757, 'max_depth': 18, 'min_data_in_leaf': 18, 'colsample_bytree': 0.9352943661021446, 'subsample': 1.083389214709488, 'min_gain_to_split': 3.4000548445349894, 'bagging_fraction': 0.8, 'bagging_freq': 1, 'feature_fraction': 0.5}. Best is trial 75 with value: 0.9079961464354529.\n"
     ]
    },
    {
     "name": "stdout",
     "output_type": "stream",
     "text": [
      "Training until validation scores don't improve for 100 rounds\n",
      "Early stopping, best iteration is:\n",
      "[170]\tvalid_0's multi_logloss: 0.305853\tvalid_0's accuracy: 0.909091\n",
      "Training until validation scores don't improve for 100 rounds\n",
      "Early stopping, best iteration is:\n",
      "[404]\tvalid_0's multi_logloss: 0.245829\tvalid_0's accuracy: 0.918699\n",
      "Training until validation scores don't improve for 100 rounds\n",
      "Early stopping, best iteration is:\n",
      "[283]\tvalid_0's multi_logloss: 0.264625\tvalid_0's accuracy: 0.912075\n",
      "Training until validation scores don't improve for 100 rounds\n",
      "Early stopping, best iteration is:\n",
      "[182]\tvalid_0's multi_logloss: 0.295632\tvalid_0's accuracy: 0.907558\n",
      "Training until validation scores don't improve for 100 rounds\n",
      "Early stopping, best iteration is:\n",
      "[474]\tvalid_0's multi_logloss: 0.264043\tvalid_0's accuracy: 0.913279\n"
     ]
    },
    {
     "name": "stderr",
     "output_type": "stream",
     "text": [
      "[I 2024-02-13 17:08:36,550] Trial 173 finished with value: 0.9065510597302506 and parameters: {'n_estimators': 1101, 'learning_rate': 0.021646186814897706, 'num_leaves': 791, 'max_depth': 18, 'min_data_in_leaf': 21, 'colsample_bytree': 0.8971554976972884, 'subsample': 1.1458970316418555, 'min_gain_to_split': 0.6155296195397897, 'bagging_fraction': 0.8, 'bagging_freq': 1, 'feature_fraction': 0.5}. Best is trial 75 with value: 0.9079961464354529.\n"
     ]
    },
    {
     "name": "stdout",
     "output_type": "stream",
     "text": [
      "Training until validation scores don't improve for 100 rounds\n",
      "Early stopping, best iteration is:\n",
      "[616]\tvalid_0's multi_logloss: 0.283331\tvalid_0's accuracy: 0.909994\n",
      "Training until validation scores don't improve for 100 rounds\n",
      "Early stopping, best iteration is:\n",
      "[398]\tvalid_0's multi_logloss: 0.260396\tvalid_0's accuracy: 0.915989\n",
      "Training until validation scores don't improve for 100 rounds\n",
      "Early stopping, best iteration is:\n",
      "[381]\tvalid_0's multi_logloss: 0.268646\tvalid_0's accuracy: 0.909666\n",
      "Training until validation scores don't improve for 100 rounds\n",
      "Early stopping, best iteration is:\n",
      "[378]\tvalid_0's multi_logloss: 0.277534\tvalid_0's accuracy: 0.909365\n",
      "Training until validation scores don't improve for 100 rounds\n",
      "Early stopping, best iteration is:\n",
      "[312]\tvalid_0's multi_logloss: 0.282028\tvalid_0's accuracy: 0.910569\n"
     ]
    },
    {
     "name": "stderr",
     "output_type": "stream",
     "text": [
      "[I 2024-02-13 17:09:06,324] Trial 174 finished with value: 0.904865125240848 and parameters: {'n_estimators': 1185, 'learning_rate': 0.025884092437135752, 'num_leaves': 838, 'max_depth': 4, 'min_data_in_leaf': 16, 'colsample_bytree': 0.9182727367714705, 'subsample': 1.0393116837870975, 'min_gain_to_split': 0.9380339425477966, 'bagging_fraction': 0.8, 'bagging_freq': 1, 'feature_fraction': 0.5}. Best is trial 75 with value: 0.9079961464354529.\n"
     ]
    },
    {
     "name": "stdout",
     "output_type": "stream",
     "text": [
      "Training until validation scores don't improve for 100 rounds\n",
      "Early stopping, best iteration is:\n",
      "[243]\tvalid_0's multi_logloss: 0.293393\tvalid_0's accuracy: 0.910295\n",
      "Training until validation scores don't improve for 100 rounds\n",
      "Early stopping, best iteration is:\n",
      "[512]\tvalid_0's multi_logloss: 0.244426\tvalid_0's accuracy: 0.918699\n",
      "Training until validation scores don't improve for 100 rounds\n",
      "Early stopping, best iteration is:\n",
      "[319]\tvalid_0's multi_logloss: 0.260883\tvalid_0's accuracy: 0.911171\n",
      "Training until validation scores don't improve for 100 rounds\n",
      "Early stopping, best iteration is:\n",
      "[239]\tvalid_0's multi_logloss: 0.280663\tvalid_0's accuracy: 0.90816\n",
      "Training until validation scores don't improve for 100 rounds\n",
      "Early stopping, best iteration is:\n",
      "[324]\tvalid_0's multi_logloss: 0.266081\tvalid_0's accuracy: 0.912376\n"
     ]
    },
    {
     "name": "stderr",
     "output_type": "stream",
     "text": [
      "[I 2024-02-13 17:09:55,896] Trial 175 finished with value: 0.9076107899807322 and parameters: {'n_estimators': 1037, 'learning_rate': 0.019607699005778658, 'num_leaves': 893, 'max_depth': 17, 'min_data_in_leaf': 44, 'colsample_bytree': 0.9580954389298806, 'subsample': 1.1043653472072248, 'min_gain_to_split': 0.3628643422012385, 'bagging_fraction': 0.8, 'bagging_freq': 1, 'feature_fraction': 0.5}. Best is trial 75 with value: 0.9079961464354529.\n"
     ]
    },
    {
     "name": "stdout",
     "output_type": "stream",
     "text": [
      "Training until validation scores don't improve for 100 rounds\n",
      "Early stopping, best iteration is:\n",
      "[254]\tvalid_0's multi_logloss: 0.291877\tvalid_0's accuracy: 0.90879\n",
      "Training until validation scores don't improve for 100 rounds\n",
      "Early stopping, best iteration is:\n",
      "[325]\tvalid_0's multi_logloss: 0.249881\tvalid_0's accuracy: 0.916591\n",
      "Training until validation scores don't improve for 100 rounds\n",
      "Early stopping, best iteration is:\n",
      "[204]\tvalid_0's multi_logloss: 0.282724\tvalid_0's accuracy: 0.911171\n",
      "Training until validation scores don't improve for 100 rounds\n",
      "Early stopping, best iteration is:\n",
      "[213]\tvalid_0's multi_logloss: 0.287657\tvalid_0's accuracy: 0.907859\n",
      "Training until validation scores don't improve for 100 rounds\n",
      "Early stopping, best iteration is:\n",
      "[339]\tvalid_0's multi_logloss: 0.265837\tvalid_0's accuracy: 0.911472\n"
     ]
    },
    {
     "name": "stderr",
     "output_type": "stream",
     "text": [
      "[I 2024-02-13 17:11:09,077] Trial 176 finished with value: 0.9065992292870906 and parameters: {'n_estimators': 1030, 'learning_rate': 0.019034375163526605, 'num_leaves': 892, 'max_depth': 17, 'min_data_in_leaf': 52, 'colsample_bytree': 0.9521912117033091, 'subsample': 1.0647130868142998, 'min_gain_to_split': 0.014214923481842279, 'bagging_fraction': 0.9, 'bagging_freq': 1, 'feature_fraction': 0.5}. Best is trial 75 with value: 0.9079961464354529.\n"
     ]
    },
    {
     "name": "stdout",
     "output_type": "stream",
     "text": [
      "Training until validation scores don't improve for 100 rounds\n",
      "Early stopping, best iteration is:\n",
      "[315]\tvalid_0's multi_logloss: 0.291697\tvalid_0's accuracy: 0.909994\n",
      "Training until validation scores don't improve for 100 rounds\n",
      "Early stopping, best iteration is:\n",
      "[595]\tvalid_0's multi_logloss: 0.243388\tvalid_0's accuracy: 0.919603\n",
      "Training until validation scores don't improve for 100 rounds\n",
      "Early stopping, best iteration is:\n",
      "[319]\tvalid_0's multi_logloss: 0.26859\tvalid_0's accuracy: 0.911774\n",
      "Training until validation scores don't improve for 100 rounds\n",
      "Early stopping, best iteration is:\n",
      "[262]\tvalid_0's multi_logloss: 0.290132\tvalid_0's accuracy: 0.907859\n",
      "Training until validation scores don't improve for 100 rounds\n",
      "Early stopping, best iteration is:\n",
      "[311]\tvalid_0's multi_logloss: 0.275274\tvalid_0's accuracy: 0.911774\n"
     ]
    },
    {
     "name": "stderr",
     "output_type": "stream",
     "text": [
      "[I 2024-02-13 17:12:07,195] Trial 177 finished with value: 0.9069364161849711 and parameters: {'n_estimators': 949, 'learning_rate': 0.015639111287541415, 'num_leaves': 871, 'max_depth': 17, 'min_data_in_leaf': 49, 'colsample_bytree': 0.9809128092679079, 'subsample': 1.0962470532776265, 'min_gain_to_split': 0.36013899534291244, 'bagging_fraction': 0.8, 'bagging_freq': 1, 'feature_fraction': 0.5}. Best is trial 75 with value: 0.9079961464354529.\n"
     ]
    },
    {
     "name": "stdout",
     "output_type": "stream",
     "text": [
      "Training until validation scores don't improve for 100 rounds\n",
      "Early stopping, best iteration is:\n",
      "[361]\tvalid_0's multi_logloss: 0.296307\tvalid_0's accuracy: 0.907586\n",
      "Training until validation scores don't improve for 100 rounds\n",
      "Early stopping, best iteration is:\n",
      "[577]\tvalid_0's multi_logloss: 0.268753\tvalid_0's accuracy: 0.912376\n",
      "Training until validation scores don't improve for 100 rounds\n",
      "Early stopping, best iteration is:\n",
      "[272]\tvalid_0's multi_logloss: 0.291829\tvalid_0's accuracy: 0.905751\n",
      "Training until validation scores don't improve for 100 rounds\n",
      "Early stopping, best iteration is:\n",
      "[423]\tvalid_0's multi_logloss: 0.285544\tvalid_0's accuracy: 0.90545\n",
      "Training until validation scores don't improve for 100 rounds\n",
      "Early stopping, best iteration is:\n",
      "[232]\tvalid_0's multi_logloss: 0.301142\tvalid_0's accuracy: 0.908461\n"
     ]
    },
    {
     "name": "stderr",
     "output_type": "stream",
     "text": [
      "[I 2024-02-13 17:12:40,080] Trial 178 finished with value: 0.903131021194605 and parameters: {'n_estimators': 1588, 'learning_rate': 0.020941648455236918, 'num_leaves': 976, 'max_depth': 18, 'min_data_in_leaf': 44, 'colsample_bytree': 0.9549280564645968, 'subsample': 0.9479029997332277, 'min_gain_to_split': 2.7966479319959383, 'bagging_fraction': 0.8, 'bagging_freq': 1, 'feature_fraction': 0.5}. Best is trial 75 with value: 0.9079961464354529.\n"
     ]
    },
    {
     "name": "stdout",
     "output_type": "stream",
     "text": [
      "Training until validation scores don't improve for 100 rounds\n",
      "Early stopping, best iteration is:\n",
      "[273]\tvalid_0's multi_logloss: 0.284722\tvalid_0's accuracy: 0.909994\n",
      "Training until validation scores don't improve for 100 rounds\n",
      "Early stopping, best iteration is:\n",
      "[219]\tvalid_0's multi_logloss: 0.258828\tvalid_0's accuracy: 0.915086\n",
      "Training until validation scores don't improve for 100 rounds\n",
      "Early stopping, best iteration is:\n",
      "[140]\tvalid_0's multi_logloss: 0.286672\tvalid_0's accuracy: 0.908762\n",
      "Training until validation scores don't improve for 100 rounds\n",
      "Early stopping, best iteration is:\n",
      "[236]\tvalid_0's multi_logloss: 0.27655\tvalid_0's accuracy: 0.909365\n",
      "Training until validation scores don't improve for 100 rounds\n",
      "Early stopping, best iteration is:\n",
      "[148]\tvalid_0's multi_logloss: 0.286729\tvalid_0's accuracy: 0.911774\n"
     ]
    },
    {
     "name": "stderr",
     "output_type": "stream",
     "text": [
      "[I 2024-02-13 17:13:04,027] Trial 179 finished with value: 0.9048169556840078 and parameters: {'n_estimators': 1512, 'learning_rate': 0.0330572496915126, 'num_leaves': 855, 'max_depth': 9, 'min_data_in_leaf': 38, 'colsample_bytree': 0.9293613906796513, 'subsample': 1.0223606156640308, 'min_gain_to_split': 1.3141837429461634, 'bagging_fraction': 0.7, 'bagging_freq': 1, 'feature_fraction': 0.5}. Best is trial 75 with value: 0.9079961464354529.\n"
     ]
    },
    {
     "name": "stdout",
     "output_type": "stream",
     "text": [
      "Training until validation scores don't improve for 100 rounds\n",
      "Early stopping, best iteration is:\n",
      "[228]\tvalid_0's multi_logloss: 0.300579\tvalid_0's accuracy: 0.907887\n",
      "Training until validation scores don't improve for 100 rounds\n",
      "Early stopping, best iteration is:\n",
      "[369]\tvalid_0's multi_logloss: 0.26321\tvalid_0's accuracy: 0.915086\n",
      "Training until validation scores don't improve for 100 rounds\n",
      "Early stopping, best iteration is:\n",
      "[278]\tvalid_0's multi_logloss: 0.27736\tvalid_0's accuracy: 0.906956\n",
      "Training until validation scores don't improve for 100 rounds\n",
      "Early stopping, best iteration is:\n",
      "[269]\tvalid_0's multi_logloss: 0.286015\tvalid_0's accuracy: 0.907558\n",
      "Training until validation scores don't improve for 100 rounds\n",
      "Early stopping, best iteration is:\n",
      "[445]\tvalid_0's multi_logloss: 0.273747\tvalid_0's accuracy: 0.910268\n"
     ]
    },
    {
     "name": "stderr",
     "output_type": "stream",
     "text": [
      "[I 2024-02-13 17:13:34,751] Trial 180 finished with value: 0.9048169556840076 and parameters: {'n_estimators': 1234, 'learning_rate': 0.018736765334787568, 'num_leaves': 940, 'max_depth': 17, 'min_data_in_leaf': 25, 'colsample_bytree': 0.9863826325478022, 'subsample': 1.1200176755332616, 'min_gain_to_split': 1.8716529053220976, 'bagging_fraction': 0.9, 'bagging_freq': 1, 'feature_fraction': 0.6000000000000001}. Best is trial 75 with value: 0.9079961464354529.\n"
     ]
    },
    {
     "name": "stdout",
     "output_type": "stream",
     "text": [
      "Training until validation scores don't improve for 100 rounds\n",
      "Early stopping, best iteration is:\n",
      "[303]\tvalid_0's multi_logloss: 0.293058\tvalid_0's accuracy: 0.909693\n",
      "Training until validation scores don't improve for 100 rounds\n",
      "Early stopping, best iteration is:\n",
      "[432]\tvalid_0's multi_logloss: 0.245188\tvalid_0's accuracy: 0.918097\n",
      "Training until validation scores don't improve for 100 rounds\n",
      "Early stopping, best iteration is:\n",
      "[338]\tvalid_0's multi_logloss: 0.264471\tvalid_0's accuracy: 0.911171\n",
      "Training until validation scores don't improve for 100 rounds\n",
      "Early stopping, best iteration is:\n",
      "[334]\tvalid_0's multi_logloss: 0.275209\tvalid_0's accuracy: 0.90816\n",
      "Training until validation scores don't improve for 100 rounds\n",
      "Early stopping, best iteration is:\n",
      "[308]\tvalid_0's multi_logloss: 0.274368\tvalid_0's accuracy: 0.912075\n"
     ]
    },
    {
     "name": "stderr",
     "output_type": "stream",
     "text": [
      "[I 2024-02-13 17:14:32,184] Trial 181 finished with value: 0.9067919075144507 and parameters: {'n_estimators': 949, 'learning_rate': 0.01597190284156983, 'num_leaves': 883, 'max_depth': 16, 'min_data_in_leaf': 48, 'colsample_bytree': 0.9670316507787052, 'subsample': 1.0890616547582956, 'min_gain_to_split': 0.33496708357563626, 'bagging_fraction': 0.8, 'bagging_freq': 1, 'feature_fraction': 0.5}. Best is trial 75 with value: 0.9079961464354529.\n"
     ]
    },
    {
     "name": "stdout",
     "output_type": "stream",
     "text": [
      "Training until validation scores don't improve for 100 rounds\n",
      "Early stopping, best iteration is:\n",
      "[407]\tvalid_0's multi_logloss: 0.286479\tvalid_0's accuracy: 0.911499\n",
      "Training until validation scores don't improve for 100 rounds\n",
      "Early stopping, best iteration is:\n",
      "[588]\tvalid_0's multi_logloss: 0.244912\tvalid_0's accuracy: 0.917796\n",
      "Training until validation scores don't improve for 100 rounds\n",
      "Early stopping, best iteration is:\n",
      "[356]\tvalid_0's multi_logloss: 0.267352\tvalid_0's accuracy: 0.911171\n",
      "Training until validation scores don't improve for 100 rounds\n",
      "Early stopping, best iteration is:\n",
      "[395]\tvalid_0's multi_logloss: 0.272808\tvalid_0's accuracy: 0.90816\n",
      "Training until validation scores don't improve for 100 rounds\n",
      "Early stopping, best iteration is:\n",
      "[345]\tvalid_0's multi_logloss: 0.273288\tvalid_0's accuracy: 0.912075\n"
     ]
    },
    {
     "name": "stderr",
     "output_type": "stream",
     "text": [
      "[I 2024-02-13 17:15:33,061] Trial 182 finished with value: 0.9070809248554912 and parameters: {'n_estimators': 709, 'learning_rate': 0.014418279221405863, 'num_leaves': 873, 'max_depth': 17, 'min_data_in_leaf': 52, 'colsample_bytree': 0.9842793903760491, 'subsample': 1.0630610199164676, 'min_gain_to_split': 0.391319652724464, 'bagging_fraction': 0.8, 'bagging_freq': 1, 'feature_fraction': 0.5}. Best is trial 75 with value: 0.9079961464354529.\n"
     ]
    },
    {
     "name": "stdout",
     "output_type": "stream",
     "text": [
      "Training until validation scores don't improve for 100 rounds\n",
      "Early stopping, best iteration is:\n",
      "[461]\tvalid_0's multi_logloss: 0.286441\tvalid_0's accuracy: 0.911499\n",
      "Training until validation scores don't improve for 100 rounds\n",
      "Early stopping, best iteration is:\n",
      "[452]\tvalid_0's multi_logloss: 0.255864\tvalid_0's accuracy: 0.917194\n",
      "Training until validation scores don't improve for 100 rounds\n",
      "Did not meet early stopping. Best iteration is:\n",
      "[581]\tvalid_0's multi_logloss: 0.26169\tvalid_0's accuracy: 0.91087\n",
      "Training until validation scores don't improve for 100 rounds\n",
      "Early stopping, best iteration is:\n",
      "[362]\tvalid_0's multi_logloss: 0.281844\tvalid_0's accuracy: 0.908762\n",
      "Training until validation scores don't improve for 100 rounds\n",
      "Early stopping, best iteration is:\n",
      "[246]\tvalid_0's multi_logloss: 0.308188\tvalid_0's accuracy: 0.910569\n"
     ]
    },
    {
     "name": "stderr",
     "output_type": "stream",
     "text": [
      "[I 2024-02-13 17:16:20,919] Trial 183 finished with value: 0.9062138728323699 and parameters: {'n_estimators': 583, 'learning_rate': 0.013741186365112772, 'num_leaves': 1024, 'max_depth': 17, 'min_data_in_leaf': 47, 'colsample_bytree': 0.9981572431906628, 'subsample': 1.0571298600866208, 'min_gain_to_split': 0.8931830146359989, 'bagging_fraction': 0.8, 'bagging_freq': 1, 'feature_fraction': 0.5}. Best is trial 75 with value: 0.9079961464354529.\n"
     ]
    },
    {
     "name": "stdout",
     "output_type": "stream",
     "text": [
      "Training until validation scores don't improve for 100 rounds\n",
      "Early stopping, best iteration is:\n",
      "[208]\tvalid_0's multi_logloss: 0.298222\tvalid_0's accuracy: 0.909693\n",
      "Training until validation scores don't improve for 100 rounds\n",
      "Early stopping, best iteration is:\n",
      "[312]\tvalid_0's multi_logloss: 0.250515\tvalid_0's accuracy: 0.915989\n",
      "Training until validation scores don't improve for 100 rounds\n",
      "Early stopping, best iteration is:\n",
      "[170]\tvalid_0's multi_logloss: 0.296355\tvalid_0's accuracy: 0.911472\n",
      "Training until validation scores don't improve for 100 rounds\n",
      "Early stopping, best iteration is:\n",
      "[346]\tvalid_0's multi_logloss: 0.269386\tvalid_0's accuracy: 0.90816\n",
      "Training until validation scores don't improve for 100 rounds\n",
      "Early stopping, best iteration is:\n",
      "[264]\tvalid_0's multi_logloss: 0.270643\tvalid_0's accuracy: 0.91358\n"
     ]
    },
    {
     "name": "stderr",
     "output_type": "stream",
     "text": [
      "[I 2024-02-13 17:16:59,670] Trial 184 finished with value: 0.9053949903660886 and parameters: {'n_estimators': 675, 'learning_rate': 0.021061879732105646, 'num_leaves': 816, 'max_depth': 18, 'min_data_in_leaf': 57, 'colsample_bytree': 0.9439852047612768, 'subsample': 1.0052709828405528, 'min_gain_to_split': 0.48451238157841336, 'bagging_fraction': 0.8, 'bagging_freq': 1, 'feature_fraction': 0.5}. Best is trial 75 with value: 0.9079961464354529.\n"
     ]
    },
    {
     "name": "stdout",
     "output_type": "stream",
     "text": [
      "Training until validation scores don't improve for 100 rounds\n",
      "Did not meet early stopping. Best iteration is:\n",
      "[313]\tvalid_0's multi_logloss: 0.319034\tvalid_0's accuracy: 0.904877\n",
      "Training until validation scores don't improve for 100 rounds\n",
      "Did not meet early stopping. Best iteration is:\n",
      "[313]\tvalid_0's multi_logloss: 0.295278\tvalid_0's accuracy: 0.909666\n",
      "Training until validation scores don't improve for 100 rounds\n",
      "Did not meet early stopping. Best iteration is:\n",
      "[313]\tvalid_0's multi_logloss: 0.303711\tvalid_0's accuracy: 0.906354\n",
      "Training until validation scores don't improve for 100 rounds\n",
      "Did not meet early stopping. Best iteration is:\n",
      "[313]\tvalid_0's multi_logloss: 0.311046\tvalid_0's accuracy: 0.906354\n",
      "Training until validation scores don't improve for 100 rounds\n",
      "Did not meet early stopping. Best iteration is:\n",
      "[313]\tvalid_0's multi_logloss: 0.306639\tvalid_0's accuracy: 0.909365\n"
     ]
    },
    {
     "name": "stderr",
     "output_type": "stream",
     "text": [
      "[I 2024-02-13 17:17:33,410] Trial 185 finished with value: 0.9041907514450866 and parameters: {'n_estimators': 313, 'learning_rate': 0.011308061332669522, 'num_leaves': 915, 'max_depth': 15, 'min_data_in_leaf': 51, 'colsample_bytree': 0.9660209223543733, 'subsample': 1.146024749570932, 'min_gain_to_split': 1.0775762557091764, 'bagging_fraction': 0.8, 'bagging_freq': 1, 'feature_fraction': 0.5}. Best is trial 75 with value: 0.9079961464354529.\n"
     ]
    },
    {
     "name": "stdout",
     "output_type": "stream",
     "text": [
      "Training until validation scores don't improve for 100 rounds\n",
      "Early stopping, best iteration is:\n",
      "[290]\tvalid_0's multi_logloss: 0.291989\tvalid_0's accuracy: 0.911198\n",
      "Training until validation scores don't improve for 100 rounds\n",
      "Early stopping, best iteration is:\n",
      "[409]\tvalid_0's multi_logloss: 0.246113\tvalid_0's accuracy: 0.918398\n",
      "Training until validation scores don't improve for 100 rounds\n",
      "Early stopping, best iteration is:\n",
      "[279]\tvalid_0's multi_logloss: 0.268739\tvalid_0's accuracy: 0.911472\n",
      "Training until validation scores don't improve for 100 rounds\n",
      "Early stopping, best iteration is:\n",
      "[411]\tvalid_0's multi_logloss: 0.268674\tvalid_0's accuracy: 0.907859\n",
      "Training until validation scores don't improve for 100 rounds\n",
      "Early stopping, best iteration is:\n",
      "[339]\tvalid_0's multi_logloss: 0.266566\tvalid_0's accuracy: 0.91358\n"
     ]
    },
    {
     "name": "stderr",
     "output_type": "stream",
     "text": [
      "[I 2024-02-13 17:18:31,417] Trial 186 finished with value: 0.9067437379576109 and parameters: {'n_estimators': 1462, 'learning_rate': 0.01727599733313069, 'num_leaves': 839, 'max_depth': 18, 'min_data_in_leaf': 55, 'colsample_bytree': 0.732563457063654, 'subsample': 0.9714457465517679, 'min_gain_to_split': 0.24773930552931545, 'bagging_fraction': 0.8, 'bagging_freq': 1, 'feature_fraction': 0.5}. Best is trial 75 with value: 0.9079961464354529.\n"
     ]
    },
    {
     "name": "stdout",
     "output_type": "stream",
     "text": [
      "Training until validation scores don't improve for 100 rounds\n",
      "Early stopping, best iteration is:\n",
      "[360]\tvalid_0's multi_logloss: 0.333566\tvalid_0's accuracy: 0.896749\n",
      "Training until validation scores don't improve for 100 rounds\n",
      "Early stopping, best iteration is:\n",
      "[44]\tvalid_0's multi_logloss: 0.700292\tvalid_0's accuracy: 0.893104\n",
      "Training until validation scores don't improve for 100 rounds\n",
      "Early stopping, best iteration is:\n",
      "[517]\tvalid_0's multi_logloss: 0.3224\tvalid_0's accuracy: 0.896718\n",
      "Training until validation scores don't improve for 100 rounds\n",
      "Early stopping, best iteration is:\n",
      "[208]\tvalid_0's multi_logloss: 0.350801\tvalid_0's accuracy: 0.894309\n",
      "Training until validation scores don't improve for 100 rounds\n"
     ]
    },
    {
     "name": "stderr",
     "output_type": "stream",
     "text": [
      "[I 2024-02-13 17:18:49,171] Trial 187 finished with value: 0.8896917148362234 and parameters: {'n_estimators': 743, 'learning_rate': 0.022386626239272372, 'num_leaves': 867, 'max_depth': 19, 'min_data_in_leaf': 12, 'colsample_bytree': 0.5051622906017043, 'subsample': 1.0364154665093457, 'min_gain_to_split': 9.526953814115728, 'bagging_fraction': 0.8, 'bagging_freq': 1, 'feature_fraction': 0.5}. Best is trial 75 with value: 0.9079961464354529.\n"
     ]
    },
    {
     "name": "stdout",
     "output_type": "stream",
     "text": [
      "Early stopping, best iteration is:\n",
      "[36]\tvalid_0's multi_logloss: 0.800787\tvalid_0's accuracy: 0.889792\n",
      "Training until validation scores don't improve for 100 rounds\n",
      "Early stopping, best iteration is:\n",
      "[180]\tvalid_0's multi_logloss: 0.292536\tvalid_0's accuracy: 0.907887\n",
      "Training until validation scores don't improve for 100 rounds\n",
      "Early stopping, best iteration is:\n",
      "[148]\tvalid_0's multi_logloss: 0.270045\tvalid_0's accuracy: 0.914785\n",
      "Training until validation scores don't improve for 100 rounds\n",
      "Early stopping, best iteration is:\n",
      "[173]\tvalid_0's multi_logloss: 0.268026\tvalid_0's accuracy: 0.911171\n",
      "Training until validation scores don't improve for 100 rounds\n",
      "Early stopping, best iteration is:\n",
      "[94]\tvalid_0's multi_logloss: 0.3446\tvalid_0's accuracy: 0.906956\n",
      "Training until validation scores don't improve for 100 rounds\n",
      "Early stopping, best iteration is:\n",
      "[236]\tvalid_0's multi_logloss: 0.267958\tvalid_0's accuracy: 0.909967\n"
     ]
    },
    {
     "name": "stderr",
     "output_type": "stream",
     "text": [
      "[I 2024-02-13 17:19:35,951] Trial 188 finished with value: 0.9053468208092486 and parameters: {'n_estimators': 1059, 'learning_rate': 0.027790638325803356, 'num_leaves': 803, 'max_depth': 18, 'min_data_in_leaf': 52, 'colsample_bytree': 0.9195038172529366, 'subsample': 1.0794125323897663, 'min_gain_to_split': 0.006862154841752788, 'bagging_fraction': 0.8, 'bagging_freq': 1, 'feature_fraction': 0.5}. Best is trial 75 with value: 0.9079961464354529.\n"
     ]
    },
    {
     "name": "stdout",
     "output_type": "stream",
     "text": [
      "Training until validation scores don't improve for 100 rounds\n",
      "Early stopping, best iteration is:\n",
      "[251]\tvalid_0's multi_logloss: 0.307258\tvalid_0's accuracy: 0.908489\n",
      "Training until validation scores don't improve for 100 rounds\n",
      "Early stopping, best iteration is:\n",
      "[318]\tvalid_0's multi_logloss: 0.262909\tvalid_0's accuracy: 0.915688\n",
      "Training until validation scores don't improve for 100 rounds\n",
      "Early stopping, best iteration is:\n",
      "[171]\tvalid_0's multi_logloss: 0.331743\tvalid_0's accuracy: 0.909064\n",
      "Training until validation scores don't improve for 100 rounds\n",
      "Early stopping, best iteration is:\n",
      "[204]\tvalid_0's multi_logloss: 0.316214\tvalid_0's accuracy: 0.907558\n",
      "Training until validation scores don't improve for 100 rounds\n",
      "Early stopping, best iteration is:\n",
      "[172]\tvalid_0's multi_logloss: 0.337018\tvalid_0's accuracy: 0.908762\n"
     ]
    },
    {
     "name": "stderr",
     "output_type": "stream",
     "text": [
      "[I 2024-02-13 17:20:19,554] Trial 189 finished with value: 0.9048651252408477 and parameters: {'n_estimators': 791, 'learning_rate': 0.014969388236451553, 'num_leaves': 895, 'max_depth': 17, 'min_data_in_leaf': 18, 'colsample_bytree': 0.8345734518299066, 'subsample': 1.1113086933946692, 'min_gain_to_split': 0.7390848198921883, 'bagging_fraction': 0.9, 'bagging_freq': 1, 'feature_fraction': 0.5}. Best is trial 75 with value: 0.9079961464354529.\n"
     ]
    },
    {
     "name": "stdout",
     "output_type": "stream",
     "text": [
      "Training until validation scores don't improve for 100 rounds\n",
      "Did not meet early stopping. Best iteration is:\n",
      "[423]\tvalid_0's multi_logloss: 0.288827\tvalid_0's accuracy: 0.90578\n",
      "Training until validation scores don't improve for 100 rounds\n",
      "Early stopping, best iteration is:\n",
      "[245]\tvalid_0's multi_logloss: 0.285687\tvalid_0's accuracy: 0.911171\n",
      "Training until validation scores don't improve for 100 rounds\n",
      "Did not meet early stopping. Best iteration is:\n",
      "[423]\tvalid_0's multi_logloss: 0.271961\tvalid_0's accuracy: 0.907558\n",
      "Training until validation scores don't improve for 100 rounds\n",
      "Did not meet early stopping. Best iteration is:\n",
      "[423]\tvalid_0's multi_logloss: 0.277211\tvalid_0's accuracy: 0.906354\n",
      "Training until validation scores don't improve for 100 rounds\n",
      "Did not meet early stopping. Best iteration is:\n",
      "[423]\tvalid_0's multi_logloss: 0.272636\tvalid_0's accuracy: 0.911472\n"
     ]
    },
    {
     "name": "stderr",
     "output_type": "stream",
     "text": [
      "[I 2024-02-13 17:20:50,183] Trial 190 finished with value: 0.9040462427745665 and parameters: {'n_estimators': 423, 'learning_rate': 0.018490619371179854, 'num_leaves': 773, 'max_depth': 19, 'min_data_in_leaf': 42, 'colsample_bytree': 0.9742738932591484, 'subsample': 1.1663997117776221, 'min_gain_to_split': 1.5781340789127731, 'bagging_fraction': 0.5, 'bagging_freq': 1, 'feature_fraction': 0.5}. Best is trial 75 with value: 0.9079961464354529.\n"
     ]
    },
    {
     "name": "stdout",
     "output_type": "stream",
     "text": [
      "Training until validation scores don't improve for 100 rounds\n",
      "Early stopping, best iteration is:\n",
      "[294]\tvalid_0's multi_logloss: 0.295742\tvalid_0's accuracy: 0.910897\n",
      "Training until validation scores don't improve for 100 rounds\n",
      "Early stopping, best iteration is:\n",
      "[711]\tvalid_0's multi_logloss: 0.243893\tvalid_0's accuracy: 0.917796\n",
      "Training until validation scores don't improve for 100 rounds\n",
      "Early stopping, best iteration is:\n",
      "[237]\tvalid_0's multi_logloss: 0.292478\tvalid_0's accuracy: 0.911171\n",
      "Training until validation scores don't improve for 100 rounds\n",
      "Early stopping, best iteration is:\n",
      "[296]\tvalid_0's multi_logloss: 0.283319\tvalid_0's accuracy: 0.907257\n",
      "Training until validation scores don't improve for 100 rounds\n",
      "Early stopping, best iteration is:\n",
      "[596]\tvalid_0's multi_logloss: 0.263795\tvalid_0's accuracy: 0.912978\n"
     ]
    },
    {
     "name": "stderr",
     "output_type": "stream",
     "text": [
      "[I 2024-02-13 17:21:48,824] Trial 191 finished with value: 0.9066473988439305 and parameters: {'n_estimators': 999, 'learning_rate': 0.015402887515808504, 'num_leaves': 873, 'max_depth': 16, 'min_data_in_leaf': 53, 'colsample_bytree': 0.9838323944851629, 'subsample': 1.1066876412808753, 'min_gain_to_split': 0.4682268401702522, 'bagging_fraction': 0.8, 'bagging_freq': 1, 'feature_fraction': 0.5}. Best is trial 75 with value: 0.9079961464354529.\n"
     ]
    },
    {
     "name": "stdout",
     "output_type": "stream",
     "text": [
      "Training until validation scores don't improve for 100 rounds\n",
      "Early stopping, best iteration is:\n",
      "[227]\tvalid_0's multi_logloss: 0.308646\tvalid_0's accuracy: 0.909392\n",
      "Training until validation scores don't improve for 100 rounds\n",
      "Early stopping, best iteration is:\n",
      "[394]\tvalid_0's multi_logloss: 0.248022\tvalid_0's accuracy: 0.916893\n",
      "Training until validation scores don't improve for 100 rounds\n",
      "Early stopping, best iteration is:\n",
      "[281]\tvalid_0's multi_logloss: 0.272299\tvalid_0's accuracy: 0.911171\n",
      "Training until validation scores don't improve for 100 rounds\n",
      "Early stopping, best iteration is:\n",
      "[445]\tvalid_0's multi_logloss: 0.267986\tvalid_0's accuracy: 0.909967\n",
      "Training until validation scores don't improve for 100 rounds\n",
      "Early stopping, best iteration is:\n",
      "[321]\tvalid_0's multi_logloss: 0.27096\tvalid_0's accuracy: 0.912677\n"
     ]
    },
    {
     "name": "stderr",
     "output_type": "stream",
     "text": [
      "[I 2024-02-13 17:22:42,787] Trial 192 finished with value: 0.9064065510597302 and parameters: {'n_estimators': 905, 'learning_rate': 0.016372845052500962, 'num_leaves': 856, 'max_depth': 17, 'min_data_in_leaf': 47, 'colsample_bytree': 0.9994870334747066, 'subsample': 1.0632317386784849, 'min_gain_to_split': 0.40401876050958097, 'bagging_fraction': 0.8, 'bagging_freq': 1, 'feature_fraction': 0.5}. Best is trial 75 with value: 0.9079961464354529.\n"
     ]
    },
    {
     "name": "stdout",
     "output_type": "stream",
     "text": [
      "Training until validation scores don't improve for 100 rounds\n",
      "Early stopping, best iteration is:\n",
      "[385]\tvalid_0's multi_logloss: 0.29557\tvalid_0's accuracy: 0.910596\n",
      "Training until validation scores don't improve for 100 rounds\n",
      "Early stopping, best iteration is:\n",
      "[620]\tvalid_0's multi_logloss: 0.250742\tvalid_0's accuracy: 0.916893\n",
      "Training until validation scores don't improve for 100 rounds\n",
      "Early stopping, best iteration is:\n",
      "[481]\tvalid_0's multi_logloss: 0.267262\tvalid_0's accuracy: 0.911171\n",
      "Training until validation scores don't improve for 100 rounds\n",
      "Early stopping, best iteration is:\n",
      "[345]\tvalid_0's multi_logloss: 0.291368\tvalid_0's accuracy: 0.90816\n",
      "Training until validation scores don't improve for 100 rounds\n",
      "Early stopping, best iteration is:\n",
      "[290]\tvalid_0's multi_logloss: 0.302002\tvalid_0's accuracy: 0.911171\n"
     ]
    },
    {
     "name": "stderr",
     "output_type": "stream",
     "text": [
      "[I 2024-02-13 17:23:35,793] Trial 193 finished with value: 0.9059248554913296 and parameters: {'n_estimators': 1415, 'learning_rate': 0.012273245502596335, 'num_leaves': 833, 'max_depth': 17, 'min_data_in_leaf': 49, 'colsample_bytree': 0.9452992797197008, 'subsample': 1.0985200103973365, 'min_gain_to_split': 0.8273750021297611, 'bagging_fraction': 0.8, 'bagging_freq': 1, 'feature_fraction': 0.5}. Best is trial 75 with value: 0.9079961464354529.\n"
     ]
    },
    {
     "name": "stdout",
     "output_type": "stream",
     "text": [
      "Training until validation scores don't improve for 100 rounds\n",
      "Early stopping, best iteration is:\n",
      "[374]\tvalid_0's multi_logloss: 0.285929\tvalid_0's accuracy: 0.911198\n",
      "Training until validation scores don't improve for 100 rounds\n",
      "Early stopping, best iteration is:\n",
      "[438]\tvalid_0's multi_logloss: 0.252835\tvalid_0's accuracy: 0.915989\n",
      "Training until validation scores don't improve for 100 rounds\n",
      "Early stopping, best iteration is:\n",
      "[196]\tvalid_0's multi_logloss: 0.295525\tvalid_0's accuracy: 0.909365\n",
      "Training until validation scores don't improve for 100 rounds\n",
      "Early stopping, best iteration is:\n",
      "[232]\tvalid_0's multi_logloss: 0.290232\tvalid_0's accuracy: 0.909064\n",
      "Training until validation scores don't improve for 100 rounds\n",
      "Early stopping, best iteration is:\n",
      "[187]\tvalid_0's multi_logloss: 0.302699\tvalid_0's accuracy: 0.910268\n"
     ]
    },
    {
     "name": "stderr",
     "output_type": "stream",
     "text": [
      "[I 2024-02-13 17:24:09,125] Trial 194 finished with value: 0.9051059730250482 and parameters: {'n_estimators': 1142, 'learning_rate': 0.019852408230855146, 'num_leaves': 876, 'max_depth': 17, 'min_data_in_leaf': 49, 'colsample_bytree': 0.7948986726170508, 'subsample': 1.1454523731602284, 'min_gain_to_split': 1.1555290598303027, 'bagging_fraction': 0.8, 'bagging_freq': 1, 'feature_fraction': 0.5}. Best is trial 75 with value: 0.9079961464354529.\n"
     ]
    },
    {
     "name": "stdout",
     "output_type": "stream",
     "text": [
      "Training until validation scores don't improve for 100 rounds\n",
      "Early stopping, best iteration is:\n",
      "[373]\tvalid_0's multi_logloss: 0.287978\tvalid_0's accuracy: 0.9118\n",
      "Training until validation scores don't improve for 100 rounds\n",
      "Did not meet early stopping. Best iteration is:\n",
      "[685]\tvalid_0's multi_logloss: 0.244401\tvalid_0's accuracy: 0.918398\n",
      "Training until validation scores don't improve for 100 rounds\n",
      "Early stopping, best iteration is:\n",
      "[248]\tvalid_0's multi_logloss: 0.292522\tvalid_0's accuracy: 0.91087\n",
      "Training until validation scores don't improve for 100 rounds\n",
      "Early stopping, best iteration is:\n",
      "[334]\tvalid_0's multi_logloss: 0.27905\tvalid_0's accuracy: 0.908762\n",
      "Training until validation scores don't improve for 100 rounds\n",
      "Early stopping, best iteration is:\n",
      "[345]\tvalid_0's multi_logloss: 0.272444\tvalid_0's accuracy: 0.912376\n"
     ]
    },
    {
     "name": "stderr",
     "output_type": "stream",
     "text": [
      "[I 2024-02-13 17:25:20,772] Trial 195 finished with value: 0.9073699421965318 and parameters: {'n_estimators': 686, 'learning_rate': 0.014337988877287157, 'num_leaves': 932, 'max_depth': 18, 'min_data_in_leaf': 46, 'colsample_bytree': 0.9773223961605307, 'subsample': 1.0106501321400947, 'min_gain_to_split': 0.27310476721025645, 'bagging_fraction': 0.8, 'bagging_freq': 1, 'feature_fraction': 0.5}. Best is trial 75 with value: 0.9079961464354529.\n"
     ]
    },
    {
     "name": "stdout",
     "output_type": "stream",
     "text": [
      "Training until validation scores don't improve for 100 rounds\n",
      "Early stopping, best iteration is:\n",
      "[485]\tvalid_0's multi_logloss: 0.285613\tvalid_0's accuracy: 0.911198\n",
      "Training until validation scores don't improve for 100 rounds\n",
      "Early stopping, best iteration is:\n",
      "[800]\tvalid_0's multi_logloss: 0.244756\tvalid_0's accuracy: 0.919\n",
      "Training until validation scores don't improve for 100 rounds\n",
      "Early stopping, best iteration is:\n",
      "[325]\tvalid_0's multi_logloss: 0.280334\tvalid_0's accuracy: 0.912376\n",
      "Training until validation scores don't improve for 100 rounds\n",
      "Early stopping, best iteration is:\n",
      "[360]\tvalid_0's multi_logloss: 0.282819\tvalid_0's accuracy: 0.90816\n",
      "Training until validation scores don't improve for 100 rounds\n",
      "Early stopping, best iteration is:\n",
      "[312]\tvalid_0's multi_logloss: 0.287166\tvalid_0's accuracy: 0.911171\n"
     ]
    },
    {
     "name": "stderr",
     "output_type": "stream",
     "text": [
      "[I 2024-02-13 17:26:20,922] Trial 196 finished with value: 0.9076589595375723 and parameters: {'n_estimators': 1656, 'learning_rate': 0.01305166344503968, 'num_leaves': 995, 'max_depth': 18, 'min_data_in_leaf': 46, 'colsample_bytree': 0.9581467912880138, 'subsample': 1.0131307543138934, 'min_gain_to_split': 0.642281926741338, 'bagging_fraction': 0.8, 'bagging_freq': 1, 'feature_fraction': 0.5}. Best is trial 75 with value: 0.9079961464354529.\n"
     ]
    },
    {
     "name": "stdout",
     "output_type": "stream",
     "text": [
      "Training until validation scores don't improve for 100 rounds\n",
      "Early stopping, best iteration is:\n",
      "[252]\tvalid_0's multi_logloss: 0.308056\tvalid_0's accuracy: 0.90879\n",
      "Training until validation scores don't improve for 100 rounds\n",
      "Early stopping, best iteration is:\n",
      "[324]\tvalid_0's multi_logloss: 0.257681\tvalid_0's accuracy: 0.91629\n",
      "Training until validation scores don't improve for 100 rounds\n",
      "Early stopping, best iteration is:\n",
      "[175]\tvalid_0's multi_logloss: 0.343285\tvalid_0's accuracy: 0.909365\n",
      "Training until validation scores don't improve for 100 rounds\n",
      "Early stopping, best iteration is:\n",
      "[219]\tvalid_0's multi_logloss: 0.320177\tvalid_0's accuracy: 0.906354\n",
      "Training until validation scores don't improve for 100 rounds\n",
      "Early stopping, best iteration is:\n",
      "[348]\tvalid_0's multi_logloss: 0.275141\tvalid_0's accuracy: 0.911171\n"
     ]
    },
    {
     "name": "stderr",
     "output_type": "stream",
     "text": [
      "[I 2024-02-13 17:27:32,391] Trial 197 finished with value: 0.90635838150289 and parameters: {'n_estimators': 663, 'learning_rate': 0.01339212291878544, 'num_leaves': 988, 'max_depth': 19, 'min_data_in_leaf': 23, 'colsample_bytree': 0.9645314548940248, 'subsample': 1.0070912317205964, 'min_gain_to_split': 0.1778253925610509, 'bagging_fraction': 0.8, 'bagging_freq': 1, 'feature_fraction': 0.5}. Best is trial 75 with value: 0.9079961464354529.\n"
     ]
    },
    {
     "name": "stdout",
     "output_type": "stream",
     "text": [
      "Training until validation scores don't improve for 100 rounds\n",
      "Early stopping, best iteration is:\n",
      "[603]\tvalid_0's multi_logloss: 0.290244\tvalid_0's accuracy: 0.910596\n",
      "Training until validation scores don't improve for 100 rounds\n",
      "Early stopping, best iteration is:\n",
      "[702]\tvalid_0's multi_logloss: 0.258062\tvalid_0's accuracy: 0.916591\n",
      "Training until validation scores don't improve for 100 rounds\n",
      "Early stopping, best iteration is:\n",
      "[609]\tvalid_0's multi_logloss: 0.271711\tvalid_0's accuracy: 0.911171\n",
      "Training until validation scores don't improve for 100 rounds\n",
      "Early stopping, best iteration is:\n",
      "[412]\tvalid_0's multi_logloss: 0.299434\tvalid_0's accuracy: 0.907558\n",
      "Training until validation scores don't improve for 100 rounds\n",
      "Early stopping, best iteration is:\n",
      "[231]\tvalid_0's multi_logloss: 0.380219\tvalid_0's accuracy: 0.907859\n"
     ]
    },
    {
     "name": "stderr",
     "output_type": "stream",
     "text": [
      "[I 2024-02-13 17:28:27,966] Trial 198 finished with value: 0.905587668593449 and parameters: {'n_estimators': 1640, 'learning_rate': 0.009805177483747735, 'num_leaves': 960, 'max_depth': 18, 'min_data_in_leaf': 45, 'colsample_bytree': 0.9348057080431708, 'subsample': 0.9666839702125349, 'min_gain_to_split': 1.2291701018576227, 'bagging_fraction': 0.8, 'bagging_freq': 1, 'feature_fraction': 0.5}. Best is trial 75 with value: 0.9079961464354529.\n"
     ]
    },
    {
     "name": "stdout",
     "output_type": "stream",
     "text": [
      "Training until validation scores don't improve for 100 rounds\n",
      "Early stopping, best iteration is:\n",
      "[364]\tvalid_0's multi_logloss: 0.283259\tvalid_0's accuracy: 0.909091\n",
      "Training until validation scores don't improve for 100 rounds\n",
      "Early stopping, best iteration is:\n",
      "[309]\tvalid_0's multi_logloss: 0.253014\tvalid_0's accuracy: 0.91629\n",
      "Training until validation scores don't improve for 100 rounds\n",
      "Early stopping, best iteration is:\n",
      "[172]\tvalid_0's multi_logloss: 0.289463\tvalid_0's accuracy: 0.909666\n",
      "Training until validation scores don't improve for 100 rounds\n",
      "Early stopping, best iteration is:\n",
      "[105]\tvalid_0's multi_logloss: 0.364438\tvalid_0's accuracy: 0.905149\n",
      "Training until validation scores don't improve for 100 rounds\n",
      "Early stopping, best iteration is:\n",
      "[202]\tvalid_0's multi_logloss: 0.281234\tvalid_0's accuracy: 0.911171\n"
     ]
    },
    {
     "name": "stderr",
     "output_type": "stream",
     "text": [
      "[I 2024-02-13 17:28:59,197] Trial 199 finished with value: 0.9055394990366089 and parameters: {'n_estimators': 711, 'learning_rate': 0.023315630550321775, 'num_leaves': 1002, 'max_depth': 19, 'min_data_in_leaf': 41, 'colsample_bytree': 0.9524281867791455, 'subsample': 0.9305410782778428, 'min_gain_to_split': 0.9037827781695786, 'bagging_fraction': 0.8, 'bagging_freq': 1, 'feature_fraction': 0.5}. Best is trial 75 with value: 0.9079961464354529.\n"
     ]
    },
    {
     "name": "stdout",
     "output_type": "stream",
     "text": [
      "Training until validation scores don't improve for 100 rounds\n",
      "Early stopping, best iteration is:\n",
      "[366]\tvalid_0's multi_logloss: 0.297253\tvalid_0's accuracy: 0.910295\n",
      "Training until validation scores don't improve for 100 rounds\n",
      "Early stopping, best iteration is:\n",
      "[419]\tvalid_0's multi_logloss: 0.258668\tvalid_0's accuracy: 0.914182\n",
      "Training until validation scores don't improve for 100 rounds\n",
      "Early stopping, best iteration is:\n",
      "[397]\tvalid_0's multi_logloss: 0.272603\tvalid_0's accuracy: 0.911472\n",
      "Training until validation scores don't improve for 100 rounds\n",
      "Early stopping, best iteration is:\n",
      "[362]\tvalid_0's multi_logloss: 0.286685\tvalid_0's accuracy: 0.908461\n",
      "Training until validation scores don't improve for 100 rounds\n",
      "Early stopping, best iteration is:\n",
      "[275]\tvalid_0's multi_logloss: 0.307014\tvalid_0's accuracy: 0.911472\n"
     ]
    },
    {
     "name": "stderr",
     "output_type": "stream",
     "text": [
      "[I 2024-02-13 17:29:55,266] Trial 200 finished with value: 0.9062138728323699 and parameters: {'n_estimators': 1611, 'learning_rate': 0.012069809254115922, 'num_leaves': 968, 'max_depth': 18, 'min_data_in_leaf': 43, 'colsample_bytree': 0.91562530580978, 'subsample': 1.0398031487567174, 'min_gain_to_split': 0.6251944545736536, 'bagging_fraction': 0.8, 'bagging_freq': 1, 'feature_fraction': 0.5}. Best is trial 75 with value: 0.9079961464354529.\n"
     ]
    },
    {
     "name": "stdout",
     "output_type": "stream",
     "text": [
      "Training until validation scores don't improve for 100 rounds\n",
      "Early stopping, best iteration is:\n",
      "[312]\tvalid_0's multi_logloss: 0.289562\tvalid_0's accuracy: 0.912703\n",
      "Training until validation scores don't improve for 100 rounds\n",
      "Early stopping, best iteration is:\n",
      "[542]\tvalid_0's multi_logloss: 0.245491\tvalid_0's accuracy: 0.917495\n",
      "Training until validation scores don't improve for 100 rounds\n",
      "Early stopping, best iteration is:\n",
      "[258]\tvalid_0's multi_logloss: 0.275764\tvalid_0's accuracy: 0.91087\n",
      "Training until validation scores don't improve for 100 rounds\n",
      "Early stopping, best iteration is:\n",
      "[321]\tvalid_0's multi_logloss: 0.274206\tvalid_0's accuracy: 0.909064\n",
      "Training until validation scores don't improve for 100 rounds\n",
      "Early stopping, best iteration is:\n",
      "[325]\tvalid_0's multi_logloss: 0.269878\tvalid_0's accuracy: 0.914182\n"
     ]
    },
    {
     "name": "stderr",
     "output_type": "stream",
     "text": [
      "[I 2024-02-13 17:30:44,876] Trial 201 finished with value: 0.9063583815028903 and parameters: {'n_estimators': 1728, 'learning_rate': 0.01763655469363262, 'num_leaves': 943, 'max_depth': 18, 'min_data_in_leaf': 45, 'colsample_bytree': 0.35355213333547464, 'subsample': 0.9952533906238439, 'min_gain_to_split': 0.5723446810931391, 'bagging_fraction': 0.8, 'bagging_freq': 1, 'feature_fraction': 0.5}. Best is trial 75 with value: 0.9079961464354529.\n"
     ]
    },
    {
     "name": "stdout",
     "output_type": "stream",
     "text": [
      "Training until validation scores don't improve for 100 rounds\n",
      "Early stopping, best iteration is:\n",
      "[397]\tvalid_0's multi_logloss: 0.288358\tvalid_0's accuracy: 0.911499\n",
      "Training until validation scores don't improve for 100 rounds\n",
      "Early stopping, best iteration is:\n",
      "[330]\tvalid_0's multi_logloss: 0.264781\tvalid_0's accuracy: 0.915688\n",
      "Training until validation scores don't improve for 100 rounds\n",
      "Early stopping, best iteration is:\n",
      "[332]\tvalid_0's multi_logloss: 0.274654\tvalid_0's accuracy: 0.910569\n",
      "Training until validation scores don't improve for 100 rounds\n",
      "Early stopping, best iteration is:\n",
      "[336]\tvalid_0's multi_logloss: 0.282528\tvalid_0's accuracy: 0.908762\n",
      "Training until validation scores don't improve for 100 rounds\n",
      "Early stopping, best iteration is:\n",
      "[248]\tvalid_0's multi_logloss: 0.298867\tvalid_0's accuracy: 0.91087\n"
     ]
    },
    {
     "name": "stderr",
     "output_type": "stream",
     "text": [
      "[I 2024-02-13 17:31:30,736] Trial 202 finished with value: 0.9065028901734105 and parameters: {'n_estimators': 1535, 'learning_rate': 0.014789750444217986, 'num_leaves': 928, 'max_depth': 18, 'min_data_in_leaf': 46, 'colsample_bytree': 0.9805446964195753, 'subsample': 1.0268822100620685, 'min_gain_to_split': 0.8404450947080574, 'bagging_fraction': 0.8, 'bagging_freq': 1, 'feature_fraction': 0.5}. Best is trial 75 with value: 0.9079961464354529.\n"
     ]
    },
    {
     "name": "stdout",
     "output_type": "stream",
     "text": [
      "Training until validation scores don't improve for 100 rounds\n",
      "Did not meet early stopping. Best iteration is:\n",
      "[556]\tvalid_0's multi_logloss: 0.296625\tvalid_0's accuracy: 0.903974\n",
      "Training until validation scores don't improve for 100 rounds\n",
      "Early stopping, best iteration is:\n",
      "[291]\tvalid_0's multi_logloss: 0.290644\tvalid_0's accuracy: 0.90816\n",
      "Training until validation scores don't improve for 100 rounds\n",
      "Early stopping, best iteration is:\n",
      "[94]\tvalid_0's multi_logloss: 0.426035\tvalid_0's accuracy: 0.901536\n",
      "Training until validation scores don't improve for 100 rounds\n",
      "Did not meet early stopping. Best iteration is:\n",
      "[556]\tvalid_0's multi_logloss: 0.290891\tvalid_0's accuracy: 0.904246\n",
      "Training until validation scores don't improve for 100 rounds\n",
      "Early stopping, best iteration is:\n",
      "[426]\tvalid_0's multi_logloss: 0.290279\tvalid_0's accuracy: 0.907859\n"
     ]
    },
    {
     "name": "stderr",
     "output_type": "stream",
     "text": [
      "[I 2024-02-13 17:31:59,158] Trial 203 finished with value: 0.9014450867052023 and parameters: {'n_estimators': 556, 'learning_rate': 0.020281991075976464, 'num_leaves': 915, 'max_depth': 18, 'min_data_in_leaf': 16, 'colsample_bytree': 0.9559044445618174, 'subsample': 1.0701667041172251, 'min_gain_to_split': 3.787844859996085, 'bagging_fraction': 0.8, 'bagging_freq': 1, 'feature_fraction': 0.5}. Best is trial 75 with value: 0.9079961464354529.\n"
     ]
    },
    {
     "name": "stdout",
     "output_type": "stream",
     "text": [
      "Training until validation scores don't improve for 100 rounds\n",
      "Early stopping, best iteration is:\n",
      "[130]\tvalid_0's multi_logloss: 0.302188\tvalid_0's accuracy: 0.907285\n",
      "Training until validation scores don't improve for 100 rounds\n",
      "Early stopping, best iteration is:\n",
      "[232]\tvalid_0's multi_logloss: 0.248827\tvalid_0's accuracy: 0.919\n",
      "Training until validation scores don't improve for 100 rounds\n",
      "Early stopping, best iteration is:\n",
      "[175]\tvalid_0's multi_logloss: 0.263888\tvalid_0's accuracy: 0.914182\n",
      "Training until validation scores don't improve for 100 rounds\n",
      "Early stopping, best iteration is:\n",
      "[181]\tvalid_0's multi_logloss: 0.27913\tvalid_0's accuracy: 0.90545\n",
      "Training until validation scores don't improve for 100 rounds\n",
      "Early stopping, best iteration is:\n",
      "[251]\tvalid_0's multi_logloss: 0.268527\tvalid_0's accuracy: 0.912677\n"
     ]
    },
    {
     "name": "stderr",
     "output_type": "stream",
     "text": [
      "[I 2024-02-13 17:32:40,236] Trial 204 finished with value: 0.9071772639691715 and parameters: {'n_estimators': 628, 'learning_rate': 0.030202087344388107, 'num_leaves': 899, 'max_depth': 19, 'min_data_in_leaf': 20, 'colsample_bytree': 0.8591188337791669, 'subsample': 0.8721700863604332, 'min_gain_to_split': 0.2702327391960013, 'bagging_fraction': 0.9, 'bagging_freq': 1, 'feature_fraction': 0.5}. Best is trial 75 with value: 0.9079961464354529.\n"
     ]
    },
    {
     "name": "stdout",
     "output_type": "stream",
     "text": [
      "Training until validation scores don't improve for 100 rounds\n",
      "Early stopping, best iteration is:\n",
      "[160]\tvalid_0's multi_logloss: 0.297648\tvalid_0's accuracy: 0.904877\n",
      "Training until validation scores don't improve for 100 rounds\n",
      "Early stopping, best iteration is:\n",
      "[123]\tvalid_0's multi_logloss: 0.267831\tvalid_0's accuracy: 0.916591\n",
      "Training until validation scores don't improve for 100 rounds\n",
      "Early stopping, best iteration is:\n",
      "[111]\tvalid_0's multi_logloss: 0.288806\tvalid_0's accuracy: 0.910268\n",
      "Training until validation scores don't improve for 100 rounds\n",
      "Early stopping, best iteration is:\n",
      "[125]\tvalid_0's multi_logloss: 0.290328\tvalid_0's accuracy: 0.904547\n",
      "Training until validation scores don't improve for 100 rounds\n",
      "Early stopping, best iteration is:\n",
      "[164]\tvalid_0's multi_logloss: 0.273791\tvalid_0's accuracy: 0.911171\n"
     ]
    },
    {
     "name": "stderr",
     "output_type": "stream",
     "text": [
      "[I 2024-02-13 17:33:44,353] Trial 205 finished with value: 0.905587668593449 and parameters: {'n_estimators': 688, 'learning_rate': 0.030499046185477746, 'num_leaves': 896, 'max_depth': 19, 'min_data_in_leaf': 19, 'colsample_bytree': 0.8615621860125666, 'subsample': 0.9184832445846189, 'min_gain_to_split': 0.012886506039551271, 'bagging_fraction': 0.8, 'bagging_freq': 1, 'feature_fraction': 0.5}. Best is trial 75 with value: 0.9079961464354529.\n"
     ]
    },
    {
     "name": "stdout",
     "output_type": "stream",
     "text": [
      "Training until validation scores don't improve for 100 rounds\n",
      "Early stopping, best iteration is:\n",
      "[147]\tvalid_0's multi_logloss: 0.302687\tvalid_0's accuracy: 0.906683\n",
      "Training until validation scores don't improve for 100 rounds\n",
      "Early stopping, best iteration is:\n",
      "[133]\tvalid_0's multi_logloss: 0.281066\tvalid_0's accuracy: 0.915688\n",
      "Training until validation scores don't improve for 100 rounds\n",
      "Early stopping, best iteration is:\n",
      "[138]\tvalid_0's multi_logloss: 0.287287\tvalid_0's accuracy: 0.910569\n",
      "Training until validation scores don't improve for 100 rounds\n",
      "Early stopping, best iteration is:\n",
      "[195]\tvalid_0's multi_logloss: 0.278279\tvalid_0's accuracy: 0.906655\n",
      "Training until validation scores don't improve for 100 rounds\n",
      "Early stopping, best iteration is:\n",
      "[247]\tvalid_0's multi_logloss: 0.267962\tvalid_0's accuracy: 0.91358\n"
     ]
    },
    {
     "name": "stderr",
     "output_type": "stream",
     "text": [
      "[I 2024-02-13 17:34:26,064] Trial 206 finished with value: 0.9052986512524084 and parameters: {'n_estimators': 643, 'learning_rate': 0.02700716019572042, 'num_leaves': 937, 'max_depth': 19, 'min_data_in_leaf': 32, 'colsample_bytree': 0.881052547102073, 'subsample': 0.9651402102272331, 'min_gain_to_split': 0.22684853953569634, 'bagging_fraction': 0.7, 'bagging_freq': 1, 'feature_fraction': 0.5}. Best is trial 75 with value: 0.9079961464354529.\n"
     ]
    },
    {
     "name": "stdout",
     "output_type": "stream",
     "text": [
      "Training until validation scores don't improve for 100 rounds\n",
      "Early stopping, best iteration is:\n",
      "[98]\tvalid_0's multi_logloss: 0.311575\tvalid_0's accuracy: 0.909693\n",
      "Training until validation scores don't improve for 100 rounds\n",
      "Early stopping, best iteration is:\n",
      "[74]\tvalid_0's multi_logloss: 0.319233\tvalid_0's accuracy: 0.914785\n",
      "Training until validation scores don't improve for 100 rounds\n",
      "Early stopping, best iteration is:\n",
      "[129]\tvalid_0's multi_logloss: 0.271825\tvalid_0's accuracy: 0.912376\n",
      "Training until validation scores don't improve for 100 rounds\n",
      "Early stopping, best iteration is:\n",
      "[204]\tvalid_0's multi_logloss: 0.272591\tvalid_0's accuracy: 0.906956\n",
      "Training until validation scores don't improve for 100 rounds\n",
      "Early stopping, best iteration is:\n",
      "[158]\tvalid_0's multi_logloss: 0.271955\tvalid_0's accuracy: 0.912075\n"
     ]
    },
    {
     "name": "stderr",
     "output_type": "stream",
     "text": [
      "[I 2024-02-13 17:34:56,540] Trial 207 finished with value: 0.9057803468208092 and parameters: {'n_estimators': 765, 'learning_rate': 0.03429817546484564, 'num_leaves': 711, 'max_depth': 19, 'min_data_in_leaf': 22, 'colsample_bytree': 0.9066098990013978, 'subsample': 0.8752228504283834, 'min_gain_to_split': 0.3770664165344912, 'bagging_fraction': 0.8, 'bagging_freq': 1, 'feature_fraction': 0.5}. Best is trial 75 with value: 0.9079961464354529.\n"
     ]
    },
    {
     "name": "stdout",
     "output_type": "stream",
     "text": [
      "Training until validation scores don't improve for 100 rounds\n",
      "Early stopping, best iteration is:\n",
      "[181]\tvalid_0's multi_logloss: 0.302972\tvalid_0's accuracy: 0.90879\n",
      "Training until validation scores don't improve for 100 rounds\n",
      "Early stopping, best iteration is:\n",
      "[401]\tvalid_0's multi_logloss: 0.256804\tvalid_0's accuracy: 0.918097\n",
      "Training until validation scores don't improve for 100 rounds\n",
      "Early stopping, best iteration is:\n",
      "[192]\tvalid_0's multi_logloss: 0.281266\tvalid_0's accuracy: 0.91087\n",
      "Training until validation scores don't improve for 100 rounds\n",
      "Early stopping, best iteration is:\n",
      "[390]\tvalid_0's multi_logloss: 0.275821\tvalid_0's accuracy: 0.90816\n",
      "Training until validation scores don't improve for 100 rounds\n",
      "Early stopping, best iteration is:\n",
      "[271]\tvalid_0's multi_logloss: 0.275634\tvalid_0's accuracy: 0.911472\n"
     ]
    },
    {
     "name": "stderr",
     "output_type": "stream",
     "text": [
      "[I 2024-02-13 17:35:27,551] Trial 208 finished with value: 0.9053468208092486 and parameters: {'n_estimators': 616, 'learning_rate': 0.024113922446369385, 'num_leaves': 958, 'max_depth': 20, 'min_data_in_leaf': 21, 'colsample_bytree': 0.9995825181022195, 'subsample': 0.9963615695256133, 'min_gain_to_split': 1.4812267032728876, 'bagging_fraction': 0.9, 'bagging_freq': 1, 'feature_fraction': 0.5}. Best is trial 75 with value: 0.9079961464354529.\n"
     ]
    },
    {
     "name": "stdout",
     "output_type": "stream",
     "text": [
      "Training until validation scores don't improve for 100 rounds\n",
      "Early stopping, best iteration is:\n",
      "[209]\tvalid_0's multi_logloss: 0.284562\tvalid_0's accuracy: 0.909392\n",
      "Training until validation scores don't improve for 100 rounds\n",
      "Early stopping, best iteration is:\n",
      "[90]\tvalid_0's multi_logloss: 0.287862\tvalid_0's accuracy: 0.914484\n",
      "Training until validation scores don't improve for 100 rounds\n",
      "Early stopping, best iteration is:\n",
      "[215]\tvalid_0's multi_logloss: 0.262456\tvalid_0's accuracy: 0.910569\n",
      "Training until validation scores don't improve for 100 rounds\n",
      "Early stopping, best iteration is:\n",
      "[115]\tvalid_0's multi_logloss: 0.288669\tvalid_0's accuracy: 0.909064\n",
      "Training until validation scores don't improve for 100 rounds\n",
      "Early stopping, best iteration is:\n",
      "[136]\tvalid_0's multi_logloss: 0.27625\tvalid_0's accuracy: 0.910268\n"
     ]
    },
    {
     "name": "stderr",
     "output_type": "stream",
     "text": [
      "[I 2024-02-13 17:35:49,697] Trial 209 finished with value: 0.9054431599229286 and parameters: {'n_estimators': 351, 'learning_rate': 0.04040771775238694, 'num_leaves': 911, 'max_depth': 19, 'min_data_in_leaf': 28, 'colsample_bytree': 0.9324951671048155, 'subsample': 1.051912568098892, 'min_gain_to_split': 0.9985301477068345, 'bagging_fraction': 0.8, 'bagging_freq': 1, 'feature_fraction': 0.5}. Best is trial 75 with value: 0.9079961464354529.\n"
     ]
    },
    {
     "name": "stdout",
     "output_type": "stream",
     "text": [
      "Training until validation scores don't improve for 100 rounds\n",
      "Did not meet early stopping. Best iteration is:\n",
      "[501]\tvalid_0's multi_logloss: 0.284656\tvalid_0's accuracy: 0.907586\n",
      "Training until validation scores don't improve for 100 rounds\n",
      "Early stopping, best iteration is:\n",
      "[182]\tvalid_0's multi_logloss: 0.338875\tvalid_0's accuracy: 0.912677\n",
      "Training until validation scores don't improve for 100 rounds\n",
      "Early stopping, best iteration is:\n",
      "[351]\tvalid_0's multi_logloss: 0.271606\tvalid_0's accuracy: 0.912376\n",
      "Training until validation scores don't improve for 100 rounds\n",
      "Early stopping, best iteration is:\n",
      "[338]\tvalid_0's multi_logloss: 0.282427\tvalid_0's accuracy: 0.907558\n",
      "Training until validation scores don't improve for 100 rounds\n",
      "Early stopping, best iteration is:\n",
      "[321]\tvalid_0's multi_logloss: 0.279379\tvalid_0's accuracy: 0.912075\n"
     ]
    },
    {
     "name": "stderr",
     "output_type": "stream",
     "text": [
      "[I 2024-02-13 17:36:44,222] Trial 210 finished with value: 0.9058285163776493 and parameters: {'n_estimators': 501, 'learning_rate': 0.013751057500678641, 'num_leaves': 790, 'max_depth': 18, 'min_data_in_leaf': 40, 'colsample_bytree': 0.7614128386037986, 'subsample': 1.019944115649856, 'min_gain_to_split': 0.5073978083910965, 'bagging_fraction': 0.8, 'bagging_freq': 1, 'feature_fraction': 0.5}. Best is trial 75 with value: 0.9079961464354529.\n"
     ]
    },
    {
     "name": "stdout",
     "output_type": "stream",
     "text": [
      "Training until validation scores don't improve for 100 rounds\n",
      "Early stopping, best iteration is:\n",
      "[244]\tvalid_0's multi_logloss: 0.298071\tvalid_0's accuracy: 0.909392\n",
      "Training until validation scores don't improve for 100 rounds\n",
      "Early stopping, best iteration is:\n",
      "[485]\tvalid_0's multi_logloss: 0.249907\tvalid_0's accuracy: 0.916893\n",
      "Training until validation scores don't improve for 100 rounds\n",
      "Early stopping, best iteration is:\n",
      "[290]\tvalid_0's multi_logloss: 0.268546\tvalid_0's accuracy: 0.912075\n",
      "Training until validation scores don't improve for 100 rounds\n",
      "Early stopping, best iteration is:\n",
      "[234]\tvalid_0's multi_logloss: 0.289098\tvalid_0's accuracy: 0.909064\n",
      "Training until validation scores don't improve for 100 rounds\n",
      "Early stopping, best iteration is:\n",
      "[355]\tvalid_0's multi_logloss: 0.269885\tvalid_0's accuracy: 0.912978\n"
     ]
    },
    {
     "name": "stderr",
     "output_type": "stream",
     "text": [
      "[I 2024-02-13 17:37:30,093] Trial 211 finished with value: 0.9077071290944122 and parameters: {'n_estimators': 717, 'learning_rate': 0.017547304457257936, 'num_leaves': 847, 'max_depth': 18, 'min_data_in_leaf': 19, 'colsample_bytree': 0.8267348096543138, 'subsample': 1.0803972567166793, 'min_gain_to_split': 0.7380338706505223, 'bagging_fraction': 0.9, 'bagging_freq': 1, 'feature_fraction': 0.5}. Best is trial 75 with value: 0.9079961464354529.\n"
     ]
    },
    {
     "name": "stdout",
     "output_type": "stream",
     "text": [
      "Training until validation scores don't improve for 100 rounds\n",
      "Early stopping, best iteration is:\n",
      "[302]\tvalid_0's multi_logloss: 0.317123\tvalid_0's accuracy: 0.907887\n",
      "Training until validation scores don't improve for 100 rounds\n",
      "Early stopping, best iteration is:\n",
      "[395]\tvalid_0's multi_logloss: 0.267842\tvalid_0's accuracy: 0.916893\n",
      "Training until validation scores don't improve for 100 rounds\n",
      "Early stopping, best iteration is:\n",
      "[335]\tvalid_0's multi_logloss: 0.287351\tvalid_0's accuracy: 0.910268\n",
      "Training until validation scores don't improve for 100 rounds\n",
      "Early stopping, best iteration is:\n",
      "[425]\tvalid_0's multi_logloss: 0.28348\tvalid_0's accuracy: 0.909064\n",
      "Training until validation scores don't improve for 100 rounds\n",
      "Early stopping, best iteration is:\n",
      "[260]\tvalid_0's multi_logloss: 0.32325\tvalid_0's accuracy: 0.909666\n"
     ]
    },
    {
     "name": "stderr",
     "output_type": "stream",
     "text": [
      "[I 2024-02-13 17:38:27,211] Trial 212 finished with value: 0.9054913294797687 and parameters: {'n_estimators': 705, 'learning_rate': 0.010895784626799061, 'num_leaves': 536, 'max_depth': 18, 'min_data_in_leaf': 19, 'colsample_bytree': 0.8618132897463875, 'subsample': 0.8459919900612594, 'min_gain_to_split': 0.7232427367174747, 'bagging_fraction': 0.9, 'bagging_freq': 1, 'feature_fraction': 0.5}. Best is trial 75 with value: 0.9079961464354529.\n"
     ]
    },
    {
     "name": "stdout",
     "output_type": "stream",
     "text": [
      "Training until validation scores don't improve for 100 rounds\n",
      "Early stopping, best iteration is:\n",
      "[233]\tvalid_0's multi_logloss: 0.310879\tvalid_0's accuracy: 0.909091\n",
      "Training until validation scores don't improve for 100 rounds\n",
      "Early stopping, best iteration is:\n",
      "[288]\tvalid_0's multi_logloss: 0.271306\tvalid_0's accuracy: 0.914785\n",
      "Training until validation scores don't improve for 100 rounds\n",
      "Early stopping, best iteration is:\n",
      "[141]\tvalid_0's multi_logloss: 0.361178\tvalid_0's accuracy: 0.907859\n",
      "Training until validation scores don't improve for 100 rounds\n",
      "Early stopping, best iteration is:\n",
      "[301]\tvalid_0's multi_logloss: 0.285508\tvalid_0's accuracy: 0.907859\n",
      "Training until validation scores don't improve for 100 rounds\n",
      "Early stopping, best iteration is:\n",
      "[358]\tvalid_0's multi_logloss: 0.276713\tvalid_0's accuracy: 0.910569\n"
     ]
    },
    {
     "name": "stderr",
     "output_type": "stream",
     "text": [
      "[I 2024-02-13 17:39:03,757] Trial 213 finished with value: 0.9053949903660887 and parameters: {'n_estimators': 810, 'learning_rate': 0.016153157387859118, 'num_leaves': 813, 'max_depth': 18, 'min_data_in_leaf': 18, 'colsample_bytree': 0.8406553906422944, 'subsample': 1.0460012741819213, 'min_gain_to_split': 1.213307786095648, 'bagging_fraction': 0.9, 'bagging_freq': 1, 'feature_fraction': 0.5}. Best is trial 75 with value: 0.9079961464354529.\n"
     ]
    },
    {
     "name": "stdout",
     "output_type": "stream",
     "text": [
      "Training until validation scores don't improve for 100 rounds\n",
      "Early stopping, best iteration is:\n",
      "[168]\tvalid_0's multi_logloss: 0.303932\tvalid_0's accuracy: 0.912703\n",
      "Training until validation scores don't improve for 100 rounds\n",
      "Early stopping, best iteration is:\n",
      "[193]\tvalid_0's multi_logloss: 0.265329\tvalid_0's accuracy: 0.91358\n",
      "Training until validation scores don't improve for 100 rounds\n",
      "Early stopping, best iteration is:\n",
      "[280]\tvalid_0's multi_logloss: 0.261547\tvalid_0's accuracy: 0.912677\n",
      "Training until validation scores don't improve for 100 rounds\n",
      "Early stopping, best iteration is:\n",
      "[158]\tvalid_0's multi_logloss: 0.307073\tvalid_0's accuracy: 0.907558\n",
      "Training until validation scores don't improve for 100 rounds\n",
      "Early stopping, best iteration is:\n",
      "[313]\tvalid_0's multi_logloss: 0.265718\tvalid_0's accuracy: 0.910569\n"
     ]
    },
    {
     "name": "stderr",
     "output_type": "stream",
     "text": [
      "[I 2024-02-13 17:39:46,617] Trial 214 finished with value: 0.9060211946050096 and parameters: {'n_estimators': 1647, 'learning_rate': 0.021930728087577626, 'num_leaves': 827, 'max_depth': 19, 'min_data_in_leaf': 24, 'colsample_bytree': 0.7824603624643246, 'subsample': 0.9547913009951092, 'min_gain_to_split': 0.2949907980545833, 'bagging_fraction': 0.4, 'bagging_freq': 1, 'feature_fraction': 0.5}. Best is trial 75 with value: 0.9079961464354529.\n"
     ]
    },
    {
     "name": "stdout",
     "output_type": "stream",
     "text": [
      "Training until validation scores don't improve for 100 rounds\n",
      "Early stopping, best iteration is:\n",
      "[471]\tvalid_0's multi_logloss: 0.297268\tvalid_0's accuracy: 0.90578\n",
      "Training until validation scores don't improve for 100 rounds\n",
      "Early stopping, best iteration is:\n",
      "[398]\tvalid_0's multi_logloss: 0.279155\tvalid_0's accuracy: 0.909064\n",
      "Training until validation scores don't improve for 100 rounds\n",
      "Early stopping, best iteration is:\n",
      "[229]\tvalid_0's multi_logloss: 0.294929\tvalid_0's accuracy: 0.905149\n",
      "Training until validation scores don't improve for 100 rounds\n",
      "Early stopping, best iteration is:\n",
      "[371]\tvalid_0's multi_logloss: 0.294347\tvalid_0's accuracy: 0.904246\n",
      "Training until validation scores don't improve for 100 rounds\n",
      "Early stopping, best iteration is:\n",
      "[276]\tvalid_0's multi_logloss: 0.292984\tvalid_0's accuracy: 0.906956\n"
     ]
    },
    {
     "name": "stderr",
     "output_type": "stream",
     "text": [
      "[I 2024-02-13 17:40:12,432] Trial 215 finished with value: 0.9017822736030829 and parameters: {'n_estimators': 768, 'learning_rate': 0.02845118378918876, 'num_leaves': 851, 'max_depth': 19, 'min_data_in_leaf': 14, 'colsample_bytree': 0.9722602779196139, 'subsample': 0.900184364447932, 'min_gain_to_split': 4.1505390966208395, 'bagging_fraction': 0.9, 'bagging_freq': 1, 'feature_fraction': 0.5}. Best is trial 75 with value: 0.9079961464354529.\n"
     ]
    },
    {
     "name": "stdout",
     "output_type": "stream",
     "text": [
      "Training until validation scores don't improve for 100 rounds\n",
      "Early stopping, best iteration is:\n",
      "[219]\tvalid_0's multi_logloss: 0.302035\tvalid_0's accuracy: 0.907586\n",
      "Training until validation scores don't improve for 100 rounds\n",
      "Early stopping, best iteration is:\n",
      "[213]\tvalid_0's multi_logloss: 0.272183\tvalid_0's accuracy: 0.915989\n",
      "Training until validation scores don't improve for 100 rounds\n",
      "Early stopping, best iteration is:\n",
      "[151]\tvalid_0's multi_logloss: 0.320393\tvalid_0's accuracy: 0.911774\n",
      "Training until validation scores don't improve for 100 rounds\n",
      "Early stopping, best iteration is:\n",
      "[209]\tvalid_0's multi_logloss: 0.29425\tvalid_0's accuracy: 0.906354\n",
      "Training until validation scores don't improve for 100 rounds\n",
      "Early stopping, best iteration is:\n",
      "[291]\tvalid_0's multi_logloss: 0.2736\tvalid_0's accuracy: 0.912978\n"
     ]
    },
    {
     "name": "stderr",
     "output_type": "stream",
     "text": [
      "[I 2024-02-13 17:41:50,969] Trial 216 finished with value: 0.9052504816955682 and parameters: {'n_estimators': 1367, 'learning_rate': 0.017160911051850587, 'num_leaves': 996, 'max_depth': 18, 'min_data_in_leaf': 20, 'colsample_bytree': 0.8926623459084907, 'subsample': 1.0806484749022094, 'min_gain_to_split': 0.004604507298146543, 'bagging_fraction': 0.9, 'bagging_freq': 1, 'feature_fraction': 0.5}. Best is trial 75 with value: 0.9079961464354529.\n"
     ]
    },
    {
     "name": "stdout",
     "output_type": "stream",
     "text": [
      "Training until validation scores don't improve for 100 rounds\n",
      "Early stopping, best iteration is:\n",
      "[191]\tvalid_0's multi_logloss: 0.291819\tvalid_0's accuracy: 0.90879\n",
      "Training until validation scores don't improve for 100 rounds\n",
      "Early stopping, best iteration is:\n",
      "[212]\tvalid_0's multi_logloss: 0.258384\tvalid_0's accuracy: 0.91629\n",
      "Training until validation scores don't improve for 100 rounds\n",
      "Early stopping, best iteration is:\n",
      "[211]\tvalid_0's multi_logloss: 0.270551\tvalid_0's accuracy: 0.91087\n",
      "Training until validation scores don't improve for 100 rounds\n",
      "Early stopping, best iteration is:\n",
      "[279]\tvalid_0's multi_logloss: 0.273898\tvalid_0's accuracy: 0.907859\n",
      "Training until validation scores don't improve for 100 rounds\n",
      "Early stopping, best iteration is:\n",
      "[216]\tvalid_0's multi_logloss: 0.275968\tvalid_0's accuracy: 0.910268\n"
     ]
    },
    {
     "name": "stderr",
     "output_type": "stream",
     "text": [
      "[I 2024-02-13 17:42:21,808] Trial 217 finished with value: 0.9061657032755299 and parameters: {'n_estimators': 639, 'learning_rate': 0.02543434979299667, 'num_leaves': 747, 'max_depth': 19, 'min_data_in_leaf': 22, 'colsample_bytree': 0.8270679898108368, 'subsample': 0.9871611609570284, 'min_gain_to_split': 0.9168035649906019, 'bagging_fraction': 0.8, 'bagging_freq': 1, 'feature_fraction': 0.5}. Best is trial 75 with value: 0.9079961464354529.\n"
     ]
    },
    {
     "name": "stdout",
     "output_type": "stream",
     "text": [
      "Training until validation scores don't improve for 100 rounds\n",
      "Early stopping, best iteration is:\n",
      "[126]\tvalid_0's multi_logloss: 0.424873\tvalid_0's accuracy: 0.907586\n",
      "Training until validation scores don't improve for 100 rounds\n",
      "Early stopping, best iteration is:\n",
      "[167]\tvalid_0's multi_logloss: 0.338695\tvalid_0's accuracy: 0.914484\n",
      "Training until validation scores don't improve for 100 rounds\n",
      "Did not meet early stopping. Best iteration is:\n",
      "[458]\tvalid_0's multi_logloss: 0.261567\tvalid_0's accuracy: 0.911472\n",
      "Training until validation scores don't improve for 100 rounds\n",
      "Early stopping, best iteration is:\n",
      "[252]\tvalid_0's multi_logloss: 0.301324\tvalid_0's accuracy: 0.907257\n",
      "Training until validation scores don't improve for 100 rounds\n",
      "Early stopping, best iteration is:\n",
      "[353]\tvalid_0's multi_logloss: 0.273743\tvalid_0's accuracy: 0.910268\n"
     ]
    },
    {
     "name": "stderr",
     "output_type": "stream",
     "text": [
      "[I 2024-02-13 17:43:10,085] Trial 218 finished with value: 0.9052986512524084 and parameters: {'n_estimators': 458, 'learning_rate': 0.014149540872050573, 'num_leaves': 891, 'max_depth': 20, 'min_data_in_leaf': 26, 'colsample_bytree': 0.9386899333034202, 'subsample': 1.1125080565566043, 'min_gain_to_split': 0.48302102044355866, 'bagging_fraction': 0.8, 'bagging_freq': 1, 'feature_fraction': 0.5}. Best is trial 75 with value: 0.9079961464354529.\n"
     ]
    },
    {
     "name": "stdout",
     "output_type": "stream",
     "text": [
      "Training until validation scores don't improve for 100 rounds\n",
      "Early stopping, best iteration is:\n",
      "[212]\tvalid_0's multi_logloss: 0.304319\tvalid_0's accuracy: 0.909392\n",
      "Training until validation scores don't improve for 100 rounds\n",
      "Early stopping, best iteration is:\n",
      "[334]\tvalid_0's multi_logloss: 0.261801\tvalid_0's accuracy: 0.916591\n",
      "Training until validation scores don't improve for 100 rounds\n",
      "Early stopping, best iteration is:\n",
      "[358]\tvalid_0's multi_logloss: 0.266856\tvalid_0's accuracy: 0.911472\n",
      "Training until validation scores don't improve for 100 rounds\n",
      "Early stopping, best iteration is:\n",
      "[213]\tvalid_0's multi_logloss: 0.295494\tvalid_0's accuracy: 0.907257\n",
      "Training until validation scores don't improve for 100 rounds\n",
      "Early stopping, best iteration is:\n",
      "[266]\tvalid_0's multi_logloss: 0.281727\tvalid_0's accuracy: 0.911171\n"
     ]
    },
    {
     "name": "stderr",
     "output_type": "stream",
     "text": [
      "[I 2024-02-13 17:43:44,224] Trial 219 finished with value: 0.905732177263969 and parameters: {'n_estimators': 739, 'learning_rate': 0.01975954269938001, 'num_leaves': 780, 'max_depth': 18, 'min_data_in_leaf': 17, 'colsample_bytree': 0.921946511082664, 'subsample': 1.011924196482593, 'min_gain_to_split': 1.3728966347014604, 'bagging_fraction': 0.9, 'bagging_freq': 1, 'feature_fraction': 0.5}. Best is trial 75 with value: 0.9079961464354529.\n"
     ]
    },
    {
     "name": "stdout",
     "output_type": "stream",
     "text": [
      "Training until validation scores don't improve for 100 rounds\n",
      "Early stopping, best iteration is:\n",
      "[278]\tvalid_0's multi_logloss: 0.284169\tvalid_0's accuracy: 0.909091\n",
      "Training until validation scores don't improve for 100 rounds\n",
      "Early stopping, best iteration is:\n",
      "[252]\tvalid_0's multi_logloss: 0.249807\tvalid_0's accuracy: 0.917495\n",
      "Training until validation scores don't improve for 100 rounds\n",
      "Early stopping, best iteration is:\n",
      "[163]\tvalid_0's multi_logloss: 0.274814\tvalid_0's accuracy: 0.911472\n",
      "Training until validation scores don't improve for 100 rounds\n",
      "Early stopping, best iteration is:\n",
      "[126]\tvalid_0's multi_logloss: 0.299463\tvalid_0's accuracy: 0.906354\n",
      "Training until validation scores don't improve for 100 rounds\n",
      "Early stopping, best iteration is:\n",
      "[207]\tvalid_0's multi_logloss: 0.26891\tvalid_0's accuracy: 0.912376\n"
     ]
    },
    {
     "name": "stderr",
     "output_type": "stream",
     "text": [
      "[I 2024-02-13 17:44:12,625] Trial 220 finished with value: 0.9063583815028903 and parameters: {'n_estimators': 1565, 'learning_rate': 0.030781212599393367, 'num_leaves': 857, 'max_depth': 18, 'min_data_in_leaf': 44, 'colsample_bytree': 0.8034449911564313, 'subsample': 1.070455776968359, 'min_gain_to_split': 0.7680115138706504, 'bagging_fraction': 0.8, 'bagging_freq': 1, 'feature_fraction': 0.5}. Best is trial 75 with value: 0.9079961464354529.\n"
     ]
    },
    {
     "name": "stdout",
     "output_type": "stream",
     "text": [
      "Training until validation scores don't improve for 100 rounds\n",
      "Early stopping, best iteration is:\n",
      "[394]\tvalid_0's multi_logloss: 0.284487\tvalid_0's accuracy: 0.909392\n",
      "Training until validation scores don't improve for 100 rounds\n",
      "Early stopping, best iteration is:\n",
      "[227]\tvalid_0's multi_logloss: 0.267436\tvalid_0's accuracy: 0.915086\n",
      "Training until validation scores don't improve for 100 rounds\n",
      "Early stopping, best iteration is:\n",
      "[159]\tvalid_0's multi_logloss: 0.3113\tvalid_0's accuracy: 0.909365\n",
      "Training until validation scores don't improve for 100 rounds\n",
      "Early stopping, best iteration is:\n",
      "[254]\tvalid_0's multi_logloss: 0.284219\tvalid_0's accuracy: 0.908762\n",
      "Training until validation scores don't improve for 100 rounds\n",
      "Early stopping, best iteration is:\n",
      "[429]\tvalid_0's multi_logloss: 0.266144\tvalid_0's accuracy: 0.91358\n"
     ]
    },
    {
     "name": "stderr",
     "output_type": "stream",
     "text": [
      "[I 2024-02-13 17:45:01,978] Trial 221 finished with value: 0.9072736030828518 and parameters: {'n_estimators': 1081, 'learning_rate': 0.018654227942913992, 'num_leaves': 845, 'max_depth': 18, 'min_data_in_leaf': 16, 'colsample_bytree': 0.8479395165904048, 'subsample': 1.1237413381469845, 'min_gain_to_split': 0.5942449987865235, 'bagging_fraction': 0.9, 'bagging_freq': 1, 'feature_fraction': 0.5}. Best is trial 75 with value: 0.9079961464354529.\n"
     ]
    },
    {
     "name": "stdout",
     "output_type": "stream",
     "text": [
      "Training until validation scores don't improve for 100 rounds\n",
      "Early stopping, best iteration is:\n",
      "[292]\tvalid_0's multi_logloss: 0.290974\tvalid_0's accuracy: 0.909392\n",
      "Training until validation scores don't improve for 100 rounds\n",
      "Early stopping, best iteration is:\n",
      "[253]\tvalid_0's multi_logloss: 0.263995\tvalid_0's accuracy: 0.915086\n",
      "Training until validation scores don't improve for 100 rounds\n",
      "Early stopping, best iteration is:\n",
      "[173]\tvalid_0's multi_logloss: 0.304181\tvalid_0's accuracy: 0.910268\n",
      "Training until validation scores don't improve for 100 rounds\n",
      "Early stopping, best iteration is:\n",
      "[177]\tvalid_0's multi_logloss: 0.312669\tvalid_0's accuracy: 0.908762\n",
      "Training until validation scores don't improve for 100 rounds\n",
      "Early stopping, best iteration is:\n",
      "[347]\tvalid_0's multi_logloss: 0.269686\tvalid_0's accuracy: 0.912677\n"
     ]
    },
    {
     "name": "stderr",
     "output_type": "stream",
     "text": [
      "[I 2024-02-13 17:45:48,220] Trial 222 finished with value: 0.905587668593449 and parameters: {'n_estimators': 1685, 'learning_rate': 0.01761706682830564, 'num_leaves': 877, 'max_depth': 18, 'min_data_in_leaf': 19, 'colsample_bytree': 0.8491272517121856, 'subsample': 1.1321908606263296, 'min_gain_to_split': 0.5439459362011446, 'bagging_fraction': 0.9, 'bagging_freq': 1, 'feature_fraction': 0.5}. Best is trial 75 with value: 0.9079961464354529.\n"
     ]
    },
    {
     "name": "stdout",
     "output_type": "stream",
     "text": [
      "Training until validation scores don't improve for 100 rounds\n",
      "Early stopping, best iteration is:\n",
      "[419]\tvalid_0's multi_logloss: 0.294449\tvalid_0's accuracy: 0.906081\n",
      "Training until validation scores don't improve for 100 rounds\n",
      "Early stopping, best iteration is:\n",
      "[189]\tvalid_0's multi_logloss: 0.301004\tvalid_0's accuracy: 0.91087\n",
      "Training until validation scores don't improve for 100 rounds\n",
      "Early stopping, best iteration is:\n",
      "[447]\tvalid_0's multi_logloss: 0.281304\tvalid_0's accuracy: 0.906956\n",
      "Training until validation scores don't improve for 100 rounds\n",
      "Early stopping, best iteration is:\n",
      "[239]\tvalid_0's multi_logloss: 0.304284\tvalid_0's accuracy: 0.905751\n",
      "Training until validation scores don't improve for 100 rounds\n"
     ]
    },
    {
     "name": "stderr",
     "output_type": "stream",
     "text": [
      "[I 2024-02-13 17:46:13,279] Trial 223 finished with value: 0.9008188824662813 and parameters: {'n_estimators': 1766, 'learning_rate': 0.022003566426810495, 'num_leaves': 820, 'max_depth': 19, 'min_data_in_leaf': 15, 'colsample_bytree': 0.8569503956938997, 'subsample': 1.0412543080528411, 'min_gain_to_split': 3.2676655266343895, 'bagging_fraction': 0.9, 'bagging_freq': 1, 'feature_fraction': 0.5}. Best is trial 75 with value: 0.9079961464354529.\n"
     ]
    },
    {
     "name": "stdout",
     "output_type": "stream",
     "text": [
      "Early stopping, best iteration is:\n",
      "[58]\tvalid_0's multi_logloss: 0.551684\tvalid_0's accuracy: 0.903643\n",
      "Training until validation scores don't improve for 100 rounds\n",
      "Early stopping, best iteration is:\n",
      "[94]\tvalid_0's multi_logloss: 0.322683\tvalid_0's accuracy: 0.894943\n",
      "Training until validation scores don't improve for 100 rounds\n",
      "Early stopping, best iteration is:\n",
      "[55]\tvalid_0's multi_logloss: 0.286391\tvalid_0's accuracy: 0.907859\n",
      "Training until validation scores don't improve for 100 rounds\n",
      "Early stopping, best iteration is:\n",
      "[71]\tvalid_0's multi_logloss: 0.296945\tvalid_0's accuracy: 0.901837\n",
      "Training until validation scores don't improve for 100 rounds\n",
      "Early stopping, best iteration is:\n",
      "[23]\tvalid_0's multi_logloss: 0.328034\tvalid_0's accuracy: 0.88648\n",
      "Training until validation scores don't improve for 100 rounds\n"
     ]
    },
    {
     "name": "stderr",
     "output_type": "stream",
     "text": [
      "[I 2024-02-13 17:46:21,383] Trial 224 finished with value: 0.8938824662813103 and parameters: {'n_estimators': 1077, 'learning_rate': 0.47559890857459863, 'num_leaves': 797, 'max_depth': 17, 'min_data_in_leaf': 17, 'colsample_bytree': 0.879542676217291, 'subsample': 1.091988025691057, 'min_gain_to_split': 1.0502469510343229, 'bagging_fraction': 0.9, 'bagging_freq': 1, 'feature_fraction': 0.5}. Best is trial 75 with value: 0.9079961464354529.\n"
     ]
    },
    {
     "name": "stdout",
     "output_type": "stream",
     "text": [
      "Early stopping, best iteration is:\n",
      "[75]\tvalid_0's multi_logloss: 0.308729\tvalid_0's accuracy: 0.898223\n",
      "Training until validation scores don't improve for 100 rounds\n",
      "Did not meet early stopping. Best iteration is:\n",
      "[1046]\tvalid_0's multi_logloss: 0.312064\tvalid_0's accuracy: 0.898254\n",
      "Training until validation scores don't improve for 100 rounds\n",
      "Did not meet early stopping. Best iteration is:\n",
      "[1046]\tvalid_0's multi_logloss: 0.290333\tvalid_0's accuracy: 0.89732\n",
      "Training until validation scores don't improve for 100 rounds\n",
      "Did not meet early stopping. Best iteration is:\n",
      "[1046]\tvalid_0's multi_logloss: 0.29534\tvalid_0's accuracy: 0.895513\n",
      "Training until validation scores don't improve for 100 rounds\n",
      "Did not meet early stopping. Best iteration is:\n",
      "[1045]\tvalid_0's multi_logloss: 0.290557\tvalid_0's accuracy: 0.899729\n",
      "Training until validation scores don't improve for 100 rounds\n",
      "Early stopping, best iteration is:\n",
      "[492]\tvalid_0's multi_logloss: 0.339071\tvalid_0's accuracy: 0.890696\n"
     ]
    },
    {
     "name": "stderr",
     "output_type": "stream",
     "text": [
      "[I 2024-02-13 17:48:19,014] Trial 225 finished with value: 0.895616570327553 and parameters: {'n_estimators': 1046, 'learning_rate': 0.013076639689169608, 'num_leaves': 839, 'max_depth': 18, 'min_data_in_leaf': 21, 'colsample_bytree': 0.8264954607194607, 'subsample': 1.1808760751300713, 'min_gain_to_split': 0.2519713352732337, 'bagging_fraction': 0.9, 'bagging_freq': 1, 'feature_fraction': 0.2}. Best is trial 75 with value: 0.9079961464354529.\n"
     ]
    },
    {
     "name": "stdout",
     "output_type": "stream",
     "text": [
      "Training until validation scores don't improve for 100 rounds\n",
      "Early stopping, best iteration is:\n",
      "[315]\tvalid_0's multi_logloss: 0.292353\tvalid_0's accuracy: 0.909693\n",
      "Training until validation scores don't improve for 100 rounds\n",
      "Early stopping, best iteration is:\n",
      "[357]\tvalid_0's multi_logloss: 0.256417\tvalid_0's accuracy: 0.91629\n",
      "Training until validation scores don't improve for 100 rounds\n",
      "Early stopping, best iteration is:\n",
      "[266]\tvalid_0's multi_logloss: 0.279625\tvalid_0's accuracy: 0.911774\n",
      "Training until validation scores don't improve for 100 rounds\n",
      "Early stopping, best iteration is:\n",
      "[326]\tvalid_0's multi_logloss: 0.279033\tvalid_0's accuracy: 0.907859\n",
      "Training until validation scores don't improve for 100 rounds\n",
      "Early stopping, best iteration is:\n",
      "[177]\tvalid_0's multi_logloss: 0.327634\tvalid_0's accuracy: 0.908762\n"
     ]
    },
    {
     "name": "stderr",
     "output_type": "stream",
     "text": [
      "[I 2024-02-13 17:49:06,417] Trial 226 finished with value: 0.9061175337186897 and parameters: {'n_estimators': 554, 'learning_rate': 0.0154852803579107, 'num_leaves': 767, 'max_depth': 17, 'min_data_in_leaf': 19, 'colsample_bytree': 0.9578114135317883, 'subsample': 0.8695582604302465, 'min_gain_to_split': 0.6678484901501798, 'bagging_fraction': 0.8, 'bagging_freq': 1, 'feature_fraction': 0.5}. Best is trial 75 with value: 0.9079961464354529.\n"
     ]
    },
    {
     "name": "stdout",
     "output_type": "stream",
     "text": [
      "Training until validation scores don't improve for 100 rounds\n",
      "Early stopping, best iteration is:\n",
      "[660]\tvalid_0's multi_logloss: 0.30136\tvalid_0's accuracy: 0.909994\n",
      "Training until validation scores don't improve for 100 rounds\n",
      "Early stopping, best iteration is:\n",
      "[545]\tvalid_0's multi_logloss: 0.293213\tvalid_0's accuracy: 0.912978\n",
      "Training until validation scores don't improve for 100 rounds\n",
      "Early stopping, best iteration is:\n",
      "[637]\tvalid_0's multi_logloss: 0.285538\tvalid_0's accuracy: 0.912075\n",
      "Training until validation scores don't improve for 100 rounds\n",
      "Early stopping, best iteration is:\n",
      "[379]\tvalid_0's multi_logloss: 0.373409\tvalid_0's accuracy: 0.907257\n",
      "Training until validation scores don't improve for 100 rounds\n",
      "Early stopping, best iteration is:\n",
      "[677]\tvalid_0's multi_logloss: 0.283968\tvalid_0's accuracy: 0.912978\n"
     ]
    },
    {
     "name": "stderr",
     "output_type": "stream",
     "text": [
      "[I 2024-02-13 17:50:39,903] Trial 227 finished with value: 0.9045761078998075 and parameters: {'n_estimators': 1332, 'learning_rate': 0.006210695895118607, 'num_leaves': 862, 'max_depth': 19, 'min_data_in_leaf': 51, 'colsample_bytree': 0.7166265833701461, 'subsample': 1.1161906031907864, 'min_gain_to_split': 0.2887610097161127, 'bagging_fraction': 0.6000000000000001, 'bagging_freq': 1, 'feature_fraction': 0.5}. Best is trial 75 with value: 0.9079961464354529.\n"
     ]
    },
    {
     "name": "stdout",
     "output_type": "stream",
     "text": [
      "Training until validation scores don't improve for 100 rounds\n",
      "Early stopping, best iteration is:\n",
      "[164]\tvalid_0's multi_logloss: 0.320506\tvalid_0's accuracy: 0.908489\n",
      "Training until validation scores don't improve for 100 rounds\n",
      "Early stopping, best iteration is:\n",
      "[411]\tvalid_0's multi_logloss: 0.253434\tvalid_0's accuracy: 0.918097\n",
      "Training until validation scores don't improve for 100 rounds\n",
      "Early stopping, best iteration is:\n",
      "[256]\tvalid_0's multi_logloss: 0.274423\tvalid_0's accuracy: 0.91087\n",
      "Training until validation scores don't improve for 100 rounds\n",
      "Early stopping, best iteration is:\n",
      "[294]\tvalid_0's multi_logloss: 0.279236\tvalid_0's accuracy: 0.909064\n",
      "Training until validation scores don't improve for 100 rounds\n",
      "Early stopping, best iteration is:\n",
      "[386]\tvalid_0's multi_logloss: 0.269021\tvalid_0's accuracy: 0.91087\n"
     ]
    },
    {
     "name": "stderr",
     "output_type": "stream",
     "text": [
      "[I 2024-02-13 17:51:19,207] Trial 228 finished with value: 0.9057803468208092 and parameters: {'n_estimators': 1484, 'learning_rate': 0.0199936979919718, 'num_leaves': 886, 'max_depth': 18, 'min_data_in_leaf': 14, 'colsample_bytree': 0.9808049060330206, 'subsample': 1.156227857665243, 'min_gain_to_split': 1.005352618603665, 'bagging_fraction': 0.8, 'bagging_freq': 1, 'feature_fraction': 0.5}. Best is trial 75 with value: 0.9079961464354529.\n"
     ]
    },
    {
     "name": "stdout",
     "output_type": "stream",
     "text": [
      "Training until validation scores don't improve for 100 rounds\n",
      "Early stopping, best iteration is:\n",
      "[234]\tvalid_0's multi_logloss: 0.317616\tvalid_0's accuracy: 0.902468\n",
      "Training until validation scores don't improve for 100 rounds\n",
      "Early stopping, best iteration is:\n",
      "[35]\tvalid_0's multi_logloss: 0.723568\tvalid_0's accuracy: 0.900331\n",
      "Training until validation scores don't improve for 100 rounds\n",
      "Early stopping, best iteration is:\n",
      "[93]\tvalid_0's multi_logloss: 0.402358\tvalid_0's accuracy: 0.899428\n",
      "Training until validation scores don't improve for 100 rounds\n",
      "Early stopping, best iteration is:\n",
      "[171]\tvalid_0's multi_logloss: 0.336358\tvalid_0's accuracy: 0.897922\n",
      "Training until validation scores don't improve for 100 rounds\n",
      "Early stopping, best iteration is:\n",
      "[322]\tvalid_0's multi_logloss: 0.306235\tvalid_0's accuracy: 0.903945\n"
     ]
    },
    {
     "name": "stderr",
     "output_type": "stream",
     "text": [
      "[I 2024-02-13 17:51:36,569] Trial 229 finished with value: 0.8974951830443161 and parameters: {'n_estimators': 1590, 'learning_rate': 0.025015583054206775, 'num_leaves': 907, 'max_depth': 18, 'min_data_in_leaf': 23, 'colsample_bytree': 0.9036817975407232, 'subsample': 1.062250047214243, 'min_gain_to_split': 6.068041116910369, 'bagging_fraction': 0.9, 'bagging_freq': 1, 'feature_fraction': 0.5}. Best is trial 75 with value: 0.9079961464354529.\n"
     ]
    },
    {
     "name": "stdout",
     "output_type": "stream",
     "text": [
      "Training until validation scores don't improve for 100 rounds\n",
      "Early stopping, best iteration is:\n",
      "[266]\tvalid_0's multi_logloss: 0.304112\tvalid_0's accuracy: 0.907586\n",
      "Training until validation scores don't improve for 100 rounds\n",
      "Early stopping, best iteration is:\n",
      "[484]\tvalid_0's multi_logloss: 0.259925\tvalid_0's accuracy: 0.915688\n",
      "Training until validation scores don't improve for 100 rounds\n",
      "Early stopping, best iteration is:\n",
      "[452]\tvalid_0's multi_logloss: 0.270789\tvalid_0's accuracy: 0.910268\n",
      "Training until validation scores don't improve for 100 rounds\n",
      "Early stopping, best iteration is:\n",
      "[382]\tvalid_0's multi_logloss: 0.280547\tvalid_0's accuracy: 0.910569\n",
      "Training until validation scores don't improve for 100 rounds\n",
      "Early stopping, best iteration is:\n",
      "[421]\tvalid_0's multi_logloss: 0.274917\tvalid_0's accuracy: 0.910569\n"
     ]
    },
    {
     "name": "stderr",
     "output_type": "stream",
     "text": [
      "[I 2024-02-13 17:52:15,199] Trial 230 finished with value: 0.9056358381502889 and parameters: {'n_estimators': 1410, 'learning_rate': 0.017445371110260746, 'num_leaves': 723, 'max_depth': 19, 'min_data_in_leaf': 16, 'colsample_bytree': 0.8717866420510355, 'subsample': 1.0231766697119944, 'min_gain_to_split': 1.6884565084419545, 'bagging_fraction': 0.8, 'bagging_freq': 1, 'feature_fraction': 0.5}. Best is trial 75 with value: 0.9079961464354529.\n"
     ]
    },
    {
     "name": "stdout",
     "output_type": "stream",
     "text": [
      "Training until validation scores don't improve for 100 rounds\n",
      "Early stopping, best iteration is:\n",
      "[197]\tvalid_0's multi_logloss: 0.302945\tvalid_0's accuracy: 0.908489\n",
      "Training until validation scores don't improve for 100 rounds\n",
      "Early stopping, best iteration is:\n",
      "[367]\tvalid_0's multi_logloss: 0.251072\tvalid_0's accuracy: 0.915989\n",
      "Training until validation scores don't improve for 100 rounds\n",
      "Early stopping, best iteration is:\n",
      "[190]\tvalid_0's multi_logloss: 0.284347\tvalid_0's accuracy: 0.912075\n",
      "Training until validation scores don't improve for 100 rounds\n",
      "Early stopping, best iteration is:\n",
      "[166]\tvalid_0's multi_logloss: 0.30869\tvalid_0's accuracy: 0.908762\n",
      "Training until validation scores don't improve for 100 rounds\n",
      "Early stopping, best iteration is:\n",
      "[383]\tvalid_0's multi_logloss: 0.267107\tvalid_0's accuracy: 0.913279\n"
     ]
    },
    {
     "name": "stderr",
     "output_type": "stream",
     "text": [
      "[I 2024-02-13 17:52:55,986] Trial 231 finished with value: 0.90635838150289 and parameters: {'n_estimators': 1101, 'learning_rate': 0.019826531876046886, 'num_leaves': 841, 'max_depth': 18, 'min_data_in_leaf': 18, 'colsample_bytree': 0.7726383986704182, 'subsample': 1.1407355010591003, 'min_gain_to_split': 0.6948438749292778, 'bagging_fraction': 0.9, 'bagging_freq': 1, 'feature_fraction': 0.5}. Best is trial 75 with value: 0.9079961464354529.\n"
     ]
    },
    {
     "name": "stdout",
     "output_type": "stream",
     "text": [
      "Training until validation scores don't improve for 100 rounds\n",
      "Early stopping, best iteration is:\n",
      "[346]\tvalid_0's multi_logloss: 0.286584\tvalid_0's accuracy: 0.909392\n",
      "Training until validation scores don't improve for 100 rounds\n",
      "Early stopping, best iteration is:\n",
      "[160]\tvalid_0's multi_logloss: 0.299402\tvalid_0's accuracy: 0.913881\n",
      "Training until validation scores don't improve for 100 rounds\n",
      "Early stopping, best iteration is:\n",
      "[285]\tvalid_0's multi_logloss: 0.268889\tvalid_0's accuracy: 0.912075\n",
      "Training until validation scores don't improve for 100 rounds\n",
      "Early stopping, best iteration is:\n",
      "[203]\tvalid_0's multi_logloss: 0.296435\tvalid_0's accuracy: 0.90816\n",
      "Training until validation scores don't improve for 100 rounds\n",
      "Early stopping, best iteration is:\n",
      "[298]\tvalid_0's multi_logloss: 0.271075\tvalid_0's accuracy: 0.91358\n"
     ]
    },
    {
     "name": "stderr",
     "output_type": "stream",
     "text": [
      "[I 2024-02-13 17:53:44,408] Trial 232 finished with value: 0.9065510597302506 and parameters: {'n_estimators': 1195, 'learning_rate': 0.01850520768746088, 'num_leaves': 825, 'max_depth': 18, 'min_data_in_leaf': 16, 'colsample_bytree': 0.8213013844614951, 'subsample': 1.0941235869421098, 'min_gain_to_split': 0.4844245450024456, 'bagging_fraction': 0.9, 'bagging_freq': 1, 'feature_fraction': 0.5}. Best is trial 75 with value: 0.9079961464354529.\n"
     ]
    },
    {
     "name": "stdout",
     "output_type": "stream",
     "text": [
      "Training until validation scores don't improve for 100 rounds\n",
      "Early stopping, best iteration is:\n",
      "[137]\tvalid_0's multi_logloss: 0.313842\tvalid_0's accuracy: 0.906984\n",
      "Training until validation scores don't improve for 100 rounds\n",
      "Early stopping, best iteration is:\n",
      "[115]\tvalid_0's multi_logloss: 0.307922\tvalid_0's accuracy: 0.914182\n",
      "Training until validation scores don't improve for 100 rounds\n",
      "Early stopping, best iteration is:\n",
      "[186]\tvalid_0's multi_logloss: 0.271276\tvalid_0's accuracy: 0.911774\n",
      "Training until validation scores don't improve for 100 rounds\n",
      "Early stopping, best iteration is:\n",
      "[210]\tvalid_0's multi_logloss: 0.284457\tvalid_0's accuracy: 0.903643\n",
      "Training until validation scores don't improve for 100 rounds\n",
      "Early stopping, best iteration is:\n",
      "[217]\tvalid_0's multi_logloss: 0.272044\tvalid_0's accuracy: 0.911774\n"
     ]
    },
    {
     "name": "stderr",
     "output_type": "stream",
     "text": [
      "[I 2024-02-13 17:55:10,134] Trial 233 finished with value: 0.9052986512524084 and parameters: {'n_estimators': 1109, 'learning_rate': 0.023483772626628777, 'num_leaves': 850, 'max_depth': 18, 'min_data_in_leaf': 20, 'colsample_bytree': 0.8035935574175992, 'subsample': 1.1271734014328796, 'min_gain_to_split': 0.0022209189467295998, 'bagging_fraction': 0.9, 'bagging_freq': 1, 'feature_fraction': 0.5}. Best is trial 75 with value: 0.9079961464354529.\n"
     ]
    },
    {
     "name": "stdout",
     "output_type": "stream",
     "text": [
      "Training until validation scores don't improve for 100 rounds\n",
      "Early stopping, best iteration is:\n",
      "[591]\tvalid_0's multi_logloss: 0.924703\tvalid_0's accuracy: 0.899157\n",
      "Training until validation scores don't improve for 100 rounds\n",
      "Early stopping, best iteration is:\n",
      "[780]\tvalid_0's multi_logloss: 0.781467\tvalid_0's accuracy: 0.903041\n",
      "Training until validation scores don't improve for 100 rounds\n",
      "Early stopping, best iteration is:\n",
      "[355]\tvalid_0's multi_logloss: 1.17802\tvalid_0's accuracy: 0.893104\n",
      "Training until validation scores don't improve for 100 rounds\n",
      "Did not meet early stopping. Best iteration is:\n",
      "[1026]\tvalid_0's multi_logloss: 0.6631\tvalid_0's accuracy: 0.89461\n",
      "Training until validation scores don't improve for 100 rounds\n",
      "Early stopping, best iteration is:\n",
      "[562]\tvalid_0's multi_logloss: 0.951399\tvalid_0's accuracy: 0.901536\n"
     ]
    },
    {
     "name": "stderr",
     "output_type": "stream",
     "text": [
      "[I 2024-02-13 17:56:50,263] Trial 234 finished with value: 0.8956647398843931 and parameters: {'n_estimators': 1026, 'learning_rate': 0.0010041696961139229, 'num_leaves': 806, 'max_depth': 17, 'min_data_in_leaf': 13, 'colsample_bytree': 0.8455310521398399, 'subsample': 1.2081266816420335, 'min_gain_to_split': 3.092983745363423, 'bagging_fraction': 0.9, 'bagging_freq': 1, 'feature_fraction': 0.5}. Best is trial 75 with value: 0.9079961464354529.\n"
     ]
    },
    {
     "name": "stdout",
     "output_type": "stream",
     "text": [
      "Training until validation scores don't improve for 100 rounds\n",
      "Early stopping, best iteration is:\n",
      "[750]\tvalid_0's multi_logloss: 0.374661\tvalid_0's accuracy: 0.90879\n",
      "Training until validation scores don't improve for 100 rounds\n",
      "Early stopping, best iteration is:\n",
      "[252]\tvalid_0's multi_logloss: 0.779274\tvalid_0's accuracy: 0.906655\n",
      "Training until validation scores don't improve for 100 rounds\n",
      "Early stopping, best iteration is:\n",
      "[260]\tvalid_0's multi_logloss: 0.759582\tvalid_0's accuracy: 0.90274\n",
      "Training until validation scores don't improve for 100 rounds\n",
      "Early stopping, best iteration is:\n",
      "[784]\tvalid_0's multi_logloss: 0.356591\tvalid_0's accuracy: 0.906354\n",
      "Training until validation scores don't improve for 100 rounds\n",
      "Early stopping, best iteration is:\n",
      "[538]\tvalid_0's multi_logloss: 0.456189\tvalid_0's accuracy: 0.906655\n"
     ]
    },
    {
     "name": "stderr",
     "output_type": "stream",
     "text": [
      "[I 2024-02-13 17:58:28,519] Trial 235 finished with value: 0.9032273603082853 and parameters: {'n_estimators': 1132, 'learning_rate': 0.003021620530456677, 'num_leaves': 875, 'max_depth': 20, 'min_data_in_leaf': 17, 'colsample_bytree': 0.8213449288099037, 'subsample': 1.0842766255264193, 'min_gain_to_split': 0.8397758748889068, 'bagging_fraction': 0.8, 'bagging_freq': 1, 'feature_fraction': 0.5}. Best is trial 75 with value: 0.9079961464354529.\n"
     ]
    },
    {
     "name": "stdout",
     "output_type": "stream",
     "text": [
      "Training until validation scores don't improve for 100 rounds\n",
      "Early stopping, best iteration is:\n",
      "[324]\tvalid_0's multi_logloss: 0.291987\tvalid_0's accuracy: 0.909091\n",
      "Training until validation scores don't improve for 100 rounds\n",
      "Early stopping, best iteration is:\n",
      "[372]\tvalid_0's multi_logloss: 0.252921\tvalid_0's accuracy: 0.91629\n",
      "Training until validation scores don't improve for 100 rounds\n",
      "Early stopping, best iteration is:\n",
      "[230]\tvalid_0's multi_logloss: 0.290037\tvalid_0's accuracy: 0.909967\n",
      "Training until validation scores don't improve for 100 rounds\n",
      "Early stopping, best iteration is:\n",
      "[201]\tvalid_0's multi_logloss: 0.321068\tvalid_0's accuracy: 0.90545\n",
      "Training until validation scores don't improve for 100 rounds\n",
      "Early stopping, best iteration is:\n",
      "[349]\tvalid_0's multi_logloss: 0.27249\tvalid_0's accuracy: 0.911171\n"
     ]
    },
    {
     "name": "stderr",
     "output_type": "stream",
     "text": [
      "[I 2024-02-13 17:59:22,646] Trial 236 finished with value: 0.9066473988439305 and parameters: {'n_estimators': 1162, 'learning_rate': 0.015055425501247048, 'num_leaves': 852, 'max_depth': 19, 'min_data_in_leaf': 21, 'colsample_bytree': 0.7892066600421085, 'subsample': 1.1571144084205713, 'min_gain_to_split': 0.5188511896202775, 'bagging_fraction': 0.9, 'bagging_freq': 1, 'feature_fraction': 0.5}. Best is trial 75 with value: 0.9079961464354529.\n"
     ]
    },
    {
     "name": "stdout",
     "output_type": "stream",
     "text": [
      "Training until validation scores don't improve for 100 rounds\n",
      "Early stopping, best iteration is:\n",
      "[388]\tvalid_0's multi_logloss: 0.296796\tvalid_0's accuracy: 0.910897\n",
      "Training until validation scores don't improve for 100 rounds\n",
      "Early stopping, best iteration is:\n",
      "[398]\tvalid_0's multi_logloss: 0.269734\tvalid_0's accuracy: 0.91358\n",
      "Training until validation scores don't improve for 100 rounds\n",
      "Early stopping, best iteration is:\n",
      "[416]\tvalid_0's multi_logloss: 0.276001\tvalid_0's accuracy: 0.911774\n",
      "Training until validation scores don't improve for 100 rounds\n",
      "Early stopping, best iteration is:\n",
      "[339]\tvalid_0's multi_logloss: 0.297068\tvalid_0's accuracy: 0.908762\n",
      "Training until validation scores don't improve for 100 rounds\n",
      "Early stopping, best iteration is:\n",
      "[329]\tvalid_0's multi_logloss: 0.293261\tvalid_0's accuracy: 0.909666\n"
     ]
    },
    {
     "name": "stderr",
     "output_type": "stream",
     "text": [
      "[I 2024-02-13 18:00:10,847] Trial 237 finished with value: 0.9057803468208092 and parameters: {'n_estimators': 1279, 'learning_rate': 0.012270282077147207, 'num_leaves': 832, 'max_depth': 18, 'min_data_in_leaf': 11, 'colsample_bytree': 0.6704122262647496, 'subsample': 1.2345085723966531, 'min_gain_to_split': 1.1860918379323362, 'bagging_fraction': 0.8, 'bagging_freq': 1, 'feature_fraction': 0.5}. Best is trial 75 with value: 0.9079961464354529.\n"
     ]
    },
    {
     "name": "stdout",
     "output_type": "stream",
     "text": [
      "Training until validation scores don't improve for 100 rounds\n",
      "Early stopping, best iteration is:\n",
      "[376]\tvalid_0's multi_logloss: 0.305335\tvalid_0's accuracy: 0.903672\n",
      "Training until validation scores don't improve for 100 rounds\n",
      "Early stopping, best iteration is:\n",
      "[431]\tvalid_0's multi_logloss: 0.284852\tvalid_0's accuracy: 0.908762\n",
      "Training until validation scores don't improve for 100 rounds\n",
      "Early stopping, best iteration is:\n",
      "[352]\tvalid_0's multi_logloss: 0.297395\tvalid_0's accuracy: 0.905751\n",
      "Training until validation scores don't improve for 100 rounds\n",
      "Early stopping, best iteration is:\n",
      "[360]\tvalid_0's multi_logloss: 0.301636\tvalid_0's accuracy: 0.899428\n",
      "Training until validation scores don't improve for 100 rounds\n",
      "Early stopping, best iteration is:\n",
      "[416]\tvalid_0's multi_logloss: 0.294931\tvalid_0's accuracy: 0.906655\n"
     ]
    },
    {
     "name": "stderr",
     "output_type": "stream",
     "text": [
      "[I 2024-02-13 18:00:39,839] Trial 238 finished with value: 0.9027938342967244 and parameters: {'n_estimators': 1681, 'learning_rate': 0.021775488901061738, 'num_leaves': 804, 'max_depth': 18, 'min_data_in_leaf': 47, 'colsample_bytree': 0.9412842200502356, 'subsample': 1.0474033569243841, 'min_gain_to_split': 4.57783427068147, 'bagging_fraction': 0.9, 'bagging_freq': 1, 'feature_fraction': 0.5}. Best is trial 75 with value: 0.9079961464354529.\n"
     ]
    },
    {
     "name": "stdout",
     "output_type": "stream",
     "text": [
      "Training until validation scores don't improve for 100 rounds\n",
      "Early stopping, best iteration is:\n",
      "[122]\tvalid_0's multi_logloss: 0.348045\tvalid_0's accuracy: 0.901264\n",
      "Training until validation scores don't improve for 100 rounds\n",
      "Early stopping, best iteration is:\n",
      "[225]\tvalid_0's multi_logloss: 0.273485\tvalid_0's accuracy: 0.910268\n",
      "Training until validation scores don't improve for 100 rounds\n",
      "Early stopping, best iteration is:\n",
      "[110]\tvalid_0's multi_logloss: 0.343572\tvalid_0's accuracy: 0.911774\n",
      "Training until validation scores don't improve for 100 rounds\n",
      "Early stopping, best iteration is:\n",
      "[172]\tvalid_0's multi_logloss: 0.308232\tvalid_0's accuracy: 0.901837\n",
      "Training until validation scores don't improve for 100 rounds\n",
      "Early stopping, best iteration is:\n",
      "[349]\tvalid_0's multi_logloss: 0.293906\tvalid_0's accuracy: 0.906655\n"
     ]
    },
    {
     "name": "stderr",
     "output_type": "stream",
     "text": [
      "[I 2024-02-13 18:01:36,406] Trial 239 finished with value: 0.9027456647398843 and parameters: {'n_estimators': 1073, 'learning_rate': 0.016782854629693, 'num_leaves': 753, 'max_depth': 17, 'min_data_in_leaf': 4, 'colsample_bytree': 0.9616024206565176, 'subsample': 1.1201202380506754, 'min_gain_to_split': 0.28418577399800027, 'bagging_fraction': 0.8, 'bagging_freq': 1, 'feature_fraction': 0.9}. Best is trial 75 with value: 0.9079961464354529.\n"
     ]
    },
    {
     "name": "stdout",
     "output_type": "stream",
     "text": [
      "Training until validation scores don't improve for 100 rounds\n",
      "Early stopping, best iteration is:\n",
      "[298]\tvalid_0's multi_logloss: 0.325221\tvalid_0's accuracy: 0.898254\n",
      "Training until validation scores don't improve for 100 rounds\n",
      "Early stopping, best iteration is:\n",
      "[54]\tvalid_0's multi_logloss: 0.525477\tvalid_0's accuracy: 0.895212\n",
      "Training until validation scores don't improve for 100 rounds\n",
      "Early stopping, best iteration is:\n",
      "[491]\tvalid_0's multi_logloss: 0.311028\tvalid_0's accuracy: 0.899127\n",
      "Training until validation scores don't improve for 100 rounds\n",
      "Early stopping, best iteration is:\n",
      "[169]\tvalid_0's multi_logloss: 0.342501\tvalid_0's accuracy: 0.896116\n",
      "Training until validation scores don't improve for 100 rounds\n",
      "Early stopping, best iteration is:\n",
      "[578]\tvalid_0's multi_logloss: 0.312122\tvalid_0's accuracy: 0.901536\n"
     ]
    },
    {
     "name": "stderr",
     "output_type": "stream",
     "text": [
      "[I 2024-02-13 18:01:58,251] Trial 240 finished with value: 0.8945086705202312 and parameters: {'n_estimators': 701, 'learning_rate': 0.0276515363730915, 'num_leaves': 780, 'max_depth': 19, 'min_data_in_leaf': 15, 'colsample_bytree': 0.63137671800006, 'subsample': 0.9831049515935325, 'min_gain_to_split': 7.842038798617974, 'bagging_fraction': 0.8, 'bagging_freq': 1, 'feature_fraction': 0.5}. Best is trial 75 with value: 0.9079961464354529.\n"
     ]
    },
    {
     "name": "stdout",
     "output_type": "stream",
     "text": [
      "Training until validation scores don't improve for 100 rounds\n",
      "Early stopping, best iteration is:\n",
      "[245]\tvalid_0's multi_logloss: 0.308276\tvalid_0's accuracy: 0.910596\n",
      "Training until validation scores don't improve for 100 rounds\n",
      "Early stopping, best iteration is:\n",
      "[490]\tvalid_0's multi_logloss: 0.245847\tvalid_0's accuracy: 0.917194\n",
      "Training until validation scores don't improve for 100 rounds\n",
      "Early stopping, best iteration is:\n",
      "[420]\tvalid_0's multi_logloss: 0.260213\tvalid_0's accuracy: 0.912075\n",
      "Training until validation scores don't improve for 100 rounds\n",
      "Early stopping, best iteration is:\n",
      "[277]\tvalid_0's multi_logloss: 0.287995\tvalid_0's accuracy: 0.908461\n",
      "Training until validation scores don't improve for 100 rounds\n",
      "Early stopping, best iteration is:\n",
      "[437]\tvalid_0's multi_logloss: 0.26574\tvalid_0's accuracy: 0.912677\n"
     ]
    },
    {
     "name": "stderr",
     "output_type": "stream",
     "text": [
      "[I 2024-02-13 18:02:54,870] Trial 241 finished with value: 0.9066955684007707 and parameters: {'n_estimators': 738, 'learning_rate': 0.015314193772825585, 'num_leaves': 881, 'max_depth': 17, 'min_data_in_leaf': 50, 'colsample_bytree': 0.9823540794288099, 'subsample': 1.1011648375887266, 'min_gain_to_split': 0.4335275832012199, 'bagging_fraction': 0.8, 'bagging_freq': 1, 'feature_fraction': 0.5}. Best is trial 75 with value: 0.9079961464354529.\n"
     ]
    },
    {
     "name": "stdout",
     "output_type": "stream",
     "text": [
      "Training until validation scores don't improve for 100 rounds\n",
      "Early stopping, best iteration is:\n",
      "[316]\tvalid_0's multi_logloss: 0.288972\tvalid_0's accuracy: 0.912402\n",
      "Training until validation scores don't improve for 100 rounds\n",
      "Early stopping, best iteration is:\n",
      "[378]\tvalid_0's multi_logloss: 0.250709\tvalid_0's accuracy: 0.91629\n",
      "Training until validation scores don't improve for 100 rounds\n",
      "Early stopping, best iteration is:\n",
      "[235]\tvalid_0's multi_logloss: 0.281503\tvalid_0's accuracy: 0.911472\n",
      "Training until validation scores don't improve for 100 rounds\n",
      "Early stopping, best iteration is:\n",
      "[451]\tvalid_0's multi_logloss: 0.267242\tvalid_0's accuracy: 0.909365\n",
      "Training until validation scores don't improve for 100 rounds\n",
      "Early stopping, best iteration is:\n",
      "[454]\tvalid_0's multi_logloss: 0.264438\tvalid_0's accuracy: 0.913279\n"
     ]
    },
    {
     "name": "stderr",
     "output_type": "stream",
     "text": [
      "[I 2024-02-13 18:03:41,424] Trial 242 finished with value: 0.90635838150289 and parameters: {'n_estimators': 838, 'learning_rate': 0.018240525152639613, 'num_leaves': 900, 'max_depth': 17, 'min_data_in_leaf': 49, 'colsample_bytree': 0.9779960090571626, 'subsample': 1.0761610564370723, 'min_gain_to_split': 0.7144171234175707, 'bagging_fraction': 0.8, 'bagging_freq': 1, 'feature_fraction': 0.5}. Best is trial 75 with value: 0.9079961464354529.\n"
     ]
    },
    {
     "name": "stdout",
     "output_type": "stream",
     "text": [
      "Training until validation scores don't improve for 100 rounds\n",
      "Early stopping, best iteration is:\n",
      "[362]\tvalid_0's multi_logloss: 0.291053\tvalid_0's accuracy: 0.910596\n",
      "Training until validation scores don't improve for 100 rounds\n",
      "Early stopping, best iteration is:\n",
      "[645]\tvalid_0's multi_logloss: 0.244735\tvalid_0's accuracy: 0.917796\n",
      "Training until validation scores don't improve for 100 rounds\n",
      "Early stopping, best iteration is:\n",
      "[376]\tvalid_0's multi_logloss: 0.264987\tvalid_0's accuracy: 0.912376\n",
      "Training until validation scores don't improve for 100 rounds\n",
      "Early stopping, best iteration is:\n",
      "[326]\tvalid_0's multi_logloss: 0.281911\tvalid_0's accuracy: 0.909365\n",
      "Training until validation scores don't improve for 100 rounds\n",
      "Early stopping, best iteration is:\n",
      "[316]\tvalid_0's multi_logloss: 0.279289\tvalid_0's accuracy: 0.912075\n"
     ]
    },
    {
     "name": "stderr",
     "output_type": "stream",
     "text": [
      "[I 2024-02-13 18:04:52,537] Trial 243 finished with value: 0.9072736030828518 and parameters: {'n_estimators': 1022, 'learning_rate': 0.013888350947897303, 'num_leaves': 868, 'max_depth': 16, 'min_data_in_leaf': 45, 'colsample_bytree': 0.9598915565658246, 'subsample': 1.1020862848109083, 'min_gain_to_split': 0.3005817663456096, 'bagging_fraction': 0.8, 'bagging_freq': 1, 'feature_fraction': 0.5}. Best is trial 75 with value: 0.9079961464354529.\n"
     ]
    },
    {
     "name": "stdout",
     "output_type": "stream",
     "text": [
      "Training until validation scores don't improve for 100 rounds\n",
      "Early stopping, best iteration is:\n",
      "[324]\tvalid_0's multi_logloss: 0.303176\tvalid_0's accuracy: 0.910295\n",
      "Training until validation scores don't improve for 100 rounds\n",
      "Early stopping, best iteration is:\n",
      "[396]\tvalid_0's multi_logloss: 0.264797\tvalid_0's accuracy: 0.915688\n",
      "Training until validation scores don't improve for 100 rounds\n",
      "Early stopping, best iteration is:\n",
      "[466]\tvalid_0's multi_logloss: 0.267793\tvalid_0's accuracy: 0.91087\n",
      "Training until validation scores don't improve for 100 rounds\n",
      "Early stopping, best iteration is:\n",
      "[257]\tvalid_0's multi_logloss: 0.315138\tvalid_0's accuracy: 0.906052\n",
      "Training until validation scores don't improve for 100 rounds\n",
      "Early stopping, best iteration is:\n",
      "[337]\tvalid_0's multi_logloss: 0.287786\tvalid_0's accuracy: 0.910268\n"
     ]
    },
    {
     "name": "stderr",
     "output_type": "stream",
     "text": [
      "[I 2024-02-13 18:05:42,036] Trial 244 finished with value: 0.9069364161849711 and parameters: {'n_estimators': 974, 'learning_rate': 0.012398434251865174, 'num_leaves': 869, 'max_depth': 16, 'min_data_in_leaf': 19, 'colsample_bytree': 0.9489011469281852, 'subsample': 1.1728859930601547, 'min_gain_to_split': 0.9502845641637787, 'bagging_fraction': 0.8, 'bagging_freq': 1, 'feature_fraction': 0.5}. Best is trial 75 with value: 0.9079961464354529.\n"
     ]
    },
    {
     "name": "stdout",
     "output_type": "stream",
     "text": [
      "Training until validation scores don't improve for 100 rounds\n",
      "Early stopping, best iteration is:\n",
      "[384]\tvalid_0's multi_logloss: 0.288702\tvalid_0's accuracy: 0.909994\n",
      "Training until validation scores don't improve for 100 rounds\n",
      "Early stopping, best iteration is:\n",
      "[532]\tvalid_0's multi_logloss: 0.246145\tvalid_0's accuracy: 0.916893\n",
      "Training until validation scores don't improve for 100 rounds\n",
      "Early stopping, best iteration is:\n",
      "[436]\tvalid_0's multi_logloss: 0.260268\tvalid_0's accuracy: 0.912376\n",
      "Training until validation scores don't improve for 100 rounds\n",
      "Early stopping, best iteration is:\n",
      "[323]\tvalid_0's multi_logloss: 0.282367\tvalid_0's accuracy: 0.909365\n",
      "Training until validation scores don't improve for 100 rounds\n",
      "Early stopping, best iteration is:\n",
      "[290]\tvalid_0's multi_logloss: 0.284712\tvalid_0's accuracy: 0.911472\n"
     ]
    },
    {
     "name": "stderr",
     "output_type": "stream",
     "text": [
      "[I 2024-02-13 18:06:54,608] Trial 245 finished with value: 0.9066473988439305 and parameters: {'n_estimators': 1006, 'learning_rate': 0.013890169484984836, 'num_leaves': 853, 'max_depth': 15, 'min_data_in_leaf': 46, 'colsample_bytree': 0.9258081540740903, 'subsample': 1.124035735888026, 'min_gain_to_split': 0.21734369631592354, 'bagging_fraction': 0.8, 'bagging_freq': 1, 'feature_fraction': 0.5}. Best is trial 75 with value: 0.9079961464354529.\n"
     ]
    },
    {
     "name": "stdout",
     "output_type": "stream",
     "text": [
      "Training until validation scores don't improve for 100 rounds\n",
      "Did not meet early stopping. Best iteration is:\n",
      "[405]\tvalid_0's multi_logloss: 0.283311\tvalid_0's accuracy: 0.90879\n",
      "Training until validation scores don't improve for 100 rounds\n",
      "Did not meet early stopping. Best iteration is:\n",
      "[405]\tvalid_0's multi_logloss: 0.246669\tvalid_0's accuracy: 0.914484\n",
      "Training until validation scores don't improve for 100 rounds\n",
      "Early stopping, best iteration is:\n",
      "[173]\tvalid_0's multi_logloss: 0.295556\tvalid_0's accuracy: 0.911171\n",
      "Training until validation scores don't improve for 100 rounds\n",
      "Early stopping, best iteration is:\n",
      "[238]\tvalid_0's multi_logloss: 0.279629\tvalid_0's accuracy: 0.90816\n",
      "Training until validation scores don't improve for 100 rounds\n",
      "Did not meet early stopping. Best iteration is:\n",
      "[400]\tvalid_0's multi_logloss: 0.263785\tvalid_0's accuracy: 0.912376\n"
     ]
    },
    {
     "name": "stderr",
     "output_type": "stream",
     "text": [
      "[I 2024-02-13 18:07:34,429] Trial 246 finished with value: 0.9063102119460501 and parameters: {'n_estimators': 405, 'learning_rate': 0.020793864406065687, 'num_leaves': 931, 'max_depth': 16, 'min_data_in_leaf': 45, 'colsample_bytree': 0.963062004378865, 'subsample': 1.060932605580237, 'min_gain_to_split': 0.5954171989425338, 'bagging_fraction': 0.8, 'bagging_freq': 1, 'feature_fraction': 0.5}. Best is trial 75 with value: 0.9079961464354529.\n"
     ]
    },
    {
     "name": "stdout",
     "output_type": "stream",
     "text": [
      "Training until validation scores don't improve for 100 rounds\n",
      "Early stopping, best iteration is:\n",
      "[440]\tvalid_0's multi_logloss: 0.297215\tvalid_0's accuracy: 0.906984\n",
      "Training until validation scores don't improve for 100 rounds\n",
      "Early stopping, best iteration is:\n",
      "[640]\tvalid_0's multi_logloss: 0.259582\tvalid_0's accuracy: 0.917495\n",
      "Training until validation scores don't improve for 100 rounds\n",
      "Early stopping, best iteration is:\n",
      "[542]\tvalid_0's multi_logloss: 0.273024\tvalid_0's accuracy: 0.910569\n",
      "Training until validation scores don't improve for 100 rounds\n",
      "Early stopping, best iteration is:\n",
      "[357]\tvalid_0's multi_logloss: 0.302628\tvalid_0's accuracy: 0.905751\n",
      "Training until validation scores don't improve for 100 rounds\n",
      "Early stopping, best iteration is:\n",
      "[277]\tvalid_0's multi_logloss: 0.324979\tvalid_0's accuracy: 0.907859\n"
     ]
    },
    {
     "name": "stderr",
     "output_type": "stream",
     "text": [
      "[I 2024-02-13 18:08:25,440] Trial 247 finished with value: 0.9052986512524084 and parameters: {'n_estimators': 1621, 'learning_rate': 0.010989209348505388, 'num_leaves': 825, 'max_depth': 15, 'min_data_in_leaf': 43, 'colsample_bytree': 0.8079976226473249, 'subsample': 1.0177094570191636, 'min_gain_to_split': 1.3635693362313153, 'bagging_fraction': 0.9, 'bagging_freq': 1, 'feature_fraction': 0.5}. Best is trial 75 with value: 0.9079961464354529.\n"
     ]
    },
    {
     "name": "stdout",
     "output_type": "stream",
     "text": [
      "Training until validation scores don't improve for 100 rounds\n",
      "Early stopping, best iteration is:\n",
      "[206]\tvalid_0's multi_logloss: 0.285091\tvalid_0's accuracy: 0.908188\n",
      "Training until validation scores don't improve for 100 rounds\n",
      "Early stopping, best iteration is:\n",
      "[221]\tvalid_0's multi_logloss: 0.250307\tvalid_0's accuracy: 0.91629\n",
      "Training until validation scores don't improve for 100 rounds\n",
      "Early stopping, best iteration is:\n",
      "[213]\tvalid_0's multi_logloss: 0.263987\tvalid_0's accuracy: 0.912677\n",
      "Training until validation scores don't improve for 100 rounds\n",
      "Early stopping, best iteration is:\n",
      "[213]\tvalid_0's multi_logloss: 0.273645\tvalid_0's accuracy: 0.906655\n",
      "Training until validation scores don't improve for 100 rounds\n",
      "Early stopping, best iteration is:\n",
      "[171]\tvalid_0's multi_logloss: 0.271975\tvalid_0's accuracy: 0.910569\n"
     ]
    },
    {
     "name": "stderr",
     "output_type": "stream",
     "text": [
      "[I 2024-02-13 18:08:52,149] Trial 248 finished with value: 0.9066955684007707 and parameters: {'n_estimators': 1119, 'learning_rate': 0.03508603537568365, 'num_leaves': 982, 'max_depth': 18, 'min_data_in_leaf': 35, 'colsample_bytree': 0.9088101009880993, 'subsample': 1.0987745291224391, 'min_gain_to_split': 0.76860516226259, 'bagging_fraction': 0.8, 'bagging_freq': 1, 'feature_fraction': 0.5}. Best is trial 75 with value: 0.9079961464354529.\n"
     ]
    },
    {
     "name": "stdout",
     "output_type": "stream",
     "text": [
      "Training until validation scores don't improve for 100 rounds\n",
      "Early stopping, best iteration is:\n",
      "[266]\tvalid_0's multi_logloss: 0.294595\tvalid_0's accuracy: 0.909994\n",
      "Training until validation scores don't improve for 100 rounds\n",
      "Early stopping, best iteration is:\n",
      "[191]\tvalid_0's multi_logloss: 0.28991\tvalid_0's accuracy: 0.915387\n",
      "Training until validation scores don't improve for 100 rounds\n",
      "Early stopping, best iteration is:\n",
      "[418]\tvalid_0's multi_logloss: 0.261603\tvalid_0's accuracy: 0.911472\n",
      "Training until validation scores don't improve for 100 rounds\n",
      "Early stopping, best iteration is:\n",
      "[375]\tvalid_0's multi_logloss: 0.272524\tvalid_0's accuracy: 0.907859\n",
      "Training until validation scores don't improve for 100 rounds\n",
      "Early stopping, best iteration is:\n",
      "[308]\tvalid_0's multi_logloss: 0.272836\tvalid_0's accuracy: 0.910268\n"
     ]
    },
    {
     "name": "stderr",
     "output_type": "stream",
     "text": [
      "[I 2024-02-13 18:09:58,081] Trial 249 finished with value: 0.9063102119460501 and parameters: {'n_estimators': 1042, 'learning_rate': 0.01605929462374178, 'num_leaves': 843, 'max_depth': 19, 'min_data_in_leaf': 24, 'colsample_bytree': 0.7348526593391114, 'subsample': 0.9406080019253718, 'min_gain_to_split': 0.2467844470218346, 'bagging_fraction': 0.8, 'bagging_freq': 1, 'feature_fraction': 0.5}. Best is trial 75 with value: 0.9079961464354529.\n"
     ]
    },
    {
     "name": "stdout",
     "output_type": "stream",
     "text": [
      "Training until validation scores don't improve for 100 rounds\n",
      "Early stopping, best iteration is:\n",
      "[471]\tvalid_0's multi_logloss: 0.305592\tvalid_0's accuracy: 0.903371\n",
      "Training until validation scores don't improve for 100 rounds\n",
      "Early stopping, best iteration is:\n",
      "[302]\tvalid_0's multi_logloss: 0.295254\tvalid_0's accuracy: 0.90545\n",
      "Training until validation scores don't improve for 100 rounds\n",
      "Early stopping, best iteration is:\n",
      "[128]\tvalid_0's multi_logloss: 0.354528\tvalid_0's accuracy: 0.900933\n",
      "Training until validation scores don't improve for 100 rounds\n",
      "Early stopping, best iteration is:\n",
      "[207]\tvalid_0's multi_logloss: 0.320441\tvalid_0's accuracy: 0.899729\n",
      "Training until validation scores don't improve for 100 rounds\n",
      "Early stopping, best iteration is:\n",
      "[436]\tvalid_0's multi_logloss: 0.298248\tvalid_0's accuracy: 0.906956\n"
     ]
    },
    {
     "name": "stderr",
     "output_type": "stream",
     "text": [
      "[I 2024-02-13 18:10:21,861] Trial 250 finished with value: 0.8993256262042391 and parameters: {'n_estimators': 1068, 'learning_rate': 0.023108930460057547, 'num_leaves': 739, 'max_depth': 18, 'min_data_in_leaf': 18, 'colsample_bytree': 0.8345168655388892, 'subsample': 0.7834398291573413, 'min_gain_to_split': 5.342396960847854, 'bagging_fraction': 0.9, 'bagging_freq': 1, 'feature_fraction': 0.5}. Best is trial 75 with value: 0.9079961464354529.\n"
     ]
    },
    {
     "name": "stdout",
     "output_type": "stream",
     "text": [
      "Training until validation scores don't improve for 100 rounds\n",
      "Early stopping, best iteration is:\n",
      "[39]\tvalid_0's multi_logloss: 0.832185\tvalid_0's accuracy: 0.885009\n",
      "Training until validation scores don't improve for 100 rounds\n",
      "Early stopping, best iteration is:\n",
      "[19]\tvalid_0's multi_logloss: 1.18553\tvalid_0's accuracy: 0.888287\n",
      "Training until validation scores don't improve for 100 rounds\n",
      "Early stopping, best iteration is:\n",
      "[29]\tvalid_0's multi_logloss: 0.975461\tvalid_0's accuracy: 0.888287\n",
      "Training until validation scores don't improve for 100 rounds\n",
      "Early stopping, best iteration is:\n",
      "[163]\tvalid_0's multi_logloss: 0.410236\tvalid_0's accuracy: 0.884071\n",
      "Training until validation scores don't improve for 100 rounds\n",
      "Early stopping, best iteration is:\n",
      "[528]\tvalid_0's multi_logloss: 0.345222\tvalid_0's accuracy: 0.889792\n"
     ]
    },
    {
     "name": "stderr",
     "output_type": "stream",
     "text": [
      "[I 2024-02-13 18:10:35,716] Trial 251 finished with value: 0.8858863198458575 and parameters: {'n_estimators': 1456, 'learning_rate': 0.019333819633761563, 'num_leaves': 899, 'max_depth': 19, 'min_data_in_leaf': 22, 'colsample_bytree': 0.9952020582310945, 'subsample': 1.1418945478319134, 'min_gain_to_split': 13.42500542700749, 'bagging_fraction': 0.8, 'bagging_freq': 1, 'feature_fraction': 0.5}. Best is trial 75 with value: 0.9079961464354529.\n"
     ]
    },
    {
     "name": "stdout",
     "output_type": "stream",
     "text": [
      "Training until validation scores don't improve for 100 rounds\n",
      "Early stopping, best iteration is:\n",
      "[276]\tvalid_0's multi_logloss: 0.310637\tvalid_0's accuracy: 0.909091\n",
      "Training until validation scores don't improve for 100 rounds\n",
      "Early stopping, best iteration is:\n",
      "[479]\tvalid_0's multi_logloss: 0.25555\tvalid_0's accuracy: 0.917495\n",
      "Training until validation scores don't improve for 100 rounds\n",
      "Early stopping, best iteration is:\n",
      "[369]\tvalid_0's multi_logloss: 0.275664\tvalid_0's accuracy: 0.910569\n",
      "Training until validation scores don't improve for 100 rounds\n",
      "Early stopping, best iteration is:\n",
      "[249]\tvalid_0's multi_logloss: 0.312336\tvalid_0's accuracy: 0.906052\n",
      "Training until validation scores don't improve for 100 rounds\n",
      "Early stopping, best iteration is:\n",
      "[284]\tvalid_0's multi_logloss: 0.293303\tvalid_0's accuracy: 0.91087\n"
     ]
    },
    {
     "name": "stderr",
     "output_type": "stream",
     "text": [
      "[I 2024-02-13 18:11:19,630] Trial 252 finished with value: 0.905587668593449 and parameters: {'n_estimators': 1546, 'learning_rate': 0.013969043187563117, 'num_leaves': 865, 'max_depth': 20, 'min_data_in_leaf': 40, 'colsample_bytree': 0.7001782770375705, 'subsample': 1.3255634039416004, 'min_gain_to_split': 1.0606209211770596, 'bagging_fraction': 0.8, 'bagging_freq': 1, 'feature_fraction': 0.5}. Best is trial 75 with value: 0.9079961464354529.\n"
     ]
    },
    {
     "name": "stdout",
     "output_type": "stream",
     "text": [
      "Training until validation scores don't improve for 100 rounds\n",
      "Early stopping, best iteration is:\n",
      "[133]\tvalid_0's multi_logloss: 0.307809\tvalid_0's accuracy: 0.906683\n",
      "Training until validation scores don't improve for 100 rounds\n",
      "Early stopping, best iteration is:\n",
      "[298]\tvalid_0's multi_logloss: 0.247372\tvalid_0's accuracy: 0.915688\n",
      "Training until validation scores don't improve for 100 rounds\n",
      "Early stopping, best iteration is:\n",
      "[122]\tvalid_0's multi_logloss: 0.296446\tvalid_0's accuracy: 0.911171\n",
      "Training until validation scores don't improve for 100 rounds\n",
      "Early stopping, best iteration is:\n",
      "[273]\tvalid_0's multi_logloss: 0.271426\tvalid_0's accuracy: 0.909967\n",
      "Training until validation scores don't improve for 100 rounds\n",
      "Early stopping, best iteration is:\n",
      "[168]\tvalid_0's multi_logloss: 0.27886\tvalid_0's accuracy: 0.911171\n"
     ]
    },
    {
     "name": "stderr",
     "output_type": "stream",
     "text": [
      "[I 2024-02-13 18:11:51,382] Trial 253 finished with value: 0.9065028901734105 and parameters: {'n_estimators': 1201, 'learning_rate': 0.027671570908697467, 'num_leaves': 1013, 'max_depth': 11, 'min_data_in_leaf': 20, 'colsample_bytree': 0.8857979353518018, 'subsample': 1.040992468893624, 'min_gain_to_split': 0.5688991809513767, 'bagging_fraction': 0.7, 'bagging_freq': 1, 'feature_fraction': 0.5}. Best is trial 75 with value: 0.9079961464354529.\n"
     ]
    },
    {
     "name": "stdout",
     "output_type": "stream",
     "text": [
      "Training until validation scores don't improve for 100 rounds\n",
      "Early stopping, best iteration is:\n",
      "[127]\tvalid_0's multi_logloss: 0.365025\tvalid_0's accuracy: 0.906984\n",
      "Training until validation scores don't improve for 100 rounds\n",
      "Early stopping, best iteration is:\n",
      "[193]\tvalid_0's multi_logloss: 0.277642\tvalid_0's accuracy: 0.915989\n",
      "Training until validation scores don't improve for 100 rounds\n",
      "Early stopping, best iteration is:\n",
      "[401]\tvalid_0's multi_logloss: 0.261818\tvalid_0's accuracy: 0.91358\n",
      "Training until validation scores don't improve for 100 rounds\n",
      "Early stopping, best iteration is:\n",
      "[181]\tvalid_0's multi_logloss: 0.307358\tvalid_0's accuracy: 0.907859\n",
      "Training until validation scores don't improve for 100 rounds\n",
      "Early stopping, best iteration is:\n",
      "[308]\tvalid_0's multi_logloss: 0.272061\tvalid_0's accuracy: 0.912075\n"
     ]
    },
    {
     "name": "stderr",
     "output_type": "stream",
     "text": [
      "[I 2024-02-13 18:12:50,750] Trial 254 finished with value: 0.9062138728323699 and parameters: {'n_estimators': 634, 'learning_rate': 0.017783387542342894, 'num_leaves': 814, 'max_depth': 18, 'min_data_in_leaf': 17, 'colsample_bytree': 0.7537816717878337, 'subsample': 1.187178022482271, 'min_gain_to_split': 0.21920611810837826, 'bagging_fraction': 0.9, 'bagging_freq': 1, 'feature_fraction': 0.5}. Best is trial 75 with value: 0.9079961464354529.\n"
     ]
    },
    {
     "name": "stdout",
     "output_type": "stream",
     "text": [
      "Training until validation scores don't improve for 100 rounds\n",
      "Early stopping, best iteration is:\n",
      "[233]\tvalid_0's multi_logloss: 0.377068\tvalid_0's accuracy: 0.902769\n",
      "Training until validation scores don't improve for 100 rounds\n",
      "Early stopping, best iteration is:\n",
      "[644]\tvalid_0's multi_logloss: 0.271581\tvalid_0's accuracy: 0.913279\n",
      "Training until validation scores don't improve for 100 rounds\n",
      "Early stopping, best iteration is:\n",
      "[389]\tvalid_0's multi_logloss: 0.307715\tvalid_0's accuracy: 0.90545\n",
      "Training until validation scores don't improve for 100 rounds\n",
      "Early stopping, best iteration is:\n",
      "[340]\tvalid_0's multi_logloss: 0.327099\tvalid_0's accuracy: 0.90274\n",
      "Training until validation scores don't improve for 100 rounds\n",
      "Early stopping, best iteration is:\n",
      "[634]\tvalid_0's multi_logloss: 0.283418\tvalid_0's accuracy: 0.910268\n"
     ]
    },
    {
     "name": "stderr",
     "output_type": "stream",
     "text": [
      "[I 2024-02-13 18:13:32,581] Trial 255 finished with value: 0.9021676300578034 and parameters: {'n_estimators': 1384, 'learning_rate': 0.010258877241202294, 'num_leaves': 773, 'max_depth': 19, 'min_data_in_leaf': 26, 'colsample_bytree': 0.9369446767723247, 'subsample': 1.0045549388965898, 'min_gain_to_split': 2.501378803791485, 'bagging_fraction': 0.8, 'bagging_freq': 1, 'feature_fraction': 0.5}. Best is trial 75 with value: 0.9079961464354529.\n"
     ]
    },
    {
     "name": "stdout",
     "output_type": "stream",
     "text": [
      "Training until validation scores don't improve for 100 rounds\n",
      "Early stopping, best iteration is:\n",
      "[191]\tvalid_0's multi_logloss: 0.294179\tvalid_0's accuracy: 0.90879\n",
      "Training until validation scores don't improve for 100 rounds\n",
      "Early stopping, best iteration is:\n",
      "[152]\tvalid_0's multi_logloss: 0.27104\tvalid_0's accuracy: 0.915086\n",
      "Training until validation scores don't improve for 100 rounds\n",
      "Early stopping, best iteration is:\n",
      "[212]\tvalid_0's multi_logloss: 0.266792\tvalid_0's accuracy: 0.908762\n",
      "Training until validation scores don't improve for 100 rounds\n",
      "Early stopping, best iteration is:\n",
      "[184]\tvalid_0's multi_logloss: 0.279339\tvalid_0's accuracy: 0.907257\n",
      "Training until validation scores don't improve for 100 rounds\n",
      "Early stopping, best iteration is:\n",
      "[176]\tvalid_0's multi_logloss: 0.277681\tvalid_0's accuracy: 0.911171\n"
     ]
    },
    {
     "name": "stderr",
     "output_type": "stream",
     "text": [
      "[I 2024-02-13 18:14:37,946] Trial 256 finished with value: 0.9065510597302504 and parameters: {'n_estimators': 1166, 'learning_rate': 0.025539168116583168, 'num_leaves': 837, 'max_depth': 18, 'min_data_in_leaf': 30, 'colsample_bytree': 0.01932262107270133, 'subsample': 1.0746695369391712, 'min_gain_to_split': 0.004376420729120811, 'bagging_fraction': 0.8, 'bagging_freq': 1, 'feature_fraction': 0.5}. Best is trial 75 with value: 0.9079961464354529.\n"
     ]
    },
    {
     "name": "stdout",
     "output_type": "stream",
     "text": [
      "Training until validation scores don't improve for 100 rounds\n",
      "Early stopping, best iteration is:\n",
      "[160]\tvalid_0's multi_logloss: 0.31317\tvalid_0's accuracy: 0.904275\n",
      "Training until validation scores don't improve for 100 rounds\n",
      "Early stopping, best iteration is:\n",
      "[276]\tvalid_0's multi_logloss: 0.279345\tvalid_0's accuracy: 0.909967\n",
      "Training until validation scores don't improve for 100 rounds\n",
      "Early stopping, best iteration is:\n",
      "[227]\tvalid_0's multi_logloss: 0.287687\tvalid_0's accuracy: 0.905751\n",
      "Training until validation scores don't improve for 100 rounds\n",
      "Early stopping, best iteration is:\n",
      "[322]\tvalid_0's multi_logloss: 0.2908\tvalid_0's accuracy: 0.906354\n",
      "Training until validation scores don't improve for 100 rounds\n",
      "Early stopping, best iteration is:\n",
      "[475]\tvalid_0's multi_logloss: 0.282915\tvalid_0's accuracy: 0.909365\n"
     ]
    },
    {
     "name": "stderr",
     "output_type": "stream",
     "text": [
      "[I 2024-02-13 18:15:01,143] Trial 257 finished with value: 0.9020231213872834 and parameters: {'n_estimators': 1025, 'learning_rate': 0.0315144630576827, 'num_leaves': 795, 'max_depth': 19, 'min_data_in_leaf': 15, 'colsample_bytree': 0.8523947407067054, 'subsample': 0.9130093392458527, 'min_gain_to_split': 3.55624033614924, 'bagging_fraction': 0.8, 'bagging_freq': 1, 'feature_fraction': 0.5}. Best is trial 75 with value: 0.9079961464354529.\n"
     ]
    },
    {
     "name": "stdout",
     "output_type": "stream",
     "text": [
      "Training until validation scores don't improve for 100 rounds\n",
      "Early stopping, best iteration is:\n",
      "[320]\tvalid_0's multi_logloss: 0.298598\tvalid_0's accuracy: 0.908489\n",
      "Training until validation scores don't improve for 100 rounds\n",
      "Early stopping, best iteration is:\n",
      "[214]\tvalid_0's multi_logloss: 0.306551\tvalid_0's accuracy: 0.915086\n",
      "Training until validation scores don't improve for 100 rounds\n",
      "Early stopping, best iteration is:\n",
      "[118]\tvalid_0's multi_logloss: 0.45477\tvalid_0's accuracy: 0.908461\n",
      "Training until validation scores don't improve for 100 rounds\n",
      "Early stopping, best iteration is:\n",
      "[483]\tvalid_0's multi_logloss: 0.274748\tvalid_0's accuracy: 0.910268\n",
      "Training until validation scores don't improve for 100 rounds\n",
      "Early stopping, best iteration is:\n",
      "[530]\tvalid_0's multi_logloss: 0.26778\tvalid_0's accuracy: 0.911774\n"
     ]
    },
    {
     "name": "stderr",
     "output_type": "stream",
     "text": [
      "[I 2024-02-13 18:15:49,620] Trial 258 finished with value: 0.905587668593449 and parameters: {'n_estimators': 674, 'learning_rate': 0.013425044999149628, 'num_leaves': 922, 'max_depth': 17, 'min_data_in_leaf': 21, 'colsample_bytree': 0.9575195935378602, 'subsample': 0.9680466784971743, 'min_gain_to_split': 0.8455110485789994, 'bagging_fraction': 0.9, 'bagging_freq': 1, 'feature_fraction': 0.5}. Best is trial 75 with value: 0.9079961464354529.\n"
     ]
    },
    {
     "name": "stdout",
     "output_type": "stream",
     "text": [
      "Training until validation scores don't improve for 100 rounds\n",
      "Early stopping, best iteration is:\n",
      "[506]\tvalid_0's multi_logloss: 0.285633\tvalid_0's accuracy: 0.910596\n",
      "Training until validation scores don't improve for 100 rounds\n",
      "Early stopping, best iteration is:\n",
      "[499]\tvalid_0's multi_logloss: 0.256002\tvalid_0's accuracy: 0.916893\n",
      "Training until validation scores don't improve for 100 rounds\n",
      "Early stopping, best iteration is:\n",
      "[393]\tvalid_0's multi_logloss: 0.270859\tvalid_0's accuracy: 0.909967\n",
      "Training until validation scores don't improve for 100 rounds\n",
      "Early stopping, best iteration is:\n",
      "[307]\tvalid_0's multi_logloss: 0.288329\tvalid_0's accuracy: 0.90816\n",
      "Training until validation scores don't improve for 100 rounds\n",
      "Early stopping, best iteration is:\n",
      "[295]\tvalid_0's multi_logloss: 0.285564\tvalid_0's accuracy: 0.910569\n"
     ]
    },
    {
     "name": "stderr",
     "output_type": "stream",
     "text": [
      "[I 2024-02-13 18:16:32,091] Trial 259 finished with value: 0.9068400770712909 and parameters: {'n_estimators': 1497, 'learning_rate': 0.016068695206367098, 'num_leaves': 886, 'max_depth': 20, 'min_data_in_leaf': 47, 'colsample_bytree': 0.9222759483418552, 'subsample': 1.1139249081311906, 'min_gain_to_split': 1.2905843329753155, 'bagging_fraction': 0.8, 'bagging_freq': 1, 'feature_fraction': 0.5}. Best is trial 75 with value: 0.9079961464354529.\n"
     ]
    },
    {
     "name": "stdout",
     "output_type": "stream",
     "text": [
      "Training until validation scores don't improve for 100 rounds\n",
      "Early stopping, best iteration is:\n",
      "[347]\tvalid_0's multi_logloss: 0.283227\tvalid_0's accuracy: 0.909091\n",
      "Training until validation scores don't improve for 100 rounds\n",
      "Early stopping, best iteration is:\n",
      "[275]\tvalid_0's multi_logloss: 0.255692\tvalid_0's accuracy: 0.915086\n",
      "Training until validation scores don't improve for 100 rounds\n",
      "Early stopping, best iteration is:\n",
      "[122]\tvalid_0's multi_logloss: 0.336592\tvalid_0's accuracy: 0.91087\n",
      "Training until validation scores don't improve for 100 rounds\n",
      "Early stopping, best iteration is:\n",
      "[252]\tvalid_0's multi_logloss: 0.275997\tvalid_0's accuracy: 0.90816\n",
      "Training until validation scores don't improve for 100 rounds\n",
      "Early stopping, best iteration is:\n",
      "[200]\tvalid_0's multi_logloss: 0.285134\tvalid_0's accuracy: 0.909967\n"
     ]
    },
    {
     "name": "stderr",
     "output_type": "stream",
     "text": [
      "[I 2024-02-13 18:17:03,701] Trial 260 finished with value: 0.9053468208092486 and parameters: {'n_estimators': 1662, 'learning_rate': 0.021833145543127073, 'num_leaves': 862, 'max_depth': 7, 'min_data_in_leaf': 19, 'colsample_bytree': 0.9997871261964242, 'subsample': 0.7543356562671246, 'min_gain_to_split': 0.5086201250696724, 'bagging_fraction': 0.8, 'bagging_freq': 1, 'feature_fraction': 0.5}. Best is trial 75 with value: 0.9079961464354529.\n"
     ]
    },
    {
     "name": "stdout",
     "output_type": "stream",
     "text": [
      "Training until validation scores don't improve for 100 rounds\n",
      "Early stopping, best iteration is:\n",
      "[310]\tvalid_0's multi_logloss: 0.289676\tvalid_0's accuracy: 0.910295\n",
      "Training until validation scores don't improve for 100 rounds\n",
      "Early stopping, best iteration is:\n",
      "[354]\tvalid_0's multi_logloss: 0.257651\tvalid_0's accuracy: 0.916591\n",
      "Training until validation scores don't improve for 100 rounds\n",
      "Early stopping, best iteration is:\n",
      "[298]\tvalid_0's multi_logloss: 0.273014\tvalid_0's accuracy: 0.91087\n",
      "Training until validation scores don't improve for 100 rounds\n",
      "Early stopping, best iteration is:\n",
      "[423]\tvalid_0's multi_logloss: 0.274251\tvalid_0's accuracy: 0.910268\n",
      "Training until validation scores don't improve for 100 rounds\n",
      "Early stopping, best iteration is:\n",
      "[300]\tvalid_0's multi_logloss: 0.276952\tvalid_0's accuracy: 0.913279\n"
     ]
    },
    {
     "name": "stderr",
     "output_type": "stream",
     "text": [
      "[I 2024-02-13 18:17:44,918] Trial 261 finished with value: 0.9064547206165704 and parameters: {'n_estimators': 1071, 'learning_rate': 0.01840005202025493, 'num_leaves': 956, 'max_depth': 14, 'min_data_in_leaf': 16, 'colsample_bytree': 0.8734708324605744, 'subsample': 1.1470891254480062, 'min_gain_to_split': 1.07317993570047, 'bagging_fraction': 0.9, 'bagging_freq': 1, 'feature_fraction': 0.5}. Best is trial 75 with value: 0.9079961464354529.\n"
     ]
    },
    {
     "name": "stdout",
     "output_type": "stream",
     "text": [
      "Training until validation scores don't improve for 100 rounds\n",
      "Early stopping, best iteration is:\n",
      "[289]\tvalid_0's multi_logloss: 0.290609\tvalid_0's accuracy: 0.907887\n",
      "Training until validation scores don't improve for 100 rounds\n",
      "Early stopping, best iteration is:\n",
      "[272]\tvalid_0's multi_logloss: 0.269756\tvalid_0's accuracy: 0.914182\n",
      "Training until validation scores don't improve for 100 rounds\n",
      "Early stopping, best iteration is:\n",
      "[353]\tvalid_0's multi_logloss: 0.274633\tvalid_0's accuracy: 0.909365\n",
      "Training until validation scores don't improve for 100 rounds\n",
      "Early stopping, best iteration is:\n",
      "[201]\tvalid_0's multi_logloss: 0.301579\tvalid_0's accuracy: 0.90545\n",
      "Training until validation scores don't improve for 100 rounds\n",
      "Early stopping, best iteration is:\n",
      "[201]\tvalid_0's multi_logloss: 0.289396\tvalid_0's accuracy: 0.910268\n"
     ]
    },
    {
     "name": "stderr",
     "output_type": "stream",
     "text": [
      "[I 2024-02-13 18:18:09,866] Trial 262 finished with value: 0.904961464354528 and parameters: {'n_estimators': 1125, 'learning_rate': 0.024462872584882393, 'num_leaves': 824, 'max_depth': 18, 'min_data_in_leaf': 24, 'colsample_bytree': 0.9767499045179207, 'subsample': 1.0407724448366844, 'min_gain_to_split': 2.2787062886740648, 'bagging_fraction': 0.8, 'bagging_freq': 1, 'feature_fraction': 0.5}. Best is trial 75 with value: 0.9079961464354529.\n"
     ]
    },
    {
     "name": "stdout",
     "output_type": "stream",
     "text": [
      "Training until validation scores don't improve for 100 rounds\n",
      "Did not meet early stopping. Best iteration is:\n",
      "[443]\tvalid_0's multi_logloss: 0.300067\tvalid_0's accuracy: 0.907586\n",
      "Training until validation scores don't improve for 100 rounds\n",
      "Did not meet early stopping. Best iteration is:\n",
      "[443]\tvalid_0's multi_logloss: 0.271667\tvalid_0's accuracy: 0.909365\n",
      "Training until validation scores don't improve for 100 rounds\n",
      "Early stopping, best iteration is:\n",
      "[340]\tvalid_0's multi_logloss: 0.299955\tvalid_0's accuracy: 0.909666\n",
      "Training until validation scores don't improve for 100 rounds\n",
      "Did not meet early stopping. Best iteration is:\n",
      "[443]\tvalid_0's multi_logloss: 0.291372\tvalid_0's accuracy: 0.906354\n",
      "Training until validation scores don't improve for 100 rounds\n",
      "Did not meet early stopping. Best iteration is:\n",
      "[443]\tvalid_0's multi_logloss: 0.283172\tvalid_0's accuracy: 0.90816\n"
     ]
    },
    {
     "name": "stderr",
     "output_type": "stream",
     "text": [
      "[I 2024-02-13 18:19:03,065] Trial 263 finished with value: 0.9056358381502889 and parameters: {'n_estimators': 443, 'learning_rate': 0.012086755504194803, 'num_leaves': 760, 'max_depth': 19, 'min_data_in_leaf': 13, 'colsample_bytree': 0.7809027725369653, 'subsample': 0.16611768306421126, 'min_gain_to_split': 0.7454091253248263, 'bagging_fraction': 0.6000000000000001, 'bagging_freq': 1, 'feature_fraction': 0.4}. Best is trial 75 with value: 0.9079961464354529.\n"
     ]
    },
    {
     "name": "stdout",
     "output_type": "stream",
     "text": [
      "Training until validation scores don't improve for 100 rounds\n",
      "Early stopping, best iteration is:\n",
      "[402]\tvalid_0's multi_logloss: 0.293382\tvalid_0's accuracy: 0.906984\n",
      "Training until validation scores don't improve for 100 rounds\n",
      "Early stopping, best iteration is:\n",
      "[466]\tvalid_0's multi_logloss: 0.263152\tvalid_0's accuracy: 0.913279\n",
      "Training until validation scores don't improve for 100 rounds\n",
      "Early stopping, best iteration is:\n",
      "[564]\tvalid_0's multi_logloss: 0.269393\tvalid_0's accuracy: 0.911472\n",
      "Training until validation scores don't improve for 100 rounds\n",
      "Early stopping, best iteration is:\n",
      "[436]\tvalid_0's multi_logloss: 0.279785\tvalid_0's accuracy: 0.907558\n",
      "Training until validation scores don't improve for 100 rounds\n",
      "Early stopping, best iteration is:\n",
      "[398]\tvalid_0's multi_logloss: 0.278628\tvalid_0's accuracy: 0.911774\n"
     ]
    },
    {
     "name": "stderr",
     "output_type": "stream",
     "text": [
      "[I 2024-02-13 18:19:45,512] Trial 264 finished with value: 0.9055394990366089 and parameters: {'n_estimators': 1818, 'learning_rate': 0.015279130345591373, 'num_leaves': 694, 'max_depth': 18, 'min_data_in_leaf': 38, 'colsample_bytree': 0.9431030020092357, 'subsample': 1.0814038350844106, 'min_gain_to_split': 1.6473785556181908, 'bagging_fraction': 0.7, 'bagging_freq': 1, 'feature_fraction': 0.5}. Best is trial 75 with value: 0.9079961464354529.\n"
     ]
    },
    {
     "name": "stdout",
     "output_type": "stream",
     "text": [
      "Training until validation scores don't improve for 100 rounds\n",
      "Early stopping, best iteration is:\n",
      "[190]\tvalid_0's multi_logloss: 0.301439\tvalid_0's accuracy: 0.909693\n",
      "Training until validation scores don't improve for 100 rounds\n",
      "Early stopping, best iteration is:\n",
      "[343]\tvalid_0's multi_logloss: 0.247117\tvalid_0's accuracy: 0.916893\n",
      "Training until validation scores don't improve for 100 rounds\n",
      "Early stopping, best iteration is:\n",
      "[197]\tvalid_0's multi_logloss: 0.280703\tvalid_0's accuracy: 0.912978\n",
      "Training until validation scores don't improve for 100 rounds\n",
      "Early stopping, best iteration is:\n",
      "[304]\tvalid_0's multi_logloss: 0.273518\tvalid_0's accuracy: 0.906354\n",
      "Training until validation scores don't improve for 100 rounds\n",
      "Early stopping, best iteration is:\n",
      "[216]\tvalid_0's multi_logloss: 0.279754\tvalid_0's accuracy: 0.912677\n"
     ]
    },
    {
     "name": "stderr",
     "output_type": "stream",
     "text": [
      "[I 2024-02-13 18:20:32,338] Trial 265 finished with value: 0.9072254335260116 and parameters: {'n_estimators': 784, 'learning_rate': 0.019601915958398903, 'num_leaves': 723, 'max_depth': 18, 'min_data_in_leaf': 22, 'colsample_bytree': 0.0726395805373104, 'subsample': 1.216387386334733, 'min_gain_to_split': 0.40636535869033646, 'bagging_fraction': 0.8, 'bagging_freq': 1, 'feature_fraction': 0.5}. Best is trial 75 with value: 0.9079961464354529.\n"
     ]
    },
    {
     "name": "stdout",
     "output_type": "stream",
     "text": [
      "Training until validation scores don't improve for 100 rounds\n",
      "Early stopping, best iteration is:\n",
      "[144]\tvalid_0's multi_logloss: 0.3183\tvalid_0's accuracy: 0.909091\n",
      "Training until validation scores don't improve for 100 rounds\n",
      "Early stopping, best iteration is:\n",
      "[145]\tvalid_0's multi_logloss: 0.289619\tvalid_0's accuracy: 0.915688\n",
      "Training until validation scores don't improve for 100 rounds\n",
      "Early stopping, best iteration is:\n",
      "[194]\tvalid_0's multi_logloss: 0.275963\tvalid_0's accuracy: 0.912677\n",
      "Training until validation scores don't improve for 100 rounds\n",
      "Early stopping, best iteration is:\n",
      "[146]\tvalid_0's multi_logloss: 0.315764\tvalid_0's accuracy: 0.90545\n",
      "Training until validation scores don't improve for 100 rounds\n",
      "Early stopping, best iteration is:\n",
      "[344]\tvalid_0's multi_logloss: 0.267471\tvalid_0's accuracy: 0.912075\n"
     ]
    },
    {
     "name": "stderr",
     "output_type": "stream",
     "text": [
      "[I 2024-02-13 18:21:13,229] Trial 266 finished with value: 0.9060211946050096 and parameters: {'n_estimators': 701, 'learning_rate': 0.021350367770218807, 'num_leaves': 744, 'max_depth': 16, 'min_data_in_leaf': 22, 'colsample_bytree': 0.9026282416901913, 'subsample': 1.2528265866736605, 'min_gain_to_split': 0.3567824608394051, 'bagging_fraction': 0.8, 'bagging_freq': 1, 'feature_fraction': 0.5}. Best is trial 75 with value: 0.9079961464354529.\n"
     ]
    },
    {
     "name": "stdout",
     "output_type": "stream",
     "text": [
      "Training until validation scores don't improve for 100 rounds\n",
      "Early stopping, best iteration is:\n",
      "[275]\tvalid_0's multi_logloss: 0.335175\tvalid_0's accuracy: 0.895545\n",
      "Training until validation scores don't improve for 100 rounds\n",
      "Early stopping, best iteration is:\n",
      "[205]\tvalid_0's multi_logloss: 0.324109\tvalid_0's accuracy: 0.895212\n",
      "Training until validation scores don't improve for 100 rounds\n",
      "Early stopping, best iteration is:\n",
      "[261]\tvalid_0's multi_logloss: 0.333649\tvalid_0's accuracy: 0.892803\n",
      "Training until validation scores don't improve for 100 rounds\n",
      "Early stopping, best iteration is:\n",
      "[177]\tvalid_0's multi_logloss: 0.341929\tvalid_0's accuracy: 0.890394\n",
      "Training until validation scores don't improve for 100 rounds\n"
     ]
    },
    {
     "name": "stderr",
     "output_type": "stream",
     "text": [
      "[I 2024-02-13 18:21:28,155] Trial 267 finished with value: 0.8916666666666666 and parameters: {'n_estimators': 766, 'learning_rate': 0.042375682006682104, 'num_leaves': 717, 'max_depth': 20, 'min_data_in_leaf': 27, 'colsample_bytree': 0.1894354252279323, 'subsample': 0.9919502545936723, 'min_gain_to_split': 11.11568860560114, 'bagging_fraction': 0.8, 'bagging_freq': 1, 'feature_fraction': 0.5}. Best is trial 75 with value: 0.9079961464354529.\n"
     ]
    },
    {
     "name": "stdout",
     "output_type": "stream",
     "text": [
      "Early stopping, best iteration is:\n",
      "[33]\tvalid_0's multi_logloss: 0.557946\tvalid_0's accuracy: 0.897019\n",
      "Training until validation scores don't improve for 100 rounds\n",
      "Early stopping, best iteration is:\n",
      "[181]\tvalid_0's multi_logloss: 0.289896\tvalid_0's accuracy: 0.908489\n",
      "Training until validation scores don't improve for 100 rounds\n",
      "Early stopping, best iteration is:\n",
      "[132]\tvalid_0's multi_logloss: 0.269881\tvalid_0's accuracy: 0.916591\n",
      "Training until validation scores don't improve for 100 rounds\n",
      "Early stopping, best iteration is:\n",
      "[201]\tvalid_0's multi_logloss: 0.264611\tvalid_0's accuracy: 0.910569\n",
      "Training until validation scores don't improve for 100 rounds\n",
      "Early stopping, best iteration is:\n",
      "[191]\tvalid_0's multi_logloss: 0.278286\tvalid_0's accuracy: 0.906052\n",
      "Training until validation scores don't improve for 100 rounds\n",
      "Early stopping, best iteration is:\n",
      "[148]\tvalid_0's multi_logloss: 0.277915\tvalid_0's accuracy: 0.912978\n"
     ]
    },
    {
     "name": "stderr",
     "output_type": "stream",
     "text": [
      "[I 2024-02-13 18:22:08,263] Trial 268 finished with value: 0.9065992292870906 and parameters: {'n_estimators': 781, 'learning_rate': 0.02825017343199187, 'num_leaves': 729, 'max_depth': 19, 'min_data_in_leaf': 24, 'colsample_bytree': 0.41345059640113496, 'subsample': 1.2084810637396006, 'min_gain_to_split': 0.2583782057309001, 'bagging_fraction': 0.8, 'bagging_freq': 1, 'feature_fraction': 0.5}. Best is trial 75 with value: 0.9079961464354529.\n"
     ]
    },
    {
     "name": "stdout",
     "output_type": "stream",
     "text": [
      "Training until validation scores don't improve for 100 rounds\n",
      "Early stopping, best iteration is:\n",
      "[286]\tvalid_0's multi_logloss: 0.291673\tvalid_0's accuracy: 0.910295\n",
      "Training until validation scores don't improve for 100 rounds\n",
      "Early stopping, best iteration is:\n",
      "[379]\tvalid_0's multi_logloss: 0.249032\tvalid_0's accuracy: 0.91629\n",
      "Training until validation scores don't improve for 100 rounds\n",
      "Early stopping, best iteration is:\n",
      "[285]\tvalid_0's multi_logloss: 0.268007\tvalid_0's accuracy: 0.911774\n",
      "Training until validation scores don't improve for 100 rounds\n",
      "Early stopping, best iteration is:\n",
      "[300]\tvalid_0's multi_logloss: 0.276917\tvalid_0's accuracy: 0.90816\n",
      "Training until validation scores don't improve for 100 rounds\n",
      "Early stopping, best iteration is:\n",
      "[280]\tvalid_0's multi_logloss: 0.27296\tvalid_0's accuracy: 0.91358\n"
     ]
    },
    {
     "name": "stderr",
     "output_type": "stream",
     "text": [
      "[I 2024-02-13 18:23:17,189] Trial 269 finished with value: 0.9066473988439308 and parameters: {'n_estimators': 889, 'learning_rate': 0.016889133933421223, 'num_leaves': 348, 'max_depth': 18, 'min_data_in_leaf': 55, 'colsample_bytree': 0.5521681542949233, 'subsample': 1.174671001952609, 'min_gain_to_split': 0.012161019583127597, 'bagging_fraction': 0.8, 'bagging_freq': 1, 'feature_fraction': 0.5}. Best is trial 75 with value: 0.9079961464354529.\n"
     ]
    },
    {
     "name": "stdout",
     "output_type": "stream",
     "text": [
      "Number of finished trials: 270\n",
      "Best trial: {'n_estimators': 745, 'learning_rate': 0.015814527100162998, 'num_leaves': 742, 'max_depth': 19, 'min_data_in_leaf': 18, 'colsample_bytree': 0.8309728636518279, 'subsample': 1.1554573550007061, 'min_gain_to_split': 1.1021958438092825, 'bagging_fraction': 0.8, 'bagging_freq': 1, 'feature_fraction': 0.5}\n"
     ]
    }
   ],
   "source": [
    "study = optuna.create_study(direction=\"maximize\", study_name=\"LGBM Classifier\")\n",
    "func = lambda trial: objective(trial, X_train, y_train)\n",
    "study.optimize(func, timeout=3*3600)\n",
    "print('Number of finished trials:', len(study.trials))\n",
    "print('Best trial:', study.best_trial.params)"
   ]
  },
  {
   "cell_type": "code",
   "execution_count": 30,
   "id": "8635612d-290e-48bc-8f99-4bd11262ed1a",
   "metadata": {
    "tags": []
   },
   "outputs": [
    {
     "name": "stdout",
     "output_type": "stream",
     "text": [
      "\tBest value (Accuracy): 0.90800\n",
      "\tBest params:\n",
      "\t\tn_estimators: 745\n",
      "\t\tlearning_rate: 0.015814527100162998\n",
      "\t\tnum_leaves: 742\n",
      "\t\tmax_depth: 19\n",
      "\t\tmin_data_in_leaf: 18\n",
      "\t\tcolsample_bytree: 0.8309728636518279\n",
      "\t\tsubsample: 1.1554573550007061\n",
      "\t\tmin_gain_to_split: 1.1021958438092825\n",
      "\t\tbagging_fraction: 0.8\n",
      "\t\tbagging_freq: 1\n",
      "\t\tfeature_fraction: 0.5\n"
     ]
    }
   ],
   "source": [
    "print(f\"\\tBest value (Accuracy): {study.best_value:.5f}\")\n",
    "print(f\"\\tBest params:\")\n",
    "\n",
    "for key, value in study.best_params.items():\n",
    "    print(f\"\\t\\t{key}: {value}\")"
   ]
  },
  {
   "cell_type": "code",
   "execution_count": 31,
   "id": "fb5916ac-fbf9-45ff-8643-ad40dc8a61c7",
   "metadata": {
    "tags": []
   },
   "outputs": [
    {
     "data": {
      "text/plain": [
       "{'n_estimators': 745,\n",
       " 'learning_rate': 0.015814527100162998,\n",
       " 'num_leaves': 742,\n",
       " 'max_depth': 19,\n",
       " 'min_data_in_leaf': 18,\n",
       " 'colsample_bytree': 0.8309728636518279,\n",
       " 'subsample': 1.1554573550007061,\n",
       " 'min_gain_to_split': 1.1021958438092825,\n",
       " 'bagging_fraction': 0.8,\n",
       " 'bagging_freq': 1,\n",
       " 'feature_fraction': 0.5}"
      ]
     },
     "execution_count": 31,
     "metadata": {},
     "output_type": "execute_result"
    }
   ],
   "source": [
    "lgbm_params = {k: v for k, v in study.best_params.items()}\n",
    "lgbm_params"
   ]
  },
  {
   "cell_type": "markdown",
   "id": "bf35b7cf-65dd-4ed0-95dd-c1a29cfda32c",
   "metadata": {},
   "source": [
    "### XGBoost"
   ]
  },
  {
   "cell_type": "code",
   "execution_count": 70,
   "id": "b531186d-d5c7-4e18-9799-35ec639ebb7f",
   "metadata": {
    "tags": []
   },
   "outputs": [],
   "source": [
    "def objective(trial, X_train, y_train):\n",
    "    \n",
    "    param_grid = {\n",
    "        'random_state': 42,\n",
    "        \"n_estimators\": trial.suggest_int(\"n_estimators\", 10, 1000),\n",
    "        #'reg_alpha': trial.suggest_float('reg_alpha', 1e-3, 10.0, log=True),\n",
    "        #'reg_lambda': trial.suggest_float('reg_lambda', 1e-3, 10.0, log=True),\n",
    "        \"colsample_bytree\": trial.suggest_float(\"colsample_bytree\", 0.05, 1),\n",
    "        \"subsample\": trial.suggest_float(\"subsample\", 0.05, 1.0),\n",
    "        \"learning_rate\": trial.suggest_float(\"learning_rate\", 1e-3, 1, log=True),\n",
    "        \"max_depth\": trial.suggest_int(\"max_depth\", 3, 20),\n",
    "    }\n",
    "    \n",
    "    X_train.reset_index(drop=True, inplace=True)    \n",
    "    y_train.reset_index(drop=True, inplace=True)\n",
    "    \n",
    "    cv = StratifiedKFold(n_splits=5, shuffle=True, random_state=42)\n",
    "\n",
    "    cv_scores = np.empty(5)\n",
    "    \n",
    "    for idx, (train_idx, test_idx) in enumerate(cv.split(X_train, y_train)):\n",
    "        X_train_fold, X_val_fold = X_train.iloc[train_idx], X_train.iloc[test_idx]\n",
    "        y_train_fold, y_val_fold = y_train[train_idx], y_train[test_idx]\n",
    "\n",
    "        model = XGBClassifier(**param_grid)\n",
    "        model.fit(\n",
    "            X_train_fold,\n",
    "            y_train_fold,\n",
    "            eval_set=[(X_val_fold, y_val_fold)],\n",
    "            eval_metric=accuracy_eval,   \n",
    "            early_stopping_rounds=100       \n",
    "        )\n",
    "        preds = model.predict_proba(X_test)\n",
    "        y_pred_labels = np.argmax(preds, axis=1)\n",
    "        cv_scores[idx] = accuracy_score(y_test, y_pred_labels)\n",
    "    \n",
    "    return np.mean(cv_scores)"
   ]
  },
  {
   "cell_type": "code",
   "execution_count": null,
   "id": "12662767-19cf-4248-abd7-90aff6257ccd",
   "metadata": {
    "tags": []
   },
   "outputs": [],
   "source": [
    "study = optuna.create_study(direction=\"maximize\", study_name=\"LGBM Classifier\")\n",
    "func = lambda trial: objective(trial, X_train, y_train)\n",
    "study.optimize(func, timeout=3600)\n",
    "print('Number of finished trials:', len(study.trials))\n",
    "print('Best trial:', study.best_trial.params)"
   ]
  },
  {
   "cell_type": "code",
   "execution_count": null,
   "id": "21e16a41-89aa-47d8-b430-0b15351761ed",
   "metadata": {},
   "outputs": [],
   "source": [
    "print(f\"\\tBest value (Accuracy): {study.best_value:.5f}\")\n",
    "print(f\"\\tBest params:\")\n",
    "\n",
    "for key, value in study.best_params.items():\n",
    "    print(f\"\\t\\t{key}: {value}\")"
   ]
  },
  {
   "cell_type": "markdown",
   "id": "047b9bfc-598b-434f-ba3b-adf33d5ec28a",
   "metadata": {},
   "source": [
    "### Catboost"
   ]
  },
  {
   "cell_type": "code",
   "execution_count": null,
   "id": "2e3b70f0-6945-40e0-a7a1-f82466f68aab",
   "metadata": {},
   "outputs": [],
   "source": [
    "import optuna\n",
    "from lightgbm import early_stopping\n",
    "from optuna.integration import LightGBMPruningCallback\n",
    "\n",
    "def objective(trial, X_train, y_train):\n",
    "    \n",
    "    param_grid = {\n",
    "        'iterations' : trial.suggest_int(\"iterations\", 100, 1000),\n",
    "        'learning_rate' : trial.suggest_float(\"learning_rate\", 1e-3, 1.5, log=True),\n",
    "        'depth' : trial.suggest_int(\"depth\", 4, 20),\n",
    "        'l2_leaf_reg' : trial.suggest_float(\"l2_leaf_reg\", 1e-8, 100.0, log=True),\n",
    "        #'bootstrap_type' : trial.suggest_categorical(\"bootstrap_type\", [\"Bayesian\"]),\n",
    "        'random_strength' : trial.suggest_float(\"random_strength\", 1e-8, 10.0, log=True),\n",
    "        'bagging_temperature' : trial.suggest_float(\"bagging_temperature\", 0.0, 10.0),\n",
    "        'od_type' : trial.suggest_categorical(\"od_type\", [\"IncToDec\", \"Iter\"]),\n",
    "        'od_wait' : trial.suggest_int(\"od_wait\", 10, 50),\n",
    "        'verbose' : False\n",
    "    }\n",
    "    \n",
    "    X_train.reset_index(drop=True, inplace=True)    \n",
    "    y_train.reset_index(drop=True, inplace=True)\n",
    "    \n",
    "    cv = StratifiedKFold(n_splits=5, shuffle=True, random_state=42)\n",
    "\n",
    "    cv_scores = np.empty(5)\n",
    "    \n",
    "    for idx, (train_idx, test_idx) in enumerate(cv.split(X_train, y_train)):\n",
    "        X_train_fold, X_val_fold = X_train.iloc[train_idx], X_train.iloc[test_idx]\n",
    "        y_train_fold, y_val_fold = y_train[train_idx], y_train[test_idx]\n",
    "\n",
    "        model = CatBoostClassifier(**param_grid)\n",
    "        model.fit(\n",
    "            X_train_fold,\n",
    "            y_train_fold,\n",
    "            eval_set=[(X_val_fold, y_val_fold)],\n",
    "            eval_metric=accuracy_eval,   \n",
    "            callbacks=[early_stopping(100)]\n",
    "        )\n",
    "        preds = model.predict_proba(X_test)\n",
    "        y_pred_labels = np.argmax(preds, axis=1)\n",
    "        cv_scores[idx] = accuracy_score(y_test, y_pred_labels)\n",
    "    \n",
    "    return np.mean(cv_scores)"
   ]
  },
  {
   "cell_type": "code",
   "execution_count": null,
   "id": "3dd15acc-5862-4ef9-8705-2307e56aa023",
   "metadata": {},
   "outputs": [],
   "source": [
    "study = optuna.create_study(direction=\"maximize\", study_name=\"LGBM Classifier\")\n",
    "func = lambda trial: objective(trial, X_train, y_train)\n",
    "study.optimize(func, timeout=3600)\n",
    "print('Number of finished trials:', len(study.trials))\n",
    "print('Best trial:', study.best_trial.params)"
   ]
  },
  {
   "cell_type": "code",
   "execution_count": null,
   "id": "b9a4ff6e-b585-41c2-a2c3-2decd0930ec9",
   "metadata": {},
   "outputs": [],
   "source": [
    "print(f\"\\tBest value (Accuracy): {study.best_value:.5f}\")\n",
    "print(f\"\\tBest params:\")\n",
    "\n",
    "for key, value in study.best_params.items():\n",
    "    print(f\"\\t\\t{key}: {value}\")"
   ]
  },
  {
   "cell_type": "markdown",
   "id": "dd862ad0-4990-43ca-962f-9a74aeb9bfbf",
   "metadata": {},
   "source": [
    "## Model Training and submission"
   ]
  },
  {
   "cell_type": "code",
   "execution_count": 12,
   "id": "e323131a-e128-4aed-a265-759b82749d34",
   "metadata": {
    "tags": []
   },
   "outputs": [],
   "source": [
    "from sklearn.ensemble import VotingClassifier"
   ]
  },
  {
   "cell_type": "code",
   "execution_count": 18,
   "id": "541749cc-dd37-4351-8279-b22bb54248be",
   "metadata": {
    "tags": []
   },
   "outputs": [],
   "source": [
    "dart_params = {\n",
    "    'random_state' : 42,\n",
    "    'n_estimators': 5000, \n",
    "    'reg_alpha': 2.156916332573565, \n",
    "    'reg_lambda': 0.0020442251900243155, \n",
    "    'colsample_bytree': 0.4, \n",
    "    'subsample': 0.4, \n",
    "    'learning_rate': 0.008, \n",
    "    'max_depth': 100, \n",
    "    'num_leaves': 92, \n",
    "    'min_child_samples': 86, \n",
    "    'min_data_per_groups': 61,\n",
    "    'boosting_type' : 'dart',\n",
    "    'verbose': -1\n",
    "}\n",
    "\n",
    "xgb_params = {\n",
    "    'random_state' : 42,\n",
    "    'n_estimators': 20000, \n",
    "    'reg_alpha': 1.8139033219985152, \n",
    "    'reg_lambda': 1.68320446559976, \n",
    "    'colsample_bytree': 0.3, \n",
    "    'subsample': 0.5, \n",
    "    'learning_rate': 0.008, \n",
    "    'max_depth': 10\n",
    "}\n",
    "\n",
    "cat_params = {\n",
    "    'random_state': 42,\n",
    "    'iterations': 467, \n",
    "    'learning_rate': 0.07306038997735301, \n",
    "    'depth': 5, \n",
    "    'l2_leaf_reg': 0.20454589133303308, \n",
    "    'bootstrap_type': 'Bayesian', \n",
    "    'random_strength': 5.592253851702421e-06,\n",
    "    'bagging_temperature': 0.362583079852707, \n",
    "    'od_type': 'Iter', \n",
    "    'od_wait': 40\n",
    "}\n",
    "\n",
    "# lgbm_params = {\n",
    "#     'n_estimators': 443,\n",
    "#     'learning_rate': 0.017706677698972367,\n",
    "#     'num_leaves': 765,\n",
    "#     'max_depth': 11,\n",
    "#     'min_data_in_leaf': 63,\n",
    "#     'max_bin': 266,\n",
    "#     'colsample_bytree': 0.44058514304002716,\n",
    "#     'subsample': 0.847981015269405,\n",
    "#     'min_gain_to_split': 0.44554943848909184\n",
    "# }"
   ]
  },
  {
   "cell_type": "code",
   "execution_count": 14,
   "id": "9fd4eff0-d6c7-4a8a-9d03-3bddc1e1994a",
   "metadata": {
    "tags": []
   },
   "outputs": [],
   "source": [
    "dart = LGBMClassifier(**dart_params)\n",
    "xgb = XGBClassifier(**xgb_params)\n",
    "cat = CatBoostClassifier(**cat_params)\n",
    "\n",
    "ensemble = VotingClassifier(\n",
    "    [\n",
    "        (\"LightGBM\", dart),\n",
    "        (\"XGBoost\", xgb),\n",
    "        (\"CatBoost\", cat)\n",
    "    ],\n",
    "    voting=\"soft\",\n",
    "    weights=(0.6, 0.2, 0.2),\n",
    ")\n"
   ]
  },
  {
   "cell_type": "code",
   "execution_count": 32,
   "id": "00ad8ec3-32c2-4a33-9488-fdc4400b3799",
   "metadata": {
    "tags": []
   },
   "outputs": [
    {
     "name": "stdout",
     "output_type": "stream",
     "text": [
      "0.9079961464354528\n"
     ]
    }
   ],
   "source": [
    "model = LGBMClassifier(**lgbm_params, verbose=-1)\n",
    "\n",
    "model.fit(X_train, y_train)\n",
    "\n",
    "y_pred = model.predict(X_test)\n",
    "\n",
    "accuracy = accuracy_score(y_test, y_pred)\n",
    "print(accuracy)"
   ]
  },
  {
   "cell_type": "code",
   "execution_count": 33,
   "id": "c05168ab-7412-41aa-9294-0b4b8fd25e9e",
   "metadata": {
    "tags": []
   },
   "outputs": [
    {
     "data": {
      "text/html": [
       "<style>#sk-container-id-2 {\n",
       "  /* Definition of color scheme common for light and dark mode */\n",
       "  --sklearn-color-text: black;\n",
       "  --sklearn-color-line: gray;\n",
       "  /* Definition of color scheme for unfitted estimators */\n",
       "  --sklearn-color-unfitted-level-0: #fff5e6;\n",
       "  --sklearn-color-unfitted-level-1: #f6e4d2;\n",
       "  --sklearn-color-unfitted-level-2: #ffe0b3;\n",
       "  --sklearn-color-unfitted-level-3: chocolate;\n",
       "  /* Definition of color scheme for fitted estimators */\n",
       "  --sklearn-color-fitted-level-0: #f0f8ff;\n",
       "  --sklearn-color-fitted-level-1: #d4ebff;\n",
       "  --sklearn-color-fitted-level-2: #b3dbfd;\n",
       "  --sklearn-color-fitted-level-3: cornflowerblue;\n",
       "\n",
       "  /* Specific color for light theme */\n",
       "  --sklearn-color-text-on-default-background: var(--sg-text-color, var(--theme-code-foreground, var(--jp-content-font-color1, black)));\n",
       "  --sklearn-color-background: var(--sg-background-color, var(--theme-background, var(--jp-layout-color0, white)));\n",
       "  --sklearn-color-border-box: var(--sg-text-color, var(--theme-code-foreground, var(--jp-content-font-color1, black)));\n",
       "  --sklearn-color-icon: #696969;\n",
       "\n",
       "  @media (prefers-color-scheme: dark) {\n",
       "    /* Redefinition of color scheme for dark theme */\n",
       "    --sklearn-color-text-on-default-background: var(--sg-text-color, var(--theme-code-foreground, var(--jp-content-font-color1, white)));\n",
       "    --sklearn-color-background: var(--sg-background-color, var(--theme-background, var(--jp-layout-color0, #111)));\n",
       "    --sklearn-color-border-box: var(--sg-text-color, var(--theme-code-foreground, var(--jp-content-font-color1, white)));\n",
       "    --sklearn-color-icon: #878787;\n",
       "  }\n",
       "}\n",
       "\n",
       "#sk-container-id-2 {\n",
       "  color: var(--sklearn-color-text);\n",
       "}\n",
       "\n",
       "#sk-container-id-2 pre {\n",
       "  padding: 0;\n",
       "}\n",
       "\n",
       "#sk-container-id-2 input.sk-hidden--visually {\n",
       "  border: 0;\n",
       "  clip: rect(1px 1px 1px 1px);\n",
       "  clip: rect(1px, 1px, 1px, 1px);\n",
       "  height: 1px;\n",
       "  margin: -1px;\n",
       "  overflow: hidden;\n",
       "  padding: 0;\n",
       "  position: absolute;\n",
       "  width: 1px;\n",
       "}\n",
       "\n",
       "#sk-container-id-2 div.sk-dashed-wrapped {\n",
       "  border: 1px dashed var(--sklearn-color-line);\n",
       "  margin: 0 0.4em 0.5em 0.4em;\n",
       "  box-sizing: border-box;\n",
       "  padding-bottom: 0.4em;\n",
       "  background-color: var(--sklearn-color-background);\n",
       "}\n",
       "\n",
       "#sk-container-id-2 div.sk-container {\n",
       "  /* jupyter's `normalize.less` sets `[hidden] { display: none; }`\n",
       "     but bootstrap.min.css set `[hidden] { display: none !important; }`\n",
       "     so we also need the `!important` here to be able to override the\n",
       "     default hidden behavior on the sphinx rendered scikit-learn.org.\n",
       "     See: https://github.com/scikit-learn/scikit-learn/issues/21755 */\n",
       "  display: inline-block !important;\n",
       "  position: relative;\n",
       "}\n",
       "\n",
       "#sk-container-id-2 div.sk-text-repr-fallback {\n",
       "  display: none;\n",
       "}\n",
       "\n",
       "div.sk-parallel-item,\n",
       "div.sk-serial,\n",
       "div.sk-item {\n",
       "  /* draw centered vertical line to link estimators */\n",
       "  background-image: linear-gradient(var(--sklearn-color-text-on-default-background), var(--sklearn-color-text-on-default-background));\n",
       "  background-size: 2px 100%;\n",
       "  background-repeat: no-repeat;\n",
       "  background-position: center center;\n",
       "}\n",
       "\n",
       "/* Parallel-specific style estimator block */\n",
       "\n",
       "#sk-container-id-2 div.sk-parallel-item::after {\n",
       "  content: \"\";\n",
       "  width: 100%;\n",
       "  border-bottom: 2px solid var(--sklearn-color-text-on-default-background);\n",
       "  flex-grow: 1;\n",
       "}\n",
       "\n",
       "#sk-container-id-2 div.sk-parallel {\n",
       "  display: flex;\n",
       "  align-items: stretch;\n",
       "  justify-content: center;\n",
       "  background-color: var(--sklearn-color-background);\n",
       "  position: relative;\n",
       "}\n",
       "\n",
       "#sk-container-id-2 div.sk-parallel-item {\n",
       "  display: flex;\n",
       "  flex-direction: column;\n",
       "}\n",
       "\n",
       "#sk-container-id-2 div.sk-parallel-item:first-child::after {\n",
       "  align-self: flex-end;\n",
       "  width: 50%;\n",
       "}\n",
       "\n",
       "#sk-container-id-2 div.sk-parallel-item:last-child::after {\n",
       "  align-self: flex-start;\n",
       "  width: 50%;\n",
       "}\n",
       "\n",
       "#sk-container-id-2 div.sk-parallel-item:only-child::after {\n",
       "  width: 0;\n",
       "}\n",
       "\n",
       "/* Serial-specific style estimator block */\n",
       "\n",
       "#sk-container-id-2 div.sk-serial {\n",
       "  display: flex;\n",
       "  flex-direction: column;\n",
       "  align-items: center;\n",
       "  background-color: var(--sklearn-color-background);\n",
       "  padding-right: 1em;\n",
       "  padding-left: 1em;\n",
       "}\n",
       "\n",
       "\n",
       "/* Toggleable style: style used for estimator/Pipeline/ColumnTransformer box that is\n",
       "clickable and can be expanded/collapsed.\n",
       "- Pipeline and ColumnTransformer use this feature and define the default style\n",
       "- Estimators will overwrite some part of the style using the `sk-estimator` class\n",
       "*/\n",
       "\n",
       "/* Pipeline and ColumnTransformer style (default) */\n",
       "\n",
       "#sk-container-id-2 div.sk-toggleable {\n",
       "  /* Default theme specific background. It is overwritten whether we have a\n",
       "  specific estimator or a Pipeline/ColumnTransformer */\n",
       "  background-color: var(--sklearn-color-background);\n",
       "}\n",
       "\n",
       "/* Toggleable label */\n",
       "#sk-container-id-2 label.sk-toggleable__label {\n",
       "  cursor: pointer;\n",
       "  display: block;\n",
       "  width: 100%;\n",
       "  margin-bottom: 0;\n",
       "  padding: 0.5em;\n",
       "  box-sizing: border-box;\n",
       "  text-align: center;\n",
       "}\n",
       "\n",
       "#sk-container-id-2 label.sk-toggleable__label-arrow:before {\n",
       "  /* Arrow on the left of the label */\n",
       "  content: \"▸\";\n",
       "  float: left;\n",
       "  margin-right: 0.25em;\n",
       "  color: var(--sklearn-color-icon);\n",
       "}\n",
       "\n",
       "#sk-container-id-2 label.sk-toggleable__label-arrow:hover:before {\n",
       "  color: var(--sklearn-color-text);\n",
       "}\n",
       "\n",
       "/* Toggleable content - dropdown */\n",
       "\n",
       "#sk-container-id-2 div.sk-toggleable__content {\n",
       "  max-height: 0;\n",
       "  max-width: 0;\n",
       "  overflow: hidden;\n",
       "  text-align: left;\n",
       "  /* unfitted */\n",
       "  background-color: var(--sklearn-color-unfitted-level-0);\n",
       "}\n",
       "\n",
       "#sk-container-id-2 div.sk-toggleable__content.fitted {\n",
       "  /* fitted */\n",
       "  background-color: var(--sklearn-color-fitted-level-0);\n",
       "}\n",
       "\n",
       "#sk-container-id-2 div.sk-toggleable__content pre {\n",
       "  margin: 0.2em;\n",
       "  border-radius: 0.25em;\n",
       "  color: var(--sklearn-color-text);\n",
       "  /* unfitted */\n",
       "  background-color: var(--sklearn-color-unfitted-level-0);\n",
       "}\n",
       "\n",
       "#sk-container-id-2 div.sk-toggleable__content.fitted pre {\n",
       "  /* unfitted */\n",
       "  background-color: var(--sklearn-color-fitted-level-0);\n",
       "}\n",
       "\n",
       "#sk-container-id-2 input.sk-toggleable__control:checked~div.sk-toggleable__content {\n",
       "  /* Expand drop-down */\n",
       "  max-height: 200px;\n",
       "  max-width: 100%;\n",
       "  overflow: auto;\n",
       "}\n",
       "\n",
       "#sk-container-id-2 input.sk-toggleable__control:checked~label.sk-toggleable__label-arrow:before {\n",
       "  content: \"▾\";\n",
       "}\n",
       "\n",
       "/* Pipeline/ColumnTransformer-specific style */\n",
       "\n",
       "#sk-container-id-2 div.sk-label input.sk-toggleable__control:checked~label.sk-toggleable__label {\n",
       "  color: var(--sklearn-color-text);\n",
       "  background-color: var(--sklearn-color-unfitted-level-2);\n",
       "}\n",
       "\n",
       "#sk-container-id-2 div.sk-label.fitted input.sk-toggleable__control:checked~label.sk-toggleable__label {\n",
       "  background-color: var(--sklearn-color-fitted-level-2);\n",
       "}\n",
       "\n",
       "/* Estimator-specific style */\n",
       "\n",
       "/* Colorize estimator box */\n",
       "#sk-container-id-2 div.sk-estimator input.sk-toggleable__control:checked~label.sk-toggleable__label {\n",
       "  /* unfitted */\n",
       "  background-color: var(--sklearn-color-unfitted-level-2);\n",
       "}\n",
       "\n",
       "#sk-container-id-2 div.sk-estimator.fitted input.sk-toggleable__control:checked~label.sk-toggleable__label {\n",
       "  /* fitted */\n",
       "  background-color: var(--sklearn-color-fitted-level-2);\n",
       "}\n",
       "\n",
       "#sk-container-id-2 div.sk-label label.sk-toggleable__label,\n",
       "#sk-container-id-2 div.sk-label label {\n",
       "  /* The background is the default theme color */\n",
       "  color: var(--sklearn-color-text-on-default-background);\n",
       "}\n",
       "\n",
       "/* On hover, darken the color of the background */\n",
       "#sk-container-id-2 div.sk-label:hover label.sk-toggleable__label {\n",
       "  color: var(--sklearn-color-text);\n",
       "  background-color: var(--sklearn-color-unfitted-level-2);\n",
       "}\n",
       "\n",
       "/* Label box, darken color on hover, fitted */\n",
       "#sk-container-id-2 div.sk-label.fitted:hover label.sk-toggleable__label.fitted {\n",
       "  color: var(--sklearn-color-text);\n",
       "  background-color: var(--sklearn-color-fitted-level-2);\n",
       "}\n",
       "\n",
       "/* Estimator label */\n",
       "\n",
       "#sk-container-id-2 div.sk-label label {\n",
       "  font-family: monospace;\n",
       "  font-weight: bold;\n",
       "  display: inline-block;\n",
       "  line-height: 1.2em;\n",
       "}\n",
       "\n",
       "#sk-container-id-2 div.sk-label-container {\n",
       "  text-align: center;\n",
       "}\n",
       "\n",
       "/* Estimator-specific */\n",
       "#sk-container-id-2 div.sk-estimator {\n",
       "  font-family: monospace;\n",
       "  border: 1px dotted var(--sklearn-color-border-box);\n",
       "  border-radius: 0.25em;\n",
       "  box-sizing: border-box;\n",
       "  margin-bottom: 0.5em;\n",
       "  /* unfitted */\n",
       "  background-color: var(--sklearn-color-unfitted-level-0);\n",
       "}\n",
       "\n",
       "#sk-container-id-2 div.sk-estimator.fitted {\n",
       "  /* fitted */\n",
       "  background-color: var(--sklearn-color-fitted-level-0);\n",
       "}\n",
       "\n",
       "/* on hover */\n",
       "#sk-container-id-2 div.sk-estimator:hover {\n",
       "  /* unfitted */\n",
       "  background-color: var(--sklearn-color-unfitted-level-2);\n",
       "}\n",
       "\n",
       "#sk-container-id-2 div.sk-estimator.fitted:hover {\n",
       "  /* fitted */\n",
       "  background-color: var(--sklearn-color-fitted-level-2);\n",
       "}\n",
       "\n",
       "/* Specification for estimator info (e.g. \"i\" and \"?\") */\n",
       "\n",
       "/* Common style for \"i\" and \"?\" */\n",
       "\n",
       ".sk-estimator-doc-link,\n",
       "a:link.sk-estimator-doc-link,\n",
       "a:visited.sk-estimator-doc-link {\n",
       "  float: right;\n",
       "  font-size: smaller;\n",
       "  line-height: 1em;\n",
       "  font-family: monospace;\n",
       "  background-color: var(--sklearn-color-background);\n",
       "  border-radius: 1em;\n",
       "  height: 1em;\n",
       "  width: 1em;\n",
       "  text-decoration: none !important;\n",
       "  margin-left: 1ex;\n",
       "  /* unfitted */\n",
       "  border: var(--sklearn-color-unfitted-level-1) 1pt solid;\n",
       "  color: var(--sklearn-color-unfitted-level-1);\n",
       "}\n",
       "\n",
       ".sk-estimator-doc-link.fitted,\n",
       "a:link.sk-estimator-doc-link.fitted,\n",
       "a:visited.sk-estimator-doc-link.fitted {\n",
       "  /* fitted */\n",
       "  border: var(--sklearn-color-fitted-level-1) 1pt solid;\n",
       "  color: var(--sklearn-color-fitted-level-1);\n",
       "}\n",
       "\n",
       "/* On hover */\n",
       "div.sk-estimator:hover .sk-estimator-doc-link:hover,\n",
       ".sk-estimator-doc-link:hover,\n",
       "div.sk-label-container:hover .sk-estimator-doc-link:hover,\n",
       ".sk-estimator-doc-link:hover {\n",
       "  /* unfitted */\n",
       "  background-color: var(--sklearn-color-unfitted-level-3);\n",
       "  color: var(--sklearn-color-background);\n",
       "  text-decoration: none;\n",
       "}\n",
       "\n",
       "div.sk-estimator.fitted:hover .sk-estimator-doc-link.fitted:hover,\n",
       ".sk-estimator-doc-link.fitted:hover,\n",
       "div.sk-label-container:hover .sk-estimator-doc-link.fitted:hover,\n",
       ".sk-estimator-doc-link.fitted:hover {\n",
       "  /* fitted */\n",
       "  background-color: var(--sklearn-color-fitted-level-3);\n",
       "  color: var(--sklearn-color-background);\n",
       "  text-decoration: none;\n",
       "}\n",
       "\n",
       "/* Span, style for the box shown on hovering the info icon */\n",
       ".sk-estimator-doc-link span {\n",
       "  display: none;\n",
       "  z-index: 9999;\n",
       "  position: relative;\n",
       "  font-weight: normal;\n",
       "  right: .2ex;\n",
       "  padding: .5ex;\n",
       "  margin: .5ex;\n",
       "  width: min-content;\n",
       "  min-width: 20ex;\n",
       "  max-width: 50ex;\n",
       "  color: var(--sklearn-color-text);\n",
       "  box-shadow: 2pt 2pt 4pt #999;\n",
       "  /* unfitted */\n",
       "  background: var(--sklearn-color-unfitted-level-0);\n",
       "  border: .5pt solid var(--sklearn-color-unfitted-level-3);\n",
       "}\n",
       "\n",
       ".sk-estimator-doc-link.fitted span {\n",
       "  /* fitted */\n",
       "  background: var(--sklearn-color-fitted-level-0);\n",
       "  border: var(--sklearn-color-fitted-level-3);\n",
       "}\n",
       "\n",
       ".sk-estimator-doc-link:hover span {\n",
       "  display: block;\n",
       "}\n",
       "\n",
       "/* \"?\"-specific style due to the `<a>` HTML tag */\n",
       "\n",
       "#sk-container-id-2 a.estimator_doc_link {\n",
       "  float: right;\n",
       "  font-size: 1rem;\n",
       "  line-height: 1em;\n",
       "  font-family: monospace;\n",
       "  background-color: var(--sklearn-color-background);\n",
       "  border-radius: 1rem;\n",
       "  height: 1rem;\n",
       "  width: 1rem;\n",
       "  text-decoration: none;\n",
       "  /* unfitted */\n",
       "  color: var(--sklearn-color-unfitted-level-1);\n",
       "  border: var(--sklearn-color-unfitted-level-1) 1pt solid;\n",
       "}\n",
       "\n",
       "#sk-container-id-2 a.estimator_doc_link.fitted {\n",
       "  /* fitted */\n",
       "  border: var(--sklearn-color-fitted-level-1) 1pt solid;\n",
       "  color: var(--sklearn-color-fitted-level-1);\n",
       "}\n",
       "\n",
       "/* On hover */\n",
       "#sk-container-id-2 a.estimator_doc_link:hover {\n",
       "  /* unfitted */\n",
       "  background-color: var(--sklearn-color-unfitted-level-3);\n",
       "  color: var(--sklearn-color-background);\n",
       "  text-decoration: none;\n",
       "}\n",
       "\n",
       "#sk-container-id-2 a.estimator_doc_link.fitted:hover {\n",
       "  /* fitted */\n",
       "  background-color: var(--sklearn-color-fitted-level-3);\n",
       "}\n",
       "</style><div id=\"sk-container-id-2\" class=\"sk-top-container\"><div class=\"sk-text-repr-fallback\"><pre>LGBMClassifier(bagging_fraction=0.8, bagging_freq=1,\n",
       "               colsample_bytree=0.8309728636518279, feature_fraction=0.5,\n",
       "               learning_rate=0.015814527100162998, max_depth=19,\n",
       "               min_data_in_leaf=18, min_gain_to_split=1.1021958438092825,\n",
       "               n_estimators=745, num_leaves=742, subsample=1.1554573550007061,\n",
       "               verbose=-1)</pre><b>In a Jupyter environment, please rerun this cell to show the HTML representation or trust the notebook. <br />On GitHub, the HTML representation is unable to render, please try loading this page with nbviewer.org.</b></div><div class=\"sk-container\" hidden><div class=\"sk-item\"><div class=\"sk-estimator fitted sk-toggleable\"><input class=\"sk-toggleable__control sk-hidden--visually\" id=\"sk-estimator-id-2\" type=\"checkbox\" checked><label for=\"sk-estimator-id-2\" class=\"sk-toggleable__label fitted sk-toggleable__label-arrow fitted\">&nbsp;LGBMClassifier<span class=\"sk-estimator-doc-link fitted\">i<span>Fitted</span></span></label><div class=\"sk-toggleable__content fitted\"><pre>LGBMClassifier(bagging_fraction=0.8, bagging_freq=1,\n",
       "               colsample_bytree=0.8309728636518279, feature_fraction=0.5,\n",
       "               learning_rate=0.015814527100162998, max_depth=19,\n",
       "               min_data_in_leaf=18, min_gain_to_split=1.1021958438092825,\n",
       "               n_estimators=745, num_leaves=742, subsample=1.1554573550007061,\n",
       "               verbose=-1)</pre></div> </div></div></div></div>"
      ],
      "text/plain": [
       "LGBMClassifier(bagging_fraction=0.8, bagging_freq=1,\n",
       "               colsample_bytree=0.8309728636518279, feature_fraction=0.5,\n",
       "               learning_rate=0.015814527100162998, max_depth=19,\n",
       "               min_data_in_leaf=18, min_gain_to_split=1.1021958438092825,\n",
       "               n_estimators=745, num_leaves=742, subsample=1.1554573550007061,\n",
       "               verbose=-1)"
      ]
     },
     "execution_count": 33,
     "metadata": {},
     "output_type": "execute_result"
    }
   ],
   "source": [
    "model.fit(preprocessed_train_df, y_mapped)"
   ]
  },
  {
   "cell_type": "code",
   "execution_count": 34,
   "id": "1d8aabc1-2632-45d0-9ce5-98b084b2b9fd",
   "metadata": {
    "tags": []
   },
   "outputs": [],
   "source": [
    "preds = model.predict(preprocessed_test_df)"
   ]
  },
  {
   "cell_type": "code",
   "execution_count": 35,
   "id": "2fcc6e75-7bfe-4c7c-91be-83f2f8f910d5",
   "metadata": {
    "tags": []
   },
   "outputs": [
    {
     "data": {
      "text/plain": [
       "array(['Obesity_Type_II', 'Overweight_Level_I', 'Obesity_Type_III', ...,\n",
       "       'Insufficient_Weight', 'Normal_Weight', 'Obesity_Type_II'],\n",
       "      dtype='<U19')"
      ]
     },
     "execution_count": 35,
     "metadata": {},
     "output_type": "execute_result"
    }
   ],
   "source": [
    "y_pred_inv = np.vectorize(y_reverse_map.get)(preds)\n",
    "y_pred_inv"
   ]
  },
  {
   "cell_type": "code",
   "execution_count": 36,
   "id": "0ca9536d-a957-47a1-b0ab-0c888f02a755",
   "metadata": {
    "tags": []
   },
   "outputs": [],
   "source": [
    "submission[\"NObeyesdad\"] = y_pred_inv\n",
    "submission.to_csv(\"./preds/lgbm_optuna_3h.csv\", index=False)"
   ]
  },
  {
   "cell_type": "markdown",
   "id": "1f130d0c-e2fb-4328-be57-f31aa1ed3239",
   "metadata": {},
   "source": [
    "## Cross Validation"
   ]
  },
  {
   "cell_type": "code",
   "execution_count": 37,
   "id": "3c10c58b-3c22-45ab-ae42-9908a9b5caa5",
   "metadata": {
    "tags": []
   },
   "outputs": [
    {
     "name": "stdout",
     "output_type": "stream",
     "text": [
      "Fold 1 Accuracy: 0.9024566473988439\n",
      "Fold 2 Accuracy: 0.911849710982659\n",
      "Fold 3 Accuracy: 0.9067919075144508\n",
      "Fold 4 Accuracy: 0.9021922428330523\n",
      "Fold 5 Accuracy: 0.906046735726331\n",
      "Mean Accuracy: 0.9058674488910674\n"
     ]
    }
   ],
   "source": [
    "seed = 100\n",
    "splits = 5\n",
    "repeats = 4\n",
    "\n",
    "rskf = RepeatedStratifiedKFold(n_splits=splits, random_state=seed, n_repeats=repeats)\n",
    "skf = StratifiedKFold(n_splits=splits, random_state=seed, shuffle=True)\n",
    "\n",
    "np.random.seed(seed)\n",
    "\n",
    "X = preprocessed_train_df.to_numpy()\n",
    "y = y_mapped.to_numpy()\n",
    "\n",
    "models = []\n",
    "accuracies = []\n",
    "\n",
    "for fold, (train_index, test_index) in enumerate(skf.split(X, y), 1):\n",
    "    X_train, X_test = X[train_index], X[test_index]\n",
    "    y_train, y_test = y[train_index], y[test_index]\n",
    "\n",
    "    model = LGBMClassifier(random_state=seed, verbose=-1)\n",
    "\n",
    "    model.fit(X_train, y_train)\n",
    "\n",
    "    models.append(model)\n",
    "    \n",
    "    y_pred = model.predict(X_test)\n",
    "    \n",
    "    accuracy = accuracy_score(y_test, y_pred) \n",
    "    accuracies.append(accuracy)\n",
    "    \n",
    "    print(f\"Fold {fold} Accuracy: {accuracy}\")\n",
    "    \n",
    "mean_accuracy = np.mean(accuracies)\n",
    "print(f\"Mean Accuracy: {mean_accuracy}\")"
   ]
  },
  {
   "cell_type": "code",
   "execution_count": 39,
   "id": "38ec9fe8-8ed2-417a-9245-6833a05b8473",
   "metadata": {
    "tags": []
   },
   "outputs": [
    {
     "data": {
      "text/plain": [
       "(13840, 7)"
      ]
     },
     "execution_count": 39,
     "metadata": {},
     "output_type": "execute_result"
    }
   ],
   "source": [
    "models[0].predict_proba(preprocessed_test_df).shape"
   ]
  },
  {
   "cell_type": "code",
   "execution_count": 87,
   "id": "1fceb899-feac-4008-9f7c-ab005c89e844",
   "metadata": {
    "tags": []
   },
   "outputs": [],
   "source": [
    "probabilities = []\n",
    "\n",
    "for model in models:\n",
    "    proba = model.predict_proba(preprocessed_test_df)\n",
    "    probabilities.append(proba)\n",
    "    \n",
    "mean_probabilities = np.mean(probabilities, axis=0)\n",
    "\n",
    "final_predictions = np.argmax(mean_probabilities, axis=1)"
   ]
  },
  {
   "cell_type": "code",
   "execution_count": 88,
   "id": "a13e3fe5-b80c-481a-a3ff-81428fbebe2a",
   "metadata": {
    "tags": []
   },
   "outputs": [
    {
     "data": {
      "text/plain": [
       "array([5, 2, 6, ..., 0, 1, 5], dtype=int64)"
      ]
     },
     "execution_count": 88,
     "metadata": {},
     "output_type": "execute_result"
    }
   ],
   "source": [
    "final_predictions"
   ]
  },
  {
   "cell_type": "code",
   "execution_count": 89,
   "id": "5bb2387a-19c6-45be-b549-d509fb7c2808",
   "metadata": {
    "tags": []
   },
   "outputs": [
    {
     "data": {
      "text/plain": [
       "array(['Obesity_Type_II', 'Overweight_Level_I', 'Obesity_Type_III', ...,\n",
       "       'Insufficient_Weight', 'Normal_Weight', 'Obesity_Type_II'],\n",
       "      dtype='<U19')"
      ]
     },
     "execution_count": 89,
     "metadata": {},
     "output_type": "execute_result"
    }
   ],
   "source": [
    "y_pred_inv = np.vectorize(y_reverse_map.get)(final_predictions)\n",
    "y_pred_inv"
   ]
  },
  {
   "cell_type": "code",
   "execution_count": 90,
   "id": "e02d0a40-eaf1-4094-b45f-0d235b8f77bd",
   "metadata": {
    "tags": []
   },
   "outputs": [],
   "source": [
    "submission[\"NObeyesdad\"] = y_pred_inv\n",
    "submission.to_csv(\"./preds/pred5.csv\", index=False)"
   ]
  },
  {
   "cell_type": "markdown",
   "id": "3583adf6-30bd-4323-9d9f-6fe0eacf49d7",
   "metadata": {},
   "source": [
    "- train_test_split with random_state=0 gave a better result between the validation and submission score than the cross validation"
   ]
  },
  {
   "cell_type": "code",
   "execution_count": null,
   "id": "b8060c6c-2a37-409d-9773-1c3420b419d0",
   "metadata": {},
   "outputs": [],
   "source": []
  }
 ],
 "metadata": {
  "kernelspec": {
   "display_name": "Python 3 (ipykernel)",
   "language": "python",
   "name": "python3"
  },
  "language_info": {
   "codemirror_mode": {
    "name": "ipython",
    "version": 3
   },
   "file_extension": ".py",
   "mimetype": "text/x-python",
   "name": "python",
   "nbconvert_exporter": "python",
   "pygments_lexer": "ipython3",
   "version": "3.11.4"
  }
 },
 "nbformat": 4,
 "nbformat_minor": 5
}
