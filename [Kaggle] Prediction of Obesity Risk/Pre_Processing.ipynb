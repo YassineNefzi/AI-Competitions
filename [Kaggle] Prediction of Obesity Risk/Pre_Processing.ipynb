{
 "cells": [
  {
   "cell_type": "code",
   "execution_count": 9,
   "id": "58cb67a8-7914-4f8f-9a78-0278d8c6c774",
   "metadata": {
    "tags": []
   },
   "outputs": [],
   "source": [
    "import numpy as np\n",
    "import pandas as pd"
   ]
  },
  {
   "cell_type": "code",
   "execution_count": 10,
   "id": "d5f48bf6-050e-4f4c-b9dd-b358da9729bd",
   "metadata": {
    "tags": []
   },
   "outputs": [],
   "source": [
    "train = pd.read_csv(\"train.csv\", index_col='id')\n",
    "test = pd.read_csv(\"test.csv\", index_col='id')\n",
    "df = train.copy()"
   ]
  },
  {
   "cell_type": "markdown",
   "id": "6251605d-225f-4c87-a372-76013e2b95e0",
   "metadata": {},
   "source": [
    "# Pre-Processing"
   ]
  },
  {
   "cell_type": "markdown",
   "id": "c5e20baf-5026-4908-a5ab-e9374eb77b48",
   "metadata": {},
   "source": [
    "## Categorical Features :\n",
    "- Binary categorical features : \n",
    "    - Gender \n",
    "    - family_history_with_overweight (Boolean)\n",
    "    - FAVC (Boolean)\n",
    "    - SMOKE (Boolean)\n",
    "    - SCC (Boolean)\n",
    "- Features with classes that follow a hierarchy : \n",
    "    - CAEC (4 categories : no, Sometimes, Frequently, Always)\n",
    "    - CALC (3 categories : no, Sometimes, Frequently)\n",
    "- Other categorical features : \n",
    "    - MTRANS (5 categories : Public_Transportation, Automobile, Walking, Motorbike, Bike)\n",
    "    - NObeyesdad (Target)\n",
    "## Numerical Features : \n",
    "- Features that might need to be normalized : \n",
    "    - Age\n",
    "    - Height\n",
    "    - Weight\n",
    "- Features that look like they are catgeories : \n",
    "    - FCVC\n",
    "    - NCP\n",
    "    - CH2O\n",
    "    - FAF\n",
    "    - TUE"
   ]
  },
  {
   "cell_type": "code",
   "execution_count": 11,
   "id": "978973e2-499d-4b05-8e9a-d500f89654ec",
   "metadata": {
    "tags": []
   },
   "outputs": [],
   "source": [
    "from sklearn.preprocessing import (\n",
    "    OrdinalEncoder, \n",
    "    OneHotEncoder, \n",
    "    StandardScaler, \n",
    "    MinMaxScaler,\n",
    "    PowerTransformer, \n",
    "    FunctionTransformer\n",
    ")\n",
    "from sklearn.pipeline import make_pipeline, Pipeline\n",
    "from sklearn.compose import make_column_transformer, ColumnTransformer"
   ]
  },
  {
   "cell_type": "code",
   "execution_count": 12,
   "id": "23681fcc-918d-4f9a-aa08-92ce83e2ef6b",
   "metadata": {
    "tags": []
   },
   "outputs": [
    {
     "data": {
      "text/plain": [
       "['Age', 'Height', 'Weight', 'FCVC', 'NCP', 'CH2O', 'FAF', 'TUE']"
      ]
     },
     "execution_count": 12,
     "metadata": {},
     "output_type": "execute_result"
    }
   ],
   "source": [
    "numeric_features = df.select_dtypes(include=[\"int64\", \"float64\"]).columns.tolist()\n",
    "numeric_features"
   ]
  },
  {
   "cell_type": "code",
   "execution_count": 30,
   "id": "a839132d-749a-4343-bb5b-98f891f9c6dc",
   "metadata": {
    "tags": []
   },
   "outputs": [],
   "source": [
    "#onehot_features = [\"MTRANS\"]\n",
    "ordinal_features = [\"Gender\", \"family_history_with_overweight\", \"FAVC\", \"SMOKE\", \"SCC\", \"CAEC\", \"CALC\", \"MTRANS\"]\n",
    "norm_features = [\"Age\", \"Height\", \"Weight\", \"FCVC\", \"NCP\", \"CH2O\", \"FAF\", \"TUE\"]\n",
    "map_features = [\"FCVC\", \"NCP\", \"CH2O\", \"FAF\", \"TUE\"]"
   ]
  },
  {
   "cell_type": "code",
   "execution_count": 31,
   "id": "f1e57f85-a197-43a9-8a69-9625be197a70",
   "metadata": {
    "tags": []
   },
   "outputs": [],
   "source": [
    "onehot_transformer = make_pipeline(OneHotEncoder(handle_unknown='ignore'))\n",
    "ordinal_transformer = make_pipeline(OrdinalEncoder(handle_unknown='use_encoded_value', unknown_value=5))\n",
    "numeric_transformer = make_pipeline(StandardScaler())\n",
    "boxcox_transformer = PowerTransformer(method='box-cox', standardize=False)\n",
    "yeo_johnson_transformer = PowerTransformer(method='yeo-johnson', standardize=False)"
   ]
  },
  {
   "cell_type": "code",
   "execution_count": 32,
   "id": "7d363e0c-7898-4615-8a4f-149fd486a371",
   "metadata": {
    "tags": []
   },
   "outputs": [],
   "source": [
    "def calculate_bmi(df):\n",
    "    df['bmi'] = df['Weight'] / (df['Height'] ** 2)\n",
    "    return df"
   ]
  },
  {
   "cell_type": "code",
   "execution_count": 33,
   "id": "12d121f9-f66f-4aae-8f76-fd170ff8cb14",
   "metadata": {
    "tags": []
   },
   "outputs": [],
   "source": [
    "def dietary_ratio(df):\n",
    "    df['dietary_ratio'] = df['FAF'] / (df['NCP'] + df['CH2O'])\n",
    "    return df"
   ]
  },
  {
   "cell_type": "code",
   "execution_count": 34,
   "id": "f0541b3c-2b78-4199-9994-f181dea29f08",
   "metadata": {
    "tags": []
   },
   "outputs": [],
   "source": [
    "transformer = make_column_transformer(\n",
    "    (onehot_transformer, ordinal_features),\n",
    "    #(onehot_transformer, onehot_features),\n",
    "    (yeo_johnson_transformer, norm_features),\n",
    "    remainder='passthrough'\n",
    ")"
   ]
  },
  {
   "cell_type": "code",
   "execution_count": 35,
   "id": "ab53b85f-e1da-446b-bff9-c2c08ac1e186",
   "metadata": {},
   "outputs": [],
   "source": [
    "preprocessor = make_pipeline(transformer, MinMaxScaler())"
   ]
  },
  {
   "cell_type": "markdown",
   "id": "2e1a44af-568c-4ae6-a8a2-162470d0292b",
   "metadata": {},
   "source": []
  }
 ],
 "metadata": {
  "kernelspec": {
   "display_name": "Python 3 (ipykernel)",
   "language": "python",
   "name": "python3"
  },
  "language_info": {
   "codemirror_mode": {
    "name": "ipython",
    "version": 3
   },
   "file_extension": ".py",
   "mimetype": "text/x-python",
   "name": "python",
   "nbconvert_exporter": "python",
   "pygments_lexer": "ipython3",
   "version": "3.11.4"
  }
 },
 "nbformat": 4,
 "nbformat_minor": 5
}
