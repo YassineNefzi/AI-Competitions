{
 "cells": [
  {
   "cell_type": "markdown",
   "id": "62e061ee-80dd-44f0-ac27-876daeb6ff76",
   "metadata": {},
   "source": [
    "# Pre-Processing"
   ]
  },
  {
   "cell_type": "code",
   "execution_count": 8,
   "id": "7bcd34dd-5bfb-4c94-b5c6-91254ffad5a5",
   "metadata": {},
   "outputs": [],
   "source": [
    "import numpy as np \n",
    "import pandas as pd\n",
    "\n",
    "from sklearn.pipeline import Pipeline, make_pipeline\n",
    "from sklearn.compose import make_column_transformer, ColumnTransformer\n",
    "from sklearn.impute import KNNImputer, SimpleImputer\n",
    "from sklearn.preprocessing import StandardScaler, MinMaxScaler, RobustScaler, FunctionTransformer"
   ]
  },
  {
   "cell_type": "code",
   "execution_count": 12,
   "id": "6f5b31ff-16c4-45fe-99dc-65c664c082f8",
   "metadata": {},
   "outputs": [],
   "source": [
    "train = pd.read_csv(\"data/Train.csv\")\n",
    "test = pd.read_csv(\"data/Test.csv\")\n",
    "\n",
    "df = train.copy()"
   ]
  },
  {
   "cell_type": "markdown",
   "id": "3a1ee966-9372-408d-9247-5b0af3e9049a",
   "metadata": {},
   "source": [
    "## Dropping "
   ]
  },
  {
   "cell_type": "code",
   "execution_count": 3,
   "id": "8a398f7a-0d2e-4308-8479-63ccf9363ddc",
   "metadata": {},
   "outputs": [],
   "source": [
    "def drop_cols(df):\n",
    "    # Dropping columns with more than 90% missing values\n",
    "    missing_percent = df.isnull().mean()\n",
    "    columns_to_drop = missing_percent[missing_percent > 0.9].index\n",
    "    df.drop(columns=columns_to_drop, inplace=True)\n",
    "    \n",
    "    # Dropping id columns\n",
    "    df.drop('id', axis=1, inplace=True)\n",
    "    df.drop('site_id', axis=1, inplace=True)\n",
    "    df.drop('date', axis=1, inplace=True)\n",
    "\n",
    "    # City and Country can be dropped since we have site_latitude and site_longitude\n",
    "    df.drop('city', axis=1, inplace=True)\n",
    "    df.drop('country', axis=1, inplace=True)\n",
    "\n",
    "    return df "
   ]
  },
  {
   "cell_type": "code",
   "execution_count": 20,
   "id": "803e0a8d-7c37-4c52-89b2-26209371acf4",
   "metadata": {},
   "outputs": [],
   "source": [
    "drop_transformer = make_pipeline(FunctionTransformer(func=drop_cols))"
   ]
  },
  {
   "cell_type": "markdown",
   "id": "e1803b8b-72a2-405e-ae01-18bd1fbbfe38",
   "metadata": {},
   "source": [
    "## Imputation"
   ]
  },
  {
   "cell_type": "code",
   "execution_count": 15,
   "id": "7ed0d7dd-fbdc-4b9e-93b5-e2e0b04f0b73",
   "metadata": {},
   "outputs": [],
   "source": [
    "knn_imputer = make_pipeline(KNNImputer(n_neighbors=5, weights=\"distance\"))\n",
    "imputer = make_pipeline(SimpleImputer(strategy=\"mean\"))"
   ]
  },
  {
   "cell_type": "code",
   "execution_count": 16,
   "id": "d22d03ad-15fa-4b2c-9802-c06e0170aa1f",
   "metadata": {},
   "outputs": [],
   "source": [
    "cols_with_missing_values = df.columns[df.isnull().any()].tolist()"
   ]
  },
  {
   "cell_type": "markdown",
   "id": "b78b6655-2b95-48f6-a11d-31e3ed32634f",
   "metadata": {},
   "source": [
    "## Scaling"
   ]
  },
  {
   "cell_type": "code",
   "execution_count": 17,
   "id": "78767d8e-acef-4b2c-94b2-dcf6666c4c66",
   "metadata": {},
   "outputs": [],
   "source": [
    "std = make_pipeline(StandardScaler())\n",
    "min_max = make_pipeline(MinMaxScaler())\n",
    "rob = make_pipeline(RobustScaler())"
   ]
  },
  {
   "cell_type": "code",
   "execution_count": 19,
   "id": "e7ad5863-9281-4dc3-86e0-ad84b459952b",
   "metadata": {},
   "outputs": [],
   "source": [
    "numeric_features = df.select_dtypes(include=[\"int64\", \"float64\"]).columns.tolist()"
   ]
  },
  {
   "cell_type": "markdown",
   "id": "24cc39f1-ed83-4ff6-868c-3b34ceeab6e6",
   "metadata": {},
   "source": [
    "# Pre-Processor"
   ]
  },
  {
   "cell_type": "code",
   "execution_count": 25,
   "id": "3f744361-76de-4298-8945-3f3c0f8a3c12",
   "metadata": {},
   "outputs": [],
   "source": [
    "transformer = make_column_transformer(\n",
    "    #(drop_transformer, slice(None)),\n",
    "    (knn_imputer, cols_with_missing_values),\n",
    "    remainder=std\n",
    ")"
   ]
  },
  {
   "cell_type": "code",
   "execution_count": 24,
   "id": "3b1d1535-686e-489d-8fef-8ae2e17e2613",
   "metadata": {},
   "outputs": [],
   "source": [
    "preprocessor = make_pipeline(transformer)"
   ]
  },
  {
   "cell_type": "code",
   "execution_count": null,
   "id": "a58db4c0-b159-4571-991e-f188caf9d675",
   "metadata": {},
   "outputs": [],
   "source": []
  }
 ],
 "metadata": {
  "kernelspec": {
   "display_name": "Python 3 (ipykernel)",
   "language": "python",
   "name": "python3"
  },
  "language_info": {
   "codemirror_mode": {
    "name": "ipython",
    "version": 3
   },
   "file_extension": ".py",
   "mimetype": "text/x-python",
   "name": "python",
   "nbconvert_exporter": "python",
   "pygments_lexer": "ipython3",
   "version": "3.11.7"
  }
 },
 "nbformat": 4,
 "nbformat_minor": 5
}
